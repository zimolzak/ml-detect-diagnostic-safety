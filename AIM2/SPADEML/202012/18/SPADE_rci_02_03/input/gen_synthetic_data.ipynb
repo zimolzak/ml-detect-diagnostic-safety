{
 "cells": [
  {
   "cell_type": "markdown",
   "metadata": {},
   "source": [
    "# Synthetic Data Generator"
   ]
  },
  {
   "cell_type": "markdown",
   "metadata": {},
   "source": [
    "## Imports"
   ]
  },
  {
   "cell_type": "code",
   "execution_count": 1,
   "metadata": {},
   "outputs": [],
   "source": [
    "import random as rd\n",
    "import numpy as np\n",
    "import pandas as pd\n",
    "import itertools as itrtl"
   ]
  },
  {
   "cell_type": "markdown",
   "metadata": {},
   "source": [
    "## Config"
   ]
  },
  {
   "cell_type": "code",
   "execution_count": 2,
   "metadata": {},
   "outputs": [],
   "source": [
    "NUM_COL = 1000"
   ]
  },
  {
   "cell_type": "markdown",
   "metadata": {},
   "source": [
    "## Data Generation"
   ]
  },
  {
   "cell_type": "code",
   "execution_count": 3,
   "metadata": {},
   "outputs": [],
   "source": [
    "study_ids = [_ + NUM_COL for _ in range(NUM_COL)]"
   ]
  },
  {
   "cell_type": "code",
   "execution_count": 4,
   "metadata": {},
   "outputs": [],
   "source": [
    "ed_inp_delta = [rd.randint(0, 30) for _ in range(NUM_COL)]"
   ]
  },
  {
   "cell_type": "code",
   "execution_count": 5,
   "metadata": {},
   "outputs": [],
   "source": [
    "ed_duration = [rd.randint(0, 72) for _ in range(NUM_COL)]"
   ]
  },
  {
   "cell_type": "code",
   "execution_count": 6,
   "metadata": {},
   "outputs": [],
   "source": [
    "elix_score = [rd.randint(0, 30) for _ in range(NUM_COL)]"
   ]
  },
  {
   "cell_type": "code",
   "execution_count": 7,
   "metadata": {},
   "outputs": [],
   "source": [
    "age_val = [rd.randint(0, 85) for _ in range(NUM_COL)]"
   ]
  },
  {
   "cell_type": "code",
   "execution_count": 8,
   "metadata": {},
   "outputs": [],
   "source": [
    "img_flags = [rd.randint(0, 1) for _ in range(NUM_COL)]"
   ]
  },
  {
   "cell_type": "code",
   "execution_count": 9,
   "metadata": {},
   "outputs": [],
   "source": [
    "con_flags = [rd.randint(0, 1) for _ in range(NUM_COL)]"
   ]
  },
  {
   "cell_type": "code",
   "execution_count": 10,
   "metadata": {},
   "outputs": [],
   "source": [
    "smk_flags = [rd.randint(0, 1) for _ in range(NUM_COL)]"
   ]
  },
  {
   "cell_type": "code",
   "execution_count": 11,
   "metadata": {},
   "outputs": [],
   "source": [
    "def map_mod_label(flag):\n",
    "    if flag:\n",
    "        return 'TFP'\n",
    "    else:\n",
    "        return 'TTP'\n",
    "\n",
    "mod_labels = [map_mod_label(rd.randint(0, 1)) for _ in range(NUM_COL)]"
   ]
  },
  {
   "cell_type": "code",
   "execution_count": 12,
   "metadata": {},
   "outputs": [],
   "source": [
    "df = pd.DataFrame(data=[study_ids, ed_inp_delta, ed_duration, elix_score, age_val, img_flags, con_flags, smk_flags, mod_labels]).T\n",
    "df = pd.DataFrame(data=df.values, columns=['study_ids', 'ed_inp_delta', 'ed_duration', 'elix_score', 'age_val', 'img_flags', 'con_flags', 'smk_flags', 'mod_label'])"
   ]
  },
  {
   "cell_type": "code",
   "execution_count": 14,
   "metadata": {},
   "outputs": [],
   "source": [
    "df.to_csv('input_artificial.csv', index=False)"
   ]
  }
 ],
 "metadata": {
  "kernelspec": {
   "display_name": "Python 3",
   "language": "python",
   "name": "python3"
  },
  "language_info": {
   "codemirror_mode": {
    "name": "ipython",
    "version": 3
   },
   "file_extension": ".py",
   "mimetype": "text/x-python",
   "name": "python",
   "nbconvert_exporter": "python",
   "pygments_lexer": "ipython3",
   "version": "3.7.9"
  }
 },
 "nbformat": 4,
 "nbformat_minor": 4
}
