{
 "cells": [
  {
   "cell_type": "markdown",
   "metadata": {},
   "source": [
    "# SPADE Record Classification Instrument 02.03"
   ]
  },
  {
   "cell_type": "markdown",
   "metadata": {},
   "source": [
    "__Author:__ Paarth Kapadia\n",
    "\n",
    "__Description:__ This program classifies medical records by level of missed opputunity of diagnosis (MOD) present.  The medical records contain information about emergency department visits for strokes/stroke-like symptoms abstracted from medical chart review.\n",
    "\n",
    "__Up to date as of:__ 2020/11/27\n",
    "\n",
    "__Notes:__ n/a\n",
    "\n",
    "__TODO:__\n",
    "- Figure out how to access each individual tree in XGBoost model\n",
    "- Make RF and XGB visualizations consistent with Log visualization\n",
    "- Clean up printing"
   ]
  },
  {
   "cell_type": "markdown",
   "metadata": {},
   "source": [
    "## Imports"
   ]
  },
  {
   "cell_type": "code",
   "execution_count": 2,
   "metadata": {},
   "outputs": [],
   "source": [
    "# data manipulation\n",
    "import pandas as pd\n",
    "import numpy as np\n",
    "import scipy\n",
    "\n",
    "# visualization\n",
    "import matplotlib.pyplot as plt\n",
    "import matplotlib.gridspec as gridspec\n",
    "import seaborn as sns\n",
    "\n",
    "# machine learning\n",
    "from sklearn import preprocessing\n",
    "from sklearn import utils\n",
    "from sklearn import metrics\n",
    "from sklearn.linear_model import LogisticRegression\n",
    "from sklearn.model_selection import GridSearchCV, train_test_split\n",
    "from sklearn.ensemble import RandomForestClassifier\n",
    "from sklearn.preprocessing import StandardScaler, MinMaxScaler, LabelEncoder, KBinsDiscretizer\n",
    "from sklearn.feature_selection import VarianceThreshold, SelectKBest, RFECV, chi2, mutual_info_classif\n",
    "from xgboost import XGBClassifier\n",
    "\n",
    "# misc.\n",
    "import os\n",
    "import copy\n",
    "from modules import gendata, cm_metrics\n",
    "from datetime import datetime, timedelta"
   ]
  },
  {
   "cell_type": "code",
   "execution_count": 3,
   "metadata": {},
   "outputs": [],
   "source": [
    "# ipython magic\n",
    "%load_ext autoreload\n",
    "%reload_ext autoreload\n",
    "%autoreload 2\n",
    "%matplotlib inline\n",
    "\n",
    "# matlpotlib properties\n",
    "plt.rcParams[\"figure.figsize\"] = 6,6\n",
    "plt.rcParams[\"figure.dpi\"] = 150\n",
    "plt.rcParams['figure.max_open_warning'] = False\n",
    "pd.set_option('display.max_rows', 100)\n",
    "pd.set_option('display.max_columns', 100)\n",
    "\n",
    "# seaborn properties\n",
    "sns.set(style=\"whitegrid\")"
   ]
  },
  {
   "cell_type": "markdown",
   "metadata": {},
   "source": [
    "## Constants"
   ]
  },
  {
   "cell_type": "code",
   "execution_count": 4,
   "metadata": {},
   "outputs": [],
   "source": [
    "# set working path \n",
    "WORKING_PATH = \"./\""
   ]
  },
  {
   "cell_type": "code",
   "execution_count": 5,
   "metadata": {},
   "outputs": [],
   "source": [
    "# set input directory\n",
    "INPUT_DIRECTORY_FILEPATH = os.path.join(WORKING_PATH, 'input')"
   ]
  },
  {
   "cell_type": "code",
   "execution_count": 6,
   "metadata": {},
   "outputs": [
    {
     "name": "stdout",
     "output_type": "stream",
     "text": [
      "[WinError 183] Cannot create a file when that file already exists: './output/1 - set up'\n",
      "[WinError 183] Cannot create a file when that file already exists: './output/2 - data input'\n",
      "[WinError 183] Cannot create a file when that file already exists: './output/3 - human input'\n",
      "[WinError 183] Cannot create a file when that file already exists: './output/4 - exploratory data analysis'\n",
      "[WinError 183] Cannot create a file when that file already exists: './output/5 - data preparation'\n",
      "[WinError 183] Cannot create a file when that file already exists: './output/6 - modeling and prediction'\n",
      "[WinError 183] Cannot create a file when that file already exists: './output/7 - model evaluation'\n",
      "[WinError 183] Cannot create a file when that file already exists: './output/8 - model analysis and visualization'\n"
     ]
    }
   ],
   "source": [
    "# set output directories\n",
    "OUTPUT_DIRECTORY_FILEPATHS = {\n",
    "        'SU': os.path.join(WORKING_PATH, 'output/1 - set up')\n",
    "        ,'DI': os.path.join(WORKING_PATH, 'output/2 - data input')\n",
    "        ,'HI': os.path.join(WORKING_PATH, 'output/3 - human input')\n",
    "        ,'EDA': os.path.join(WORKING_PATH, 'output/4 - exploratory data analysis')\n",
    "        ,'DP': os.path.join(WORKING_PATH, 'output/5 - data preparation')\n",
    "        ,'MP': os.path.join(WORKING_PATH, 'output/6 - modeling and prediction')\n",
    "        ,'ME': os.path.join(WORKING_PATH, 'output/7 - model evaluation')\n",
    "        ,'MAV': os.path.join(WORKING_PATH, 'output/8 - model analysis and visualization')\n",
    "    }\n",
    "\n",
    "# create output directories\n",
    "for k,v in OUTPUT_DIRECTORY_FILEPATHS.items():\n",
    "    try:\n",
    "        os.makedirs(v)  \n",
    "    except OSError as file_error:  \n",
    "        print(file_error) "
   ]
  },
  {
   "cell_type": "code",
   "execution_count": 7,
   "metadata": {},
   "outputs": [],
   "source": [
    "# seed\n",
    "RANDOM_STATE_SEED = 42"
   ]
  },
  {
   "cell_type": "code",
   "execution_count": 8,
   "metadata": {},
   "outputs": [],
   "source": [
    "# train-test-split test size\n",
    "TEST_SIZE = 0.15"
   ]
  },
  {
   "cell_type": "code",
   "execution_count": 9,
   "metadata": {},
   "outputs": [],
   "source": [
    "# logistic regression model constants\n",
    "LOGISTIC_REGRESSION_ITER = 10000"
   ]
  },
  {
   "cell_type": "markdown",
   "metadata": {},
   "source": [
    "## Input"
   ]
  },
  {
   "cell_type": "markdown",
   "metadata": {},
   "source": [
    "### Read"
   ]
  },
  {
   "cell_type": "code",
   "execution_count": 10,
   "metadata": {},
   "outputs": [],
   "source": [
    "# set data sources\n",
    "USE_ARTIFICIAL_DATA = False\n",
    "INPUT_FILEPATH = ''\n",
    "\n",
    "if USE_ARTIFICIAL_DATA:\n",
    "    INPUT_FILEPATH = os.path.join(INPUT_DIRECTORY_FILEPATH, 'input_artificial.csv')\n",
    "else:\n",
    "    INPUT_FILEPATH = os.path.join(INPUT_DIRECTORY_FILEPATH, 'input.csv')"
   ]
  },
  {
   "cell_type": "code",
   "execution_count": 11,
   "metadata": {},
   "outputs": [],
   "source": [
    "df = pd.read_csv(INPUT_FILEPATH)\n",
    "df = df.set_index('study_ids')"
   ]
  },
  {
   "cell_type": "markdown",
   "metadata": {},
   "source": [
    "### Clean"
   ]
  },
  {
   "cell_type": "code",
   "execution_count": 12,
   "metadata": {},
   "outputs": [
    {
     "data": {
      "text/plain": [
       "['ed_duration',\n",
       " 'ed_inp_delta',\n",
       " 'age_val',\n",
       " 'img_flags',\n",
       " 'con_flags',\n",
       " 'smk_flags_man',\n",
       " 'smk_flags_db',\n",
       " 'elix_score',\n",
       " 'mod_label']"
      ]
     },
     "execution_count": 12,
     "metadata": {},
     "output_type": "execute_result"
    }
   ],
   "source": [
    "list(df.columns)"
   ]
  },
  {
   "cell_type": "code",
   "execution_count": 13,
   "metadata": {},
   "outputs": [],
   "source": [
    "df = df.drop('smk_flags_man', axis=1)\n",
    "df = df.drop('smk_flags_db', axis=1)"
   ]
  },
  {
   "cell_type": "code",
   "execution_count": 14,
   "metadata": {},
   "outputs": [],
   "source": [
    "# TODO: null_mappings.csv\n",
    "# currently, there are no columns with nulls; however, if we have any columns in the future where there is a non-NaN\n",
    "# value use to represent a null (e.g., -1), that non-NaN null value needs to be parsed to an NaN here"
   ]
  },
  {
   "cell_type": "code",
   "execution_count": 15,
   "metadata": {},
   "outputs": [],
   "source": [
    "# TODO: remappings.csv\n",
    "# if any values need to be remapped (e.g., MS Access DB values where 2 is no rather than 0), do so here"
   ]
  },
  {
   "cell_type": "code",
   "execution_count": 16,
   "metadata": {},
   "outputs": [],
   "source": [
    "drops_df = pd.read_csv(os.path.join(INPUT_DIRECTORY_FILEPATH,'drops.csv'))\n",
    "\n",
    "for d in drops_df.iloc:\n",
    "    if int(d['axis']) == 0:\n",
    "        df = df.drop(df[df[d['data']]==d['value']].index, axis=0)\n",
    "    if int(d['axis']) == 1:\n",
    "        df = df.drop(d['data'], axis=1)"
   ]
  },
  {
   "cell_type": "markdown",
   "metadata": {},
   "source": [
    "### Categorize Columns"
   ]
  },
  {
   "cell_type": "code",
   "execution_count": 18,
   "metadata": {},
   "outputs": [
    {
     "data": {
      "text/plain": [
       "['ed_duration',\n",
       " 'ed_inp_delta',\n",
       " 'age_val',\n",
       " 'img_flags',\n",
       " 'con_flags',\n",
       " 'elix_score',\n",
       " 'mod_label']"
      ]
     },
     "execution_count": 18,
     "metadata": {},
     "output_type": "execute_result"
    }
   ],
   "source": [
    "list(df.columns)"
   ]
  },
  {
   "cell_type": "code",
   "execution_count": 19,
   "metadata": {},
   "outputs": [],
   "source": [
    "label_column = 'mod_label'"
   ]
  },
  {
   "cell_type": "code",
   "execution_count": 20,
   "metadata": {},
   "outputs": [],
   "source": [
    "feature_columns = copy.copy(list(df.columns))\n",
    "feature_columns.remove(label_column)"
   ]
  },
  {
   "cell_type": "code",
   "execution_count": 21,
   "metadata": {},
   "outputs": [],
   "source": [
    "feature_columns_cont = [\n",
    "    'ed_inp_delta'\n",
    "    ,'ed_duration'\n",
    "    ,'elix_score'\n",
    "    ,'age_val'\n",
    "]"
   ]
  },
  {
   "cell_type": "code",
   "execution_count": 22,
   "metadata": {},
   "outputs": [],
   "source": [
    "feature_columns_cat = [\n",
    "    'img_flags'\n",
    "    ,'con_flags'\n",
    "]"
   ]
  },
  {
   "cell_type": "markdown",
   "metadata": {},
   "source": [
    "## EDA"
   ]
  },
  {
   "cell_type": "markdown",
   "metadata": {},
   "source": [
    "### Blanks"
   ]
  },
  {
   "cell_type": "code",
   "execution_count": 23,
   "metadata": {
    "scrolled": false
   },
   "outputs": [
    {
     "data": {
      "image/png": "[encoded data removed]",
      "text/plain": [
       "<Figure size 900x900 with 1 Axes>"
      ]
     },
     "metadata": {},
     "output_type": "display_data"
    }
   ],
   "source": [
    "# Create figure variables\n",
    "blanks_fig, blanks_axes = plt.subplots()\n",
    "sns.heatmap(df.isnull(), xticklabels=True, yticklabels=False, cmap='binary', cbar=False, ax=blanks_axes)\n",
    "\n",
    "# Set text\n",
    "blanks_axes.set_title('Missing Values')\n",
    "blanks_axes.set_ylabel('')\n",
    "blanks_axes.set_xlabel('')\n",
    "\n",
    "# Save figure\n",
    "blanks_fig.savefig(os.path.join(OUTPUT_DIRECTORY_FILEPATHS['EDA'], 'features_blanks.svg'))"
   ]
  },
  {
   "cell_type": "markdown",
   "metadata": {},
   "source": [
    "### Features"
   ]
  },
  {
   "cell_type": "markdown",
   "metadata": {},
   "source": [
    "#### Distribution"
   ]
  },
  {
   "cell_type": "code",
   "execution_count": null,
   "metadata": {
    "scrolled": false
   },
   "outputs": [],
   "source": [
    "for col in feature_columns_cat:\n",
    "\n",
    "    # Create figure variables\n",
    "    fldist_fig, fldist_axes = plt.subplots()\n",
    "    sns.countplot(data=df, x=col, ax=fldist_axes)\n",
    "\n",
    "    # Set text\n",
    "    fldist_axes.set_title(col + ' Distribution')\n",
    "    fldist_axes.set_ylabel('')\n",
    "    fldist_axes.set_xlabel('')\n",
    "    fldist_fig.set_figheight(6)\n",
    "    fldist_fig.set_figwidth(6)\n",
    "\n",
    "    # Save figure\n",
    "    fldist_fig.savefig(os.path.join(OUTPUT_DIRECTORY_FILEPATHS['EDA'], '{}_distributionbylabel.svg'.format(col)))"
   ]
  },
  {
   "cell_type": "code",
   "execution_count": null,
   "metadata": {
    "scrolled": false
   },
   "outputs": [],
   "source": [
    "for col in feature_columns_cont:\n",
    "\n",
    "    # Create figure variables\n",
    "    fldist_fig, fldist_axes = plt.subplots()\n",
    "    sns.histplot(data=df, x=col, ax=fldist_axes)\n",
    "\n",
    "    # Set text\n",
    "    fldist_axes.set_title(col + ' Distribution')\n",
    "    fldist_axes.set_ylabel('')\n",
    "    fldist_axes.set_xlabel('')\n",
    "    fldist_fig.set_figheight(6)\n",
    "    fldist_fig.set_figwidth(6)\n",
    "\n",
    "    # Save figure\n",
    "    fldist_fig.savefig(os.path.join(OUTPUT_DIRECTORY_FILEPATHS['EDA'], '{}_distributionbylabel.svg'.format(col)))"
   ]
  },
  {
   "cell_type": "markdown",
   "metadata": {},
   "source": [
    "#### Distribution (Amount) by Label"
   ]
  },
  {
   "cell_type": "code",
   "execution_count": null,
   "metadata": {
    "scrolled": false
   },
   "outputs": [],
   "source": [
    "for col in feature_columns_cat:\n",
    "\n",
    "    # Create figure variables\n",
    "    fldist_fig, fldist_axes = plt.subplots()\n",
    "    sns.countplot(data=df, x=col, hue=label_column, ax=fldist_axes)\n",
    "\n",
    "    # Set text\n",
    "    fldist_axes.set_title(col + ' Distribution')\n",
    "    fldist_axes.set_ylabel('')\n",
    "    fldist_axes.set_xlabel('')\n",
    "    fldist_fig.set_figheight(6)\n",
    "    fldist_fig.set_figwidth(6)\n",
    "\n",
    "    # Save figure\n",
    "    fldist_fig.savefig(os.path.join(OUTPUT_DIRECTORY_FILEPATHS['EDA'], '{}_distributionbylabel.svg'.format(col)))"
   ]
  },
  {
   "cell_type": "code",
   "execution_count": null,
   "metadata": {
    "scrolled": false
   },
   "outputs": [],
   "source": [
    "for col in feature_columns_cont:\n",
    "\n",
    "    # Create figure variables\n",
    "    fldist_fig, fldist_axes = plt.subplots()\n",
    "    sns.violinplot(data=df, x=col, y=label_column, scale='count', inner='stick', ax=fldist_axes)\n",
    "\n",
    "    # Set text\n",
    "    fldist_axes.set_title(col + ' Distribution')\n",
    "    fldist_axes.set_ylabel('')\n",
    "    fldist_axes.set_xlabel('')\n",
    "    fldist_fig.set_figheight(6)\n",
    "    fldist_fig.set_figwidth(6)\n",
    "\n",
    "    # Save figure\n",
    "    fldist_fig.savefig(os.path.join(OUTPUT_DIRECTORY_FILEPATHS['EDA'], '{}_distributionbylabel.svg'.format(col)))"
   ]
  },
  {
   "cell_type": "markdown",
   "metadata": {},
   "source": [
    "#### Distribution (Percentage) by Label"
   ]
  },
  {
   "cell_type": "code",
   "execution_count": null,
   "metadata": {},
   "outputs": [],
   "source": [
    "def make_stacked_bar(primary_var_vals, secondary_var_vals):\n",
    "    \"\"\"\n",
    "    Parameterss\n",
    "    ----------\n",
    "    results : dict\n",
    "        A mapping from question labels to a list of answers per category.\n",
    "        It is assumed all lists contain the same number of entries and that\n",
    "        it matches the length of *category_names*.\n",
    "    category_names : list of str\n",
    "        The category labels.\n",
    "    \"\"\"\n",
    "    labels = list(primary_var_vals.keys())\n",
    "    data = np.array(list(primary_var_vals.values()))\n",
    "    data_cum = data.cumsum(axis=1)\n",
    "    category_colors = ['red', 'blue', 'green']\n",
    "\n",
    "    fig, ax = plt.subplots(figsize=(9.2, 5))\n",
    "    ax.invert_yaxis()\n",
    "    ax.xaxis.set_visible(False)\n",
    "    ax.set_xlim(0, np.sum(data, axis=1).max())\n",
    "\n",
    "    for i, colname in enumerate(secondary_var_vals):\n",
    "        widths = data[:, i]\n",
    "        starts = data_cum[:, i] - widths\n",
    "        ax.barh(labels, widths, left=starts, height=0.5, label=colname)\n",
    "        xcenters = starts + widths / 2\n",
    "        \n",
    "        for y, (x, c) in enumerate(zip(xcenters, widths)):\n",
    "            ax.text(x, y, str(int(c)), ha='center', va='center')\n",
    "    ax.legend(ncol=len(secondary_var_vals), bbox_to_anchor=(0, -0.1), loc='lower left', fontsize='small')\n",
    "\n",
    "    return fig, ax"
   ]
  },
  {
   "cell_type": "code",
   "execution_count": null,
   "metadata": {
    "scrolled": false
   },
   "outputs": [],
   "source": [
    "for feat in feature_columns_cat:\n",
    "    \n",
    "    primary_var_vals = {}\n",
    "    secondary_var_vals = list(df[label_column].unique())\n",
    "    \n",
    "    for fval in df[feat].unique():\n",
    "        \n",
    "        num_fval = len(df[df[feat] == fval].index)\n",
    "        percent_fval_by_lvals = []\n",
    "        \n",
    "        for lval in df[label_column].unique():\n",
    "            \n",
    "            num_fval_at_lval = len(df[(df[feat] == fval) & (df[label_column] == lval)].index)\n",
    "            \n",
    "            if num_fval == 0:\n",
    "                percent_fval_at_lval = 0\n",
    "            else:\n",
    "                percent_fval_at_lval = (float(num_fval_at_lval)/num_fval) * 100\n",
    "            \n",
    "            percent_fval_by_lvals.append(percent_fval_at_lval)\n",
    "            \n",
    "        primary_var_vals.update({'Feature Value: {}'.format(fval): percent_fval_by_lvals})\n",
    "    \n",
    "    # Create figure variables\n",
    "    fldist_fig, fldist_axes = make_stacked_bar(primary_var_vals, secondary_var_vals)\n",
    "\n",
    "    # Set text\n",
    "    fldist_axes.set_title('Distribution (%) of {} by Label'.format(feat))\n",
    "\n",
    "    # Save figure\n",
    "    fldist_fig.savefig(os.path.join(OUTPUT_DIRECTORY_FILEPATHS['EDA'], '{}_distributionbylabel.svg'.format(feat)))"
   ]
  },
  {
   "cell_type": "markdown",
   "metadata": {},
   "source": [
    "### Labels"
   ]
  },
  {
   "cell_type": "markdown",
   "metadata": {},
   "source": [
    "#### Distribution"
   ]
  },
  {
   "cell_type": "code",
   "execution_count": null,
   "metadata": {
    "scrolled": false
   },
   "outputs": [],
   "source": [
    "# Create figure variables\n",
    "fldist_fig, fldist_axes = plt.subplots()\n",
    "sns.countplot(data=df, x=label_column, ax=fldist_axes)\n",
    "\n",
    "# Set text\n",
    "fldist_axes.set_title(label_column + ' Distribution')\n",
    "fldist_axes.set_ylabel('')\n",
    "fldist_axes.set_xlabel('')\n",
    "fldist_fig.set_figheight(6)\n",
    "fldist_fig.set_figwidth(6)\n",
    "\n",
    "# Save figure\n",
    "fldist_fig.savefig(os.path.join(OUTPUT_DIRECTORY_FILEPATHS['EDA'], '{}_distributionbylabel.svg'.format(col)))"
   ]
  },
  {
   "cell_type": "markdown",
   "metadata": {},
   "source": [
    "#### Distribution by Feature"
   ]
  },
  {
   "cell_type": "code",
   "execution_count": null,
   "metadata": {
    "scrolled": true
   },
   "outputs": [],
   "source": [
    "for col in feature_columns_cat:\n",
    "\n",
    "    # Create figure variables\n",
    "    fldist_fig, fldist_axes = plt.subplots()\n",
    "    sns.countplot(data=df, x=label_column, hue=col, ax=fldist_axes)\n",
    "\n",
    "    # Set text\n",
    "    fldist_axes.set_title(col + ' Distribution')\n",
    "    fldist_axes.set_ylabel('')\n",
    "    fldist_axes.set_xlabel('')\n",
    "    fldist_fig.set_figheight(6)\n",
    "    fldist_fig.set_figwidth(6)\n",
    "\n",
    "    # Save figure\n",
    "    fldist_fig.savefig(os.path.join(OUTPUT_DIRECTORY_FILEPATHS['EDA'], '{}_distributionbylabel.svg'.format(col)))"
   ]
  },
  {
   "cell_type": "code",
   "execution_count": null,
   "metadata": {
    "scrolled": true
   },
   "outputs": [],
   "source": [
    "for col in feature_columns_cont:\n",
    "\n",
    "    # Create figure variables\n",
    "    fldist_fig, fldist_axes = plt.subplots()\n",
    "    sns.violinplot(data=df, x=label_column, y=col, scale='count', inner='stick', ax=fldist_axes)\n",
    "\n",
    "    # Set text\n",
    "    fldist_axes.set_title(col + ' Distribution')\n",
    "    fldist_axes.set_ylabel('')\n",
    "    fldist_axes.set_xlabel('')\n",
    "    fldist_fig.set_figheight(6)\n",
    "    fldist_fig.set_figwidth(6)\n",
    "\n",
    "    # Save figure\n",
    "    fldist_fig.savefig(os.path.join(OUTPUT_DIRECTORY_FILEPATHS['EDA'], '{}_distributionbylabel.svg'.format(col)))"
   ]
  },
  {
   "cell_type": "markdown",
   "metadata": {},
   "source": [
    "## Data Preparation"
   ]
  },
  {
   "cell_type": "code",
   "execution_count": null,
   "metadata": {},
   "outputs": [],
   "source": [
    "df['ed_inp_delta'] = MinMaxScaler().fit_transform(df['ed_inp_delta'].values.reshape(-1,1))\n",
    "df['ed_duration'] = MinMaxScaler().fit_transform(df['ed_duration'].values.reshape(-1,1))\n",
    "df['elix_score'] = MinMaxScaler().fit_transform(df['elix_score'].values.reshape(-1,1))\n",
    "df['age_val'] = MinMaxScaler().fit_transform(df['age_val'].values.reshape(-1,1))"
   ]
  },
  {
   "cell_type": "code",
   "execution_count": null,
   "metadata": {},
   "outputs": [],
   "source": [
    "# split up data\n",
    "X_train, X_test, y_train, y_test = train_test_split(df[feature_columns], df[label_column], test_size=TEST_SIZE, random_state=RANDOM_STATE_SEED)"
   ]
  },
  {
   "cell_type": "markdown",
   "metadata": {},
   "source": [
    "## Modeling and Prediction"
   ]
  },
  {
   "cell_type": "markdown",
   "metadata": {},
   "source": [
    "### Logistic Regression"
   ]
  },
  {
   "cell_type": "code",
   "execution_count": null,
   "metadata": {},
   "outputs": [],
   "source": [
    "#TODO: add in RFECV + GridSearchCV"
   ]
  },
  {
   "cell_type": "code",
   "execution_count": null,
   "metadata": {},
   "outputs": [],
   "source": [
    "# create a logistic regression model\n",
    "estimator_log = LogisticRegression(max_iter=LOGISTIC_REGRESSION_ITER, random_state=RANDOM_STATE_SEED, class_weight='balanced')"
   ]
  },
  {
   "cell_type": "code",
   "execution_count": null,
   "metadata": {},
   "outputs": [],
   "source": [
    "# define space of model's parameter values\n",
    "hyperparameter_grid_log = {\n",
    "    'penalty': ['none', 'l1', 'l2']\n",
    "    ,'C': np.logspace(-1, 4, 10)\n",
    "    ,'solver': ['liblinear','saga']\n",
    "    ,'multi_class': ['ovr']\n",
    "    ,'fit_intercept': [True, False]\n",
    "}"
   ]
  },
  {
   "cell_type": "code",
   "execution_count": null,
   "metadata": {},
   "outputs": [],
   "source": [
    "# determine best parameters to fit model ti training data\n",
    "grid_search_log = GridSearchCV(\n",
    "    estimator = estimator_log\n",
    "    ,param_grid = hyperparameter_grid_log\n",
    "    ,scoring = None\n",
    "    ,n_jobs = 1\n",
    "    ,cv = 5\n",
    "    ,verbose = 0\n",
    "    ,return_train_score = False\n",
    ")\n",
    "\n",
    "best_model_log = grid_search_log.fit(X_train, y_train)"
   ]
  },
  {
   "cell_type": "code",
   "execution_count": null,
   "metadata": {},
   "outputs": [],
   "source": [
    "# print best parameters\n",
    "print('Best Penalty:', best_model_log.best_estimator_.get_params()['penalty'])\n",
    "print('Best C:', best_model_log.best_estimator_.get_params()['C'])\n",
    "print('Best Solver:', best_model_log.best_estimator_.get_params()['solver'])\n",
    "print('Best Multi-Class:', best_model_log.best_estimator_.get_params()['multi_class'])\n",
    "print('Best Fit Intercept:', best_model_log.best_estimator_.get_params()['fit_intercept'])\n",
    "\n",
    "# write best parameters to file\n",
    "with open(os.path.join(OUTPUT_DIRECTORY_FILEPATHS['MP'], \"best_params_log.csv\"), \"w\") as file:\n",
    "    file.write('Parameter,Value\\n')\n",
    "    file.write('Penalty,{}\\n'.format(best_model_log.best_estimator_.get_params()['penalty']))\n",
    "    file.write('C,{}\\n'.format(best_model_log.best_estimator_.get_params()['C']))\n",
    "    file.write('Solver,{}\\n'.format(best_model_log.best_estimator_.get_params()['solver']))\n",
    "    file.write('Multi-Class,{}\\n'.format(best_model_log.best_estimator_.get_params()['multi_class']))\n",
    "    file.write('Fit Intercept,{}\\n'.format(best_model_log.best_estimator_.get_params()['fit_intercept']))"
   ]
  },
  {
   "cell_type": "code",
   "execution_count": null,
   "metadata": {},
   "outputs": [],
   "source": [
    "# get predictions\n",
    "log_predictions = best_model_log.predict(X_test)\n",
    "\n",
    "# get probabilities\n",
    "log_proba = best_model_log.predict_proba(X_test)"
   ]
  },
  {
   "cell_type": "code",
   "execution_count": null,
   "metadata": {},
   "outputs": [],
   "source": [
    "# create a line-up of actual values and predictions from each model for that record\n",
    "prediction_lineup = pd.DataFrame(data=zip(df.loc[X_test.index][label_column].copy(), log_predictions), columns=['Actual MOD Level', 'Log Prediction'], index=X_test.index)"
   ]
  },
  {
   "cell_type": "code",
   "execution_count": null,
   "metadata": {},
   "outputs": [],
   "source": [
    "# add probabilities to line up\n",
    "for idx in range(log_proba.shape[1]):\n",
    "    prediction_lineup['Log Probability of Label {}'.format(idx)] = log_proba.T[idx]"
   ]
  },
  {
   "cell_type": "markdown",
   "metadata": {},
   "source": [
    "### Random Forest"
   ]
  },
  {
   "cell_type": "code",
   "execution_count": null,
   "metadata": {},
   "outputs": [],
   "source": [
    "# create a random forest model\n",
    "estimator_rf = RandomForestClassifier(random_state=RANDOM_STATE_SEED, class_weight='balanced')"
   ]
  },
  {
   "cell_type": "code",
   "execution_count": null,
   "metadata": {},
   "outputs": [],
   "source": [
    "# define space of model's parameter values\n",
    "hyperparameter_grid_rf = {\n",
    "    'n_estimators': [50, 100, 150, 200, 250, 300, 350]\n",
    "    ,'max_depth': [5, 10, 20, 30, 40, 50, 60, None]\n",
    "}"
   ]
  },
  {
   "cell_type": "code",
   "execution_count": null,
   "metadata": {},
   "outputs": [],
   "source": [
    "# determine best parameters to fit model to training data\n",
    "grid_search_rf = GridSearchCV(\n",
    "    estimator = estimator_rf\n",
    "    ,param_grid = hyperparameter_grid_rf\n",
    "    ,scoring = None\n",
    "    ,n_jobs = 1\n",
    "    ,cv = 5\n",
    "    ,verbose = 0\n",
    "    ,return_train_score = False\n",
    ")\n",
    "\n",
    "best_model_rf = grid_search_rf.fit(X_train, y_train)"
   ]
  },
  {
   "cell_type": "code",
   "execution_count": null,
   "metadata": {},
   "outputs": [],
   "source": [
    "# print best parameters\n",
    "print('Best Number of Estimators:', best_model_rf.best_estimator_.get_params()['n_estimators'])\n",
    "print('Best Depth:', best_model_rf.best_estimator_.get_params()['max_depth'])\n",
    "\n",
    "# write best parameters to file\n",
    "with open(os.path.join(OUTPUT_DIRECTORY_FILEPATHS['MP'], \"best_params_rf.csv\"), \"w\") as file:\n",
    "    file.write('Parameter,Value\\n')\n",
    "    file.write('Number of Estimators,{}\\n'.format(best_model_rf.best_estimator_.get_params()['n_estimators']))\n",
    "    file.write('Max Depth,{}\\n'.format(best_model_rf.best_estimator_.get_params()['max_depth']))"
   ]
  },
  {
   "cell_type": "code",
   "execution_count": null,
   "metadata": {},
   "outputs": [],
   "source": [
    "# get predictions\n",
    "rf_predictions = best_model_rf.predict(X_test)\n",
    "\n",
    "# get probabilities\n",
    "rf_proba = best_model_rf.predict_proba(X_test)"
   ]
  },
  {
   "cell_type": "code",
   "execution_count": null,
   "metadata": {},
   "outputs": [],
   "source": [
    "# add RF predictions to line up\n",
    "prediction_lineup['RF Prediction'] = rf_predictions"
   ]
  },
  {
   "cell_type": "code",
   "execution_count": null,
   "metadata": {},
   "outputs": [],
   "source": [
    "# add RF probabilities to line up\n",
    "for idx in range(rf_proba.shape[1]):\n",
    "    prediction_lineup['RF Probability of Label {}'.format(idx)] = rf_proba.T[idx]"
   ]
  },
  {
   "cell_type": "markdown",
   "metadata": {},
   "source": [
    "### XGBoost"
   ]
  },
  {
   "cell_type": "code",
   "execution_count": null,
   "metadata": {},
   "outputs": [],
   "source": [
    "# create an XGBoost classification model\n",
    "estimator_xgb = XGBClassifier(seed=RANDOM_STATE_SEED, scale_pos_weight=float(len(y_train[y_train == 'TTP'])/len(y_train[y_train == 'TFP'])))"
   ]
  },
  {
   "cell_type": "code",
   "execution_count": null,
   "metadata": {},
   "outputs": [],
   "source": [
    "# define space of model's parameter values\n",
    "hyperparameter_grid_xgb = {\n",
    "    'n_estimators': [50, 100, 150, 200, 250, 300, 350]\n",
    "    ,'max_depth': [5, 10, 20, 30, 40, 50, 60, None]\n",
    "}"
   ]
  },
  {
   "cell_type": "code",
   "execution_count": null,
   "metadata": {},
   "outputs": [],
   "source": [
    "print('x')"
   ]
  },
  {
   "cell_type": "code",
   "execution_count": null,
   "metadata": {},
   "outputs": [],
   "source": [
    "print('hello')"
   ]
  },
  {
   "cell_type": "code",
   "execution_count": null,
   "metadata": {},
   "outputs": [],
   "source": [
    "# determine best parameters to fit model to training data\n",
    "grid_search_xgb = GridSearchCV(\n",
    "    estimator = estimator_xgb\n",
    "    ,param_grid = hyperparameter_grid_xgb\n",
    "    ,scoring = None\n",
    "    ,n_jobs = 1\n",
    "    ,cv = 5\n",
    "    ,verbose = 0\n",
    "    ,return_train_score = False\n",
    ")\n",
    "\n",
    "best_model_xgb = grid_search_xgb.fit(X_train, y_train)"
   ]
  },
  {
   "cell_type": "code",
   "execution_count": null,
   "metadata": {},
   "outputs": [],
   "source": [
    "# print best parameters\n",
    "print('Best Number of Estimators:', best_model_xgb.best_estimator_.get_params()['n_estimators'])\n",
    "print('Best Depth:', best_model_xgb.best_estimator_.get_params()['max_depth'])\n",
    "\n",
    "# write best parameters to file\n",
    "with open(os.path.join(OUTPUT_DIRECTORY_FILEPATHS['MP'], \"best_params_xgb.csv\"), \"w\") as file:\n",
    "    file.write('Parameter,Value\\n')\n",
    "    file.write('Number of Estimators,{}\\n'.format(best_model_xgb.best_estimator_.get_params()['n_estimators']))\n",
    "    file.write('Max Depth,{}\\n'.format(best_model_xgb.best_estimator_.get_params()['max_depth']))"
   ]
  },
  {
   "cell_type": "code",
   "execution_count": null,
   "metadata": {},
   "outputs": [],
   "source": [
    "# get predictions\n",
    "xgb_predictions = best_model_xgb.predict(X_test)\n",
    "\n",
    "# get probabilities\n",
    "xgb_proba = best_model_xgb.predict_proba(X_test)"
   ]
  },
  {
   "cell_type": "code",
   "execution_count": null,
   "metadata": {},
   "outputs": [],
   "source": [
    "# add XGB predictions to line up\n",
    "prediction_lineup['XGB Prediction'] = xgb_predictions"
   ]
  },
  {
   "cell_type": "code",
   "execution_count": null,
   "metadata": {},
   "outputs": [],
   "source": [
    "# add XGB probabilities to line up\n",
    "for idx in range(xgb_proba.shape[1]):\n",
    "    prediction_lineup['XGB Probability of Label {}'.format(idx)] = xgb_proba.T[idx]"
   ]
  },
  {
   "cell_type": "code",
   "execution_count": null,
   "metadata": {},
   "outputs": [],
   "source": [
    "prediction_lineup.to_csv(os.path.join(OUTPUT_DIRECTORY_FILEPATHS['MP'], 'prediction_lineup.csv'), index=True)"
   ]
  },
  {
   "cell_type": "markdown",
   "metadata": {},
   "source": [
    "## Model Evaluation"
   ]
  },
  {
   "cell_type": "markdown",
   "metadata": {},
   "source": [
    "### ROC AUC"
   ]
  },
  {
   "cell_type": "code",
   "execution_count": null,
   "metadata": {},
   "outputs": [],
   "source": [
    "# create metrics dataframe\n",
    "metrics_df = pd.DataFrame(data=['Log', 'RF', 'XGB'], columns=['Model'])"
   ]
  },
  {
   "cell_type": "code",
   "execution_count": null,
   "metadata": {},
   "outputs": [],
   "source": [
    "display(metrics_df)"
   ]
  },
  {
   "cell_type": "code",
   "execution_count": null,
   "metadata": {},
   "outputs": [],
   "source": [
    "# calculate ROC AUC scores\n",
    "roc_auc_log = metrics.roc_auc_score(y_test, log_proba[:,1])\n",
    "roc_auc_rf = metrics.roc_auc_score(y_test, rf_proba[:,1])\n",
    "roc_auc_xgb = metrics.roc_auc_score(y_test, xgb_proba[:,1])\n",
    "\n",
    "# print ROC AUC scores\n",
    "print('ROC AUC Scores')\n",
    "print('------------------------')\n",
    "print('Log: {}'.format(roc_auc_log))\n",
    "print('RF: {}'.format(roc_auc_rf))\n",
    "print('XGB: {}'.format(roc_auc_xgb))\n",
    "\n",
    "metrics_df['ROC_AUC Score'] = [roc_auc_log, roc_auc_rf, roc_auc_xgb]"
   ]
  },
  {
   "cell_type": "markdown",
   "metadata": {},
   "source": [
    "### Confusion Matrices"
   ]
  },
  {
   "cell_type": "code",
   "execution_count": null,
   "metadata": {},
   "outputs": [],
   "source": [
    "# create confusion matrices for each model\n",
    "confusion_matrix_log = pd.DataFrame(data=metrics.confusion_matrix(y_test, log_predictions), columns=['Predicted Label 0', 'Predicted Label 1'], index=['Actual Label 0', 'Actual Label 1'])\n",
    "confusion_matrix_rf = pd.DataFrame(data=metrics.confusion_matrix(y_test, rf_predictions), columns=['Predicted Label 0', 'Predicted Label 1'], index=['Actual Label 0', 'Actual Label 1'])\n",
    "confusion_matrix_xgb = pd.DataFrame(data=metrics.confusion_matrix(y_test, xgb_predictions), columns=['Predicted Label 0', 'Predicted Label 1'], index=['Actual Label 0', 'Actual Label 1'])\n",
    "\n",
    "# print confusion matrices (actual on left side, predicted on top)\n",
    "print('ROC AUC Scores')\n",
    "print('------------------------')\n",
    "print('Log:')\n",
    "print(metrics.confusion_matrix(y_test, log_predictions))\n",
    "print()\n",
    "print('RF:')\n",
    "print(metrics.confusion_matrix(y_test, rf_predictions))\n",
    "print()\n",
    "print('XGBoost:')\n",
    "print(metrics.confusion_matrix(y_test, xgb_predictions))\n",
    "\n",
    "# write confusion matrices to file\n",
    "confusion_matrix_log.to_csv(os.path.join(OUTPUT_DIRECTORY_FILEPATHS['ME'], 'confusion_matrix_log.csv'), index=True)\n",
    "confusion_matrix_rf.to_csv(os.path.join(OUTPUT_DIRECTORY_FILEPATHS['ME'], 'confusion_matrix_rf.csv'), index=True)\n",
    "confusion_matrix_xgb.to_csv(os.path.join(OUTPUT_DIRECTORY_FILEPATHS['ME'], 'confusion_matrix_xgb.csv'), index=True)"
   ]
  },
  {
   "cell_type": "markdown",
   "metadata": {},
   "source": [
    "### Classification Reports"
   ]
  },
  {
   "cell_type": "code",
   "execution_count": null,
   "metadata": {
    "scrolled": true
   },
   "outputs": [],
   "source": [
    "print(metrics.classification_report(y_test, log_predictions))"
   ]
  },
  {
   "cell_type": "code",
   "execution_count": null,
   "metadata": {
    "scrolled": true
   },
   "outputs": [],
   "source": [
    "print(metrics.classification_report(y_test, rf_predictions))"
   ]
  },
  {
   "cell_type": "code",
   "execution_count": null,
   "metadata": {
    "scrolled": true
   },
   "outputs": [],
   "source": [
    "print(metrics.classification_report(y_test, xgb_predictions))"
   ]
  },
  {
   "cell_type": "markdown",
   "metadata": {},
   "source": [
    "### Confusion Matrix Metrics"
   ]
  },
  {
   "cell_type": "code",
   "execution_count": null,
   "metadata": {},
   "outputs": [],
   "source": [
    "# create confusion matrix metrics objects for each model\n",
    "confusion_matrix_metrics_log = cm_metrics.confusion_matrix_metrics(metrics.confusion_matrix(y_test,log_predictions).T)\n",
    "confusion_matrix_metrics_rf = cm_metrics.confusion_matrix_metrics(metrics.confusion_matrix(y_test,rf_predictions).T)\n",
    "confusion_matrix_metrics_xgb = cm_metrics.confusion_matrix_metrics(metrics.confusion_matrix(y_test,xgb_predictions).T)"
   ]
  },
  {
   "cell_type": "code",
   "execution_count": null,
   "metadata": {},
   "outputs": [],
   "source": [
    "# calculate mean confusion matrix metrics for each object\n",
    "metrics_df['PPV (mean)'] = [\n",
    "    np.mean(confusion_matrix_metrics_log.get_ppv()), \n",
    "    np.mean(confusion_matrix_metrics_rf.get_ppv()), \n",
    "    np.mean(confusion_matrix_metrics_xgb.get_ppv())\n",
    "]\n",
    "\n",
    "metrics_df['NPV (mean)'] = [\n",
    "    np.mean(confusion_matrix_metrics_log.get_npv()), \n",
    "    np.mean(confusion_matrix_metrics_rf.get_npv()), \n",
    "    np.mean(confusion_matrix_metrics_xgb.get_npv())\n",
    "]\n",
    "\n",
    "metrics_df['Sensitivity (mean)'] = [\n",
    "    np.mean(confusion_matrix_metrics_log.get_sensitivity()), \n",
    "    np.mean(confusion_matrix_metrics_rf.get_sensitivity()), \n",
    "    np.mean(confusion_matrix_metrics_xgb.get_sensitivity())\n",
    "]\n",
    "\n",
    "metrics_df['Specificity (mean)'] = [\n",
    "    np.mean(confusion_matrix_metrics_log.get_specificity()), \n",
    "    np.mean(confusion_matrix_metrics_rf.get_specificity()), \n",
    "    np.mean(confusion_matrix_metrics_xgb.get_specificity())\n",
    "]"
   ]
  },
  {
   "cell_type": "code",
   "execution_count": null,
   "metadata": {},
   "outputs": [],
   "source": [
    "# calculate weighted mean confusion matrix metrics for each object\n",
    "metrics_df['PPV (weighted mean)'] = [\n",
    "    np.average(confusion_matrix_metrics_log.get_ppv(), weights=confusion_matrix_metrics_log.calc_condition_amount()),\n",
    "    np.average(confusion_matrix_metrics_rf.get_ppv(), weights=confusion_matrix_metrics_rf.calc_condition_amount()), \n",
    "    np.average(confusion_matrix_metrics_xgb.get_ppv(), weights=confusion_matrix_metrics_xgb.calc_condition_amount())\n",
    "]\n",
    "\n",
    "metrics_df['NPV (weighted mean)'] = [\n",
    "    np.average(confusion_matrix_metrics_log.get_npv(), weights=confusion_matrix_metrics_log.calc_condition_amount()),\n",
    "    np.average(confusion_matrix_metrics_rf.get_npv(), weights=confusion_matrix_metrics_rf.calc_condition_amount()), \n",
    "    np.average(confusion_matrix_metrics_xgb.get_npv(), weights=confusion_matrix_metrics_xgb.calc_condition_amount())\n",
    "]\n",
    "\n",
    "metrics_df['Sensitivity (weighted mean)'] = [\n",
    "    np.average(confusion_matrix_metrics_log.get_sensitivity(), weights=confusion_matrix_metrics_log.calc_condition_amount()),\n",
    "    np.average(confusion_matrix_metrics_rf.get_sensitivity(), weights=confusion_matrix_metrics_rf.calc_condition_amount()), \n",
    "    np.average(confusion_matrix_metrics_xgb.get_sensitivity(), weights=confusion_matrix_metrics_xgb.calc_condition_amount())\n",
    "]\n",
    "\n",
    "metrics_df['Specificity (weighted mean)'] = [\n",
    "    np.average(confusion_matrix_metrics_log.get_specificity(), weights=confusion_matrix_metrics_log.calc_condition_amount()),\n",
    "    np.average(confusion_matrix_metrics_rf.get_specificity(), weights=confusion_matrix_metrics_rf.calc_condition_amount()), \n",
    "    np.average(confusion_matrix_metrics_xgb.get_specificity(), weights=confusion_matrix_metrics_xgb.calc_condition_amount())\n",
    "]"
   ]
  },
  {
   "cell_type": "code",
   "execution_count": null,
   "metadata": {},
   "outputs": [],
   "source": [
    "# get metrics for each label\n",
    "for idx in range(xgb_proba.shape[1]):\n",
    "    metrics_df['PPV for Label {}'.format(idx)] = [confusion_matrix_metrics_log.get_ppv()[idx], \n",
    "                                                    confusion_matrix_metrics_rf.get_ppv()[idx], \n",
    "                                                    confusion_matrix_metrics_xgb.get_ppv()[idx]]\n",
    "    \n",
    "for idx in range(xgb_proba.shape[1]):\n",
    "    metrics_df['NPV for Label {}'.format(idx)] = [confusion_matrix_metrics_log.get_npv()[idx], \n",
    "                                                    confusion_matrix_metrics_rf.get_npv()[idx], \n",
    "                                                    confusion_matrix_metrics_xgb.get_npv()[idx]]\n",
    "    \n",
    "for idx in range(xgb_proba.shape[1]):\n",
    "    metrics_df['Sensitivity for Label {}'.format(idx)] = [confusion_matrix_metrics_log.get_sensitivity()[idx], \n",
    "                                                            confusion_matrix_metrics_rf.get_sensitivity()[idx], \n",
    "                                                            confusion_matrix_metrics_xgb.get_sensitivity()[idx]]\n",
    "\n",
    "for idx in range(xgb_proba.shape[1]):\n",
    "    metrics_df['Specificity for Label {}'.format(idx)] = [confusion_matrix_metrics_log.get_specificity()[idx], \n",
    "                                                            confusion_matrix_metrics_rf.get_specificity()[idx], \n",
    "                                                            confusion_matrix_metrics_xgb.get_specificity()[idx]]"
   ]
  },
  {
   "cell_type": "code",
   "execution_count": null,
   "metadata": {},
   "outputs": [],
   "source": [
    "# print out metrics\n",
    "metrics_df_temp = metrics_df.copy().T\n",
    "metrics_df_temp.columns = metrics_df_temp.iloc[0]\n",
    "metrics_df_temp"
   ]
  },
  {
   "cell_type": "code",
   "execution_count": null,
   "metadata": {},
   "outputs": [],
   "source": [
    "# write metrics to file\n",
    "metrics_df.to_csv(os.path.join(OUTPUT_DIRECTORY_FILEPATHS['ME'], 'cm_metrics.csv'), index=True)"
   ]
  },
  {
   "cell_type": "code",
   "execution_count": null,
   "metadata": {},
   "outputs": [],
   "source": [
    "merged_prediction_lineup = pd.merge(prediction_lineup, df, left_index=True, right_index=True)"
   ]
  },
  {
   "cell_type": "code",
   "execution_count": null,
   "metadata": {
    "scrolled": false
   },
   "outputs": [],
   "source": [
    "for col in feature_columns_cont:\n",
    "\n",
    "    # Create figure variables\n",
    "    fldist_fig, fldist_axes = plt.subplots()\n",
    "    sns.scatterplot(data=merged_prediction_lineup, y='Log Probability of Label 0', x=col, hue='Actual MOD Level', ax=fldist_axes)\n",
    "\n",
    "    # Set text\n",
    "    fldist_axes.set_title('LRM Probability of Label 0 by {}'.format(col))\n",
    "    fldist_axes.set_ylabel('')\n",
    "    fldist_axes.set_xlabel('')\n",
    "    fldist_fig.set_figheight(6)\n",
    "    fldist_fig.set_figwidth(6)\n",
    "\n",
    "    # Save figure\n",
    "    fldist_fig.savefig(os.path.join(OUTPUT_DIRECTORY_FILEPATHS['EDA'], '{}_distributionbylabel.svg'.format(col)))"
   ]
  },
  {
   "cell_type": "code",
   "execution_count": null,
   "metadata": {
    "scrolled": false
   },
   "outputs": [],
   "source": [
    "for col in feature_columns_cat:\n",
    "\n",
    "    # Create figure variables\n",
    "    fldist_fig, fldist_axes = plt.subplots()\n",
    "    sns.swarmplot(data=merged_prediction_lineup, y='Log Probability of Label 0', x=col, hue='Actual MOD Level', ax=fldist_axes)\n",
    "\n",
    "    # Set text\n",
    "    fldist_axes.set_title('LRM Probability of Label 0 by {}'.format(col))\n",
    "    fldist_axes.set_ylabel('')\n",
    "    fldist_axes.set_xlabel('')\n",
    "    fldist_fig.set_figheight(6)\n",
    "    fldist_fig.set_figwidth(6)\n",
    "\n",
    "    # Save figure\n",
    "    fldist_fig.savefig(os.path.join(OUTPUT_DIRECTORY_FILEPATHS['EDA'], '{}_distributionbylabel.svg'.format(col)))"
   ]
  },
  {
   "cell_type": "markdown",
   "metadata": {},
   "source": [
    "## Model Analysis and Visualization"
   ]
  },
  {
   "cell_type": "markdown",
   "metadata": {},
   "source": [
    "### Logistic Regression"
   ]
  },
  {
   "cell_type": "code",
   "execution_count": null,
   "metadata": {},
   "outputs": [],
   "source": [
    "# create dataframe of all feature coefficients\n",
    "log_coefs = pd.DataFrame(data=best_model_log.best_estimator_.coef_.T, columns=['Coef'], index=df[feature_columns].columns)\n",
    "log_coefs['Absolute Value'] = log_coefs.abs().mean(axis=1)\n",
    "log_coefs = log_coefs.reindex(log_coefs.abs().sort_values(by='Absolute Value', ascending=False).index)"
   ]
  },
  {
   "cell_type": "code",
   "execution_count": null,
   "metadata": {},
   "outputs": [],
   "source": [
    "log_coefs"
   ]
  },
  {
   "cell_type": "code",
   "execution_count": null,
   "metadata": {
    "scrolled": true
   },
   "outputs": [],
   "source": [
    "#get coefficients for each label\n",
    "coefs = best_model_log.best_estimator_.coef_.T\n",
    "\n",
    "#create list of all label names\n",
    "class_names = range(1,2)\n",
    "\n",
    "# create figure and specify layout\n",
    "fig = plt.figure(figsize=(8,24), constrained_layout=True)\n",
    "spec = gridspec.GridSpec(nrows=len(class_names), ncols=1, figure=fig)\n",
    "\n",
    "# create and arrange axes\n",
    "axes = []\n",
    "for irow in range(len(class_names)):\n",
    "    iaxes_row = []\n",
    "    for icol in range(1):\n",
    "        iaxes_row.append(fig.add_subplot(spec[irow,icol]))\n",
    "    axes.append(iaxes_row)\n",
    "\n",
    "# Plot graph for each label\n",
    "for class_name in class_names:\n",
    "    chart = sns.barplot(feature_columns,coefs[:,class_name-1], ax=axes[class_name-1][0])\n",
    "    chart.set_xticklabels(chart.get_xticklabels(), rotation=90,fontsize=8)\n",
    "    chart.set_title('DxErrorER Value {}'.format(class_name))\n",
    "    \n",
    "    # Save graph when done\n",
    "    if class_name == list(class_names)[-1]:\n",
    "        dummy_plot = chart.get_figure()\n",
    "        dummy_plot.savefig(os.path.join(OUTPUT_DIRECTORY_FILEPATHS['MAV'], 'predictor_strength_all_log.svg'))"
   ]
  },
  {
   "cell_type": "code",
   "execution_count": null,
   "metadata": {},
   "outputs": [],
   "source": [
    "# print top 20 predictors\n",
    "log_coefs.head(20)"
   ]
  },
  {
   "cell_type": "code",
   "execution_count": null,
   "metadata": {},
   "outputs": [],
   "source": [
    "# create graph variables\n",
    "log_coefs_20_fig, log_coefs_20_axes = plt.subplots()\n",
    "\n",
    "temp_data = log_coefs.head(20)['Absolute Value']\n",
    "\n",
    "sns.barplot(y=temp_data.index, x=temp_data.values, ax=log_coefs_20_axes)\n",
    "\n",
    "# set text\n",
    "log_coefs_20_axes.set_title('Top 20 Predictors of Diagnostic Error Level')\n",
    "log_coefs_20_axes.set_ylabel('Data Field')\n",
    "log_coefs_20_axes.set_xlabel('Relative Strength of Prediction')\n",
    "\n",
    "# save figure\n",
    "log_coefs_20_fig.savefig(os.path.join(OUTPUT_DIRECTORY_FILEPATHS['MAV'], 'predictor_strength_20_log.svg'))"
   ]
  },
  {
   "cell_type": "markdown",
   "metadata": {},
   "source": [
    "### Random Forest Model"
   ]
  },
  {
   "cell_type": "code",
   "execution_count": null,
   "metadata": {},
   "outputs": [],
   "source": [
    "# create a dataframe of feature importances\n",
    "rf_importances = pd.DataFrame(data=best_model_rf.best_estimator_.feature_importances_, columns=['Feature Importance'], index=feature_columns)\n",
    "rf_importances = rf_importances.sort_values(by=['Feature Importance'], ascending=False)"
   ]
  },
  {
   "cell_type": "code",
   "execution_count": null,
   "metadata": {},
   "outputs": [],
   "source": [
    "# print the feature importances dataframe\n",
    "rf_importances"
   ]
  },
  {
   "cell_type": "code",
   "execution_count": null,
   "metadata": {},
   "outputs": [],
   "source": [
    "# print the top 20 feature importances\n",
    "rf_importances.head(20)"
   ]
  },
  {
   "cell_type": "code",
   "execution_count": null,
   "metadata": {},
   "outputs": [],
   "source": [
    "# create figure variables\n",
    "rf_importances_20_fig, rf_importances_20_axes = plt.subplots()\n",
    "\n",
    "temp_data = rf_importances.head(20)['Feature Importance']\n",
    "sns.barplot(y=temp_data.index, x=temp_data.values, ax=rf_importances_20_axes)\n",
    "\n",
    "# set text\n",
    "rf_importances_20_axes.set_title('Top 20 Predictors of Diagnostic Error Level')\n",
    "rf_importances_20_axes.set_ylabel('Data Field')\n",
    "rf_importances_20_axes.set_xlabel('Relative Strength of Prediction')\n",
    "\n",
    "# save figure\n",
    "rf_importances_20_fig.savefig(os.path.join(OUTPUT_DIRECTORY_FILEPATHS['MAV'], 'predictor_strength_20_rf.svg'))"
   ]
  },
  {
   "cell_type": "markdown",
   "metadata": {},
   "source": [
    "### XGBoost Model"
   ]
  },
  {
   "cell_type": "code",
   "execution_count": null,
   "metadata": {},
   "outputs": [],
   "source": [
    "# create a dataframe of feature importances\n",
    "xgb_importances = pd.DataFrame(data=best_model_xgb.best_estimator_.feature_importances_, columns=['Feature Importance'], index=feature_columns)\n",
    "xgb_importances = xgb_importances.sort_values(by=['Feature Importance'], ascending=False)"
   ]
  },
  {
   "cell_type": "code",
   "execution_count": null,
   "metadata": {},
   "outputs": [],
   "source": [
    "# print the feature importances dataframe\n",
    "xgb_importances"
   ]
  },
  {
   "cell_type": "code",
   "execution_count": null,
   "metadata": {},
   "outputs": [],
   "source": [
    "# create graph variables\n",
    "xgb_importances_fig, xgb_importances_axes = plt.subplots()\n",
    "\n",
    "temp_data = xgb_importances['Feature Importance']\n",
    "\n",
    "sns.barplot(x=temp_data.index, y=temp_data.values, ax=xgb_importances_axes)\n",
    "\n",
    "# set text\n",
    "xgb_importances_axes.set_title('Feature Importances')\n",
    "xgb_importances_axes.set_ylabel('Data Field')\n",
    "xgb_importances_axes.set_xlabel('Relative Strength of Prediction')\n",
    "xgb_importances_axes.set_xticklabels(xgb_importances_axes.get_xticklabels(), rotation=90,fontsize=8)\n",
    "\n",
    "# save figure\n",
    "xgb_importances_fig.savefig(os.path.join(OUTPUT_DIRECTORY_FILEPATHS['MAV'], 'predictor_strength_all_xgb.svg'))"
   ]
  },
  {
   "cell_type": "code",
   "execution_count": null,
   "metadata": {},
   "outputs": [],
   "source": [
    "# print the top 20 feature importances\n",
    "xgb_importances.head(20)"
   ]
  },
  {
   "cell_type": "code",
   "execution_count": null,
   "metadata": {},
   "outputs": [],
   "source": [
    "# create figure variables\n",
    "xgb_importances_20_fig, xgb_importances_20_axes = plt.subplots()\n",
    "\n",
    "temp_data = xgb_importances.head(20)['Feature Importance']\n",
    "sns.barplot(y=temp_data.index, x=temp_data.values, ax=xgb_importances_20_axes)\n",
    "\n",
    "# set text\n",
    "xgb_importances_20_axes.set_title('Top 20 Predictors of Diagnostic Error Level')\n",
    "xgb_importances_20_axes.set_ylabel('Data Field')\n",
    "xgb_importances_20_axes.set_xlabel('Relative Strength of Prediction')\n",
    "\n",
    "# save figure\n",
    "xgb_importances_20_fig.savefig(os.path.join(OUTPUT_DIRECTORY_FILEPATHS['MAV'], 'predictor_strength_20_xgb.svg'))"
   ]
  }
 ],
 "metadata": {
  "kernelspec": {
   "display_name": "Python 3",
   "language": "python",
   "name": "python3"
  },
  "language_info": {
   "codemirror_mode": {
    "name": "ipython",
    "version": 3
   },
   "file_extension": ".py",
   "mimetype": "text/x-python",
   "name": "python",
   "nbconvert_exporter": "python",
   "pygments_lexer": "ipython3",
   "version": "3.9.1"
  }
 },
 "nbformat": 4,
 "nbformat_minor": 4
}
