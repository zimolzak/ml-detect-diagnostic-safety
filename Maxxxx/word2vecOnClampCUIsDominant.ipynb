{
 "cells": [
  {
   "cell_type": "code",
   "execution_count": 1,
   "metadata": {},
   "outputs": [
    {
     "name": "stdout",
     "output_type": "stream",
     "text": [
      "Microsoft Visual C++ Redistributable is not installed, this may lead to the DLL load failure.\n",
      "                 It can be downloaded at https://aka.ms/vs/16/release/vc_redist.x64.exe\n"
     ]
    }
   ],
   "source": [
    "import os\n",
    "import json\n",
    "import torch\n",
    "import utils\n",
    "import numpy as np\n",
    "from tqdm import tqdm\n",
    "from collections import Counter"
   ]
  },
  {
   "cell_type": "code",
   "execution_count": 6,
   "metadata": {},
   "outputs": [],
   "source": [
    "#Load the cui data\n",
    "# cuidata, _ = utils.split_cui_present_absent(True)\n",
    "DATA_PATH = \"P:\\ORD_Singh_201911038D\\Justin\\Stroke_Notes_13OCT21\"\n",
    "with open(\"filtered_sids_to_cuis.json\",'r') as infile:\n",
    "    cuidata = json.load(infile)"
   ]
  },
  {
   "cell_type": "code",
   "execution_count": 7,
   "metadata": {},
   "outputs": [
    {
     "name": "stdout",
     "output_type": "stream",
     "text": [
      "['C0008031', 'C1507320', 'C0015031', 'C4718442', 'C2707412', 'C0281822', 'C0281822', 'C0398266', 'C3244243', 'C0917798']\n"
     ]
    }
   ],
   "source": [
    "#print(list(cuidata)[0]) # print the first document ID\n",
    "print(cuidata[list(cuidata)[0]][:10]) # show the first 10 cuis of this specific document"
   ]
  },
  {
   "cell_type": "code",
   "execution_count": 8,
   "metadata": {},
   "outputs": [
    {
     "name": "stderr",
     "output_type": "stream",
     "text": [
      "100%|██████████████████████████████████████████████████████████████████████████| 29865/29865 [00:25<00:00, 1168.33it/s]"
     ]
    },
    {
     "name": "stdout",
     "output_type": "stream",
     "text": [
      "[[0, 1], [1, 2], [2, 3]]\n",
      "3038627\n",
      "111303\n"
     ]
    },
    {
     "name": "stderr",
     "output_type": "stream",
     "text": [
      "\n"
     ]
    }
   ],
   "source": [
    "# We will get training pairs. One is the context term the next is the target term.\n",
    "trainingpairs = []\n",
    "vocab = dict()\n",
    "frequency = Counter()\n",
    "idx = 0\n",
    "\n",
    "# This could absolutely be accomplished in an alternative / faster way but it's sufficiently fast for now\n",
    "for doc in tqdm(cuidata):\n",
    "    cuis = cuidata[doc]\n",
    "    cuiids = []\n",
    "    for x in cuis:\n",
    "        if x not in vocab.keys():\n",
    "            vocab.update({x:idx})\n",
    "            idx+=1\n",
    "        cuiids += [vocab[x]]\n",
    "    for i in range(len(cuiids)-1):\n",
    "        pair = cuiids[i:i+2]\n",
    "        if len(pair) < 2:\n",
    "            continue\n",
    "        if pair[0] != pair[1]:\n",
    "            trainingpairs += [pair] #no self references\n",
    "            frequency.update(pair)\n",
    "print(trainingpairs[:3])\n",
    "print(len(trainingpairs))\n",
    "print(len(vocab))\n",
    "assert np.all(np.asarray([x for x in vocab.values()]) == np.arange(len(vocab)))\n",
    "# We'll use an embedding dimension of 50 to start\n",
    "EMBEDDING_DIM = 100"
   ]
  },
  {
   "cell_type": "code",
   "execution_count": 9,
   "metadata": {},
   "outputs": [],
   "source": [
    "frequency = np.asarray([values for key,values in frequency.items()])**0.75\n",
    "frequency /= np.linalg.norm(frequency, ord=1)\n",
    "frequency = torch.from_numpy(frequency)\n",
    "samplingids = torch.arange(0, len(frequency))"
   ]
  },
  {
   "cell_type": "code",
   "execution_count": 10,
   "metadata": {},
   "outputs": [],
   "source": [
    "class CUIEmbeddingModel(torch.nn.Module):\n",
    "    def __init__(self, vocab_size, embedding_dim):\n",
    "        super(CUIEmbeddingModel, self).__init__()\n",
    "        self.dim = embedding_dim\n",
    "        self.in_embeddings = torch.nn.Embedding(vocab_size, embedding_dim, sparse=True)\n",
    "        self.out_embeddings = torch.nn.Embedding(vocab_size, embedding_dim, sparse=True)\n",
    "        \n",
    "    def init(self):\n",
    "        self.in_embeddings.weight.data.uniform_(-0.5/self.dim, 0.5/self.dim) # scaled by dimensionality to control initial norm.\n",
    "        self.out_embeddings.weight.data.uniform(-0, 0) # all 0s\n",
    "        \n",
    "    def forward(self, inputs, targets, negatives):\n",
    "        inembed = self.in_embeddings(inputs)\n",
    "        outembed = self.out_embeddings(targets)\n",
    "        pos_score = torch.sum(torch.mul(inembed, outembed), dim=1)\n",
    "        pos_score = torch.nn.functional.logsigmoid(pos_score)\n",
    "        negembed = self.out_embeddings(negatives)\n",
    "        neg_score = torch.bmm(negembed, inembed.unsqueeze(2)).squeeze()\n",
    "        neg_score = torch.nn.functional.logsigmoid(-1*neg_score)\n",
    "        # skip gram negative sampling\n",
    "        return -1 * (torch.sum(pos_score)+torch.sum(neg_score))\n",
    "    "
   ]
  },
  {
   "cell_type": "code",
   "execution_count": 11,
   "metadata": {},
   "outputs": [],
   "source": [
    "losses = []\n",
    "model = CUIEmbeddingModel(len(vocab), EMBEDDING_DIM)\n",
    "optimizer = torch.optim.SGD(model.parameters(), lr=0.001)\n",
    "NEGSAMPLES = 2"
   ]
  },
  {
   "cell_type": "code",
   "execution_count": 12,
   "metadata": {},
   "outputs": [
    {
     "name": "stderr",
     "output_type": "stream",
     "text": [
      "1520it [00:01, 901.67it/s]                                                                                             \n"
     ]
    }
   ],
   "source": [
    "#Test batching (also gives you an idea of theoretical max throughput in a way)\n",
    "BATCH_SIZE=2000\n",
    "for batchidx in tqdm(np.arange(0, len(trainingpairs), BATCH_SIZE), total = len(trainingpairs)//BATCH_SIZE):\n",
    "    data = trainingpairs[batchidx:batchidx+BATCH_SIZE]\n",
    "    context_idxs = torch.tensor(data)"
   ]
  },
  {
   "cell_type": "code",
   "execution_count": 13,
   "metadata": {},
   "outputs": [],
   "source": [
    "def nearest_embedding_search(cui):\n",
    "    #C0948008 = ischemic stroke\n",
    "    for i in zip(*torch.topk(torch.nn.functional.cosine_similarity(model.in_embeddings.weight.data[vocab[cui]].view(1,-1), \n",
    "                                                                   model.in_embeddings.weight.data), 10, largest=True)):\n",
    "        try:\n",
    "            print(f'{i[0]:0.3f}\\t{cuitranslate[id2vocab[int(i[1])]]}')\n",
    "        except:\n",
    "            print(\"key error\", id2vocab[int(i[1])])"
   ]
  },
  {
   "cell_type": "code",
   "execution_count": 14,
   "metadata": {},
   "outputs": [],
   "source": [
    "id2vocab = {value:key for key,value in vocab.items()}\n",
    "with open(os.path.join(DATA_PATH, \"cuitranslate.json\"),'r') as infile:\n",
    "    cuitranslate = json.load(infile)"
   ]
  },
  {
   "cell_type": "code",
   "execution_count": 15,
   "metadata": {},
   "outputs": [
    {
     "name": "stdout",
     "output_type": "stream",
     "text": [
      "[(0, 'C0008031'), (1, 'C1507320'), (2, 'C0015031'), (3, 'C4718442'), (4, 'C2707412'), (5, 'C0281822'), (6, 'C0398266'), (7, 'C3244243'), (8, 'C0917798'), (9, 'C0013227')]\n",
      "[('C0000005', '(131)I-Macroaggregated Albumin'), ('C0000039', '1,2-dipalmitoylphosphatidylcholine'), ('C0000052', '1,4-alpha-Glucan Branching Enzyme'), ('C0000074', '1-Alkyl-2-Acylphosphatidates'), ('C0000084', '1-Carboxyglutamic Acid'), ('C0000096', '1-Methyl-3-isobutylxanthine'), ('C0000097', '1-Methyl-4-phenyl-1,2,3,6-tetrahydropyridine'), ('C0000098', '1-Methyl-4-phenylpyridinium'), ('C0000102', '1-Naphthylamine'), ('C0000103', '1-Naphthylisothiocyanate')]\n",
      "(131)I-Macroaggregated Albumin\n"
     ]
    }
   ],
   "source": [
    "print(list(id2vocab.items())[0:10])\n",
    "print(list(cuitranslate.items())[0:10])\n",
    "print(cuitranslate[\"C0000005\"])"
   ]
  },
  {
   "cell_type": "code",
   "execution_count": 16,
   "metadata": {
    "scrolled": true,
    "tags": []
   },
   "outputs": [
    {
     "name": "stderr",
     "output_type": "stream",
     "text": [
      "Epoch 1: 1520it [06:25,  3.94it/s, loss=8109.819]                                                                      \n"
     ]
    },
    {
     "name": "stdout",
     "output_type": "stream",
     "text": [
      "1.000\tIschemic stroke\n",
      "0.405\tlung; absence, acquired (any part)\n",
      "0.396\tIRRIGATION KIT W/PISTON SYRINGE K#68800\n",
      "0.395\tCalcification of pleura\n",
      "0.391\tMalignant neoplasm of anorectum\n",
      "0.387\tDifficulty verbalizing\n",
      "0.386\tHealing pressure ulcer of right heel NOS\n",
      "0.380\tLongitudinal absence of radius AND ulna\n",
      "0.373\tinjury of multiple spinal nerve roots\n",
      "0.372\tfunctional limitations in self-care\n"
     ]
    },
    {
     "name": "stderr",
     "output_type": "stream",
     "text": [
      "Epoch 2: 1520it [06:25,  3.94it/s, loss=7390.028]                                                                      \n"
     ]
    },
    {
     "name": "stdout",
     "output_type": "stream",
     "text": [
      "1.000\tIschemic stroke\n",
      "0.407\tDifficulty verbalizing\n",
      "0.404\tIRRIGATION KIT W/PISTON SYRINGE K#68800\n",
      "0.404\tlung; absence, acquired (any part)\n",
      "0.382\tEnsure Plus Therapeutic Nutrition\n",
      "0.380\tCalcification of pleura\n",
      "0.380\tcoronary angiography: coronary artery bypass graft origin left internal mammary artery insertion site visualized proximal left anterior descending\n",
      "0.380\tUtilize standardized abbreviations, acronyms, and symbols\n",
      "0.375\tNemaline Myopathy 2\n",
      "0.368\tPatchy erythematous esophageal mucosa\n"
     ]
    },
    {
     "name": "stderr",
     "output_type": "stream",
     "text": [
      "Epoch 3: 1520it [06:13,  4.06it/s, loss=6016.769]                                                                      \n"
     ]
    },
    {
     "name": "stdout",
     "output_type": "stream",
     "text": [
      "1.000\tIschemic stroke\n",
      "0.433\tIRRIGATION KIT W/PISTON SYRINGE K#68800\n",
      "0.407\telongation factor DmS-II\n",
      "0.405\tNemaline Myopathy 2\n",
      "0.402\tHypothyroidism\n",
      "0.392\tAcute Cerebrovascular Accidents\n",
      "0.377\tHuman Placental Lactogen\n",
      "0.367\tOn Campus-Outpatient Hospital\n",
      "0.367\tLow-Calorie Diet\n",
      "0.366\tAnemia in chronic kidney disease\n"
     ]
    },
    {
     "name": "stderr",
     "output_type": "stream",
     "text": [
      "Epoch 4: 1520it [06:25,  3.94it/s, loss=5917.967]                                                                      \n"
     ]
    },
    {
     "name": "stdout",
     "output_type": "stream",
     "text": [
      "1.000\tIschemic stroke\n",
      "0.547\tAcute Cerebrovascular Accidents\n",
      "0.542\tTransient Ischemic Attack\n",
      "0.525\tRehabilitation therapy\n",
      "0.522\tCerebrovascular accident\n",
      "0.515\tHyperlipidemia\n",
      "0.498\tLeft hemiparesis\n",
      "0.491\talteplase\n",
      "0.489\tImagent\n",
      "0.485\tFacial Paresis\n"
     ]
    },
    {
     "name": "stderr",
     "output_type": "stream",
     "text": [
      "Epoch 5: 1520it [06:24,  3.95it/s, loss=5308.860]                                                                      \n"
     ]
    },
    {
     "name": "stdout",
     "output_type": "stream",
     "text": [
      "1.000\tIschemic stroke\n",
      "0.604\tAcute Cerebrovascular Accidents\n",
      "0.590\tDiabetes Mellitus, Non-Insulin-Dependent\n",
      "0.556\tImagent\n",
      "0.554\tCerebrovascular accident\n",
      "0.546\tCoronary Artery Disease\n",
      "0.538\tCAD gene\n",
      "0.527\tdecimeter\n",
      "0.524\tX-Ray Computed Tomography\n",
      "0.524\talteplase\n"
     ]
    },
    {
     "name": "stderr",
     "output_type": "stream",
     "text": [
      "Epoch 6: 1520it [06:27,  3.92it/s, loss=5219.870]                                                                      \n"
     ]
    },
    {
     "name": "stdout",
     "output_type": "stream",
     "text": [
      "1.000\tIschemic stroke\n",
      "0.733\tAcute Cerebrovascular Accidents\n",
      "0.688\tCerebrovascular accident\n",
      "0.683\tTransient Ischemic Attack\n",
      "0.680\tLeft hemiparesis\n",
      "0.675\tWork-up\n",
      "0.667\tCoronary Artery Disease\n",
      "0.656\tRight hemiparesis\n",
      "0.640\tdecimeter\n",
      "0.635\tCAD gene\n"
     ]
    },
    {
     "name": "stderr",
     "output_type": "stream",
     "text": [
      "Epoch 7: 1520it [06:19,  4.00it/s, loss=5223.314]                                                                      \n"
     ]
    },
    {
     "name": "stdout",
     "output_type": "stream",
     "text": [
      "1.000\tIschemic stroke\n",
      "0.770\tAcute Cerebrovascular Accidents\n",
      "0.732\tWork-up\n",
      "0.717\tTransient Ischemic Attack\n",
      "0.705\tLeft hemiparesis\n",
      "0.699\tCAD gene\n",
      "0.695\tRight hemiparesis\n",
      "0.686\tRehabilitation therapy\n",
      "0.680\tCoronary Artery Disease\n",
      "0.677\tdecimeter\n"
     ]
    },
    {
     "name": "stderr",
     "output_type": "stream",
     "text": [
      "Epoch 8: 1520it [06:16,  4.04it/s, loss=4707.375]                                                                      \n"
     ]
    },
    {
     "name": "stdout",
     "output_type": "stream",
     "text": [
      "1.000\tIschemic stroke\n",
      "0.763\tLeft hemiparesis\n",
      "0.751\tAcute Cerebrovascular Accidents\n",
      "0.745\tWork-up\n",
      "0.738\tAcute ischemic stroke subtype\n",
      "0.718\tX-Ray Computed Tomography\n",
      "0.712\tTransient Ischemic Attack\n",
      "0.711\tAtrial Fibrillation\n",
      "0.706\tCANCER WORKUP\n",
      "0.695\tCAD gene\n"
     ]
    },
    {
     "name": "stderr",
     "output_type": "stream",
     "text": [
      "Epoch 9: 1520it [06:26,  3.93it/s, loss=4746.134]                                                                      \n"
     ]
    },
    {
     "name": "stdout",
     "output_type": "stream",
     "text": [
      "1.000\tIschemic stroke\n",
      "0.807\tAcute Cerebrovascular Accidents\n",
      "0.761\tAcute ischemic stroke subtype\n",
      "0.759\tRight hemiparesis\n",
      "0.757\tCerebrovascular accident\n",
      "0.749\tTransient Ischemic Attack\n",
      "0.745\tWork-up\n",
      "0.736\tFurther\n",
      "0.733\tAphasia\n",
      "0.729\tCarcinoembryonic Antigen\n"
     ]
    },
    {
     "name": "stderr",
     "output_type": "stream",
     "text": [
      "Epoch 10: 1520it [06:02,  4.19it/s, loss=4539.793]                                                                     \n"
     ]
    },
    {
     "name": "stdout",
     "output_type": "stream",
     "text": [
      "1.000\tIschemic stroke\n",
      "0.856\tAcute Cerebrovascular Accidents\n",
      "0.844\tAcute ischemic stroke subtype\n",
      "0.834\tLeft hemiparesis\n",
      "0.821\tRight hemiparesis\n",
      "0.804\tCerebrovascular accident\n",
      "0.794\tneurological weakness of the right or left side\n",
      "0.789\tCarcinoembryonic Antigen\n",
      "0.785\tEvaluation\n",
      "0.783\tAphasia\n"
     ]
    },
    {
     "name": "stderr",
     "output_type": "stream",
     "text": [
      "Epoch 11: 1520it [06:07,  4.14it/s, loss=4327.889]                                                                     \n"
     ]
    },
    {
     "name": "stdout",
     "output_type": "stream",
     "text": [
      "1.000\tIschemic stroke\n",
      "0.824\tAcute ischemic stroke subtype\n",
      "0.823\tWork-up\n",
      "0.821\tLeft hemiparesis\n",
      "0.820\tAphasia\n",
      "0.811\tAcute Cerebrovascular Accidents\n",
      "0.801\tneurological weakness of the right or left side\n",
      "0.801\tCerebrovascular accident\n",
      "0.794\tTransient Ischemic Attack\n",
      "0.789\tCANCER WORKUP\n"
     ]
    },
    {
     "name": "stderr",
     "output_type": "stream",
     "text": [
      "Epoch 12: 1520it [06:33,  3.86it/s, loss=4002.604]                                                                     \n"
     ]
    },
    {
     "name": "stdout",
     "output_type": "stream",
     "text": [
      "1.000\tIschemic stroke\n",
      "0.839\tAcute Cerebrovascular Accidents\n",
      "0.827\tTransient Ischemic Attack\n",
      "0.824\tAcute ischemic stroke subtype\n",
      "0.824\tAphasia\n",
      "0.823\tCerebrovascular accident\n",
      "0.819\tRight hemiparesis\n",
      "0.819\tLeft hemiparesis\n",
      "0.818\tWEAKNESS RESIDUAL\n",
      "0.814\tneurological weakness of the right or left side\n"
     ]
    },
    {
     "name": "stderr",
     "output_type": "stream",
     "text": [
      "Epoch 13: 1520it [06:30,  3.89it/s, loss=4179.090]                                                                     \n"
     ]
    },
    {
     "name": "stdout",
     "output_type": "stream",
     "text": [
      "1.000\tIschemic stroke\n",
      "0.866\tAcute Cerebrovascular Accidents\n",
      "0.845\tneurological weakness of the right or left side\n",
      "0.840\tTransient Ischemic Attack\n",
      "0.832\talteplase\n",
      "0.828\tEvaluation\n",
      "0.827\tLeft hemiparesis\n",
      "0.824\tAcute ischemic stroke subtype\n",
      "0.822\tAphasia\n",
      "0.822\tRight hemiparesis\n"
     ]
    },
    {
     "name": "stderr",
     "output_type": "stream",
     "text": [
      "Epoch 14: 1520it [06:09,  4.11it/s, loss=4215.413]                                                                     \n"
     ]
    },
    {
     "name": "stdout",
     "output_type": "stream",
     "text": [
      "1.000\tIschemic stroke\n",
      "0.868\tAcute Cerebrovascular Accidents\n",
      "0.833\tAcute ischemic stroke subtype\n",
      "0.832\tneurological weakness of the right or left side\n",
      "0.827\talteplase\n",
      "0.827\tCANCER WORKUP\n",
      "0.823\tTransient Ischemic Attack\n",
      "0.820\tLeft hemiparesis\n",
      "0.817\tWEAKNESS RESIDUAL\n",
      "0.805\tRight hemiparesis\n"
     ]
    },
    {
     "name": "stderr",
     "output_type": "stream",
     "text": [
      "Epoch 15: 1520it [06:20,  4.00it/s, loss=3947.207]                                                                     \n"
     ]
    },
    {
     "name": "stdout",
     "output_type": "stream",
     "text": [
      "1.000\tIschemic stroke\n",
      "0.879\tAcute Cerebrovascular Accidents\n",
      "0.842\tAcute ischemic stroke subtype\n",
      "0.835\tCANCER WORKUP\n",
      "0.834\talteplase\n",
      "0.828\tneurological weakness of the right or left side\n",
      "0.825\tBilateral stenosis of carotid arteries\n",
      "0.825\tRight carotid artery stenosis\n",
      "0.824\tAphasia\n",
      "0.821\tWEAKNESS RESIDUAL\n"
     ]
    },
    {
     "name": "stderr",
     "output_type": "stream",
     "text": [
      "Epoch 16: 1520it [06:23,  3.97it/s, loss=3686.010]                                                                     \n"
     ]
    },
    {
     "name": "stdout",
     "output_type": "stream",
     "text": [
      "1.000\tIschemic stroke\n",
      "0.875\tAcute Cerebrovascular Accidents\n",
      "0.848\tTransient Ischemic Attack\n",
      "0.844\tAcute ischemic stroke subtype\n",
      "0.842\tWEAKNESS RESIDUAL\n",
      "0.839\tneurological weakness of the right or left side\n",
      "0.838\tLeft hemiparesis\n",
      "0.831\tWork-up\n",
      "0.831\tCardioembolic Stroke\n",
      "0.829\tAphasia\n"
     ]
    },
    {
     "name": "stderr",
     "output_type": "stream",
     "text": [
      "Epoch 17: 1520it [06:32,  3.87it/s, loss=3647.866]                                                                     \n"
     ]
    },
    {
     "name": "stdout",
     "output_type": "stream",
     "text": [
      "1.000\tIschemic stroke\n",
      "0.902\tAcute Cerebrovascular Accidents\n",
      "0.884\tCANCER WORKUP\n",
      "0.874\tAcute ischemic stroke subtype\n",
      "0.867\tTransient Ischemic Attack\n",
      "0.865\tneurological weakness of the right or left side\n",
      "0.862\tRight hemiparesis\n",
      "0.857\tLeft hemiparesis\n",
      "0.856\tWEAKNESS RESIDUAL\n",
      "0.850\tWork-up\n"
     ]
    },
    {
     "name": "stderr",
     "output_type": "stream",
     "text": [
      "Epoch 18: 1520it [06:16,  4.04it/s, loss=3782.953]                                                                     \n"
     ]
    },
    {
     "name": "stdout",
     "output_type": "stream",
     "text": [
      "1.000\tIschemic stroke\n",
      "0.909\tAcute Cerebrovascular Accidents\n",
      "0.883\tAcute ischemic stroke subtype\n",
      "0.874\tCANCER WORKUP\n",
      "0.864\tRight hemiparesis\n",
      "0.862\tLeft hemiparesis\n",
      "0.862\tTransient Ischemic Attack\n",
      "0.857\tCardioembolic Stroke\n",
      "0.851\tEvaluation\n",
      "0.843\tStructure of middle cerebral artery\n"
     ]
    },
    {
     "name": "stderr",
     "output_type": "stream",
     "text": [
      "Epoch 19: 1520it [06:11,  4.09it/s, loss=3495.187]                                                                     \n"
     ]
    },
    {
     "name": "stdout",
     "output_type": "stream",
     "text": [
      "1.000\tIschemic stroke\n",
      "0.892\tAcute Cerebrovascular Accidents\n",
      "0.882\tAcute ischemic stroke subtype\n",
      "0.871\tLeft hemiparesis\n",
      "0.860\tneurological weakness of the right or left side\n",
      "0.858\tRight hemiparesis\n",
      "0.854\tCardioembolic Stroke\n",
      "0.848\tCANCER WORKUP\n",
      "0.845\tWEAKNESS RESIDUAL\n",
      "0.844\tEvaluation\n"
     ]
    },
    {
     "name": "stderr",
     "output_type": "stream",
     "text": [
      "Epoch 20: 1520it [09:02,  2.80it/s, loss=3241.369]                                                                     \n"
     ]
    },
    {
     "name": "stdout",
     "output_type": "stream",
     "text": [
      "1.000\tIschemic stroke\n",
      "0.907\tAcute Cerebrovascular Accidents\n",
      "0.878\tAcute ischemic stroke subtype\n",
      "0.864\tneurological weakness of the right or left side\n",
      "0.858\tCANCER WORKUP\n",
      "0.857\tTransient Ischemic Attack\n",
      "0.851\tLeft hemiparesis\n",
      "0.850\tWEAKNESS RESIDUAL\n",
      "0.846\tX-Ray Computed Tomography\n",
      "0.844\talteplase\n"
     ]
    },
    {
     "name": "stderr",
     "output_type": "stream",
     "text": [
      "Epoch 21: 1520it [10:35,  2.39it/s, loss=3292.152]                                                                     \n"
     ]
    },
    {
     "name": "stdout",
     "output_type": "stream",
     "text": [
      "1.000\tIschemic stroke\n",
      "0.894\tAcute Cerebrovascular Accidents\n",
      "0.885\tAcute ischemic stroke subtype\n",
      "0.875\tneurological weakness of the right or left side\n",
      "0.874\tTransient Ischemic Attack\n",
      "0.868\tLeft hemiparesis\n",
      "0.866\tStructure of middle cerebral artery\n",
      "0.861\tRight hemiparesis\n",
      "0.859\tWEAKNESS RESIDUAL\n",
      "0.859\tCardioembolic Stroke\n"
     ]
    },
    {
     "name": "stderr",
     "output_type": "stream",
     "text": [
      "Epoch 22: 1520it [09:16,  2.73it/s, loss=3582.167]                                                                     \n"
     ]
    },
    {
     "name": "stdout",
     "output_type": "stream",
     "text": [
      "1.000\tIschemic stroke\n",
      "0.898\tAcute Cerebrovascular Accidents\n",
      "0.885\tAcute ischemic stroke subtype\n",
      "0.865\tLeft hemiparesis\n",
      "0.865\tWEAKNESS RESIDUAL\n",
      "0.865\tTransient Ischemic Attack\n",
      "0.864\tneurological weakness of the right or left side\n",
      "0.859\tThalamic infarction\n",
      "0.858\talteplase\n",
      "0.856\tCANCER WORKUP\n"
     ]
    },
    {
     "name": "stderr",
     "output_type": "stream",
     "text": [
      "Epoch 23: 1520it [10:24,  2.44it/s, loss=3289.185]                                                                     \n"
     ]
    },
    {
     "name": "stdout",
     "output_type": "stream",
     "text": [
      "1.000\tIschemic stroke\n",
      "0.912\tAcute Cerebrovascular Accidents\n",
      "0.885\tAcute ischemic stroke subtype\n",
      "0.871\tLeft hemiparesis\n",
      "0.866\tTransient Ischemic Attack\n",
      "0.862\tStructure of middle cerebral artery\n",
      "0.862\tWEAKNESS RESIDUAL\n",
      "0.861\talteplase\n",
      "0.860\tRight hemiparesis\n",
      "0.858\tCardioembolic Stroke\n"
     ]
    },
    {
     "name": "stderr",
     "output_type": "stream",
     "text": [
      "Epoch 24: 1520it [10:14,  2.47it/s, loss=3369.398]                                                                     \n"
     ]
    },
    {
     "name": "stdout",
     "output_type": "stream",
     "text": [
      "1.000\tIschemic stroke\n",
      "0.903\tAcute Cerebrovascular Accidents\n",
      "0.884\tAcute ischemic stroke subtype\n",
      "0.884\tLeft hemiparesis\n",
      "0.876\tCANCER WORKUP\n",
      "0.871\tWEAKNESS RESIDUAL\n",
      "0.868\tTransient Ischemic Attack\n",
      "0.864\tRight hemiparesis\n",
      "0.859\tStructure of middle cerebral artery\n",
      "0.858\tneurological weakness of the right or left side\n"
     ]
    },
    {
     "name": "stderr",
     "output_type": "stream",
     "text": [
      "Epoch 25: 1520it [10:48,  2.35it/s, loss=3195.872]                                                                     \n"
     ]
    },
    {
     "name": "stdout",
     "output_type": "stream",
     "text": [
      "1.000\tIschemic stroke\n",
      "0.915\tAcute Cerebrovascular Accidents\n",
      "0.909\tAcute ischemic stroke subtype\n",
      "0.892\tWEAKNESS RESIDUAL\n",
      "0.890\tTransient Ischemic Attack\n",
      "0.878\talteplase\n",
      "0.872\tCVA DISTRIBUTION MCA\n",
      "0.869\tCardioembolic Stroke\n",
      "0.867\tCANCER WORKUP\n",
      "0.864\tRight hemiparesis\n"
     ]
    },
    {
     "name": "stderr",
     "output_type": "stream",
     "text": [
      "Epoch 26: 1520it [11:19,  2.24it/s, loss=3020.890]                                                                     \n"
     ]
    },
    {
     "name": "stdout",
     "output_type": "stream",
     "text": [
      "1.000\tIschemic stroke\n",
      "0.909\tAcute Cerebrovascular Accidents\n",
      "0.909\tAcute ischemic stroke subtype\n",
      "0.885\tWEAKNESS RESIDUAL\n",
      "0.876\tTransient Ischemic Attack\n",
      "0.869\tneurological weakness of the right or left side\n",
      "0.866\talteplase\n",
      "0.866\tCVA DISTRIBUTION MCA\n",
      "0.866\tCANCER WORKUP\n",
      "0.866\tWork-up\n"
     ]
    },
    {
     "name": "stderr",
     "output_type": "stream",
     "text": [
      "Epoch 27: 1520it [11:17,  2.24it/s, loss=3269.126]                                                                     \n"
     ]
    },
    {
     "name": "stdout",
     "output_type": "stream",
     "text": [
      "1.000\tIschemic stroke\n",
      "0.912\tAcute Cerebrovascular Accidents\n",
      "0.909\tAcute ischemic stroke subtype\n",
      "0.893\tCANCER WORKUP\n",
      "0.869\tStructure of middle cerebral artery\n",
      "0.867\tWEAKNESS RESIDUAL\n",
      "0.863\talteplase\n",
      "0.857\tThalamic infarction\n",
      "0.856\tWork-up\n",
      "0.856\tLeft hemiparesis\n"
     ]
    },
    {
     "name": "stderr",
     "output_type": "stream",
     "text": [
      "Epoch 28: 1520it [10:47,  2.35it/s, loss=3263.322]                                                                     \n"
     ]
    },
    {
     "name": "stdout",
     "output_type": "stream",
     "text": [
      "1.000\tIschemic stroke\n",
      "0.909\tAcute ischemic stroke subtype\n",
      "0.909\tAcute Cerebrovascular Accidents\n",
      "0.872\tWEAKNESS RESIDUAL\n",
      "0.871\tStructure of middle cerebral artery\n",
      "0.865\tThalamic infarction\n",
      "0.864\tRight hemiparesis\n",
      "0.860\tWork-up\n",
      "0.859\tCardioembolic Stroke\n",
      "0.858\tneurological weakness of the right or left side\n"
     ]
    },
    {
     "name": "stderr",
     "output_type": "stream",
     "text": [
      "Epoch 29: 1520it [10:43,  2.36it/s, loss=2941.257]                                                                     \n"
     ]
    },
    {
     "name": "stdout",
     "output_type": "stream",
     "text": [
      "1.000\tIschemic stroke\n",
      "0.914\tAcute Cerebrovascular Accidents\n",
      "0.912\tAcute ischemic stroke subtype\n",
      "0.871\tWEAKNESS RESIDUAL\n",
      "0.871\tThalamic infarction\n",
      "0.866\tWork-up\n",
      "0.865\tLeft hemiparesis\n",
      "0.864\tneurological weakness of the right or left side\n",
      "0.864\tCANCER WORKUP\n",
      "0.864\tTransient Ischemic Attack\n"
     ]
    },
    {
     "name": "stderr",
     "output_type": "stream",
     "text": [
      "Epoch 30: 1520it [10:04,  2.51it/s, loss=2999.191]                                                                     \n"
     ]
    },
    {
     "name": "stdout",
     "output_type": "stream",
     "text": [
      "1.000\tIschemic stroke\n",
      "0.916\tAcute ischemic stroke subtype\n",
      "0.914\tAcute Cerebrovascular Accidents\n",
      "0.884\tWEAKNESS RESIDUAL\n",
      "0.881\tCANCER WORKUP\n",
      "0.875\tRight hemiparesis\n",
      "0.873\tneurological weakness of the right or left side\n",
      "0.872\tCVA DISTRIBUTION MCA\n",
      "0.871\tLeft hemiparesis\n",
      "0.870\tTransient Ischemic Attack\n"
     ]
    },
    {
     "name": "stderr",
     "output_type": "stream",
     "text": [
      "Epoch 31: 1520it [10:36,  2.39it/s, loss=3069.653]                                                                     \n"
     ]
    },
    {
     "name": "stdout",
     "output_type": "stream",
     "text": [
      "1.000\tIschemic stroke\n",
      "0.917\tAcute Cerebrovascular Accidents\n",
      "0.916\tAcute ischemic stroke subtype\n",
      "0.882\tCVA DISTRIBUTION MCA\n",
      "0.881\tRight sided cerebral hemisphere cerebrovascular accident\n",
      "0.880\tTransient Ischemic Attack\n",
      "0.879\tneurological weakness of the right or left side\n",
      "0.876\tWEAKNESS RESIDUAL\n",
      "0.870\tRight hemiparesis\n",
      "0.869\tCerebrovascular accident\n"
     ]
    },
    {
     "name": "stderr",
     "output_type": "stream",
     "text": [
      "Epoch 32: 1520it [10:40,  2.37it/s, loss=2956.941]                                                                     \n"
     ]
    },
    {
     "name": "stdout",
     "output_type": "stream",
     "text": [
      "1.000\tIschemic stroke\n",
      "0.925\tAcute Cerebrovascular Accidents\n",
      "0.914\tAcute ischemic stroke subtype\n",
      "0.893\tCVA DISTRIBUTION MCA\n",
      "0.888\tneurological weakness of the right or left side\n",
      "0.888\tTransient Ischemic Attack\n",
      "0.881\tWEAKNESS RESIDUAL\n",
      "0.880\tLeft hemiparesis\n",
      "0.878\tRight sided cerebral hemisphere cerebrovascular accident\n",
      "0.876\tThalamic infarction\n"
     ]
    },
    {
     "name": "stderr",
     "output_type": "stream",
     "text": [
      "Epoch 33: 1520it [10:21,  2.44it/s, loss=2839.516]                                                                     \n"
     ]
    },
    {
     "name": "stdout",
     "output_type": "stream",
     "text": [
      "1.000\tIschemic stroke\n",
      "0.932\tAcute Cerebrovascular Accidents\n",
      "0.917\tAcute ischemic stroke subtype\n",
      "0.894\tCVA DISTRIBUTION MCA\n",
      "0.892\tRight sided cerebral hemisphere cerebrovascular accident\n",
      "0.889\tLeft hemiparesis\n",
      "0.888\tWEAKNESS RESIDUAL\n",
      "0.884\tCANCER WORKUP\n",
      "0.881\tThalamic infarction\n",
      "0.881\tneurological weakness of the right or left side\n"
     ]
    },
    {
     "name": "stderr",
     "output_type": "stream",
     "text": [
      "Epoch 34: 1520it [10:36,  2.39it/s, loss=2952.187]                                                                     \n"
     ]
    },
    {
     "name": "stdout",
     "output_type": "stream",
     "text": [
      "1.000\tIschemic stroke\n",
      "0.927\tAcute Cerebrovascular Accidents\n",
      "0.905\tAcute ischemic stroke subtype\n",
      "0.885\tRight sided cerebral hemisphere cerebrovascular accident\n",
      "0.883\tEvaluation\n",
      "0.882\tTransient Ischemic Attack\n",
      "0.882\tThalamic infarction\n",
      "0.881\tCVA DISTRIBUTION MCA\n",
      "0.879\tCANCER WORKUP\n",
      "0.878\tCardioembolic Stroke\n"
     ]
    },
    {
     "name": "stderr",
     "output_type": "stream",
     "text": [
      "Epoch 35: 1520it [10:54,  2.32it/s, loss=2896.384]                                                                     \n"
     ]
    },
    {
     "name": "stdout",
     "output_type": "stream",
     "text": [
      "1.000\tIschemic stroke\n",
      "0.926\tAcute Cerebrovascular Accidents\n",
      "0.910\tAcute ischemic stroke subtype\n",
      "0.894\tCVA DISTRIBUTION MCA\n",
      "0.890\tneurological weakness of the right or left side\n",
      "0.890\tCANCER WORKUP\n",
      "0.889\tWEAKNESS RESIDUAL\n",
      "0.887\tRight hemiparesis\n",
      "0.886\tRight sided cerebral hemisphere cerebrovascular accident\n",
      "0.885\tLeft hemiparesis\n"
     ]
    },
    {
     "name": "stderr",
     "output_type": "stream",
     "text": [
      "Epoch 36: 1520it [10:13,  2.48it/s, loss=2968.560]                                                                     \n"
     ]
    },
    {
     "name": "stdout",
     "output_type": "stream",
     "text": [
      "1.000\tIschemic stroke\n",
      "0.923\tAcute Cerebrovascular Accidents\n",
      "0.909\tAcute ischemic stroke subtype\n",
      "0.889\tLeft hemiparesis\n",
      "0.888\tneurological weakness of the right or left side\n",
      "0.885\tCANCER WORKUP\n",
      "0.884\tRight sided cerebral hemisphere cerebrovascular accident\n",
      "0.883\tCVA DISTRIBUTION MCA\n",
      "0.882\tWEAKNESS RESIDUAL\n",
      "0.880\tTransient Ischemic Attack\n"
     ]
    },
    {
     "name": "stderr",
     "output_type": "stream",
     "text": [
      "Epoch 37: 1520it [10:35,  2.39it/s, loss=2694.494]                                                                     \n"
     ]
    },
    {
     "name": "stdout",
     "output_type": "stream",
     "text": [
      "1.000\tIschemic stroke\n",
      "0.928\tAcute Cerebrovascular Accidents\n",
      "0.918\tAcute ischemic stroke subtype\n",
      "0.893\tRight sided cerebral hemisphere cerebrovascular accident\n",
      "0.891\tThalamic infarction\n",
      "0.890\tCVA DISTRIBUTION MCA\n",
      "0.887\tTransient Ischemic Attack\n",
      "0.883\tWEAKNESS RESIDUAL\n",
      "0.871\tCardioembolic Stroke\n",
      "0.871\tCerebrovascular accident\n"
     ]
    },
    {
     "name": "stderr",
     "output_type": "stream",
     "text": [
      "Epoch 38: 1520it [11:08,  2.27it/s, loss=2839.959]                                                                     \n"
     ]
    },
    {
     "name": "stdout",
     "output_type": "stream",
     "text": [
      "1.000\tIschemic stroke\n",
      "0.926\tAcute Cerebrovascular Accidents\n",
      "0.923\tAcute ischemic stroke subtype\n",
      "0.891\tRight sided cerebral hemisphere cerebrovascular accident\n",
      "0.886\tWEAKNESS RESIDUAL\n",
      "0.886\tCVA DISTRIBUTION MCA\n",
      "0.886\tThalamic infarction\n",
      "0.880\tTransient Ischemic Attack\n",
      "0.880\tCANCER WORKUP\n",
      "0.875\tLeft hemiparesis\n"
     ]
    },
    {
     "name": "stderr",
     "output_type": "stream",
     "text": [
      "Epoch 39: 1520it [10:05,  2.51it/s, loss=2591.413]                                                                     \n"
     ]
    },
    {
     "name": "stdout",
     "output_type": "stream",
     "text": [
      "1.000\tIschemic stroke\n",
      "0.924\tAcute Cerebrovascular Accidents\n",
      "0.921\tAcute ischemic stroke subtype\n",
      "0.885\tWEAKNESS RESIDUAL\n",
      "0.881\tCerebrovascular accident\n",
      "0.881\tCVA DISTRIBUTION MCA\n",
      "0.881\tCANCER WORKUP\n",
      "0.880\tRight sided cerebral hemisphere cerebrovascular accident\n",
      "0.880\tTransient Ischemic Attack\n",
      "0.876\tThalamic infarction\n"
     ]
    },
    {
     "name": "stderr",
     "output_type": "stream",
     "text": [
      "Epoch 40: 1520it [10:20,  2.45it/s, loss=2811.326]                                                                     \n"
     ]
    },
    {
     "name": "stdout",
     "output_type": "stream",
     "text": [
      "1.000\tIschemic stroke\n",
      "0.931\tAcute Cerebrovascular Accidents\n",
      "0.917\tAcute ischemic stroke subtype\n",
      "0.891\tTransient Ischemic Attack\n",
      "0.888\tWEAKNESS RESIDUAL\n",
      "0.885\tRight sided cerebral hemisphere cerebrovascular accident\n",
      "0.879\tCVA DISTRIBUTION MCA\n",
      "0.876\tThalamic infarction\n",
      "0.871\tneurological weakness of the right or left side\n",
      "0.871\tCerebellar stroke\n"
     ]
    },
    {
     "name": "stderr",
     "output_type": "stream",
     "text": [
      "Epoch 41: 1520it [10:53,  2.32it/s, loss=2591.206]                                                                     \n"
     ]
    },
    {
     "name": "stdout",
     "output_type": "stream",
     "text": [
      "1.000\tIschemic stroke\n",
      "0.930\tAcute Cerebrovascular Accidents\n",
      "0.921\tAcute ischemic stroke subtype\n",
      "0.893\tRight sided cerebral hemisphere cerebrovascular accident\n",
      "0.891\tTransient Ischemic Attack\n",
      "0.891\tCVA DISTRIBUTION MCA\n",
      "0.890\tCANCER WORKUP\n",
      "0.886\tWEAKNESS RESIDUAL\n",
      "0.881\tneurological weakness of the right or left side\n",
      "0.880\tThalamic infarction\n"
     ]
    },
    {
     "name": "stderr",
     "output_type": "stream",
     "text": [
      "Epoch 42: 1520it [10:42,  2.36it/s, loss=2776.705]                                                                     \n"
     ]
    },
    {
     "name": "stdout",
     "output_type": "stream",
     "text": [
      "1.000\tIschemic stroke\n",
      "0.932\tAcute Cerebrovascular Accidents\n",
      "0.927\tAcute ischemic stroke subtype\n",
      "0.892\tRight sided cerebral hemisphere cerebrovascular accident\n",
      "0.888\tCVA DISTRIBUTION MCA\n",
      "0.886\tTransient Ischemic Attack\n",
      "0.883\tneurological weakness of the right or left side\n",
      "0.883\tWEAKNESS RESIDUAL\n",
      "0.880\tLeft hemiparesis\n",
      "0.878\tCerebellar stroke\n"
     ]
    },
    {
     "name": "stderr",
     "output_type": "stream",
     "text": [
      "Epoch 43: 1520it [09:55,  2.55it/s, loss=2614.458]                                                                     \n"
     ]
    },
    {
     "name": "stdout",
     "output_type": "stream",
     "text": [
      "1.000\tIschemic stroke\n",
      "0.933\tAcute Cerebrovascular Accidents\n",
      "0.923\tAcute ischemic stroke subtype\n",
      "0.895\tTransient Ischemic Attack\n",
      "0.894\tRight sided cerebral hemisphere cerebrovascular accident\n",
      "0.890\tWEAKNESS RESIDUAL\n",
      "0.888\tLeft hemiparesis\n",
      "0.887\tCVA DISTRIBUTION MCA\n",
      "0.886\tneurological weakness of the right or left side\n",
      "0.881\tThalamic infarction\n"
     ]
    },
    {
     "name": "stderr",
     "output_type": "stream",
     "text": [
      "Epoch 44: 1520it [10:20,  2.45it/s, loss=2675.793]                                                                     \n"
     ]
    },
    {
     "name": "stdout",
     "output_type": "stream",
     "text": [
      "1.000\tIschemic stroke\n",
      "0.935\tAcute Cerebrovascular Accidents\n",
      "0.924\tAcute ischemic stroke subtype\n",
      "0.895\tRight sided cerebral hemisphere cerebrovascular accident\n",
      "0.891\tTransient Ischemic Attack\n",
      "0.890\tneurological weakness of the right or left side\n",
      "0.885\tWEAKNESS RESIDUAL\n",
      "0.883\tCerebrovascular accident\n",
      "0.882\tCerebellar stroke\n",
      "0.882\tCVA DISTRIBUTION MCA\n"
     ]
    },
    {
     "name": "stderr",
     "output_type": "stream",
     "text": [
      "Epoch 45: 1520it [09:35,  2.64it/s, loss=2692.905]                                                                     \n"
     ]
    },
    {
     "name": "stdout",
     "output_type": "stream",
     "text": [
      "1.000\tIschemic stroke\n",
      "0.939\tAcute Cerebrovascular Accidents\n",
      "0.934\tAcute ischemic stroke subtype\n",
      "0.909\tRight sided cerebral hemisphere cerebrovascular accident\n",
      "0.898\tCVA DISTRIBUTION MCA\n",
      "0.891\tTransient Ischemic Attack\n",
      "0.888\tneurological weakness of the right or left side\n",
      "0.888\tCerebellar stroke\n",
      "0.888\tCANCER WORKUP\n",
      "0.886\tLeft hemiparesis\n"
     ]
    },
    {
     "name": "stderr",
     "output_type": "stream",
     "text": [
      "Epoch 46: 1520it [10:00,  2.53it/s, loss=2646.308]                                                                     \n"
     ]
    },
    {
     "name": "stdout",
     "output_type": "stream",
     "text": [
      "1.000\tIschemic stroke\n",
      "0.936\tAcute Cerebrovascular Accidents\n",
      "0.926\tAcute ischemic stroke subtype\n",
      "0.897\tneurological weakness of the right or left side\n",
      "0.895\tCVA DISTRIBUTION MCA\n",
      "0.894\tLeft hemiparesis\n",
      "0.892\tRight sided cerebral hemisphere cerebrovascular accident\n",
      "0.886\tWEAKNESS RESIDUAL\n",
      "0.885\tCerebellar stroke\n",
      "0.880\tRight hemiparesis\n"
     ]
    },
    {
     "name": "stderr",
     "output_type": "stream",
     "text": [
      "Epoch 47: 1520it [11:03,  2.29it/s, loss=2600.392]                                                                     \n"
     ]
    },
    {
     "name": "stdout",
     "output_type": "stream",
     "text": [
      "1.000\tIschemic stroke\n",
      "0.936\tAcute Cerebrovascular Accidents\n",
      "0.914\tAcute ischemic stroke subtype\n",
      "0.894\tTransient Ischemic Attack\n",
      "0.892\tRight sided cerebral hemisphere cerebrovascular accident\n",
      "0.891\tneurological weakness of the right or left side\n",
      "0.887\tCVA DISTRIBUTION MCA\n",
      "0.886\tWEAKNESS RESIDUAL\n",
      "0.878\tLeft hemiparesis\n",
      "0.876\tRight hemiparesis\n"
     ]
    },
    {
     "name": "stderr",
     "output_type": "stream",
     "text": [
      "Epoch 48: 1520it [10:43,  2.36it/s, loss=2501.075]                                                                     \n"
     ]
    },
    {
     "name": "stdout",
     "output_type": "stream",
     "text": [
      "1.000\tIschemic stroke\n",
      "0.928\tAcute Cerebrovascular Accidents\n",
      "0.914\tAcute ischemic stroke subtype\n",
      "0.886\tRight sided cerebral hemisphere cerebrovascular accident\n",
      "0.886\tCANCER WORKUP\n",
      "0.884\tneurological weakness of the right or left side\n",
      "0.884\tWEAKNESS RESIDUAL\n",
      "0.883\tCVA DISTRIBUTION MCA\n",
      "0.881\tTransient Ischemic Attack\n",
      "0.877\tEvaluation\n"
     ]
    },
    {
     "name": "stderr",
     "output_type": "stream",
     "text": [
      "Epoch 49: 1520it [10:23,  2.44it/s, loss=2456.504]                                                                     \n"
     ]
    },
    {
     "name": "stdout",
     "output_type": "stream",
     "text": [
      "1.000\tIschemic stroke\n",
      "0.929\tAcute Cerebrovascular Accidents\n",
      "0.920\tAcute ischemic stroke subtype\n",
      "0.894\tRight sided cerebral hemisphere cerebrovascular accident\n",
      "0.890\tCVA DISTRIBUTION MCA\n",
      "0.889\tWEAKNESS RESIDUAL\n",
      "0.885\tTransient Ischemic Attack\n",
      "0.883\tCerebellar stroke\n",
      "0.881\tCANCER WORKUP\n",
      "0.879\tneurological weakness of the right or left side\n"
     ]
    },
    {
     "name": "stderr",
     "output_type": "stream",
     "text": [
      "Epoch 50: 1520it [10:55,  2.32it/s, loss=2475.188]                                                                     \n"
     ]
    },
    {
     "name": "stdout",
     "output_type": "stream",
     "text": [
      "1.000\tIschemic stroke\n",
      "0.931\tAcute Cerebrovascular Accidents\n",
      "0.916\tAcute ischemic stroke subtype\n",
      "0.896\tRight sided cerebral hemisphere cerebrovascular accident\n",
      "0.888\tWEAKNESS RESIDUAL\n",
      "0.887\tRight hemiparesis\n",
      "0.887\tCerebellar stroke\n",
      "0.887\tTransient Ischemic Attack\n",
      "0.884\tThalamic infarction\n",
      "0.881\tneurological weakness of the right or left side\n",
      "[50915870.98339844, 36796070.26855469, 31732864.60107422, 28845594.072265625, 26832928.893554688, 25347657.813476562, 24173422.64794922, 23201841.671875, 22371291.514648438, 21653365.00048828, 21013578.751953125, 20448018.418945312, 19910806.518554688, 19436181.10986328, 18981112.2734375, 18577459.768798828, 18193587.456054688, 17817602.975341797, 17505028.23779297, 17173479.548583984, 16884315.399169922, 16590695.16772461, 16326634.245361328, 16075272.467041016, 15836793.860839844, 15610719.074951172, 15379732.203613281, 15179499.887207031, 14978053.685546875, 14792911.081054688, 14611129.380126953, 14435224.587402344, 14270305.335449219, 14098318.500488281, 13938234.491210938, 13807290.291015625, 13647176.51928711, 13497891.850585938, 13377843.231689453, 13225748.17944336, 13107728.0703125, 12980289.07836914, 12869872.980957031, 12744278.282226562, 12643092.326660156, 12528894.731445312, 12423844.725341797, 12317553.055664062, 12209355.278320312, 12121981.752929688]\n"
     ]
    }
   ],
   "source": [
    "trainingpairs = torch.LongTensor(trainingpairs)\n",
    "for epoch in range(50):\n",
    "    total_loss = 0\n",
    "    shuffler = torch.randperm(trainingpairs.shape[0])\n",
    "    trainingpairs = trainingpairs[shuffler].view(trainingpairs.size())\n",
    "    with tqdm(np.arange(0, len(trainingpairs), BATCH_SIZE), desc=f'Epoch {epoch+1}', total = len(trainingpairs)//BATCH_SIZE) as progress: #goes one example at a time\n",
    "        for batchidx in progress:\n",
    "            data = trainingpairs[batchidx:batchidx+BATCH_SIZE]\n",
    "            inputs = torch.cat((data[:, 0], data[:,1])) #we'll go bidirectional; usually not done I suppose\n",
    "            targets = torch.cat((data[:, 1], data[:,0]))#doubles the batch size\n",
    "            negatives = samplingids[frequency.multinomial(num_samples=inputs.shape[0]*NEGSAMPLES, replacement=True)].reshape(inputs.shape[0], NEGSAMPLES)\n",
    "            optimizer.zero_grad()\n",
    "            loss = model.forward(inputs, targets, negatives)\n",
    "            loss.backward()\n",
    "            optimizer.step()\n",
    "            total_loss += loss.item()\n",
    "            progress.set_postfix(loss=f\"{loss.item():3.3f}\")\n",
    "        losses.append(total_loss)\n",
    "        progress.set_postfix(loss=f\"{total_loss:3.3f}\")\n",
    "    nearest_embedding_search('C0948008')\n",
    "    \n",
    "print(losses)\n"
   ]
  },
  {
   "cell_type": "code",
   "execution_count": 17,
   "metadata": {},
   "outputs": [],
   "source": [
    "torch.save(model.state_dict(), 'cui_model_11_MAR_2022.pt')"
   ]
  },
  {
   "cell_type": "code",
   "execution_count": 18,
   "metadata": {},
   "outputs": [
    {
     "name": "stdout",
     "output_type": "stream",
     "text": [
      "0\n"
     ]
    }
   ],
   "source": [
    "for _, i in enumerate(losses):\n",
    "    if losses[_-1] < i: #if loss is always monitonically decreasing, should print 0 only\n",
    "        print(_)"
   ]
  },
  {
   "cell_type": "code",
   "execution_count": 19,
   "metadata": {},
   "outputs": [],
   "source": [
    "with open(\"cui_vectors_11_MAR_2022.json\",'w') as outfile:\n",
    "    json.dump({key:model.in_embeddings.weight.data[value].tolist() for key,value in vocab.items()}, outfile)"
   ]
  },
  {
   "cell_type": "code",
   "execution_count": 15,
   "metadata": {},
   "outputs": [
    {
     "name": "stderr",
     "output_type": "stream",
     "text": [
      "100%|███████████████████████████████████| 29865/29865 [01:16<00:00, 391.28it/s]\n"
     ]
    }
   ],
   "source": [
    "# ToDo: Build document vectors from CUI vector components\n",
    "docvectors = np.zeros((len(cuidata), EMBEDDING_DIM))\n",
    "for i,doc in tqdm(enumerate(cuidata), total=len(cuidata)):\n",
    "    for cui in cuidata[doc]['cuis']:\n",
    "        docvectors[i] += model.in_embeddings.weight.data[vocab[cui]].numpy()\n"
   ]
  },
  {
   "cell_type": "code",
   "execution_count": 21,
   "metadata": {},
   "outputs": [
    {
     "name": "stderr",
     "output_type": "stream",
     "text": [
      "100%|███████████████████████████████████| 29865/29865 [01:07<00:00, 439.69it/s]\n"
     ]
    }
   ],
   "source": [
    "# ToDo: Build document vectors from CUI vector components\n",
    "docvectors = np.zeros((len(cuidata), EMBEDDING_DIM))\n",
    "for i,doc in tqdm(enumerate(cuidata), total=len(cuidata)):\n",
    "    tmpvecs = np.zeros(EMBEDDING_DIM)\n",
    "    for cui in cuidata[doc]['cuis']:\n",
    "        tmpvecs += model.in_embeddings.weight.data[vocab[cui]].numpy()\n",
    "    docvectors[i] = tmpvecs / len(cuidata[doc]['cuis'])"
   ]
  },
  {
   "cell_type": "code",
   "execution_count": 22,
   "metadata": {},
   "outputs": [],
   "source": [
    "with open('average_document_vectors_28_FEB_2022.json','w') as outfile:\n",
    "    json.dump({x:list(y) for x,y in zip(cuidata.keys(), docvectors)}, outfile)"
   ]
  },
  {
   "cell_type": "code",
   "execution_count": null,
   "metadata": {},
   "outputs": [],
   "source": []
  },
  {
   "cell_type": "code",
   "execution_count": 27,
   "metadata": {},
   "outputs": [],
   "source": [
    "'''\n",
    "To load the saved pytorch model:\n",
    "\n",
    "model = CUIEmbeddingModel(len(vocab), EMBEDDING_DIM) #vocab and embedding dim must match what the model was trained on\n",
    "model.load_state_dict(torch.load(cui_model_15_NOV_2021.pt))\n",
    "model.eval() #set to evaluation mode\n",
    "''';"
   ]
  },
  {
   "cell_type": "code",
   "execution_count": 32,
   "metadata": {},
   "outputs": [
    {
     "name": "stdout",
     "output_type": "stream",
     "text": [
      "1.000\tCVA ETIOLOGY HEMORRHAGIC ISCHEMIC\n",
      "0.847\tAcute Cerebrovascular Accidents\n",
      "0.836\tIschemic stroke\n",
      "0.829\tLeft hemiparesis\n",
      "0.829\tStructure of middle cerebral artery\n",
      "0.822\tThalamic infarction\n",
      "0.821\tTransient Ischemic Attack\n",
      "0.820\tEvaluation\n",
      "0.815\tAcute ischemic stroke subtype\n",
      "0.815\ttransient ischemic attack without residual deficits\n"
     ]
    }
   ],
   "source": [
    "nearest_embedding_search('C0742946')"
   ]
  },
  {
   "cell_type": "code",
   "execution_count": 33,
   "metadata": {},
   "outputs": [],
   "source": [
    "import xgboost"
   ]
  },
  {
   "cell_type": "code",
   "execution_count": null,
   "metadata": {},
   "outputs": [],
   "source": []
  }
 ],
 "metadata": {
  "kernelspec": {
   "display_name": "Python 3",
   "language": "python",
   "name": "python3"
  },
  "language_info": {
   "codemirror_mode": {
    "name": "ipython",
    "version": 3
   },
   "file_extension": ".py",
   "mimetype": "text/x-python",
   "name": "python",
   "nbconvert_exporter": "python",
   "pygments_lexer": "ipython3",
   "version": "3.9.1"
  }
 },
 "nbformat": 4,
 "nbformat_minor": 5
}
