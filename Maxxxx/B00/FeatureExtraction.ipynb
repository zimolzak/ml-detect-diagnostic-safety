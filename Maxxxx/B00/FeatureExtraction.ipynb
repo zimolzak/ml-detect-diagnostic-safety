{
 "cells": [
  {
   "cell_type": "code",
   "execution_count": 1,
   "metadata": {},
   "outputs": [],
   "source": [
    "%load_ext autoreload\n",
    "%autoreload 2"
   ]
  },
  {
   "cell_type": "code",
   "execution_count": 12,
   "metadata": {},
   "outputs": [],
   "source": [
    "import pyodbc\n",
    "import pandas as pd  # sure takes a long time\n",
    "import dizzy_util as util\n",
    "import numpy as np\n",
    "import umap\n",
    "import matplotlib\n",
    "import matplotlib.pyplot as plt\n",
    "import sklearn\n",
    "import cluster_umap\n",
    "from collections import defaultdict"
   ]
  },
  {
   "cell_type": "code",
   "execution_count": 3,
   "metadata": {},
   "outputs": [],
   "source": [
    "conn = pyodbc.connect(\"DRIVER={SQL Server};SERVER=VHACDWRB03;DATABASE=ORD_Singh_201911038D\")"
   ]
  },
  {
   "cell_type": "code",
   "execution_count": 3,
   "metadata": {},
   "outputs": [
    {
     "data": {
      "text/html": [
       "<div>\n",
       "<style scoped>\n",
       "    .dataframe tbody tr th:only-of-type {\n",
       "        vertical-align: middle;\n",
       "    }\n",
       "\n",
       "    .dataframe tbody tr th {\n",
       "        vertical-align: top;\n",
       "    }\n",
       "\n",
       "    .dataframe thead th {\n",
       "        text-align: right;\n",
       "    }\n",
       "</style>\n",
       "<table border=\"1\" class=\"dataframe\">\n",
       "  <thead>\n",
       "    <tr style=\"text-align: right;\">\n",
       "      <th></th>\n",
       "      <th>TABLE_CATALOG</th>\n",
       "      <th>TABLE_SCHEMA</th>\n",
       "      <th>TABLE_NAME</th>\n",
       "      <th>TABLE_TYPE</th>\n",
       "    </tr>\n",
       "  </thead>\n",
       "  <tbody>\n",
       "    <tr>\n",
       "      <th>0</th>\n",
       "      <td>ORD_Singh_201911038D</td>\n",
       "      <td>Dflt</td>\n",
       "      <td>_B00_ML4TrgPos_Y201621_01_04_cohort</td>\n",
       "      <td>BASE TABLE</td>\n",
       "    </tr>\n",
       "    <tr>\n",
       "      <th>1</th>\n",
       "      <td>ORD_Singh_201911038D</td>\n",
       "      <td>Dflt</td>\n",
       "      <td>_B00_ML4TrgPos_Y201621_01_04_Demorgraphics</td>\n",
       "      <td>BASE TABLE</td>\n",
       "    </tr>\n",
       "    <tr>\n",
       "      <th>2</th>\n",
       "      <td>ORD_Singh_201911038D</td>\n",
       "      <td>Dflt</td>\n",
       "      <td>_B00_ML4TrgPos_Y201621_04_04_Lab</td>\n",
       "      <td>BASE TABLE</td>\n",
       "    </tr>\n",
       "    <tr>\n",
       "      <th>3</th>\n",
       "      <td>ORD_Singh_201911038D</td>\n",
       "      <td>Dflt</td>\n",
       "      <td>_B00_ML4TrgPos_Y201621_05_04_Rad</td>\n",
       "      <td>BASE TABLE</td>\n",
       "    </tr>\n",
       "    <tr>\n",
       "      <th>4</th>\n",
       "      <td>ORD_Singh_201911038D</td>\n",
       "      <td>Dflt</td>\n",
       "      <td>_B00_ML4TrgPos_Y201621_06_Med_04_RxOutpat</td>\n",
       "      <td>BASE TABLE</td>\n",
       "    </tr>\n",
       "    <tr>\n",
       "      <th>5</th>\n",
       "      <td>ORD_Singh_201911038D</td>\n",
       "      <td>Dflt</td>\n",
       "      <td>_B00_ML4TrgPos_Y201621_06_Med_05_BCMA_Dispense...</td>\n",
       "      <td>BASE TABLE</td>\n",
       "    </tr>\n",
       "    <tr>\n",
       "      <th>6</th>\n",
       "      <td>ORD_Singh_201911038D</td>\n",
       "      <td>Dflt</td>\n",
       "      <td>_B00_ML4TrgPos_Y201621_06_Med_07_NonVAMed</td>\n",
       "      <td>BASE TABLE</td>\n",
       "    </tr>\n",
       "    <tr>\n",
       "      <th>7</th>\n",
       "      <td>ORD_Singh_201911038D</td>\n",
       "      <td>Dflt</td>\n",
       "      <td>_B00_ML4TrgPos_Y201621_06_Med_08_AllMed</td>\n",
       "      <td>BASE TABLE</td>\n",
       "    </tr>\n",
       "    <tr>\n",
       "      <th>8</th>\n",
       "      <td>ORD_Singh_201911038D</td>\n",
       "      <td>Dflt</td>\n",
       "      <td>_B00_ML4TrgPos_Y201621_08_Consult</td>\n",
       "      <td>BASE TABLE</td>\n",
       "    </tr>\n",
       "    <tr>\n",
       "      <th>9</th>\n",
       "      <td>ORD_Singh_201911038D</td>\n",
       "      <td>Dflt</td>\n",
       "      <td>_B00_ML4TrgPos_Y201621_12_ICD</td>\n",
       "      <td>BASE TABLE</td>\n",
       "    </tr>\n",
       "    <tr>\n",
       "      <th>10</th>\n",
       "      <td>ORD_Singh_201911038D</td>\n",
       "      <td>Dflt</td>\n",
       "      <td>_B00_ML4TrgPos_Y201621_14_Vital</td>\n",
       "      <td>BASE TABLE</td>\n",
       "    </tr>\n",
       "    <tr>\n",
       "      <th>11</th>\n",
       "      <td>ORD_Singh_201911038D</td>\n",
       "      <td>Dflt</td>\n",
       "      <td>_B00_ML4TrgPos_Y201621_16_HF</td>\n",
       "      <td>BASE TABLE</td>\n",
       "    </tr>\n",
       "    <tr>\n",
       "      <th>12</th>\n",
       "      <td>ORD_Singh_201911038D</td>\n",
       "      <td>Dflt</td>\n",
       "      <td>_B00_ML4TrgPos_Y201621_30_Note</td>\n",
       "      <td>BASE TABLE</td>\n",
       "    </tr>\n",
       "  </tbody>\n",
       "</table>\n",
       "</div>"
      ],
      "text/plain": [
       "           TABLE_CATALOG TABLE_SCHEMA  \\\n",
       "0   ORD_Singh_201911038D         Dflt   \n",
       "1   ORD_Singh_201911038D         Dflt   \n",
       "2   ORD_Singh_201911038D         Dflt   \n",
       "3   ORD_Singh_201911038D         Dflt   \n",
       "4   ORD_Singh_201911038D         Dflt   \n",
       "5   ORD_Singh_201911038D         Dflt   \n",
       "6   ORD_Singh_201911038D         Dflt   \n",
       "7   ORD_Singh_201911038D         Dflt   \n",
       "8   ORD_Singh_201911038D         Dflt   \n",
       "9   ORD_Singh_201911038D         Dflt   \n",
       "10  ORD_Singh_201911038D         Dflt   \n",
       "11  ORD_Singh_201911038D         Dflt   \n",
       "12  ORD_Singh_201911038D         Dflt   \n",
       "\n",
       "                                           TABLE_NAME  TABLE_TYPE  \n",
       "0                 _B00_ML4TrgPos_Y201621_01_04_cohort  BASE TABLE  \n",
       "1          _B00_ML4TrgPos_Y201621_01_04_Demorgraphics  BASE TABLE  \n",
       "2                    _B00_ML4TrgPos_Y201621_04_04_Lab  BASE TABLE  \n",
       "3                    _B00_ML4TrgPos_Y201621_05_04_Rad  BASE TABLE  \n",
       "4           _B00_ML4TrgPos_Y201621_06_Med_04_RxOutpat  BASE TABLE  \n",
       "5   _B00_ML4TrgPos_Y201621_06_Med_05_BCMA_Dispense...  BASE TABLE  \n",
       "6           _B00_ML4TrgPos_Y201621_06_Med_07_NonVAMed  BASE TABLE  \n",
       "7             _B00_ML4TrgPos_Y201621_06_Med_08_AllMed  BASE TABLE  \n",
       "8                   _B00_ML4TrgPos_Y201621_08_Consult  BASE TABLE  \n",
       "9                       _B00_ML4TrgPos_Y201621_12_ICD  BASE TABLE  \n",
       "10                    _B00_ML4TrgPos_Y201621_14_Vital  BASE TABLE  \n",
       "11                       _B00_ML4TrgPos_Y201621_16_HF  BASE TABLE  \n",
       "12                     _B00_ML4TrgPos_Y201621_30_Note  BASE TABLE  "
      ]
     },
     "metadata": {},
     "output_type": "display_data"
    },
    {
     "name": "stdout",
     "output_type": "stream",
     "text": [
      "dict_keys(['cohort', 'Demorgraphics', 'Lab', 'Rad', 'RxOutpat', 'DispensedDrug', 'NonVAMed', 'AllMed', 'Consult', 'ICD', 'Vital', 'HF', 'Note'])\n"
     ]
    }
   ],
   "source": [
    "dataset = util.extractDataset(\"B00\")"
   ]
  },
  {
   "cell_type": "code",
   "execution_count": 19,
   "metadata": {},
   "outputs": [],
   "source": [
    "abdominal_df = pd.read_csv(open(\"Viral_data/ML4_HighRisk_AbdominalPain/labels-AbdominalPain.csv\", 'r', errors=\"ignore\"))\n",
    "dizziness_df = pd.read_csv(open(\"Viral_data/ML4_HighRisk_Dizziness/labels-Dizziness.csv\", 'r', errors=\"ignore\"))"
   ]
  },
  {
   "cell_type": "code",
   "execution_count": 24,
   "metadata": {},
   "outputs": [
    {
     "data": {
      "text/plain": [
       "Index(['AutoID', 'StudyID', 'ReviewerID', 'ReviewDate', 'PtSSN', 'Facility',\n",
       "       'Age', 'DOBPt', 'Gender', 'Race', 'TriggerIncAdmissionER',\n",
       "       'TriggerIncAbdominalPainER', 'TriggerIncFeverHypoER',\n",
       "       'TriggerIncInPtAdm', 'TriggerExclPalliativeVisit',\n",
       "       'TriggerExclSameDayAdmDis', 'TriggerExclTerminalIllness',\n",
       "       'TriggerExclExternalCause', 'TriggerExclPscyAdmission',\n",
       "       'TriggerExclAge', 'InPtAdmDt', 'InPtAdmType', 'InPtDx',\n",
       "       'InPtAdditionalDx', 'DischargeDate', 'DischargeDx',\n",
       "       'DischargeAdditionalDx', 'IndexERDate', 'NoERVisit3Months',\n",
       "       'NoHospitalization1year', 'ProviderType', 'ChiefComlERText',\n",
       "       'AbdPainOnset', 'AbdPainDuration', 'AbdPainLocation',\n",
       "       'AbdPainRadiation', 'AbdPainRadiatonText', 'AbdPainQuality',\n",
       "       'AbdPainSeverity', 'AbdPainProvokingFact', 'AbdPainPalliatingFact',\n",
       "       'AbdPainAssociatedSymptoms', 'PMHAbdSurgery', 'PMHAbdSurgeryText',\n",
       "       'PMHMentalHealth', 'PMHMentalHealthText', 'PMHSubstanceAbuse',\n",
       "       'PMHSubstanceAbuseText', 'PMHSubstanceAbuseOtherText',\n",
       "       'AbdPhysicalGeneralInsp', 'AbdPhysicalGuarding', 'AbdPhysicalRigidity',\n",
       "       'AbdPhysicalReboundTen', 'AbdPhysicalLocalizedTen',\n",
       "       'AbdPhysicalPositiveSign', 'AbdPhysicalRectalExam',\n",
       "       'AbdPhysicalExamText', 'OrderedLabsER', 'OrderedLabsERText',\n",
       "       'OrderedImagingER', 'OrderedImagingERText', 'OrderedConsultsER',\n",
       "       'LabImagingReviewER', 'PrimaryDischargeDxER', 'AdditionalDischargeDxER',\n",
       "       'NoERVisitInPat', 'HistoryDx', 'PhysicalExDx', 'LabDx', 'RedFlagDx',\n",
       "       'IncompleteDx', 'AdditionalDx', 'InApproDx', 'MisIntLabDx',\n",
       "       'MissedLabDx', 'DDDx', 'FinalDx', 'TypicalDx', 'DxError', 'ManageError',\n",
       "       'CareEscalation', 'PtRefused', 'HarmScale', 'DimPatient',\n",
       "       'DimPatientOther', 'DimPtProvider', 'DimPtProviderOther',\n",
       "       'DimDiagnosticTests', 'DimDiagnosticTestsOther', 'DimFollowTracking',\n",
       "       'DimFollowTrackingOther', 'DimReferrals', 'DimReferralsOther',\n",
       "       'CaseSummaryER'],\n",
       "      dtype='object')"
      ]
     },
     "execution_count": 24,
     "metadata": {},
     "output_type": "execute_result"
    }
   ],
   "source": [
    "abdominal_df.columns"
   ]
  },
  {
   "cell_type": "code",
   "execution_count": 26,
   "metadata": {},
   "outputs": [
    {
     "data": {
      "text/plain": [
       "0     5.0\n",
       "1     1.0\n",
       "2     3.0\n",
       "3     2.0\n",
       "5     2.0\n",
       "     ... \n",
       "95    5.0\n",
       "96    2.0\n",
       "97    1.0\n",
       "98    3.0\n",
       "99    2.0\n",
       "Name: DxError, Length: 87, dtype: float64"
      ]
     },
     "execution_count": 26,
     "metadata": {},
     "output_type": "execute_result"
    }
   ],
   "source": [
    "abdominal_df.dropna(subset=[\"DxError\", \"PtSSN\"], inplace=True)\n",
    "abdominal_df.DxError"
   ]
  },
  {
   "cell_type": "code",
   "execution_count": 11,
   "metadata": {},
   "outputs": [],
   "source": [
    "icd_df = dataset[\"ICD\"]"
   ]
  },
  {
   "cell_type": "code",
   "execution_count": null,
   "metadata": {
    "scrolled": true
   },
   "outputs": [],
   "source": [
    "display(icd_df)"
   ]
  },
  {
   "cell_type": "markdown",
   "metadata": {},
   "source": [
    "# Procedural"
   ]
  },
  {
   "cell_type": "code",
   "execution_count": 44,
   "metadata": {},
   "outputs": [],
   "source": [
    "lab_df = pd.read_sql(sql=\"select * from Dflt._B00_ML4TrgPos_Y201621_04_04_Lab t\", con=conn)"
   ]
  },
  {
   "cell_type": "code",
   "execution_count": null,
   "metadata": {
    "scrolled": true
   },
   "outputs": [],
   "source": [
    "display(lab_df)"
   ]
  },
  {
   "cell_type": "code",
   "execution_count": null,
   "metadata": {
    "scrolled": true
   },
   "outputs": [],
   "source": [
    "lab_df.loc[lab_df['LabChemTestName'].str.contains(\"neur\", case=False)]"
   ]
  },
  {
   "cell_type": "code",
   "execution_count": 48,
   "metadata": {},
   "outputs": [
    {
     "data": {
      "text/html": [
       "<div>\n",
       "<style scoped>\n",
       "    .dataframe tbody tr th:only-of-type {\n",
       "        vertical-align: middle;\n",
       "    }\n",
       "\n",
       "    .dataframe tbody tr th {\n",
       "        vertical-align: top;\n",
       "    }\n",
       "\n",
       "    .dataframe thead th {\n",
       "        text-align: right;\n",
       "    }\n",
       "</style>\n",
       "<table border=\"1\" class=\"dataframe\">\n",
       "  <thead>\n",
       "    <tr style=\"text-align: right;\">\n",
       "      <th></th>\n",
       "      <th>PatientSSN</th>\n",
       "      <th>LabChemSpecimenDateTime</th>\n",
       "      <th>LabChemResultValue</th>\n",
       "      <th>LabChemResultNumericValue</th>\n",
       "      <th>Abnormal</th>\n",
       "      <th>LabChemTestName</th>\n",
       "      <th>RequestLocation</th>\n",
       "      <th>LOINC</th>\n",
       "      <th>LabChemSID</th>\n",
       "      <th>Sta3n</th>\n",
       "      <th>LabChemTestSID</th>\n",
       "      <th>PatientSID</th>\n",
       "    </tr>\n",
       "  </thead>\n",
       "  <tbody>\n",
       "  </tbody>\n",
       "</table>\n",
       "</div>"
      ],
      "text/plain": [
       "Empty DataFrame\n",
       "Columns: [PatientSSN, LabChemSpecimenDateTime, LabChemResultValue, LabChemResultNumericValue, Abnormal, LabChemTestName, RequestLocation, LOINC, LabChemSID, Sta3n, LabChemTestSID, PatientSID]\n",
       "Index: []"
      ]
     },
     "execution_count": 48,
     "metadata": {},
     "output_type": "execute_result"
    }
   ],
   "source": [
    "lab_df.loc[lab_df['LabChemTestName'].str.contains(\"MRI\", case=False)]"
   ]
  },
  {
   "cell_type": "code",
   "execution_count": 52,
   "metadata": {},
   "outputs": [
    {
     "data": {
      "text/html": [
       "<div>\n",
       "<style scoped>\n",
       "    .dataframe tbody tr th:only-of-type {\n",
       "        vertical-align: middle;\n",
       "    }\n",
       "\n",
       "    .dataframe tbody tr th {\n",
       "        vertical-align: top;\n",
       "    }\n",
       "\n",
       "    .dataframe thead th {\n",
       "        text-align: right;\n",
       "    }\n",
       "</style>\n",
       "<table border=\"1\" class=\"dataframe\">\n",
       "  <thead>\n",
       "    <tr style=\"text-align: right;\">\n",
       "      <th></th>\n",
       "      <th>PatientSSN</th>\n",
       "      <th>LabChemSpecimenDateTime</th>\n",
       "      <th>LabChemResultValue</th>\n",
       "      <th>LabChemResultNumericValue</th>\n",
       "      <th>Abnormal</th>\n",
       "      <th>LabChemTestName</th>\n",
       "      <th>RequestLocation</th>\n",
       "      <th>LOINC</th>\n",
       "      <th>LabChemSID</th>\n",
       "      <th>Sta3n</th>\n",
       "      <th>LabChemTestSID</th>\n",
       "      <th>PatientSID</th>\n",
       "    </tr>\n",
       "  </thead>\n",
       "  <tbody>\n",
       "  </tbody>\n",
       "</table>\n",
       "</div>"
      ],
      "text/plain": [
       "Empty DataFrame\n",
       "Columns: [PatientSSN, LabChemSpecimenDateTime, LabChemResultValue, LabChemResultNumericValue, Abnormal, LabChemTestName, RequestLocation, LOINC, LabChemSID, Sta3n, LabChemTestSID, PatientSID]\n",
       "Index: []"
      ]
     },
     "execution_count": 52,
     "metadata": {},
     "output_type": "execute_result"
    }
   ],
   "source": [
    "lab_df.loc[lab_df['LOINC'].str.contains(\"6406\", case=False)]\n",
    "# LOINC of MRI = LP6406-5?"
   ]
  },
  {
   "cell_type": "code",
   "execution_count": 51,
   "metadata": {},
   "outputs": [
    {
     "data": {
      "text/html": [
       "<div>\n",
       "<style scoped>\n",
       "    .dataframe tbody tr th:only-of-type {\n",
       "        vertical-align: middle;\n",
       "    }\n",
       "\n",
       "    .dataframe tbody tr th {\n",
       "        vertical-align: top;\n",
       "    }\n",
       "\n",
       "    .dataframe thead th {\n",
       "        text-align: right;\n",
       "    }\n",
       "</style>\n",
       "<table border=\"1\" class=\"dataframe\">\n",
       "  <thead>\n",
       "    <tr style=\"text-align: right;\">\n",
       "      <th></th>\n",
       "      <th>PatientSSN</th>\n",
       "      <th>LabChemSpecimenDateTime</th>\n",
       "      <th>LabChemResultValue</th>\n",
       "      <th>LabChemResultNumericValue</th>\n",
       "      <th>Abnormal</th>\n",
       "      <th>LabChemTestName</th>\n",
       "      <th>RequestLocation</th>\n",
       "      <th>LOINC</th>\n",
       "      <th>LabChemSID</th>\n",
       "      <th>Sta3n</th>\n",
       "      <th>LabChemTestSID</th>\n",
       "      <th>PatientSID</th>\n",
       "    </tr>\n",
       "  </thead>\n",
       "  <tbody>\n",
       "  </tbody>\n",
       "</table>\n",
       "</div>"
      ],
      "text/plain": [
       "Empty DataFrame\n",
       "Columns: [PatientSSN, LabChemSpecimenDateTime, LabChemResultValue, LabChemResultNumericValue, Abnormal, LabChemTestName, RequestLocation, LOINC, LabChemSID, Sta3n, LabChemTestSID, PatientSID]\n",
       "Index: []"
      ]
     },
     "execution_count": 51,
     "metadata": {},
     "output_type": "execute_result"
    }
   ],
   "source": [
    "lab_df.loc[lab_df['LabChemTestName'].str.contains(\"imaging\", case=False)]"
   ]
  },
  {
   "cell_type": "code",
   "execution_count": 55,
   "metadata": {},
   "outputs": [
    {
     "data": {
      "text/html": [
       "<div>\n",
       "<style scoped>\n",
       "    .dataframe tbody tr th:only-of-type {\n",
       "        vertical-align: middle;\n",
       "    }\n",
       "\n",
       "    .dataframe tbody tr th {\n",
       "        vertical-align: top;\n",
       "    }\n",
       "\n",
       "    .dataframe thead th {\n",
       "        text-align: right;\n",
       "    }\n",
       "</style>\n",
       "<table border=\"1\" class=\"dataframe\">\n",
       "  <thead>\n",
       "    <tr style=\"text-align: right;\">\n",
       "      <th></th>\n",
       "      <th>PatientSSN</th>\n",
       "      <th>LabChemSpecimenDateTime</th>\n",
       "      <th>LabChemResultValue</th>\n",
       "      <th>LabChemResultNumericValue</th>\n",
       "      <th>Abnormal</th>\n",
       "      <th>LabChemTestName</th>\n",
       "      <th>RequestLocation</th>\n",
       "      <th>LOINC</th>\n",
       "      <th>LabChemSID</th>\n",
       "      <th>Sta3n</th>\n",
       "      <th>LabChemTestSID</th>\n",
       "      <th>PatientSID</th>\n",
       "    </tr>\n",
       "  </thead>\n",
       "  <tbody>\n",
       "  </tbody>\n",
       "</table>\n",
       "</div>"
      ],
      "text/plain": [
       "Empty DataFrame\n",
       "Columns: [PatientSSN, LabChemSpecimenDateTime, LabChemResultValue, LabChemResultNumericValue, Abnormal, LabChemTestName, RequestLocation, LOINC, LabChemSID, Sta3n, LabChemTestSID, PatientSID]\n",
       "Index: []"
      ]
     },
     "execution_count": 55,
     "metadata": {},
     "output_type": "execute_result"
    }
   ],
   "source": [
    "lab_df.loc[lab_df['LabChemTestName'].str.contains(\"img\", case=False)]"
   ]
  },
  {
   "cell_type": "code",
   "execution_count": 53,
   "metadata": {},
   "outputs": [
    {
     "data": {
      "text/html": [
       "<div>\n",
       "<style scoped>\n",
       "    .dataframe tbody tr th:only-of-type {\n",
       "        vertical-align: middle;\n",
       "    }\n",
       "\n",
       "    .dataframe tbody tr th {\n",
       "        vertical-align: top;\n",
       "    }\n",
       "\n",
       "    .dataframe thead th {\n",
       "        text-align: right;\n",
       "    }\n",
       "</style>\n",
       "<table border=\"1\" class=\"dataframe\">\n",
       "  <thead>\n",
       "    <tr style=\"text-align: right;\">\n",
       "      <th></th>\n",
       "      <th>PatientSSN</th>\n",
       "      <th>LabChemSpecimenDateTime</th>\n",
       "      <th>LabChemResultValue</th>\n",
       "      <th>LabChemResultNumericValue</th>\n",
       "      <th>Abnormal</th>\n",
       "      <th>LabChemTestName</th>\n",
       "      <th>RequestLocation</th>\n",
       "      <th>LOINC</th>\n",
       "      <th>LabChemSID</th>\n",
       "      <th>Sta3n</th>\n",
       "      <th>LabChemTestSID</th>\n",
       "      <th>PatientSID</th>\n",
       "    </tr>\n",
       "  </thead>\n",
       "  <tbody>\n",
       "  </tbody>\n",
       "</table>\n",
       "</div>"
      ],
      "text/plain": [
       "Empty DataFrame\n",
       "Columns: [PatientSSN, LabChemSpecimenDateTime, LabChemResultValue, LabChemResultNumericValue, Abnormal, LabChemTestName, RequestLocation, LOINC, LabChemSID, Sta3n, LabChemTestSID, PatientSID]\n",
       "Index: []"
      ]
     },
     "execution_count": 53,
     "metadata": {},
     "output_type": "execute_result"
    }
   ],
   "source": [
    "lab_df.loc[lab_df['LabChemTestName'].str.contains(\"radiology\", case=False)]"
   ]
  },
  {
   "cell_type": "code",
   "execution_count": 16,
   "metadata": {},
   "outputs": [],
   "source": [
    "consult_df = pd.read_sql(sql=\"select * from Dflt._B00_ML4TrgPos_Y201621_08_Consult t\", con=conn)"
   ]
  },
  {
   "cell_type": "code",
   "execution_count": null,
   "metadata": {
    "scrolled": true
   },
   "outputs": [],
   "source": [
    "display(consult_df)"
   ]
  },
  {
   "cell_type": "code",
   "execution_count": null,
   "metadata": {
    "scrolled": true
   },
   "outputs": [],
   "source": [
    "neur_service_df = consult_df.loc[consult_df['ToRequestServiceName'].str.contains(\"neur\", case=False)]\n",
    "display(neur_service_df)"
   ]
  },
  {
   "cell_type": "code",
   "execution_count": 22,
   "metadata": {
    "scrolled": true
   },
   "outputs": [
    {
     "data": {
      "text/plain": [
       "315.0    1153\n",
       "406.0     326\n",
       "697.0     214\n",
       "325.0     186\n",
       "669.0     161\n",
       "         ... \n",
       "403.0       1\n",
       "512.0       1\n",
       "213.0       1\n",
       "582.0       1\n",
       "690.0       1\n",
       "Name: ConStopCode, Length: 67, dtype: int64"
      ]
     },
     "execution_count": 22,
     "metadata": {},
     "output_type": "execute_result"
    }
   ],
   "source": [
    "neur_service_df.ConStopCode.value_counts()"
   ]
  },
  {
   "cell_type": "code",
   "execution_count": 21,
   "metadata": {},
   "outputs": [
    {
     "data": {
      "text/plain": [
       "NEUROLOGY OUTPT                                          174\n",
       "NEUROLOGY OUTPATIENT                                     171\n",
       "NEUROLOGY INPATIENT                                      122\n",
       "NEUROLOGY OUTPT CONSULT                                   96\n",
       "NEUROLOGY INPT                                            87\n",
       "                                                        ... \n",
       "NEUROSURGERY INPATIENT/BT                                  1\n",
       "NEUROLOGY - CP OUTPT                                       1\n",
       "IFC NEUROSURGERY CRANIAL/SPINAL TUMOR/SPINAL MASS GLA      1\n",
       "IFC NEUROSURGERY CLINIC (SAN FRAN)                         1\n",
       "NEUROSURGERY E-CONSULT (POR) IFC                           1\n",
       "Name: ToRequestServiceName, Length: 497, dtype: int64"
      ]
     },
     "execution_count": 21,
     "metadata": {},
     "output_type": "execute_result"
    }
   ],
   "source": [
    "neur_service_df.ToRequestServiceName.value_counts()"
   ]
  },
  {
   "cell_type": "code",
   "execution_count": 12,
   "metadata": {},
   "outputs": [
    {
     "data": {
      "text/plain": [
       "array([315., 325.])"
      ]
     },
     "execution_count": 12,
     "metadata": {},
     "output_type": "execute_result"
    }
   ],
   "source": [
    "consult_df[consult_df.ConStopCodeName.str.contains(\"neurology\", case=False, na=False)].ConStopCode.unique()"
   ]
  },
  {
   "cell_type": "code",
   "execution_count": null,
   "metadata": {
    "scrolled": true
   },
   "outputs": [],
   "source": [
    "consult_df[consult_df.ConStopCode == 325.0]"
   ]
  },
  {
   "cell_type": "code",
   "execution_count": 15,
   "metadata": {
    "scrolled": false
   },
   "outputs": [
    {
     "name": "stdout",
     "output_type": "stream",
     "text": [
      "497\n",
      "['NEUROLOGY OUTPATIENT' 'Neurology Inpt'\n",
      " 'Neuropsychological Assessment Outpt' 'NEUROLOGY GENERAL OUTPT (SAC)'\n",
      " 'NEUROLOGY HEADACHE OUTPT' 'NEUROLOGY ED OUTPT CONSULT' 'NEUROLOGY INPT'\n",
      " 'NEUROLOGY OUTPT' 'NEUROSURGERY IN/OUT PT (OLD) OUTPT'\n",
      " 'NEUROLOGY ECONSULT OUTPT'\n",
      " 'P NEUROSURGERY-ECONSULT REVIEW IFC (PORTLAND)'\n",
      " 'E-CONSULT NEUROSURGERY OUTPT' 'E-CONSULT NEUROLOGY OUTPT'\n",
      " 'NEUROPSYCHOLOGY OUTPATIENT' 'Neurology E-Consult Outpt'\n",
      " 'Formulary Exception - Neurology Outpt PADR'\n",
      " 'COGNITIVE DISORDERS - NEUROPSYCHOLOGICAL TESTING OUTPT'\n",
      " 'NEUROSURGERY CLINIC OUTPT' 'NEUROSURGERY INPT'\n",
      " 'NEUROLOGY INPT (GENERAL)'\n",
      " 'CO-BH NEUROPSYCHOLOGICAL TESTING OUTPATIENT-589A4'\n",
      " 'IC/NEUROLOGY OUTPT-636A8' 'EMG/NCV NEUROLOGY OUTPT OR INPAT'\n",
      " 'NEURODIAGNOSTICS OUTPATIENT' 'NEUROLOGY OUTPATIENT JC'\n",
      " 'NEUROPSYCHOLOGICAL OUTPT TESTING JB' 'NEUROLOGY (INPATIENT) CONSULT'\n",
      " 'NEUROLOGY EMG (CCD*) OUTPT' 'NEUROLOGY (CCD*) - OUTPT' 'NEUROLOGY-OUTPT'\n",
      " 'NEUROLOGY INPATIENT' 'NEUROSURGERY OUTPT' 'zzFM NEUROLOGY'\n",
      " 'NEUROLOGY-INPT' 'O/NEUROSURGERY E-CONSULT OUTPT' 'O/NEUROLOGY INPT'\n",
      " 'O/NEUROSURGERY BRAIN TUMORS/INJURIES/DISORDERS OUTPT'\n",
      " 'DM/NEUROLOGY INPT-636A6' 'O/NEUROSURGERY/ORTHOPEDIC SPINE (BACK) OUTPT'\n",
      " 'NEUROSURGERY (INPATIENT) CONSULT' 'SURG NEUROSURGERY E-CONSULT OUTPT'\n",
      " 'MED NEURO E-CONSULT OUTPT' 'MED NEURO OUTPATIENT CONSULT'\n",
      " 'CP MED NEURO EEG' 'TEM SUR OUTPT NEUROSURGERY OPT'\n",
      " 'TEM MED INPT NEUROLOGY' 'NEUROLOGY ECONSULT OUTPT STL'\n",
      " 'NEUROLOGY EEG INPT' 'KC ECONSULT NEUROSURGERY OUTPT'\n",
      " 'IC/NEUROPSYCHOLOGY OUTPT-636A8' 'NEUROLOGY EMG OUTPT' 'EMG NEURO OUTPT'\n",
      " 'E-CONSULT GENERAL NEUROLOGY OUTPT' 'NEUROLOGY SKIN BIOPSY OUTPT'\n",
      " 'COMMUNITY CARE-NEUROSURGERY' 'NEUROLOGY STROKE/TIA OUTPT'\n",
      " 'ZZNON VA CARE NEUROSURGERY INPATIENT MA-657A5'\n",
      " 'NON VA CARE WI NEUROLOGY-589A7' 'NEURO EEG OUTPT'\n",
      " 'NEUROLOGY TIA STROKE CONSULT INPT' 'NEUROLOGY OUTPT CONSULT'\n",
      " 'NEUROLOGY INPT CONSULT' 'NEUROLOGY OUTPATIENT CONSULT'\n",
      " 'NEUROSURGERY OUTPATIENT CONSULT' 'NEUROLOGY CONSULT INPT (SBY)'\n",
      " 'MH INPT NEUROPSYCHOLOGY' 'NEUROLOGY E-CONSULT OUTPT'\n",
      " 'NEUROLOGY INPATIENT CONSULT' 'NEUROPOLYSOMNOGRAM CONSULT INPT'\n",
      " 'NEUROPOLYSOMNOGRAM CONSULT OUTPT' 'NEUROLOGY LKC INPATIENT'\n",
      " 'NEUROLOGY GNV OUTPATIENT' 'ORL NEUROLOGY INPT'\n",
      " 'NEUROLOGY OUTPT-E CONSULT' 'IFC NEUROSURGERY AUGUSTA'\n",
      " 'NEUROSURGERY INPATIENT' 'FEE BASIS/NEUROLOGY' 'CP NEUROLOGY EEG INPAT'\n",
      " 'ZZFEE - NEUROSURGERY' 'NEUROSURGERY OUTPATIENT CLINIC'\n",
      " 'COMMUNITY CARE-NEUROLOGY' 'E-CONSULT: NEUROLOGY EMG OUTPT NA'\n",
      " 'E-CONSULT NEUROLOGY OUTPATIENT' 'NEUROLOGY CLINIC OUTPT'\n",
      " 'NEUROLOGY CLINIC (CWY) OUTPT' 'NEUROLOGY VASCULAR STROKE OUTPT'\n",
      " 'NEUROLOGY EPILEPSY OUTPT' 'CP NEUROLOGY EEG OUTPAT'\n",
      " 'NEUROLOGY (OUTPATIENT)' 'NEUROLOGY (INPATIENT)'\n",
      " 'NEUROSURGERY GNV OUTPATIENT' 'SURGERY (NEUROSURGERY OUTPATIENT)'\n",
      " 'PAIN (RMS/NEUROLOGY) - OUTPT' 'CHOICE-FIRST NEUROSURGERY'\n",
      " 'NEUROPSYCHOLOGY GNV OUTPATIENT' 'NEUROLOGY (BC) OUTPT'\n",
      " 'NEUROLOGY TIA STROKE CONSULT OUTPT' 'W NEUROLOGY OUTPT'\n",
      " 'NEUROPSYCHOLOGY OUTPT' 'NEUROLOGY ED OUTPATIENT' 'E-CONSULT NEUROLOGY'\n",
      " 'SY NEUROSURGERY INPT-528A7' 'SY NEUROSURGERY OUTPT-528A7'\n",
      " 'NEUROPSYCH TESTING (NEUROPSYCHOLOGY) (BH) OUTPT'\n",
      " 'NEUROPSYCHOLOGY ASSESSMENT OUTPT - BT' 'NEUROSURGERY OUTPT - BT'\n",
      " 'NEUROLOGY (UD) ACUTE CARE INPT'\n",
      " 'zzNEUROLOGY CONSULT - LOW BACK PAIN OUTPT'\n",
      " 'zzNON VA CARE DOD NEUROSURGERY' 'EMG NEUROLOGY OUTPT'\n",
      " 'NEUROLOGY SLEEP DISORDERS CLINIC OUTPT'\n",
      " 'MENTAL HEALTH NEUROPSYCHOLOGY-INPT-EO' 'NEUROSURGERY-TELE INPT'\n",
      " 'NEUROLOGY CLINIC (WHAV) OUTPT' 'NEUROSURGERY (SPINE) OUTPT'\n",
      " 'NEUROSURGERY-BHS OUTPT' 'PITTSBURGH NEUROLOGY 315 IFC'\n",
      " 'NY NEUROPSYCH OUTPT CONSULT' 'NEUROLOGY e-CONSULT INPT'\n",
      " 'NEUROLOGY OUTPT (BR)' 'BU NEUROLOGY OUTPT' 'EMG/NEUROLOGY e-CONSULT'\n",
      " 'NEUROLOGY CONSULT OUTPT CLINIC -(WLA)' 'MH CONS FTO NEUROPSYCH OUTPT'\n",
      " 'NEUROLOGY CLIN REV OUTPT CONSULT (F)' 'COMMUNITY CARE-NEURO SURGERY'\n",
      " 'NEUROLOGY BOTOX OUTPT' 'NEUROLOGY EEG OUTPT'\n",
      " 'NEUROLOGY/STROKE ASSESSMENT INPT' 'IFC NEUROSURGERY CERVICAL SPINE GLA'\n",
      " 'zzNEUROLOGY OUTPT' 'NEUROLOGY MOVEMENT DISORDERS OUTPT TVHS'\n",
      " 'NEUROBEHAVIOR INPT CONSULT -(WLA)' 'NEUROLOGY (OUTPT)'\n",
      " 'NEUROLOGY GNV INPATIENT' 'NEUROLOGY OUTPT E-CONSULT'\n",
      " 'DM/NEUROPSYCHOLOGY OUTPT-636A6' 'NEUROLOGY/PERIPHERAL NEUROPATHY OUTPT'\n",
      " 'IFC Neurosurgery - Durham' 'PSYCHOL NEUROPSYCHOLOGY OUTPT'\n",
      " 'POLYNEUROPATHY OUTPT CONSULT' 'O/NEUROLOGY HEADACHE/MIGRAINE OUTPT'\n",
      " 'Neurology - Stroke Outpt' 'MED NEURO ACUTE STROKE TEAM CONSULT OUTPT'\n",
      " 'NEUROLOGY INPATIENT JC' 'NEUROLOGY INPT - BT'\n",
      " 'MED NEURO ACUTE STROKE TEAM CONSULT INPT' 'MH OUTPT-NEUROPSYCHOLOGY'\n",
      " 'NEUROSURGERY (INPT)' 'Neurology - Stroke IFC'\n",
      " 'IC/NEUROSURGERY E-CONSULT OUTPT-636A8' 'NEUROLOGY (OPT.)'\n",
      " 'NEUROLOGY CONSULT PITTSBURGH IFC' 'MED NEURO INPATIENT CONSULT'\n",
      " 'EMG/NCV NEUROLOGY OUTPATIENT CONSULT' 'NEUROLOGY (OUTPATIENT) CONSULT'\n",
      " 'NY NEUROLOGY INPT' 'NEUROPSYCHOLOGICAL EXAMINATION OUTPT'\n",
      " 'DOD TREATMENT FACILITY TRAV NEUROSURGERY'\n",
      " 'COMMUNITY CARE-MA-NEUROSURGERY-657A5' 'NEUROSURGERY OUTPT NA'\n",
      " 'NEUROLOGY CLINICS - OUTPATIENT'\n",
      " 'RMS PT NEURO MOVEMENT GAIT DISORDER - OUTPATIENT'\n",
      " 'NEURO PSYCH OUTPATIENT' 'NEUROSURGERY INPATIENT CONSULT'\n",
      " 'BU NEUROPSYCHOLOGY INPT' 'NEUROPSYCHOLOGY CONSULT OUTPT'\n",
      " 'NEUROSURGERY - OUTPT' 'NEUROLOGY-EMG' 'CP MED NEURO KD EEG'\n",
      " 'NEUROLOGY/SEIZURE OUTPT' 'NEUROLOGY- INPATIENT'\n",
      " 'NEUROLOGY-INPT CONSULTS' 'COMMUNITY CARE-CO NEURO SURG-589A4'\n",
      " 'NEUROLOGY BOTOX OUTPT CONSULT' 'NEUROSURGERY (OUTPATIENT) CONSULT'\n",
      " 'NEUROPSYCHOLOGY CLINIC - OUTPT' 'CHOICE-FIRST NEUROLOGY'\n",
      " 'NEUROLOGY E-CONSULT INPT' 'NEUROPSYCH TESTING OUTPATIENT'\n",
      " 'NEUROLOGY-OUTPT CONSULTS' 'IFC V03 BRONX CVT NEUROLOGY'\n",
      " 'NEUROLOGY/SYNCOPE OUTPT'\n",
      " 'MENTAL HEALTH (PSYCHOLOGY/NEUROPSYCHOLOGY TESTING OUTPATIENT)'\n",
      " 'IFC NEUROSURGERY' 'NEUROSURGERY OUTPATIENT' 'NEUROPSYCHOLOGY -OUTPT'\n",
      " 'NEUROLOGY EEG OUTPT TVHS' 'P NEUROLOGY-STROKE IFC (PORTLAND)'\n",
      " 'TEM MED OUTPT NEUROLOGY' 'ZZCHOICE-FIRST NEUROSURGERY EVALUATION'\n",
      " 'IFC NEUROSURGERY (CINCINNATI)' 'CP NEUROLOGY CONSULT'\n",
      " 'LE-NEUROPSYCHOLOGICAL EVALUATION OUTPT-589A6'\n",
      " 'NEUROLOGY PROCEDURES OUTPT'\n",
      " 'ADVANCE DIRECTIVE-MED/SURG/NEURO/REHAB INPT'\n",
      " 'NEUROSURGERY BALTIMORE IFC'\n",
      " 'MEDICINE (NEUROLOGY ELECTROENCEPHALOGRAM PROCEDURE INPATIENT)'\n",
      " 'NON VA CARE NEUROSURGERY' 'NEUROLOGY OUTPT MU' 'NEUROLOGY OUTPT (SEA)'\n",
      " 'CHOICE-FIRST NEURO SURGERY MA-657A5' 'NEUROLOGY TELEHEALTH (BRONX)-IFC'\n",
      " 'E-CONSULT: NEUROLOGY OUTPT TVHS' 'NEUROSURGERY INPATIENT STL'\n",
      " 'NEUROPSYCHOLOGY CONSULT' 'NEUROSURGERY OUTPT STL'\n",
      " 'RCS POLYTRAUMA NEUROPSYCHOLOGY OUTPT (SEA)'\n",
      " 'E-CONSULT NEUROSURGERY GNV OUTPATIENT' 'WI-NEUROLOGY OUTPATIENT-589A7'\n",
      " 'COMMUNITY CARE-NEUROLOGY EEG'\n",
      " 'Psychological/Neuropsychological Assessment Outpt' 'NEUROLOGY OUTPT/PAD'\n",
      " 'NEUROLOGY OUTPATIENT E-CONSULT/INTERPROFESSIONAL CONSULT'\n",
      " 'MA-NEUROLOGY OUTPT-657A5' 'NEUROLOGY ER (WX) OUTPT'\n",
      " 'Neuropsychological Assessment IFC'\n",
      " 'PSYCHO NEUROPSYCHOLOGY ASSESSMENTS OUTPT'\n",
      " 'SY NEUROSURGERY E-CONSULT OUTPT-528A7'\n",
      " 'IFC NEUROSURGERY CRANIAL/SPINAL TUMOR/SPINAL MASS GLA'\n",
      " 'REHAB GEN NEUROPSYCHOLOGY OUTPT'\n",
      " 'NON VA CARE NEUROPSYCHOLOGICAL TESTING' 'NEUROLOGY RCT OUTPT'\n",
      " 'Neurology - ED Outpt' 'Neurophysiology - EEG Inpatient'\n",
      " 'Neurology - Movement Disorder Outpt' 'SURG/NEUROSURGERY OUTPT'\n",
      " 'Neurology Outpt' 'Neurosurgery - E-Consult Outpt'\n",
      " 'Neurosurgical Outpatient' 'NEUROLOGY INPT -(WLA)'\n",
      " 'NEUROLOGY (GENERAL) OUTPT -(SACC)' 'Neurosurgery - E-Consult IFC'\n",
      " 'Neurosurgery - ED Outpt' 'ED NEUROLOGY OUTPT'\n",
      " 'COMMUNITY CARE-NEUROLOGY   ' 'NEUROLOGY INPT CODE STROKE CONSULT -(WLA)'\n",
      " 'NEUROLOGY ED STROKE OUTPT CONSULT -(WLA)'\n",
      " 'NEUROLOGY ED CODE STROKE OUTPT CONSULT -(WLA)' 'NEUROPSYCH EVAL OUTPT'\n",
      " 'ZZORIGINAL CHOICE NEUROLOGY'\n",
      " 'WI-BH/MHC NEUROPSYCH/PSYCHOLOGICAL TESTING OUTPATIENT-589A7'\n",
      " 'CO-NEUROLOGY OUTPATIENT-589A4' 'KC-NEUROSURGERY OUTPT'\n",
      " 'NEUROSURGERY E-CONSULT (OUTPT)' 'NEUROLOGY (Inpatient Service)'\n",
      " 'NEUROLOGY OUTPATIENT CONSULT REQUEST'\n",
      " 'NEUROPSYCHOLOGICAL TESTING OUTPATIENT' 'NEUROSURGERY'\n",
      " 'ZZNeurology Consult' 'NEURO EMERGENT OUTPATIENT CONSULT'\n",
      " 'SOCIAL WORK - MED/SURG/NEURO/REHAB OUTPT'\n",
      " 'IFC TELEHEALTH NEUROSURGERY - SPINE SAN DIEGO'\n",
      " 'CP EMG/NCS (for Neurology only) -(WLA)'\n",
      " 'CP EMG/NCS (for NEUROLOGY only) INPAT' 'MED NEUROLOGY OUTPT'\n",
      " 'NEUROSURGERY (OUTPT)' 'SURG NEUROSURGERY ED OUTPATIENT'\n",
      " 'ELECTRONIC CONSULT - NEUROLOGY OUTPT' 'NEUROSURGERY - INPATIENT'\n",
      " 'IFC NEUROSURGERY LUMBAR/THORACIC SPINE GLA'\n",
      " 'NEUROSURGERY GENERAL OUTPT -(WLA)' 'NEUROLOGY/MOVEMENT DISORDER OUTPT'\n",
      " 'NON VA CARE NEUROLOGY' 'E CONSULT NEUROLOGY OUTPT'\n",
      " 'NEUROPSYCHOLOGY CONSULT BC OUTPT' 'NEUROLOGY - OUTPT'\n",
      " 'CP MED NEURO EEG OUTPAT' 'IFC-NEUROSURGERY' 'NEURO-SURGERY'\n",
      " 'NEUROSURGERY-CONSULT' 'NEUROLOGY HEADACHE OUTPT TVHS'\n",
      " 'NEUROLOGY EMERGENCY INPT MU' 'NEUROLOGY HEADACHE OUTPATIENT CONSULT'\n",
      " 'NEUROSURGERY OUTPT CONSULT' 'NEUROLOGY EMERGENCY INPT NA'\n",
      " 'NEUROSURGERY CLINIC CONSULT IFC' 'NEUROLOGY STROKE INPT'\n",
      " 'NEUROSURGERY CHART REVIEW ELECTRONIC CONSULT OUTPT'\n",
      " 'NEUROLOGY SEIZURE CONSULT OUTPT'\n",
      " 'NEUROLOGY CONSULT - LOW BACK PAIN OUTPT' 'EMG NEUROLOGY TESTING OUTPT'\n",
      " 'IFC NEUROSURGERY (V03 MANHATTAN)' 'NEUROLOGY OUTPT - PP'\n",
      " 'NEUROLOGY STROKE CLINIC OUTPT - BT'\n",
      " 'NEUROLOGY GENERAL CLINIC OUTPT - BT'\n",
      " 'NEUROLOGY NEUROMUSCULAR DISEASE CLINIC OUTPT - BT'\n",
      " 'NEUROSURGERY INPATIENT/BT' 'ZZNON VA CARE NEUROSURGERY WNY'\n",
      " 'NEUROPSYCHOLOGY (OUTPT)' 'COMMUNITY CARE-MA-NEUROLOGY-657A5'\n",
      " 'COMMUNITY CARE-STL NEUROSURGERY' 'NEUROLOGY CLINIC RICHMOND IFC'\n",
      " 'COMMUNICATION CONSULT - CLARKSBURG (Neurology)'\n",
      " 'NEUROLOGY UD ACUTE CARE OUTPT' 'COMMUNITY CARE-DOD NEUROSURGERY WLTR'\n",
      " 'BK NEUROLOGY OUTPT' 'BK NEUROLOGY E CONSULT-INPT/OPT'\n",
      " 'NEUROLOGY CONSULT OUTPT (SBY)'\n",
      " 'ZZPT PHYSICAL THERAPY OUTPT NEUROMUSCULAR & VESTIBULAR ISSUES'\n",
      " 'O/NEUROSURGERY/ORTHOPEDIC SPINE (NECK) OUTPT' 'NEUROLOGY-INPATIENT'\n",
      " 'TeleNeuro - EEG IFC' 'E CONSULT NEUROLOGY' 'NEUROLOGY - ED/ INPT'\n",
      " 'EEG NEURO INPT' 'COMMUNITY CARE-NE NEUROSURGERY'\n",
      " 'PM&RS NEUROPSYCHOLOGY INPT' 'MH NEUROPSYCHOLOGY OUTPT'\n",
      " 'MHS NEUROPSYCHOLOGICAL TESTING (OUTPATIENT)' 'NEURO SPINE CONSULT OUTPT'\n",
      " 'NEUROLOGY INPT STROKE CONSULT -(WLA)' 'CHOICE-FIRST NEUROSURGERY WNY'\n",
      " 'MH/NEUROPSYCHOLOGY OUTPT E-CONSULT'\n",
      " 'Neurosurgery - Symptomatic Degenerative Spine Outpt'\n",
      " 'IFC NEUROLOGY CLINIC (A2)' 'NEUROSURGERY - ED/INPT'\n",
      " 'NEUROLOGY EMG PROCEDURE OUTPT NA' 'NEUROLOGY STROKE OUTPT'\n",
      " 'ZZCHOICE-FIRST NEUROSURGERY PROCEDURE' 'IFC NEUROLOGY (JP)'\n",
      " 'INPATIENT NEUROLOGY' 'NFSG NONFORM/PRIOR AUTH PADR NEUROLOGY OUTPT'\n",
      " 'O/NEUROLOGY GENERAL OUTPT' 'NEUROLOGY E-CONSULT OUTPATIENT'\n",
      " 'NEURO EMG OUTPT' 'MH/NEUROPSYCHOLOGY OUTPT' 'IFC PHI NEUROLOGY'\n",
      " 'Neurosurgery - Cervical/Thoracic - Radiculopathy Outpt'\n",
      " 'COMMUNITY CARE-NEUROLOGY CARE' 'BU NEUROPSYCHOLOGY OUTPT'\n",
      " 'NEUROLOGY OUTPATIENT (JP)' 'MED NEURO EMG/NCVS/EVP OUTPT'\n",
      " 'BU NEUROLOGY INPT' 'PITTSBURGH IFC NEUROLOGY 315'\n",
      " 'Request for Surgery - Neurosurgery' 'NEUROLOGY STROKE - OUTPT'\n",
      " 'NEUROLOGY (Outpatient Clinic)/JB' 'NEUROLOGY-OUTPT-EO'\n",
      " 'IFC NEUROSURGERY CRANIAL GLA' 'NEURODIAGNOSTICS EMG OUTPATIENT'\n",
      " 'NF DRUG REQUEST OUTPT SPECIALTY CLINICS-Neurology PADR'\n",
      " 'NEUROSURGERY SPINE CLINIC OUTPT' 'COMMUNITY CARE-NEURO EMG'\n",
      " 'MH NEUROPSYCHOLOGY INPT' 'NEUROPSYCH ASSESS GERIATRICS/PAD OUTPT'\n",
      " 'NEUROLOGY CONSULT' 'NEUROLOGY ER CONSULT INPT' 'NEUROLOGY-OUTPATIENT'\n",
      " 'EMG/NCS (for Neurology only) OUTPT -(WLA)'\n",
      " 'PSYCHOLOGICAL/NEUROPSYCHOLOGICAL TESTING OUTPT'\n",
      " 'BT E-NEUROSURGERY OUTPT CONSULT' 'SLC NEUROSURGERY E-CONSULT'\n",
      " 'NEUROPSYCHOLOGY - INPATIENT' 'NEUROLOGY LKC OUTPATIENT'\n",
      " 'SURGERY NEUROSURGERY (CCD*) - OUTPT' 'KC-NEUROLOGY/INPT'\n",
      " 'MENTAL HEALTH NEUROPSYCH TESTING OUTPT ' 'NEUROLOGY'\n",
      " 'PM&R OCCUPATIONAL THERAPY NEUROMODULATION OUTPT'\n",
      " 'ZZCHOICE-FIRST NEURO WI-589A7' 'ABDOMINAL AORTIC ANEURYSM OUTPT'\n",
      " 'NEUROLOGY E-CONSULT' 'NEUROPSYCHOLOGICAL TESTING (OUTPT)'\n",
      " 'NEUROSURGERY IFC'\n",
      " 'NEUROSURGERY CRANIAL/SPINAL TUMOR/SPINAL MASS OUTPT -(WLA)'\n",
      " 'NEUROSURGERY LUMBAR/THORACIC SPINE OUTPT -(WLA)'\n",
      " 'NEUROSURGERY CERVICAL SPINE OUTPT -(WLA)' 'IFC NEUROSURGERY-MILWAUKEE'\n",
      " 'IFC NEUROSURGERY CLINIC (SAN FRAN)'\n",
      " 'NEUROLOGY NEUROMUSCULAR OUTPT -(SACC)'\n",
      " 'NVCC NEUROSURGERY EVALUATION OUTPT' 'CO-NEUROLOGY INPATIENT-589A4'\n",
      " 'KC-NEUROLOGY OUTPT' 'LE-NEUROLOGY INPATIENT-589A6'\n",
      " 'LE-NEUROLOGY OUTPATIENT-589A6' 'AUS MED OUTPT NEUROLOGY'\n",
      " 'MED NEURO INJECTION OUTPATIENT CONSULT'\n",
      " 'DM/NEUROLOGY ECONSULT QUESTION ONLY OUTPT-636A6'\n",
      " 'SURG VASCULAR SURGERY ANEURYSM OUTPT'\n",
      " 'CO-NEUROSURGERY/SPINE OUTPATIENT-589A4' 'NEUROMUSCULAR CLINIC OUTPT'\n",
      " 'NEUROSURGERY (CRANIAL) INPT' 'RMS/NEUROLOGY PAIN E CONSULT - OUTPT'\n",
      " 'NEUROLOGY E CONSULT - OUTPATIENT' 'COMMUNITY CARE-NEURO/ENDO/VASC'\n",
      " 'ZZRTC CWY NEUROLOGY' 'BK NEUROLOGY INPT' 'CP NEUROLOGY ORL'\n",
      " 'NEUROPSYCHOLOGICAL ASSESSMENT' 'NEUROSURGICAL E-CONSULT OUTPT'\n",
      " 'POLYSOMNOGRAM OUTPATIENT CONSULT (NEURO PROVIDERS)'\n",
      " 'NEUROLOGY CONSULT -OUTPT' 'NEUROLOGY-INPT-EO' 'NY NEUROLOGY OUTPT'\n",
      " 'MH NEUROPSYCHOLOGY CONSULT OUTPATIENT'\n",
      " 'E-CONSULT ENT ASYMMETRIC SENSORINEURAL HEARING LOSS OUTPT'\n",
      " 'NEUROSURGERY IFC - BT' 'NEUROSURGERY (SPINE) E-CONSULT OP'\n",
      " 'IFC NEUROSURGERY (NY AT BKLYN)' 'ER NEUROLOGY OUTPT' 'NEUROLOGY (INPT.)'\n",
      " 'zzCHOICE-FIRST NEUROLOGY' 'NEUROLOGY CONSULT - OUTPT'\n",
      " 'Neurology - E-Consult Outpt' 'Neurology - EMG Outpt'\n",
      " 'E-CONSULT NEUROLOGY NFSG OUTPATIENT' 'NEUROLOGY ECONSULT OUTPT OR INPAT'\n",
      " 'NEUROSURGERY E-CONSULT OUTPT' 'NEUROSURGERY E-CONSULT INPT'\n",
      " 'zzCHOICE-FIRST NEUROSURGERY' 'NEUROSURGERY OUTPT (ONLY NY)'\n",
      " 'ZZIFC NEUROSURGERY CRANIAL/SPINAL TUMOR/SPINAL MASS GLA'\n",
      " 'NEUROLOGY MEMORY DISORDERS OUTPT CONSULT'\n",
      " 'PHILADELPHIA NEUROLOGY OUTPATIENT' 'CHOICE-30 NEUROLOGY ADMINISTRATIVE'\n",
      " 'ZZNEUROSURGERY DENVER' 'ZZZNEUROSURGERY LUMBAR PROBLEM OUTPT'\n",
      " 'NON VA CARE DGMC NEUROSURGERY (FAIRFIELD)'\n",
      " 'SOCIAL WORK - MED/SURG/NEURO/REHAB INPT' 'Neurosurgery - General IFC'\n",
      " 'Neurology - Seizure Outpt'\n",
      " 'POLYSOMNOGRAM OUTPATIENT CONSULT (NON-NEURO PROVIDERS)'\n",
      " 'NEUROLOGY EEG CONS OUTPATIENT' 'CP [DICOM]/NEUROLOGY EEG'\n",
      " 'NEURO EMG OPT' 'MED NEURO EEG CONSULT OUTPT' 'Neurology Inpatient'\n",
      " 'SURGERY NEUROSURGERY ( IFC )' 'NEUROLOGY STROKE - ED/ INPT'\n",
      " 'ZZIFC NEUROSURGERY TELEHEALTH (CVT) GLA' 'NEUROSURGERY-TELE OUTPT'\n",
      " 'NEUROLOGY (CCD) - INPT' 'CP NEUROLOGY' 'NEUROSURGERY IFC E-CONSULT'\n",
      " 'ORL NEUROLOGY OUTPT' 'MED NEUROLOGY INPT' 'AL NEUROLOGY INPT-528A8'\n",
      " 'Neurology - General Outpt' 'NEUROSURGERY (TO HINES HOSPITAL)'\n",
      " 'BHCL NEUROPSYCHOLOGY OUTPT CONSULT'\n",
      " 'O/NEUROLOGY TREMOR/PARKINSONISM OUTPT' 'FC PHARMACOTHERAPY (NEUROLOGY)'\n",
      " 'O/NEUROLOGY OTHER OUTPT' 'NEUROLOGY INPATIENT CONSULT REQUEST'\n",
      " 'ZZNON VA CARE NEUROSURGERY OUTPATIENT MA-657A5'\n",
      " 'NEUROLOGY CLIN REV INPT CONSULT (F)' 'NEUROLOGY ROUTINE INPT'\n",
      " 'CP MED NEURO EEG INPAT' 'PM&R GEN/NEURO OUTPT'\n",
      " 'RCS PHYSICAL THERAPY NEURO-REHAB OUTPT (SEA)' 'SURG/NEUROSURGERY INPT'\n",
      " 'NEUROPSYCH ASSESSMENT/SJC OUTPT' 'Neurology Outpatient'\n",
      " 'IFC NEUROSURGERY CLINIC' 'NEUROLOGY MOVEMENT DISORDERS (PADRECC) OUTPT'\n",
      " 'IFC NEUROSURGERY TELEHEALTH (CVT) GLA'\n",
      " 'EMG/NCS (for Neurology only) OUTPT -(SACC)'\n",
      " 'IFC PUGET SOUND NEUROSURGERY ' 'DOD NON-MTF NEUROSURGERY CONSULT'\n",
      " 'ZZNON VA CARE NEUROSURGERY EVALUATION'\n",
      " 'NEUROLOGY MOVEMENT DISORDER OUTPT (PADRECC) '\n",
      " 'CO-ECONSULT NEUROLOGY OUTPATIENT-589A4' 'COMMUNITY CARE-NE NEUROLOGY'\n",
      " 'IFC NEUROSURGERY CLINIC CONSULT - BIRMINGHAM VAMC'\n",
      " 'VAS ARTERIAL ANEURYSMS OUTPATIENT CONSULT' 'NEUROLOGY INPT [E]'\n",
      " 'NEUROLOGY E CONSULT OUTPT' 'MEDICINE (NEUROLOGY INPATIENT)'\n",
      " 'NEUROLOGY CPAP/BIPAP AND RELATED SUPPLIES CONSULT OUTPT TVHS'\n",
      " 'NEUROSURGERY/OUTPT E-CONSULT' 'E-CONSULT LEX NEUROSURGERY OUTPATIENT'\n",
      " 'NON VA CARE NEUROSURGERY ACI' 'NEUROPSYCHOLOGY -INPT'\n",
      " 'NEUROMUSCULAR ULTRASOUND CLINIC OUTPT'\n",
      " 'zzNEUROSURGERY OUTPATIENT BALTIMORE' 'BU NEUROLOGY CHART REVIEW OUTPT'\n",
      " 'AL NEUROLOGY QUESTION/E CONSULT OUTPT-528A8' 'AL NEUROLOGY OUTPT-528A8'\n",
      " 'NEUROLOGY - CP OUTPT' 'MH NEUROPSYCHOLOGY'\n",
      " 'CHS NEUROLOGY E-CONSULT OUTPT' 'NEUROLOGY STAT INPT'\n",
      " 'COMMUNICATION CONSULT-ERIE(Neurology)'\n",
      " 'NEUROSURGERY E-CONSULT (POR) IFC' 'NEUROLOGY CLINIC VISIT OUTPT'\n",
      " 'NEURO-SURGERY OUTPT' 'CINCINNATI NEUROSURGERY IFC'\n",
      " 'O/NEUROSURGERY OTHER OUTPT' 'NEUROLOGY E-CONSULT CLIN REV OUTPT'\n",
      " 'NEUROSURGERY IFC (PUGET SOUND)' 'W SPINE NEUROSURGERY OUTPT'\n",
      " 'EMG NEUROLOGY TESTING' 'NEUROLOGY C-PAP CLINIC OUTPT'\n",
      " 'MEDICINE (NEUROLOGY OUTPATIENT)' 'NEURO/STROKE OUTPT CONSULT'\n",
      " 'CO-NEUROSURGERY INPATIENT (OR ED)-589A4']\n"
     ]
    }
   ],
   "source": [
    "temp1 = consult_df[consult_df['ToRequestServiceName'].str.contains(\"neur\", case=False)][\"ToRequestServiceName\"].unique()\n",
    "print(len(temp1))\n",
    "print(temp1)"
   ]
  },
  {
   "cell_type": "code",
   "execution_count": 49,
   "metadata": {},
   "outputs": [
    {
     "data": {
      "text/plain": [
       "array(['NEUROLOGY', 'PSYCHOLOGICAL TESTING',\n",
       "       'TBI (TRAUMATIC BRAIN INJURY)', 'NEUROSURGERY', 'CHART CONSULT',\n",
       "       'CLINICAL PHARMACY', 'PSYCHOLOGY', 'SLEEP MEDICINE', 'EEG',\n",
       "       'EMG - ELECTROMYOGRAM', 'DEMENTIA CLINIC', 'PM&RS PHYSICIAN',\n",
       "       'MENTAL HEALTH CLINIC - IND', 'NURSE PRACTITIONER',\n",
       "       'EPILEPSY ECOE', 'POLYTRAUMA/TBI IND', 'ALS CENTER',\n",
       "       'COMMUNITY CARE CONSULT', 'TELEPHONE/NEUROLOGY',\n",
       "       'SPINAL CORD INJURY', 'EVOKED POTENTIAL', 'PAIN CLINIC',\n",
       "       'ADMIN PAT ACTIVTIES (MASNONCT)', 'POST SURG RTINE AFTRCARE 2ND',\n",
       "       'PM&RS AMP CLINIC', 'TELEPHONE/SURGERY', 'TELEPHONE/MEDICINE',\n",
       "       'TELEPHONE MH', 'EMERGENCY DEPT', 'MH INTGRTD CARE IND',\n",
       "       'ORTHO/JOINT SURG', 'MH INTERVNTION BIOMED CARE IND',\n",
       "       'RT CLIN VD TH PRV SITE(DIFSTA)', 'SPINAL SURG', None,\n",
       "       'RT CLIN VID CARE HOME', 'MULTIPLE SCLEROSIS (MS)',\n",
       "       'PADRECC PARKINSONS', 'PSYCHIATRY', 'PHYSICAL THERAPY',\n",
       "       'MENTAL HEALTH CONSULTATION', 'FELLOW/RESIDENT',\n",
       "       'TELEPHONE/ANCILLARY', 'TOPOGRAPHICAL BRAIN MAPPING',\n",
       "       'PROLONGED VIDEO-EEG MONITORING', 'RT CLIN VID TH PAT SITE',\n",
       "       'PRRC INDIVIDUAL', 'SOCIAL WORK SERVICE',\n",
       "       'PSYCHOGERIATRIC - GROUP', 'PSYCHOGERIATRIC - INDIVIDUAL',\n",
       "       'PHYSICIAN ASSISTANT', 'DOM CLINIC', 'TELEPHONE VIST',\n",
       "       'OCCUPATIONAL THERAPY', 'VASCULAR SURGERY', 'SLEEP STUDY',\n",
       "       'OTOLARYNGOLOGY/ENT', 'S&F HOME NON VA PROV SITE',\n",
       "       'HBPC - SOCIAL WORKER', 'ALS HOME CARE PROGRAM', 'GENERAL SURGERY',\n",
       "       'CVT PRV SITE SAME DIV/STA', 'MED MD PERFORM INVASVE OR PROC',\n",
       "       'MENTAL HEALTH CLINIC-GROUP', 'CLINICAL NURSE SPECIALIST',\n",
       "       'PM&RS VOCATIONAL ASSISTANCE', 'POLYTRAUMA/TBI GRP',\n",
       "       'GENERAL INTERNAL MEDICINE'], dtype=object)"
      ]
     },
     "metadata": {},
     "output_type": "display_data"
    }
   ],
   "source": [
    "temp1 = dataset[\"Consult\"].loc[dataset[\"Consult\"]['ToRequestServiceName'].str.contains(\"neur\", case=False)].ConStopCodeName.unique()\n",
    "display(temp1)"
   ]
  },
  {
   "cell_type": "code",
   "execution_count": null,
   "metadata": {
    "scrolled": true
   },
   "outputs": [],
   "source": [
    "temp2 = consult_df.loc[consult_df['ConStopCode'] == 315.0]\n",
    "display(temp2)\n",
    "print(len(temp2.ToRequestServiceName.unique()))\n",
    "display(temp2[temp2.requestType == \"P\"])"
   ]
  },
  {
   "cell_type": "code",
   "execution_count": null,
   "metadata": {
    "scrolled": true
   },
   "outputs": [],
   "source": [
    "rad_df = pd.read_sql(sql=\"select * from Dflt._B00_ML4TrgPos_Y201621_05_04_Rad t\", con=conn)\n",
    "display(rad_df)"
   ]
  },
  {
   "cell_type": "code",
   "execution_count": null,
   "metadata": {
    "scrolled": true
   },
   "outputs": [],
   "source": [
    "rad_df[rad_df.CPTCode.str.contains(\"70\", na=False)]"
   ]
  },
  {
   "cell_type": "code",
   "execution_count": 6,
   "metadata": {},
   "outputs": [],
   "source": [
    "mri1 = rad_df.loc[rad_df['CPTName'].str.contains(\" mri\", case=False, na=False)]\n",
    "mri2 = rad_df.loc[rad_df['CPTName'].str.contains(\" mri \", case=False, na=False)]\n",
    "mri3 = rad_df.loc[rad_df['CPTName'].str.contains(\"mri \", case=False, na=False)]"
   ]
  },
  {
   "cell_type": "code",
   "execution_count": null,
   "metadata": {
    "scrolled": true
   },
   "outputs": [],
   "source": [
    "mri_df = pd.concat([mri1, mri2, mri3])\n",
    "mri_df = mri_df.reset_index(drop=True)\n",
    "display(mri_df)"
   ]
  },
  {
   "cell_type": "code",
   "execution_count": 13,
   "metadata": {},
   "outputs": [],
   "source": [
    "mri_brain_df = util.filterDFByCodeSet(rad_df, \"CPTCode\", util.MRI_CPT_CODES).copy()"
   ]
  },
  {
   "cell_type": "code",
   "execution_count": 15,
   "metadata": {
    "scrolled": true
   },
   "outputs": [
    {
     "data": {
      "text/plain": [
       "NO ALERT REQUIRED                                             155\n",
       "SIGNIFICANT ABNORMALITY, ATTN NEEDED                          109\n",
       "MINOR ABNORMALITY                                              50\n",
       "ABNORMALITY, ATTN. NEEDED                                      43\n",
       "CRITICAL ABNORMALITY                                           20\n",
       "Abnormality Follow-up Needed                                   20\n",
       "Minor Abnormality or Abn Prev Identified                       17\n",
       "ABNORMAL                                                       17\n",
       "NORMAL                                                         14\n",
       "MAJOR ABNORMALITY, PHYSICIAN AWARE                             11\n",
       "ABNORMAL, ATTENTION NEEDED                                      9\n",
       "ABNORMALITY, CORRELATE CLINICALLY                               5\n",
       "MAJOR ABNORMALITY, NO ATTN. NEEDED                              5\n",
       "ABNORMAL, ATTENTION NEEDED, E-alert Sent                        4\n",
       "Abnormality Follow-Up Needed                                    4\n",
       "Outside Report\\Exam Review Reqd                                 4\n",
       "NO CHANGE FROM PREVIOUS STUDY                                   4\n",
       "Critical Abnormality Needs Urgent Action                        4\n",
       "SEE RADIOLOGIST'S REPORT                                        3\n",
       "NEW ABNORMAL FINDINGS/CHANGES                                   3\n",
       "SIGNIFICANT ABNORMALITY,ATTN NEEDED                             3\n",
       "NEGATIVE                                                        2\n",
       "ABNORMAL, PROVIDER AWARE                                        2\n",
       "NO IMMEDIATE ATTENTION NEEDED                                   2\n",
       "ABNORMALITY, ATTENTION NEEDED                                   2\n",
       "No immediate attention required based on imaging findings       2\n",
       "UNEVENTFUL EXAMINATION                                          2\n",
       "MAJOR ABNORMALITY,PHYSICIAN AWARE                               2\n",
       "POSSIBLE MALIGNANCY                                             2\n",
       "NO IMMEDIATE ATTENTION REQUIRED                                 2\n",
       "ABNORMALITY, MD ATTN NEEDED                                     2\n",
       "PROBABLY NORMAL                                                 1\n",
       "ABNORMALITY, ATTENTION NEEDED!                                  1\n",
       "NO DIAGNOSTIC CODE                                              1\n",
       "LIMITED TECHNICAL FACTORS                                       1\n",
       "ABNORMAL:**FURTHER EVALUATION REQUIRED!!**                      1\n",
       "EXAM INTERPRETED BY AN OUTSIDE SOURCE                           1\n",
       "NO ACUTE CHANGES                                                1\n",
       "ABNORMAL, MALIGNANCY                                            1\n",
       "Significant Abnormality; Attention Needed                       1\n",
       "COMPLETED AT OUTSIDE FACILITY                                   1\n",
       "NEW LESIONS, ATTN. NEEDED                                       1\n",
       "CRITICAL TEST RESULTS                                           1\n",
       "ABNORMALITY, UNCHANGED                                          1\n",
       "EXAM INITIATED, PT REFUSED                                      1\n",
       "Outside Imaging Report                                          1\n",
       "CRITICAL VALUE                                                  1\n",
       "SIGNIFICANT ABNORMALITY ATTENTION NEEDED                        1\n",
       "VIEW ALERT ISSUED                                               1\n",
       "MAJOR ABNORMALITY,PHYSICIAN                                     1\n",
       "Suspicious for New Malignancy Need FU                           1\n",
       "CLINICAL ALERT - PHYSICIAN CALLED                               1\n",
       "FEE-BASIS                                                       1\n",
       "ABNORMALITY, ATTENTION NEEDED IMMEDIATELY                       1\n",
       "Name: RadiologyDiagnosticCode, dtype: int64"
      ]
     },
     "metadata": {},
     "output_type": "display_data"
    }
   ],
   "source": [
    "util.displayAll(mri_brain_df.RadiologyDiagnosticCode.value_counts())"
   ]
  },
  {
   "cell_type": "code",
   "execution_count": 24,
   "metadata": {},
   "outputs": [],
   "source": [
    "mri_brain_df.RadiologyDiagnosticCode.value_counts().to_csv(\"mri_brain.csv\")"
   ]
  },
  {
   "cell_type": "code",
   "execution_count": 27,
   "metadata": {},
   "outputs": [
    {
     "data": {
      "text/plain": [
       "NO ALERT REQUIRED                           944\n",
       "SIGNIFICANT ABNORMALITY, ATTN NEEDED        314\n",
       "MINOR ABNORMALITY                           176\n",
       "ABNORMALITY, ATTN. NEEDED                    93\n",
       "Minor Abnormality or Abn Prev Identified     69\n",
       "                                           ... \n",
       "NO ACUTE FINDINGS                             1\n",
       "PHYSICIAN AWARE OF RESULT                     1\n",
       "Outside Imaging Report                        1\n",
       "Stroke                                        1\n",
       "Significant Abnormality Attention Needed      1\n",
       "Name: RadiologyDiagnosticCode, Length: 81, dtype: int64"
      ]
     },
     "metadata": {},
     "output_type": "display_data"
    }
   ],
   "source": [
    "rad_diag_df = util.filterDFByCodeSet(rad_df, \"CPTCode\", util.MRI_CPT_CODES + util.CT_CPT_CODES).copy()\n",
    "display(rad_diag_df.RadiologyDiagnosticCode.value_counts())\n",
    "rad_diag_df.RadiologyDiagnosticCode.value_counts().to_csv(\"mri_ct_brain.csv\")"
   ]
  },
  {
   "cell_type": "code",
   "execution_count": 20,
   "metadata": {},
   "outputs": [
    {
     "data": {
      "text/html": [
       "<div>\n",
       "<style scoped>\n",
       "    .dataframe tbody tr th:only-of-type {\n",
       "        vertical-align: middle;\n",
       "    }\n",
       "\n",
       "    .dataframe tbody tr th {\n",
       "        vertical-align: top;\n",
       "    }\n",
       "\n",
       "    .dataframe thead th {\n",
       "        text-align: right;\n",
       "    }\n",
       "</style>\n",
       "<table border=\"1\" class=\"dataframe\">\n",
       "  <thead>\n",
       "    <tr style=\"text-align: right;\">\n",
       "      <th></th>\n",
       "      <th>PatientSSN</th>\n",
       "      <th>ExamDateTime</th>\n",
       "      <th>CPTCode</th>\n",
       "      <th>CPTName</th>\n",
       "      <th>RadiologyDiagnosticCode</th>\n",
       "      <th>RadiologyExamSID</th>\n",
       "      <th>Sta3n</th>\n",
       "      <th>PatientSID</th>\n",
       "      <th>RadiologyProcedureSID</th>\n",
       "    </tr>\n",
       "  </thead>\n",
       "  <tbody>\n",
       "  </tbody>\n",
       "</table>\n",
       "</div>"
      ],
      "text/plain": [
       "Empty DataFrame\n",
       "Columns: [PatientSSN, ExamDateTime, CPTCode, CPTName, RadiologyDiagnosticCode, RadiologyExamSID, Sta3n, PatientSID, RadiologyProcedureSID]\n",
       "Index: []"
      ]
     },
     "execution_count": 20,
     "metadata": {},
     "output_type": "execute_result"
    }
   ],
   "source": [
    "mri_df[mri_df[\"CPTName\"].str.contains(\"head\", case=False, na=False)]"
   ]
  },
  {
   "cell_type": "code",
   "execution_count": null,
   "metadata": {
    "scrolled": true
   },
   "outputs": [],
   "source": [
    "mri_brain_df = mri_df[mri_df[\"CPTName\"].str.contains(\"brain\", case=False, na=False)]\n",
    "display(mri_brain_df)\n",
    "display(mri_brain_df.CPTCode.unique())\n",
    "display(mri_brain_df.CPTName.unique())"
   ]
  },
  {
   "cell_type": "code",
   "execution_count": null,
   "metadata": {
    "scrolled": true
   },
   "outputs": [],
   "source": [
    "ct1 = rad_df.loc[rad_df['CPTName'].str.contains(\" ct\", case=False, na=False)]\n",
    "ct2 = rad_df.loc[rad_df['CPTName'].str.contains(\" ct \", case=False, na=False)]\n",
    "ct3 = rad_df.loc[rad_df['CPTName'].str.contains(\"ct \", case=False, na=False)]\n",
    "ct_df = pd.concat([ct1, ct2, ct3])\n",
    "ct_df = ct_df.reset_index(drop=True)\n",
    "display(ct_df)"
   ]
  },
  {
   "cell_type": "code",
   "execution_count": null,
   "metadata": {
    "scrolled": true
   },
   "outputs": [],
   "source": [
    "ct_brain_df = ct_df[ct_df[\"CPTName\"].str.contains(\"brain\", case=False, na=False)]\n",
    "display(ct_brain_df)\n",
    "display(ct_brain_df.CPTCode.unique())\n",
    "display(ct_brain_df.CPTName.unique())"
   ]
  },
  {
   "cell_type": "code",
   "execution_count": null,
   "metadata": {
    "scrolled": true
   },
   "outputs": [],
   "source": [
    "ct_head_df = ct_df[ct_df[\"CPTName\"].str.contains(\"head\", case=False, na=False)]\n",
    "display(ct_head_df)\n",
    "display(ct_head_df.CPTCode.unique())\n",
    "display(ct_head_df.CPTName.unique())"
   ]
  },
  {
   "cell_type": "code",
   "execution_count": null,
   "metadata": {
    "scrolled": true
   },
   "outputs": [],
   "source": [
    "rad_df.loc[rad_df['CPTName'].str.contains(\"magn\", case=False, na=False)]"
   ]
  },
  {
   "cell_type": "code",
   "execution_count": null,
   "metadata": {
    "scrolled": true
   },
   "outputs": [],
   "source": [
    "rad_df.loc[rad_df['CPTName'].str.contains(\" ct \", case=False, na=False)]"
   ]
  },
  {
   "cell_type": "code",
   "execution_count": null,
   "metadata": {
    "scrolled": true
   },
   "outputs": [],
   "source": [
    "rad_df.loc[rad_df['CPTName'].str.contains(\" ct\", case=False, na=False)]"
   ]
  },
  {
   "cell_type": "code",
   "execution_count": null,
   "metadata": {
    "scrolled": true
   },
   "outputs": [],
   "source": [
    "dataset[\"Rad\"].loc[dataset[\"Rad\"]['CPTName'].str.contains(\"ct \", case=False, na=False)]"
   ]
  },
  {
   "cell_type": "code",
   "execution_count": null,
   "metadata": {
    "scrolled": true
   },
   "outputs": [],
   "source": [
    "dataset[\"Rad\"].loc[dataset[\"Rad\"]['CPTName'].str.contains(\"cat\", case=False, na=False)]"
   ]
  },
  {
   "cell_type": "code",
   "execution_count": 81,
   "metadata": {},
   "outputs": [
    {
     "data": {
      "text/html": [
       "<div>\n",
       "<style scoped>\n",
       "    .dataframe tbody tr th:only-of-type {\n",
       "        vertical-align: middle;\n",
       "    }\n",
       "\n",
       "    .dataframe tbody tr th {\n",
       "        vertical-align: top;\n",
       "    }\n",
       "\n",
       "    .dataframe thead th {\n",
       "        text-align: right;\n",
       "    }\n",
       "</style>\n",
       "<table border=\"1\" class=\"dataframe\">\n",
       "  <thead>\n",
       "    <tr style=\"text-align: right;\">\n",
       "      <th></th>\n",
       "      <th>PatientSSN</th>\n",
       "      <th>ExamDateTime</th>\n",
       "      <th>CPTCode</th>\n",
       "      <th>CPTName</th>\n",
       "      <th>RadiologyDiagnosticCode</th>\n",
       "      <th>RadiologyExamSID</th>\n",
       "      <th>Sta3n</th>\n",
       "      <th>PatientSID</th>\n",
       "      <th>RadiologyProcedureSID</th>\n",
       "    </tr>\n",
       "  </thead>\n",
       "  <tbody>\n",
       "  </tbody>\n",
       "</table>\n",
       "</div>"
      ],
      "text/plain": [
       "Empty DataFrame\n",
       "Columns: [PatientSSN, ExamDateTime, CPTCode, CPTName, RadiologyDiagnosticCode, RadiologyExamSID, Sta3n, PatientSID, RadiologyProcedureSID]\n",
       "Index: []"
      ]
     },
     "execution_count": 81,
     "metadata": {},
     "output_type": "execute_result"
    }
   ],
   "source": [
    "rad_df.loc[rad_df['CPTName'].str.contains(\"tomography\", case=False, na=False)]"
   ]
  },
  {
   "cell_type": "code",
   "execution_count": null,
   "metadata": {
    "scrolled": true
   },
   "outputs": [],
   "source": [
    "# what are these...\n",
    "rad_df.loc[rad_df['CPTName'].str.contains(\"akjsdhfadkfabj\", case=False, na=True)]"
   ]
  },
  {
   "cell_type": "code",
   "execution_count": null,
   "metadata": {},
   "outputs": [],
   "source": []
  }
 ],
 "metadata": {
  "kernelspec": {
   "display_name": "Python 3",
   "language": "python",
   "name": "python3"
  },
  "language_info": {
   "codemirror_mode": {
    "name": "ipython",
    "version": 3
   },
   "file_extension": ".py",
   "mimetype": "text/x-python",
   "name": "python",
   "nbconvert_exporter": "python",
   "pygments_lexer": "ipython3",
   "version": "3.9.1"
  }
 },
 "nbformat": 4,
 "nbformat_minor": 5
}
