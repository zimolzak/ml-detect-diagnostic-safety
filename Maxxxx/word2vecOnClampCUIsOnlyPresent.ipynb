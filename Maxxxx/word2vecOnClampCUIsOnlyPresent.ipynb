{
 "cells": [
  {
   "cell_type": "code",
   "execution_count": 1,
   "metadata": {},
   "outputs": [],
   "source": [
    "import os\n",
    "import json\n",
    "import torch\n",
    "import utils\n",
    "import numpy as np\n",
    "from tqdm import tqdm\n",
    "from collections import Counter"
   ]
  },
  {
   "cell_type": "code",
   "execution_count": 2,
   "metadata": {},
   "outputs": [],
   "source": [
    "#Load the cui data\n",
    "# cuidata, _ = utils.split_cui_present_absent(True)\n",
    "DATA_PATH = \"P:\\ORD_Singh_201911038D\\Justin\\Stroke_Notes_13OCT21\"\n",
    "with open(\"sids_to_present_cuis.json\",'r') as infile:\n",
    "    cuidata = json.load(infile)"
   ]
  },
  {
   "cell_type": "code",
   "execution_count": 3,
   "metadata": {},
   "outputs": [
    {
     "name": "stdout",
     "output_type": "stream",
     "text": [
      "dict_keys(['cuis', 'semtyp'])\n",
      "['C0008031', 'C0015031', 'C4718442', 'C2707412', 'C0398266', 'C3244243', 'C0917798', 'C0013227', 'C4715678', 'C4715678']\n"
     ]
    }
   ],
   "source": [
    "#print(list(cuidata)[0]) # print the first document ID\n",
    "print(cuidata[list(cuidata)[0]].keys()) # Just to show the data fields in each document\n",
    "print(cuidata[list(cuidata)[0]]['cuis'][:10]) # show the first 10 cuis of this specific document"
   ]
  },
  {
   "cell_type": "code",
   "execution_count": 4,
   "metadata": {},
   "outputs": [
    {
     "name": "stderr",
     "output_type": "stream",
     "text": [
      "100%|███████████████████████████████████████████████████████████████████████████| 29865/29865 [00:30<00:00, 986.56it/s]"
     ]
    },
    {
     "name": "stdout",
     "output_type": "stream",
     "text": [
      "[[0, 1], [1, 2], [2, 3]]\n",
      "2879508\n",
      "101991\n"
     ]
    },
    {
     "name": "stderr",
     "output_type": "stream",
     "text": [
      "\n"
     ]
    }
   ],
   "source": [
    "# We will get training pairs. One is the context term the next is the target term.\n",
    "trainingpairs = []\n",
    "vocab = dict()\n",
    "frequency = Counter()\n",
    "idx = 0\n",
    "\n",
    "# This could absolutely be accomplished in an alternative / faster way but it's sufficiently fast for now\n",
    "for doc in tqdm(cuidata):\n",
    "    cuis = cuidata[doc]['cuis']\n",
    "    cuiids = []\n",
    "    for x in cuis:\n",
    "        if x not in vocab.keys():\n",
    "            vocab.update({x:idx})\n",
    "            idx+=1\n",
    "        cuiids += [vocab[x]]\n",
    "    for i in range(len(cuiids)-1):\n",
    "        pair = cuiids[i:i+2]\n",
    "        if len(pair) < 2:\n",
    "            continue\n",
    "        if pair[0] != pair[1]:\n",
    "            trainingpairs += [pair] #no self references\n",
    "            frequency.update(pair)\n",
    "print(trainingpairs[:3])\n",
    "print(len(trainingpairs))\n",
    "print(len(vocab))\n",
    "assert np.all(np.asarray([x for x in vocab.values()]) == np.arange(len(vocab)))\n",
    "# We'll use an embedding dimension of 50 to start\n",
    "EMBEDDING_DIM = 100"
   ]
  },
  {
   "cell_type": "code",
   "execution_count": 5,
   "metadata": {},
   "outputs": [],
   "source": [
    "frequency = np.asarray([values for key,values in frequency.items()])**0.75\n",
    "frequency /= np.linalg.norm(frequency, ord=1)\n",
    "frequency = torch.from_numpy(frequency)\n",
    "samplingids = torch.arange(0, len(frequency))"
   ]
  },
  {
   "cell_type": "code",
   "execution_count": 6,
   "metadata": {},
   "outputs": [],
   "source": [
    "class CUIEmbeddingModel(torch.nn.Module):\n",
    "    def __init__(self, vocab_size, embedding_dim):\n",
    "        super(CUIEmbeddingModel, self).__init__()\n",
    "        self.dim = embedding_dim\n",
    "        self.in_embeddings = torch.nn.Embedding(vocab_size, embedding_dim, sparse=True)\n",
    "        self.out_embeddings = torch.nn.Embedding(vocab_size, embedding_dim, sparse=True)\n",
    "        \n",
    "    def init(self):\n",
    "        self.in_embeddings.weight.data.uniform_(-0.5/self.dim, 0.5/self.dim) # scaled by dimensionality to control initial norm.\n",
    "        self.out_embeddings.weight.data.uniform(-0, 0) # all 0s\n",
    "        \n",
    "    def forward(self, inputs, targets, negatives):\n",
    "        inembed = self.in_embeddings(inputs)\n",
    "        outembed = self.out_embeddings(targets)\n",
    "        pos_score = torch.sum(torch.mul(inembed, outembed), dim=1)\n",
    "        pos_score = torch.nn.functional.logsigmoid(pos_score)\n",
    "        negembed = self.out_embeddings(negatives)\n",
    "        neg_score = torch.bmm(negembed, inembed.unsqueeze(2)).squeeze()\n",
    "        neg_score = torch.nn.functional.logsigmoid(-1*neg_score)\n",
    "        # skip gram negative sampling\n",
    "        return -1 * (torch.sum(pos_score)+torch.sum(neg_score))\n",
    "    "
   ]
  },
  {
   "cell_type": "code",
   "execution_count": 7,
   "metadata": {},
   "outputs": [],
   "source": [
    "losses = []\n",
    "model = CUIEmbeddingModel(len(vocab), EMBEDDING_DIM)\n",
    "optimizer = torch.optim.SGD(model.parameters(), lr=0.001)\n",
    "NEGSAMPLES = 2"
   ]
  },
  {
   "cell_type": "code",
   "execution_count": 8,
   "metadata": {},
   "outputs": [
    {
     "name": "stderr",
     "output_type": "stream",
     "text": [
      "1440it [00:01, 769.57it/s]                                                                                             \n"
     ]
    }
   ],
   "source": [
    "#Test batching (also gives you an idea of theoretical max throughput in a way)\n",
    "BATCH_SIZE=2000\n",
    "for batchidx in tqdm(np.arange(0, len(trainingpairs), BATCH_SIZE), total = len(trainingpairs)//BATCH_SIZE):\n",
    "    data = trainingpairs[batchidx:batchidx+BATCH_SIZE]\n",
    "    context_idxs = torch.tensor(data)"
   ]
  },
  {
   "cell_type": "code",
   "execution_count": 17,
   "metadata": {},
   "outputs": [],
   "source": [
    "def nearest_embedding_search(cui):\n",
    "    #C0948008 = ischemic stroke\n",
    "    for i in zip(*torch.topk(torch.nn.functional.cosine_similarity(model.in_embeddings.weight.data[vocab[cui]].view(1,-1), \n",
    "                                                                   model.in_embeddings.weight.data), 10, largest=True)):\n",
    "        try:\n",
    "            print(f'{i[0]:0.3f}\\t{cuitranslate[id2vocab[int(i[1])]]}')\n",
    "        except:\n",
    "            print(\"key error\", id2vocab[int(i[1])])"
   ]
  },
  {
   "cell_type": "code",
   "execution_count": 10,
   "metadata": {},
   "outputs": [],
   "source": [
    "id2vocab = {value:key for key,value in vocab.items()}\n",
    "with open(os.path.join(DATA_PATH, \"cuitranslate.json\"),'r') as infile:\n",
    "    cuitranslate = json.load(infile)"
   ]
  },
  {
   "cell_type": "code",
   "execution_count": 11,
   "metadata": {},
   "outputs": [
    {
     "name": "stdout",
     "output_type": "stream",
     "text": [
      "[(0, 'C0008031'), (1, 'C0015031'), (2, 'C4718442'), (3, 'C2707412'), (4, 'C0398266'), (5, 'C3244243'), (6, 'C0917798'), (7, 'C0013227'), (8, 'C4715678'), (9, 'C0014806')]\n",
      "[('C0000005', '(131)I-Macroaggregated Albumin'), ('C0000039', '1,2-dipalmitoylphosphatidylcholine'), ('C0000052', '1,4-alpha-Glucan Branching Enzyme'), ('C0000074', '1-Alkyl-2-Acylphosphatidates'), ('C0000084', '1-Carboxyglutamic Acid'), ('C0000096', '1-Methyl-3-isobutylxanthine'), ('C0000097', '1-Methyl-4-phenyl-1,2,3,6-tetrahydropyridine'), ('C0000098', '1-Methyl-4-phenylpyridinium'), ('C0000102', '1-Naphthylamine'), ('C0000103', '1-Naphthylisothiocyanate')]\n",
      "(131)I-Macroaggregated Albumin\n"
     ]
    }
   ],
   "source": [
    "print(list(id2vocab.items())[0:10])\n",
    "print(list(cuitranslate.items())[0:10])\n",
    "print(cuitranslate[\"C0000005\"])"
   ]
  },
  {
   "cell_type": "code",
   "execution_count": 18,
   "metadata": {
    "scrolled": true,
    "tags": []
   },
   "outputs": [
    {
     "name": "stderr",
     "output_type": "stream",
     "text": [
      "Epoch 1: 1440it [07:18,  3.28it/s, loss=16465.070]                                                                     \n"
     ]
    },
    {
     "name": "stdout",
     "output_type": "stream",
     "text": [
      "1.000\tIschemic stroke\n",
      "0.390\tCANCER WORKUP\n",
      "0.389\tPancrease\n",
      "0.388\tNon-Palpable\n",
      "key error microtuition\n",
      "0.382\tFracture of bone of face\n",
      "0.381\tLymphadenopathy\n",
      "0.377\tIntravascular ultrasound of artery\n",
      "0.377\tSpinal canal stenosis\n",
      "0.376\tPreNatal Vitamins Plus Tablet\n"
     ]
    },
    {
     "name": "stderr",
     "output_type": "stream",
     "text": [
      "Epoch 2: 1440it [10:13,  2.35it/s, loss=14865.372]                                                                     \n"
     ]
    },
    {
     "name": "stdout",
     "output_type": "stream",
     "text": [
      "1.000\tIschemic stroke\n",
      "0.497\tAcute Cerebrovascular Accidents\n",
      "0.431\twork restrictions decision pending further evaluation\n",
      "0.422\tPoor judgement\n",
      "0.411\talteplase\n",
      "0.399\thistidine\n",
      "0.395\tDysarthria\n",
      "0.393\tPlateau\n",
      "0.390\tPreNatal Vitamins Plus Tablet\n",
      "0.382\tOrifice area:Area:Pt:Aortic valve:Qn:US.continuity.VTI+Area\n"
     ]
    },
    {
     "name": "stderr",
     "output_type": "stream",
     "text": [
      "Epoch 3: 1440it [06:51,  3.50it/s, loss=13869.231]                                                                     \n"
     ]
    },
    {
     "name": "stdout",
     "output_type": "stream",
     "text": [
      "1.000\tIschemic stroke\n",
      "0.633\tAcute Cerebrovascular Accidents\n",
      "0.588\tWork-up\n",
      "0.584\tMRAS gene\n",
      "0.579\tTransient Ischemic Attack\n",
      "0.566\tcarotid ultrasound doppler\n",
      "0.563\tCancer/Testis Antigen\n",
      "0.561\tCerebrovascular accident\n",
      "0.530\tCANCER WORKUP\n",
      "0.527\tEvaluation\n"
     ]
    },
    {
     "name": "stderr",
     "output_type": "stream",
     "text": [
      "Epoch 4: 1440it [06:54,  3.48it/s, loss=12988.998]                                                                     \n"
     ]
    },
    {
     "name": "stdout",
     "output_type": "stream",
     "text": [
      "1.000\tIschemic stroke\n",
      "0.660\tAcute Cerebrovascular Accidents\n",
      "0.645\tdecimeter\n",
      "0.630\tDysarthria\n",
      "0.623\tAtrial Fibrillation\n",
      "0.621\tPeripheral Vascular Diseases\n",
      "0.617\tCerebrovascular accident\n",
      "0.616\tMRAS gene\n",
      "0.614\tHyperlipidemia\n",
      "0.614\tNon-ST Elevation Myocardial Infarction by ECG Finding\n"
     ]
    },
    {
     "name": "stderr",
     "output_type": "stream",
     "text": [
      "Epoch 5: 1440it [06:47,  3.53it/s, loss=12217.305]                                                                     \n"
     ]
    },
    {
     "name": "stdout",
     "output_type": "stream",
     "text": [
      "1.000\tIschemic stroke\n",
      "0.784\tAcute Cerebrovascular Accidents\n",
      "0.723\tEvaluation\n",
      "0.717\tX-Ray Computed Tomography\n",
      "0.702\tCANCER WORKUP\n",
      "0.698\tMRAS gene\n",
      "0.694\tTransient Ischemic Attack\n",
      "0.688\talteplase\n",
      "0.685\tMultisection:Find:Pt:Head>Head vessels & Neck>Neck vessels:Doc:MR.angio\n",
      "0.675\tPeripheral Vascular Diseases\n"
     ]
    },
    {
     "name": "stderr",
     "output_type": "stream",
     "text": [
      "Epoch 6: 1440it [06:35,  3.64it/s, loss=12158.214]                                                                     \n"
     ]
    },
    {
     "name": "stdout",
     "output_type": "stream",
     "text": [
      "1.000\tIschemic stroke\n",
      "0.782\tAcute Cerebrovascular Accidents\n",
      "0.744\tMagnetic Resonance Imaging\n",
      "0.735\tWork-up\n",
      "0.724\tMRAS gene\n",
      "0.721\tScientific Study\n",
      "0.715\tTransient Ischemic Attack\n",
      "0.713\tTelemetry\n",
      "0.707\tMultisection:Find:Pt:Head>Head vessels & Neck>Neck vessels:Doc:MR.angio\n",
      "0.707\tCANCER WORKUP\n"
     ]
    },
    {
     "name": "stderr",
     "output_type": "stream",
     "text": [
      "Epoch 7: 1440it [06:50,  3.51it/s, loss=11360.330]                                                                     \n"
     ]
    },
    {
     "name": "stdout",
     "output_type": "stream",
     "text": [
      "1.000\tIschemic stroke\n",
      "0.798\tAcute Cerebrovascular Accidents\n",
      "0.773\tWork-up\n",
      "0.770\tLeft hemiparesis\n",
      "0.769\tAphasia\n",
      "0.767\tX-Ray Computed Tomography\n",
      "0.764\tPeripheral Vascular Diseases\n",
      "0.760\tCAD gene\n",
      "0.759\tEvaluation\n",
      "0.758\tTransient Ischemic Attack\n"
     ]
    },
    {
     "name": "stderr",
     "output_type": "stream",
     "text": [
      "Epoch 8: 1440it [06:40,  3.59it/s, loss=11411.921]                                                                     \n"
     ]
    },
    {
     "name": "stdout",
     "output_type": "stream",
     "text": [
      "1.000\tIschemic stroke\n",
      "0.843\tAcute Cerebrovascular Accidents\n",
      "0.829\tCANCER WORKUP\n",
      "0.818\tWork-up\n",
      "0.811\tAphasia\n",
      "0.807\tCerebrovascular accident\n",
      "0.803\tEvaluation\n",
      "0.798\tPeripheral Vascular Diseases\n",
      "0.797\tRight hemiparesis\n",
      "0.790\tX-Ray Computed Tomography\n"
     ]
    },
    {
     "name": "stderr",
     "output_type": "stream",
     "text": [
      "Epoch 9: 1440it [06:30,  3.69it/s, loss=10485.597]                                                                     \n"
     ]
    },
    {
     "name": "stdout",
     "output_type": "stream",
     "text": [
      "1.000\tIschemic stroke\n",
      "0.868\tAcute Cerebrovascular Accidents\n",
      "0.843\tWork-up\n",
      "0.824\tAcute ischemic stroke subtype\n",
      "0.821\tCANCER WORKUP\n",
      "0.807\tAphasia\n",
      "0.802\tCardioembolic Stroke\n",
      "0.800\tRight hemiparesis\n",
      "0.800\tTransient Ischemic Attack\n",
      "0.796\tWEAKNESS RESIDUAL\n"
     ]
    },
    {
     "name": "stderr",
     "output_type": "stream",
     "text": [
      "Epoch 10: 1440it [06:26,  3.73it/s, loss=10201.874]                                                                    \n"
     ]
    },
    {
     "name": "stdout",
     "output_type": "stream",
     "text": [
      "1.000\tIschemic stroke\n",
      "0.872\tAcute Cerebrovascular Accidents\n",
      "0.858\tCANCER WORKUP\n",
      "0.852\tAcute ischemic stroke subtype\n",
      "0.829\tWEAKNESS RESIDUAL\n",
      "0.826\tTransient Ischemic Attack\n",
      "0.824\tRight hemiparesis\n",
      "0.823\tPeripheral Vascular Diseases\n",
      "0.822\tCardioembolic Stroke\n",
      "0.816\tAphasia\n"
     ]
    },
    {
     "name": "stderr",
     "output_type": "stream",
     "text": [
      "Epoch 11: 1440it [06:36,  3.63it/s, loss=10062.685]                                                                    \n"
     ]
    },
    {
     "name": "stdout",
     "output_type": "stream",
     "text": [
      "1.000\tIschemic stroke\n",
      "0.879\tAcute ischemic stroke subtype\n",
      "0.878\tCANCER WORKUP\n",
      "0.868\tAcute Cerebrovascular Accidents\n",
      "0.861\tWork-up\n",
      "0.853\tTransient Ischemic Attack\n",
      "0.845\tCardioembolic Stroke\n",
      "0.844\tWEAKNESS RESIDUAL\n",
      "0.841\tThalamic infarction\n",
      "0.838\tMagnetic Resonance Imaging\n"
     ]
    },
    {
     "name": "stderr",
     "output_type": "stream",
     "text": [
      "Epoch 12: 1440it [06:31,  3.68it/s, loss=9667.156]                                                                     \n"
     ]
    },
    {
     "name": "stdout",
     "output_type": "stream",
     "text": [
      "1.000\tIschemic stroke\n",
      "0.873\tCANCER WORKUP\n",
      "0.865\tAcute ischemic stroke subtype\n",
      "0.862\tAcute Cerebrovascular Accidents\n",
      "0.861\tTransient Ischemic Attack\n",
      "0.855\tWEAKNESS RESIDUAL\n",
      "0.850\tLeft hemiparesis\n",
      "0.850\tRight hemiparesis\n",
      "0.844\tThalamic infarction\n",
      "0.843\tWork-up\n"
     ]
    },
    {
     "name": "stderr",
     "output_type": "stream",
     "text": [
      "Epoch 13: 1440it [06:33,  3.66it/s, loss=9269.709]                                                                     \n"
     ]
    },
    {
     "name": "stdout",
     "output_type": "stream",
     "text": [
      "1.000\tIschemic stroke\n",
      "0.890\tAcute Cerebrovascular Accidents\n",
      "0.879\tCANCER WORKUP\n",
      "0.878\tAcute ischemic stroke subtype\n",
      "0.869\tWork-up\n",
      "0.866\tThalamic infarction\n",
      "0.862\tCardioembolic Stroke\n",
      "0.856\tTransient Ischemic Attack\n",
      "0.855\tEvaluation\n",
      "0.847\tAphasia\n"
     ]
    },
    {
     "name": "stderr",
     "output_type": "stream",
     "text": [
      "Epoch 14: 1440it [06:27,  3.71it/s, loss=9141.898]                                                                     \n"
     ]
    },
    {
     "name": "stdout",
     "output_type": "stream",
     "text": [
      "1.000\tIschemic stroke\n",
      "0.902\tAcute Cerebrovascular Accidents\n",
      "0.893\tAcute ischemic stroke subtype\n",
      "0.885\tCANCER WORKUP\n",
      "0.876\tThalamic infarction\n",
      "0.869\tWork-up\n",
      "0.861\tCardioembolic Stroke\n",
      "0.850\tWEAKNESS RESIDUAL\n",
      "0.850\tRight hemiparesis\n",
      "0.850\tneurological weakness of the right or left side\n"
     ]
    },
    {
     "name": "stderr",
     "output_type": "stream",
     "text": [
      "Epoch 15: 1440it [06:22,  3.76it/s, loss=9404.676]                                                                     \n"
     ]
    },
    {
     "name": "stdout",
     "output_type": "stream",
     "text": [
      "1.000\tIschemic stroke\n",
      "0.908\tAcute Cerebrovascular Accidents\n",
      "0.886\tWork-up\n",
      "0.882\tThalamic infarction\n",
      "0.878\tAcute ischemic stroke subtype\n",
      "0.874\tCardioembolic Stroke\n",
      "0.870\tCANCER WORKUP\n",
      "0.867\tRight hemiparesis\n",
      "0.862\tWEAKNESS RESIDUAL\n",
      "0.858\tLeft hemiparesis\n"
     ]
    },
    {
     "name": "stderr",
     "output_type": "stream",
     "text": [
      "Epoch 16: 1440it [06:27,  3.72it/s, loss=9051.633]                                                                     \n"
     ]
    },
    {
     "name": "stdout",
     "output_type": "stream",
     "text": [
      "1.000\tIschemic stroke\n",
      "0.934\tAcute Cerebrovascular Accidents\n",
      "0.888\tWEAKNESS RESIDUAL\n",
      "0.884\tThalamic infarction\n",
      "0.879\tCANCER WORKUP\n",
      "0.878\tAcute ischemic stroke subtype\n",
      "0.878\tTransient Ischemic Attack\n",
      "0.868\tRight hemiparesis\n",
      "0.867\tWork-up\n",
      "0.865\tneurological weakness of the right or left side\n"
     ]
    },
    {
     "name": "stderr",
     "output_type": "stream",
     "text": [
      "Epoch 17: 1440it [06:28,  3.71it/s, loss=8715.689]                                                                     \n"
     ]
    },
    {
     "name": "stdout",
     "output_type": "stream",
     "text": [
      "1.000\tIschemic stroke\n",
      "0.920\tAcute Cerebrovascular Accidents\n",
      "0.902\tWork-up\n",
      "0.899\tWEAKNESS RESIDUAL\n",
      "0.897\tAcute ischemic stroke subtype\n",
      "0.888\tTransient Ischemic Attack\n",
      "0.885\tRight hemiparesis\n",
      "0.881\tCANCER WORKUP\n",
      "0.880\tLeft hemiparesis\n",
      "0.875\tThalamic infarction\n"
     ]
    },
    {
     "name": "stderr",
     "output_type": "stream",
     "text": [
      "Epoch 18: 1440it [06:47,  3.54it/s, loss=8687.594]                                                                     \n"
     ]
    },
    {
     "name": "stdout",
     "output_type": "stream",
     "text": [
      "1.000\tIschemic stroke\n",
      "0.922\tAcute Cerebrovascular Accidents\n",
      "0.906\tTransient Ischemic Attack\n",
      "0.906\tAcute ischemic stroke subtype\n",
      "0.895\tRight hemiparesis\n",
      "0.890\tEvaluation\n",
      "0.885\tWEAKNESS RESIDUAL\n",
      "0.881\tThalamic infarction\n",
      "0.879\tWork-up\n",
      "0.877\tCANCER WORKUP\n"
     ]
    },
    {
     "name": "stderr",
     "output_type": "stream",
     "text": [
      "Epoch 19: 1440it [06:22,  3.77it/s, loss=8479.099]                                                                     \n"
     ]
    },
    {
     "name": "stdout",
     "output_type": "stream",
     "text": [
      "1.000\tIschemic stroke\n",
      "0.929\tAcute Cerebrovascular Accidents\n",
      "0.909\tAcute ischemic stroke subtype\n",
      "0.886\tWork-up\n",
      "0.885\tCardioembolic Stroke\n",
      "0.885\tCANCER WORKUP\n",
      "0.883\tTransient Ischemic Attack\n",
      "0.876\tWEAKNESS RESIDUAL\n",
      "0.875\tThalamic infarction\n",
      "0.868\tRight hemiparesis\n"
     ]
    },
    {
     "name": "stderr",
     "output_type": "stream",
     "text": [
      "Epoch 20: 1440it [06:43,  3.57it/s, loss=8428.599]                                                                     \n"
     ]
    },
    {
     "name": "stdout",
     "output_type": "stream",
     "text": [
      "1.000\tIschemic stroke\n",
      "0.915\tAcute Cerebrovascular Accidents\n",
      "0.907\tWork-up\n",
      "0.898\tAcute ischemic stroke subtype\n",
      "0.897\tTransient Ischemic Attack\n",
      "0.884\tCANCER WORKUP\n",
      "0.883\tCardioembolic Stroke\n",
      "0.881\tWEAKNESS RESIDUAL\n",
      "0.877\tThalamic infarction\n",
      "0.874\tRight hemiparesis\n"
     ]
    },
    {
     "name": "stderr",
     "output_type": "stream",
     "text": [
      "Epoch 21: 1440it [06:37,  3.62it/s, loss=8275.552]                                                                     \n"
     ]
    },
    {
     "name": "stdout",
     "output_type": "stream",
     "text": [
      "1.000\tIschemic stroke\n",
      "0.923\tAcute Cerebrovascular Accidents\n",
      "0.893\tAcute ischemic stroke subtype\n",
      "0.891\tTransient Ischemic Attack\n",
      "0.883\tWEAKNESS RESIDUAL\n",
      "0.883\tThalamic infarction\n",
      "0.882\tWork-up\n",
      "0.882\tCardioembolic Stroke\n",
      "0.882\tRight hemiparesis\n",
      "0.874\tLeft hemiparesis\n"
     ]
    },
    {
     "name": "stderr",
     "output_type": "stream",
     "text": [
      "Epoch 22: 1440it [07:11,  3.33it/s, loss=8076.372]                                                                     \n"
     ]
    },
    {
     "name": "stdout",
     "output_type": "stream",
     "text": [
      "1.000\tIschemic stroke\n",
      "0.916\tAcute Cerebrovascular Accidents\n",
      "0.898\tAcute ischemic stroke subtype\n",
      "0.895\tWEAKNESS RESIDUAL\n",
      "0.893\tCANCER WORKUP\n",
      "0.883\tWork-up\n",
      "0.877\tRight hemiparesis\n",
      "0.877\tCardioembolic Stroke\n",
      "0.874\tTransient Ischemic Attack\n",
      "0.871\tThalamic infarction\n"
     ]
    },
    {
     "name": "stderr",
     "output_type": "stream",
     "text": [
      "Epoch 23: 1440it [06:49,  3.52it/s, loss=8040.249]                                                                     \n"
     ]
    },
    {
     "name": "stdout",
     "output_type": "stream",
     "text": [
      "1.000\tIschemic stroke\n",
      "0.904\tAcute Cerebrovascular Accidents\n",
      "0.898\tAcute ischemic stroke subtype\n",
      "0.883\tWEAKNESS RESIDUAL\n",
      "0.876\tCardioembolic Stroke\n",
      "0.866\tWork-up\n",
      "0.866\tRight hemiparesis\n",
      "0.862\tCVA DISTRIBUTION MCA\n",
      "0.861\tCANCER WORKUP\n",
      "0.861\tTransient Ischemic Attack\n"
     ]
    },
    {
     "name": "stderr",
     "output_type": "stream",
     "text": [
      "Epoch 24: 1440it [06:41,  3.59it/s, loss=8271.805]                                                                     \n"
     ]
    },
    {
     "name": "stdout",
     "output_type": "stream",
     "text": [
      "1.000\tIschemic stroke\n",
      "0.931\tAcute Cerebrovascular Accidents\n",
      "0.908\tAcute ischemic stroke subtype\n",
      "0.899\tWEAKNESS RESIDUAL\n",
      "0.888\tCANCER WORKUP\n",
      "0.886\tThalamic infarction\n",
      "0.885\tCVA DISTRIBUTION MCA\n",
      "0.883\tRight hemiparesis\n",
      "0.881\tCardioembolic Stroke\n",
      "0.872\tEvaluation\n"
     ]
    },
    {
     "name": "stderr",
     "output_type": "stream",
     "text": [
      "Epoch 25: 1440it [07:03,  3.40it/s, loss=7782.830]                                                                     \n"
     ]
    },
    {
     "name": "stdout",
     "output_type": "stream",
     "text": [
      "1.000\tIschemic stroke\n",
      "0.921\tAcute Cerebrovascular Accidents\n",
      "0.917\tAcute ischemic stroke subtype\n",
      "0.909\tCANCER WORKUP\n",
      "0.907\tWEAKNESS RESIDUAL\n",
      "0.890\tThalamic infarction\n",
      "0.888\tRight hemiparesis\n",
      "0.880\tCardioembolic Stroke\n",
      "0.876\tTransient Ischemic Attack\n",
      "0.875\tCVA DISTRIBUTION MCA\n"
     ]
    },
    {
     "name": "stderr",
     "output_type": "stream",
     "text": [
      "Epoch 26: 1440it [06:33,  3.66it/s, loss=7527.915]                                                                     \n"
     ]
    },
    {
     "name": "stdout",
     "output_type": "stream",
     "text": [
      "1.000\tIschemic stroke\n",
      "0.913\tAcute Cerebrovascular Accidents\n",
      "0.903\tAcute ischemic stroke subtype\n",
      "0.895\tWEAKNESS RESIDUAL\n",
      "0.886\tTransient Ischemic Attack\n",
      "0.884\tCANCER WORKUP\n",
      "0.874\tThalamic infarction\n",
      "0.871\tCVA DISTRIBUTION MCA\n",
      "0.870\tRight hemiparesis\n",
      "0.864\tLeft hemiparesis\n"
     ]
    },
    {
     "name": "stderr",
     "output_type": "stream",
     "text": [
      "Epoch 27: 1440it [06:42,  3.58it/s, loss=7620.201]                                                                     \n"
     ]
    },
    {
     "name": "stdout",
     "output_type": "stream",
     "text": [
      "1.000\tIschemic stroke\n",
      "0.916\tAcute Cerebrovascular Accidents\n",
      "0.894\tAcute ischemic stroke subtype\n",
      "0.893\tCANCER WORKUP\n",
      "0.892\tWEAKNESS RESIDUAL\n",
      "0.880\tThalamic infarction\n",
      "0.878\tTransient Ischemic Attack\n",
      "0.873\tLeft hemiparesis\n",
      "0.873\tCVA DISTRIBUTION MCA\n",
      "0.866\tIntracranial Hemorrhage\n"
     ]
    },
    {
     "name": "stderr",
     "output_type": "stream",
     "text": [
      "Epoch 28: 1440it [07:03,  3.40it/s, loss=7356.315]                                                                     \n"
     ]
    },
    {
     "name": "stdout",
     "output_type": "stream",
     "text": [
      "1.000\tIschemic stroke\n",
      "0.918\tAcute Cerebrovascular Accidents\n",
      "0.910\tAcute ischemic stroke subtype\n",
      "0.906\tCANCER WORKUP\n",
      "0.906\tWEAKNESS RESIDUAL\n",
      "0.889\tThalamic infarction\n",
      "0.880\tCVA DISTRIBUTION MCA\n",
      "0.877\tWork-up\n",
      "0.873\tIntracranial Hemorrhage\n",
      "0.870\tTransient Ischemic Attack\n"
     ]
    },
    {
     "name": "stderr",
     "output_type": "stream",
     "text": [
      "Epoch 29: 1440it [07:17,  3.29it/s, loss=7295.637]                                                                     \n"
     ]
    },
    {
     "name": "stdout",
     "output_type": "stream",
     "text": [
      "1.000\tIschemic stroke\n",
      "0.929\tAcute Cerebrovascular Accidents\n",
      "0.913\tWEAKNESS RESIDUAL\n",
      "0.912\tAcute ischemic stroke subtype\n",
      "0.901\tCANCER WORKUP\n",
      "0.895\tThalamic infarction\n",
      "0.894\tRight hemiparesis\n",
      "0.889\tCVA DISTRIBUTION MCA\n",
      "0.888\tWork-up\n",
      "0.879\tneurological weakness of the right or left side\n"
     ]
    },
    {
     "name": "stderr",
     "output_type": "stream",
     "text": [
      "Epoch 30: 1440it [06:57,  3.45it/s, loss=7111.120]                                                                     \n"
     ]
    },
    {
     "name": "stdout",
     "output_type": "stream",
     "text": [
      "1.000\tIschemic stroke\n",
      "0.922\tAcute Cerebrovascular Accidents\n",
      "0.905\tAcute ischemic stroke subtype\n",
      "0.901\tWEAKNESS RESIDUAL\n",
      "0.890\tCANCER WORKUP\n",
      "0.890\tLeft hemiparesis\n",
      "0.887\tThalamic infarction\n",
      "0.883\tTransient Ischemic Attack\n",
      "0.878\tWork-up\n",
      "0.878\tCVA DISTRIBUTION MCA\n"
     ]
    },
    {
     "name": "stderr",
     "output_type": "stream",
     "text": [
      "Epoch 31: 1440it [06:59,  3.44it/s, loss=6995.442]                                                                     \n"
     ]
    },
    {
     "name": "stdout",
     "output_type": "stream",
     "text": [
      "1.000\tIschemic stroke\n",
      "0.933\tAcute Cerebrovascular Accidents\n",
      "0.910\tAcute ischemic stroke subtype\n",
      "0.909\tWEAKNESS RESIDUAL\n",
      "0.891\tThalamic infarction\n",
      "0.891\tLeft hemiparesis\n",
      "0.881\tCANCER WORKUP\n",
      "0.881\tWork-up\n",
      "0.880\tIntracranial Hemorrhage\n",
      "0.876\tCVA DISTRIBUTION MCA\n"
     ]
    },
    {
     "name": "stderr",
     "output_type": "stream",
     "text": [
      "Epoch 32: 1440it [06:44,  3.56it/s, loss=7182.766]                                                                     \n"
     ]
    },
    {
     "name": "stdout",
     "output_type": "stream",
     "text": [
      "1.000\tIschemic stroke\n",
      "0.929\tAcute Cerebrovascular Accidents\n",
      "0.914\tAcute ischemic stroke subtype\n",
      "0.907\tWEAKNESS RESIDUAL\n",
      "0.902\tWork-up\n",
      "0.892\tThalamic infarction\n",
      "0.889\tCANCER WORKUP\n",
      "0.885\tIntracranial Hemorrhage\n",
      "0.879\tLeft hemiparesis\n",
      "0.878\tTransient Ischemic Attack\n"
     ]
    },
    {
     "name": "stderr",
     "output_type": "stream",
     "text": [
      "Epoch 33: 1440it [07:10,  3.35it/s, loss=6676.755]                                                                     \n"
     ]
    },
    {
     "name": "stdout",
     "output_type": "stream",
     "text": [
      "1.000\tIschemic stroke\n",
      "0.933\tAcute Cerebrovascular Accidents\n",
      "0.925\tAcute ischemic stroke subtype\n",
      "0.901\tWEAKNESS RESIDUAL\n",
      "0.892\tTransient Ischemic Attack\n",
      "0.890\tCANCER WORKUP\n",
      "0.887\tWork-up\n",
      "0.886\tThalamic infarction\n",
      "0.880\tCVA DISTRIBUTION MCA\n",
      "0.875\tIntracranial Hemorrhage\n"
     ]
    },
    {
     "name": "stderr",
     "output_type": "stream",
     "text": [
      "Epoch 34: 1440it [07:10,  3.35it/s, loss=7155.156]                                                                     \n"
     ]
    },
    {
     "name": "stdout",
     "output_type": "stream",
     "text": [
      "1.000\tIschemic stroke\n",
      "0.929\tAcute Cerebrovascular Accidents\n",
      "0.928\tAcute ischemic stroke subtype\n",
      "0.899\tWEAKNESS RESIDUAL\n",
      "0.893\tCANCER WORKUP\n",
      "0.889\tCVA DISTRIBUTION MCA\n",
      "0.887\tThalamic infarction\n",
      "0.884\tEvaluation\n",
      "0.882\tRight hemiparesis\n",
      "0.873\tLeft hemiparesis\n"
     ]
    },
    {
     "name": "stderr",
     "output_type": "stream",
     "text": [
      "Epoch 35: 1440it [06:46,  3.54it/s, loss=6626.519]                                                                     \n"
     ]
    },
    {
     "name": "stdout",
     "output_type": "stream",
     "text": [
      "1.000\tIschemic stroke\n",
      "0.931\tAcute Cerebrovascular Accidents\n",
      "0.926\tAcute ischemic stroke subtype\n",
      "0.899\tWEAKNESS RESIDUAL\n",
      "0.893\tCANCER WORKUP\n",
      "0.890\tThalamic infarction\n",
      "0.887\tTransient Ischemic Attack\n",
      "0.885\tCVA DISTRIBUTION MCA\n",
      "0.882\tIntracranial Hemorrhage\n",
      "0.881\tSubacute\n"
     ]
    },
    {
     "name": "stderr",
     "output_type": "stream",
     "text": [
      "Epoch 36: 1440it [06:43,  3.57it/s, loss=6971.212]                                                                     \n"
     ]
    },
    {
     "name": "stdout",
     "output_type": "stream",
     "text": [
      "1.000\tIschemic stroke\n",
      "0.935\tAcute ischemic stroke subtype\n",
      "0.935\tAcute Cerebrovascular Accidents\n",
      "0.905\tWEAKNESS RESIDUAL\n",
      "0.903\tThalamic infarction\n",
      "0.897\tTransient Ischemic Attack\n",
      "0.894\tCANCER WORKUP\n",
      "0.893\tWork-up\n",
      "0.889\tCVA DISTRIBUTION MCA\n",
      "0.884\tRight hemiparesis\n"
     ]
    },
    {
     "name": "stderr",
     "output_type": "stream",
     "text": [
      "Epoch 37: 1440it [07:19,  3.28it/s, loss=6660.385]                                                                     \n"
     ]
    },
    {
     "name": "stdout",
     "output_type": "stream",
     "text": [
      "1.000\tIschemic stroke\n",
      "0.934\tAcute ischemic stroke subtype\n",
      "0.932\tAcute Cerebrovascular Accidents\n",
      "0.906\tWEAKNESS RESIDUAL\n",
      "0.903\tCANCER WORKUP\n",
      "0.902\tThalamic infarction\n",
      "0.892\tWork-up\n",
      "0.891\tLeft hemiparesis\n",
      "0.889\tTransient Ischemic Attack\n",
      "0.887\tCVA DISTRIBUTION MCA\n"
     ]
    },
    {
     "name": "stderr",
     "output_type": "stream",
     "text": [
      "Epoch 38: 1440it [07:01,  3.41it/s, loss=6587.805]                                                                     \n"
     ]
    },
    {
     "name": "stdout",
     "output_type": "stream",
     "text": [
      "1.000\tIschemic stroke\n",
      "0.942\tAcute Cerebrovascular Accidents\n",
      "0.928\tAcute ischemic stroke subtype\n",
      "0.917\tCANCER WORKUP\n",
      "0.907\tThalamic infarction\n",
      "0.904\tWork-up\n",
      "0.895\tWEAKNESS RESIDUAL\n",
      "0.894\tCVA DISTRIBUTION MCA\n",
      "0.891\tIntracranial Hemorrhage\n",
      "0.888\tRight hemiparesis\n"
     ]
    },
    {
     "name": "stderr",
     "output_type": "stream",
     "text": [
      "Epoch 39: 1440it [06:54,  3.48it/s, loss=6579.913]                                                                     \n"
     ]
    },
    {
     "name": "stdout",
     "output_type": "stream",
     "text": [
      "1.000\tIschemic stroke\n",
      "0.930\tAcute Cerebrovascular Accidents\n",
      "0.921\tAcute ischemic stroke subtype\n",
      "0.909\tThalamic infarction\n",
      "0.904\tCANCER WORKUP\n",
      "0.897\tWork-up\n",
      "0.896\tWEAKNESS RESIDUAL\n",
      "0.895\tRight hemiparesis\n",
      "0.893\tCVA DISTRIBUTION MCA\n",
      "0.888\tTransient Ischemic Attack\n"
     ]
    },
    {
     "name": "stderr",
     "output_type": "stream",
     "text": [
      "Epoch 40: 1440it [06:52,  3.49it/s, loss=6685.533]                                                                     \n"
     ]
    },
    {
     "name": "stdout",
     "output_type": "stream",
     "text": [
      "1.000\tIschemic stroke\n",
      "0.945\tAcute Cerebrovascular Accidents\n",
      "0.933\tAcute ischemic stroke subtype\n",
      "0.913\tCANCER WORKUP\n",
      "0.910\tWEAKNESS RESIDUAL\n",
      "0.905\tThalamic infarction\n",
      "0.896\tRight hemiparesis\n",
      "0.896\tCVA DISTRIBUTION MCA\n",
      "0.891\tRight sided cerebral hemisphere cerebrovascular accident\n",
      "0.887\tLeft hemiparesis\n"
     ]
    },
    {
     "name": "stderr",
     "output_type": "stream",
     "text": [
      "Epoch 41: 1440it [07:04,  3.39it/s, loss=6411.663]                                                                     \n"
     ]
    },
    {
     "name": "stdout",
     "output_type": "stream",
     "text": [
      "1.000\tIschemic stroke\n",
      "0.929\tAcute Cerebrovascular Accidents\n",
      "0.926\tAcute ischemic stroke subtype\n",
      "0.914\tWEAKNESS RESIDUAL\n",
      "0.903\tRight hemiparesis\n",
      "0.901\tCANCER WORKUP\n",
      "0.899\tThalamic infarction\n",
      "0.892\tTransient Ischemic Attack\n",
      "0.892\tLeft hemiparesis\n",
      "0.889\tStroke, Lacunar\n"
     ]
    },
    {
     "name": "stderr",
     "output_type": "stream",
     "text": [
      "Epoch 42: 1440it [07:10,  3.34it/s, loss=6147.222]                                                                     \n"
     ]
    },
    {
     "name": "stdout",
     "output_type": "stream",
     "text": [
      "1.000\tIschemic stroke\n",
      "0.929\tAcute Cerebrovascular Accidents\n",
      "0.921\tAcute ischemic stroke subtype\n",
      "0.903\tCANCER WORKUP\n",
      "0.901\tWEAKNESS RESIDUAL\n",
      "0.892\tThalamic infarction\n",
      "0.890\tWork-up\n",
      "0.889\tLeft hemiparesis\n",
      "0.887\tRight hemiparesis\n",
      "0.885\tTransient Ischemic Attack\n"
     ]
    },
    {
     "name": "stderr",
     "output_type": "stream",
     "text": [
      "Epoch 43: 1440it [06:52,  3.49it/s, loss=6233.389]                                                                     \n"
     ]
    },
    {
     "name": "stdout",
     "output_type": "stream",
     "text": [
      "1.000\tIschemic stroke\n",
      "0.942\tAcute Cerebrovascular Accidents\n",
      "0.929\tAcute ischemic stroke subtype\n",
      "0.901\tCVA DISTRIBUTION MCA\n",
      "0.899\tCANCER WORKUP\n",
      "0.899\tWEAKNESS RESIDUAL\n",
      "0.899\tStroke, Lacunar\n",
      "0.898\tThalamic infarction\n",
      "0.896\tWork-up\n",
      "0.888\tLeft hemiparesis\n"
     ]
    },
    {
     "name": "stderr",
     "output_type": "stream",
     "text": [
      "Epoch 44: 1440it [07:04,  3.39it/s, loss=6104.941]                                                                     \n"
     ]
    },
    {
     "name": "stdout",
     "output_type": "stream",
     "text": [
      "1.000\tIschemic stroke\n",
      "0.943\tAcute Cerebrovascular Accidents\n",
      "0.935\tAcute ischemic stroke subtype\n",
      "0.909\tWEAKNESS RESIDUAL\n",
      "0.903\tCVA DISTRIBUTION MCA\n",
      "0.902\tThalamic infarction\n",
      "0.899\tCANCER WORKUP\n",
      "0.894\tLeft hemiparesis\n",
      "0.892\tStroke, Lacunar\n",
      "0.892\tRight hemiparesis\n"
     ]
    },
    {
     "name": "stderr",
     "output_type": "stream",
     "text": [
      "Epoch 45: 1440it [06:57,  3.45it/s, loss=6244.401]                                                                     \n"
     ]
    },
    {
     "name": "stdout",
     "output_type": "stream",
     "text": [
      "1.000\tIschemic stroke\n",
      "0.934\tAcute Cerebrovascular Accidents\n",
      "0.933\tAcute ischemic stroke subtype\n",
      "0.900\tCVA DISTRIBUTION MCA\n",
      "0.900\tThalamic infarction\n",
      "0.898\tWEAKNESS RESIDUAL\n",
      "0.893\tStroke, Lacunar\n",
      "0.889\tCANCER WORKUP\n",
      "0.887\tWork-up\n",
      "0.885\tRight hemiparesis\n"
     ]
    },
    {
     "name": "stderr",
     "output_type": "stream",
     "text": [
      "Epoch 46: 1440it [07:11,  3.34it/s, loss=6165.976]                                                                     \n"
     ]
    },
    {
     "name": "stdout",
     "output_type": "stream",
     "text": [
      "1.000\tIschemic stroke\n",
      "0.931\tAcute Cerebrovascular Accidents\n",
      "0.929\tAcute ischemic stroke subtype\n",
      "0.901\tWEAKNESS RESIDUAL\n",
      "0.898\tCVA DISTRIBUTION MCA\n",
      "0.897\tStroke, Lacunar\n",
      "0.896\tThalamic infarction\n",
      "0.893\tCANCER WORKUP\n",
      "0.887\tCerebellar stroke\n",
      "0.883\tRight hemiparesis\n"
     ]
    },
    {
     "name": "stderr",
     "output_type": "stream",
     "text": [
      "Epoch 47: 1440it [06:59,  3.43it/s, loss=6060.653]                                                                     \n"
     ]
    },
    {
     "name": "stdout",
     "output_type": "stream",
     "text": [
      "1.000\tIschemic stroke\n",
      "0.932\tAcute Cerebrovascular Accidents\n",
      "0.923\tAcute ischemic stroke subtype\n",
      "0.902\tWEAKNESS RESIDUAL\n",
      "0.893\tThalamic infarction\n",
      "0.891\tStroke, Lacunar\n",
      "0.890\tCVA DISTRIBUTION MCA\n",
      "0.885\tCANCER WORKUP\n",
      "0.880\tCerebellar stroke\n",
      "0.879\tIntracranial Hemorrhage\n"
     ]
    },
    {
     "name": "stderr",
     "output_type": "stream",
     "text": [
      "Epoch 48: 1440it [06:47,  3.54it/s, loss=6231.445]                                                                     \n"
     ]
    },
    {
     "name": "stdout",
     "output_type": "stream",
     "text": [
      "1.000\tIschemic stroke\n",
      "0.930\tAcute Cerebrovascular Accidents\n",
      "0.927\tAcute ischemic stroke subtype\n",
      "0.905\tWEAKNESS RESIDUAL\n",
      "0.895\tStroke, Lacunar\n",
      "0.891\tTransient Ischemic Attack\n",
      "0.891\tCVA DISTRIBUTION MCA\n",
      "0.887\tThalamic infarction\n",
      "0.886\tCANCER WORKUP\n",
      "0.882\tIntracranial Hemorrhage\n"
     ]
    },
    {
     "name": "stderr",
     "output_type": "stream",
     "text": [
      "Epoch 49: 1440it [07:06,  3.37it/s, loss=6090.204]                                                                     \n"
     ]
    },
    {
     "name": "stdout",
     "output_type": "stream",
     "text": [
      "1.000\tIschemic stroke\n",
      "0.935\tAcute Cerebrovascular Accidents\n",
      "0.923\tAcute ischemic stroke subtype\n",
      "0.908\tWEAKNESS RESIDUAL\n",
      "0.901\tCANCER WORKUP\n",
      "0.897\tStroke, Lacunar\n",
      "0.895\tCVA DISTRIBUTION MCA\n",
      "0.894\tThalamic infarction\n",
      "0.889\tLeft hemiparesis\n",
      "0.888\tRight hemiparesis\n"
     ]
    },
    {
     "name": "stderr",
     "output_type": "stream",
     "text": [
      "Epoch 50: 1440it [07:09,  3.35it/s, loss=5829.967]                                                                     \n"
     ]
    },
    {
     "name": "stdout",
     "output_type": "stream",
     "text": [
      "1.000\tIschemic stroke\n",
      "0.934\tAcute Cerebrovascular Accidents\n",
      "0.927\tAcute ischemic stroke subtype\n",
      "0.907\tWEAKNESS RESIDUAL\n",
      "0.894\tCVA DISTRIBUTION MCA\n",
      "0.893\tStroke, Lacunar\n",
      "0.889\tThalamic infarction\n",
      "0.888\tTransient Ischemic Attack\n",
      "0.886\tCANCER WORKUP\n",
      "0.881\tIntracranial Hemorrhage\n",
      "[48117001.0, 34838506.712890625, 30136581.215820312, 27425331.391601562, 25559103.729492188, 24140458.036132812, 23013291.181640625, 22087911.190429688, 21303551.436523438, 20624172.674804688, 20006899.734375, 19459065.2421875, 18958038.936523438, 18490251.908203125, 18061518.086914062, 17674138.061523438, 17319280.380859375, 16983358.043945312, 16664058.073242188, 16357197.025390625, 16083402.198242188, 15807204.088867188, 15563606.02734375, 15319388.051757812, 15087667.051757812, 14865657.7578125, 14693355.289550781, 14465770.283691406, 14276719.106445312, 14097417.866210938, 13922525.47265625, 13762162.331054688, 13594302.790039062, 13442185.420898438, 13293640.6796875, 13153114.493164062, 13020411.931640625, 12887022.825683594, 12759557.923828125, 12627777.7734375, 12515584.56640625, 12400159.398925781, 12272823.74609375, 12165958.302734375, 12060032.541503906, 11964871.145019531, 11857724.462890625, 11762395.981445312, 11670858.721191406, 11573053.693847656, 11491678.375]\n"
     ]
    }
   ],
   "source": [
    "trainingpairs = torch.LongTensor(trainingpairs)\n",
    "for epoch in range(50):\n",
    "    total_loss = 0\n",
    "    shuffler = torch.randperm(trainingpairs.shape[0])\n",
    "    trainingpairs = trainingpairs[shuffler].view(trainingpairs.size())\n",
    "    with tqdm(np.arange(0, len(trainingpairs), BATCH_SIZE), desc=f'Epoch {epoch+1}', total = len(trainingpairs)//BATCH_SIZE) as progress: #goes one example at a time\n",
    "        for batchidx in progress:\n",
    "            data = trainingpairs[batchidx:batchidx+BATCH_SIZE]\n",
    "            inputs = torch.cat((data[:, 0], data[:,1])) #we'll go bidirectional; usually not done I suppose\n",
    "            targets = torch.cat((data[:, 1], data[:,0]))#doubles the batch size\n",
    "            negatives = samplingids[frequency.multinomial(num_samples=inputs.shape[0]*NEGSAMPLES, replacement=True)].reshape(inputs.shape[0], NEGSAMPLES)\n",
    "            optimizer.zero_grad()\n",
    "            loss = model.forward(inputs, targets, negatives)\n",
    "            loss.backward()\n",
    "            optimizer.step()\n",
    "            total_loss += loss.item()\n",
    "            progress.set_postfix(loss=f\"{loss.item():3.3f}\")\n",
    "        losses.append(total_loss)\n",
    "        progress.set_postfix(loss=f\"{total_loss:3.3f}\")\n",
    "    nearest_embedding_search('C0948008')\n",
    "    \n",
    "print(losses)\n"
   ]
  },
  {
   "cell_type": "code",
   "execution_count": 19,
   "metadata": {},
   "outputs": [],
   "source": [
    "torch.save(model.state_dict(), 'cui_model_6_MAR_2022.pt')"
   ]
  },
  {
   "cell_type": "code",
   "execution_count": 20,
   "metadata": {},
   "outputs": [
    {
     "name": "stdout",
     "output_type": "stream",
     "text": [
      "0\n"
     ]
    }
   ],
   "source": [
    "for _, i in enumerate(losses):\n",
    "    if losses[_-1] < i: #if loss is always monitonically decreasing, should print 0 only\n",
    "        print(_)"
   ]
  },
  {
   "cell_type": "code",
   "execution_count": 21,
   "metadata": {},
   "outputs": [],
   "source": [
    "with open(\"cui_vectors_6_MAR_2022.json\",'w') as outfile:\n",
    "    json.dump({key:model.in_embeddings.weight.data[value].tolist() for key,value in vocab.items()}, outfile)"
   ]
  },
  {
   "cell_type": "code",
   "execution_count": 15,
   "metadata": {},
   "outputs": [
    {
     "name": "stderr",
     "output_type": "stream",
     "text": [
      "100%|███████████████████████████████████| 29865/29865 [01:16<00:00, 391.28it/s]\n"
     ]
    }
   ],
   "source": [
    "# ToDo: Build document vectors from CUI vector components\n",
    "docvectors = np.zeros((len(cuidata), EMBEDDING_DIM))\n",
    "for i,doc in tqdm(enumerate(cuidata), total=len(cuidata)):\n",
    "    for cui in cuidata[doc]['cuis']:\n",
    "        docvectors[i] += model.in_embeddings.weight.data[vocab[cui]].numpy()\n"
   ]
  },
  {
   "cell_type": "code",
   "execution_count": 21,
   "metadata": {},
   "outputs": [
    {
     "name": "stderr",
     "output_type": "stream",
     "text": [
      "100%|███████████████████████████████████| 29865/29865 [01:07<00:00, 439.69it/s]\n"
     ]
    }
   ],
   "source": [
    "# ToDo: Build document vectors from CUI vector components\n",
    "docvectors = np.zeros((len(cuidata), EMBEDDING_DIM))\n",
    "for i,doc in tqdm(enumerate(cuidata), total=len(cuidata)):\n",
    "    tmpvecs = np.zeros(EMBEDDING_DIM)\n",
    "    for cui in cuidata[doc]['cuis']:\n",
    "        tmpvecs += model.in_embeddings.weight.data[vocab[cui]].numpy()\n",
    "    docvectors[i] = tmpvecs / len(cuidata[doc]['cuis'])"
   ]
  },
  {
   "cell_type": "code",
   "execution_count": 22,
   "metadata": {},
   "outputs": [],
   "source": [
    "with open('average_document_vectors_28_FEB_2022.json','w') as outfile:\n",
    "    json.dump({x:list(y) for x,y in zip(cuidata.keys(), docvectors)}, outfile)"
   ]
  },
  {
   "cell_type": "code",
   "execution_count": null,
   "metadata": {},
   "outputs": [],
   "source": []
  },
  {
   "cell_type": "code",
   "execution_count": 27,
   "metadata": {},
   "outputs": [],
   "source": [
    "'''\n",
    "To load the saved pytorch model:\n",
    "\n",
    "model = CUIEmbeddingModel(len(vocab), EMBEDDING_DIM) #vocab and embedding dim must match what the model was trained on\n",
    "model.load_state_dict(torch.load(cui_model_15_NOV_2021.pt))\n",
    "model.eval() #set to evaluation mode\n",
    "''';"
   ]
  },
  {
   "cell_type": "code",
   "execution_count": 32,
   "metadata": {},
   "outputs": [
    {
     "name": "stdout",
     "output_type": "stream",
     "text": [
      "1.000\tCVA ETIOLOGY HEMORRHAGIC ISCHEMIC\n",
      "0.847\tAcute Cerebrovascular Accidents\n",
      "0.836\tIschemic stroke\n",
      "0.829\tLeft hemiparesis\n",
      "0.829\tStructure of middle cerebral artery\n",
      "0.822\tThalamic infarction\n",
      "0.821\tTransient Ischemic Attack\n",
      "0.820\tEvaluation\n",
      "0.815\tAcute ischemic stroke subtype\n",
      "0.815\ttransient ischemic attack without residual deficits\n"
     ]
    }
   ],
   "source": [
    "nearest_embedding_search('C0742946')"
   ]
  },
  {
   "cell_type": "code",
   "execution_count": 33,
   "metadata": {},
   "outputs": [],
   "source": [
    "import xgboost"
   ]
  },
  {
   "cell_type": "code",
   "execution_count": null,
   "metadata": {},
   "outputs": [],
   "source": []
  }
 ],
 "metadata": {
  "kernelspec": {
   "display_name": "Python 3",
   "language": "python",
   "name": "python3"
  },
  "language_info": {
   "codemirror_mode": {
    "name": "ipython",
    "version": 3
   },
   "file_extension": ".py",
   "mimetype": "text/x-python",
   "name": "python",
   "nbconvert_exporter": "python",
   "pygments_lexer": "ipython3",
   "version": "3.9.1"
  }
 },
 "nbformat": 4,
 "nbformat_minor": 5
}
