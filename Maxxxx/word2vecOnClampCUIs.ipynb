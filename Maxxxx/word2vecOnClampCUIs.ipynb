{
 "cells": [
  {
   "cell_type": "code",
   "execution_count": 1,
   "id": "suburban-timer",
   "metadata": {},
   "outputs": [],
   "source": [
    "import os\n",
    "import json\n",
    "import torch\n",
    "import numpy as np\n",
    "from tqdm import tqdm\n",
    "from collections import Counter"
   ]
  },
  {
   "cell_type": "code",
   "execution_count": 2,
   "id": "universal-clear",
   "metadata": {},
   "outputs": [],
   "source": [
    "#Load the cui data\n",
    "# os.chdir('P:\\ORD_Singh_201911038D\\Justin\\Stroke_Notes_13OCT21') #make sure we're in the right place\n",
    "DATA_PATH = \"P:\\ORD_Singh_201911038D\\Justin\\Stroke_Notes_13OCT21\"\n",
    "with open(os.path.join(DATA_PATH, \"sids_to_clamp_cuis.json\"),'r') as infile:\n",
    "    cuidata = json.load(infile)"
   ]
  },
  {
   "cell_type": "code",
   "execution_count": 3,
   "id": "elect-trade",
   "metadata": {},
   "outputs": [
    {
     "name": "stdout",
     "output_type": "stream",
     "text": [
      "dict_keys(['cuis', 'semtype', 'presence'])\n",
      "['C0008031', 'C1507320', 'C0015031', 'C4718442', 'C2707412', 'C0281822', 'C0043250', 'C0281822', 'C0398266', 'C3244243']\n"
     ]
    }
   ],
   "source": [
    "#print(list(cuidata)[0]) # print the first document ID\n",
    "print(cuidata[list(cuidata)[0]].keys()) # Just to show the data fields in each document\n",
    "print(cuidata[list(cuidata)[0]]['cuis'][:10]) # show the first 10 cuis of this specific document"
   ]
  },
  {
   "cell_type": "code",
   "execution_count": 4,
   "id": "instructional-soccer",
   "metadata": {},
   "outputs": [
    {
     "name": "stderr",
     "output_type": "stream",
     "text": [
      "100%|███████████████████████████████████████████████████████████████████████████| 29865/29865 [00:34<00:00, 866.05it/s]"
     ]
    },
    {
     "name": "stdout",
     "output_type": "stream",
     "text": [
      "[[0, 1], [1, 2], [2, 3]]\n",
      "3526722\n",
      "111303\n"
     ]
    },
    {
     "name": "stderr",
     "output_type": "stream",
     "text": [
      "\n"
     ]
    }
   ],
   "source": [
    "# We will get training pairs. One is the context term the next is the target term.\n",
    "trainingpairs = []\n",
    "vocab = dict()\n",
    "frequency = Counter()\n",
    "idx = 0\n",
    "\n",
    "# This could absolutely be accomplished in an alternative / faster way but it's sufficiently fast for now\n",
    "for doc in tqdm(cuidata):\n",
    "    cuis = cuidata[doc]['cuis']\n",
    "    cuiids = []\n",
    "    for x in cuis:\n",
    "        if x not in vocab.keys():\n",
    "            vocab.update({x:idx})\n",
    "            idx+=1\n",
    "        cuiids += [vocab[x]]\n",
    "    for i in range(len(cuiids)-1):\n",
    "        pair = cuiids[i:i+2]\n",
    "        if len(pair) < 2:\n",
    "            continue\n",
    "        if pair[0] != pair[1]:\n",
    "            trainingpairs += [pair] #no self references\n",
    "            frequency.update(pair)\n",
    "print(trainingpairs[:3])\n",
    "print(len(trainingpairs))\n",
    "print(len(vocab))\n",
    "assert np.all(np.asarray([x for x in vocab.values()]) == np.arange(len(vocab)))\n",
    "# We'll use an embedding dimension of 50 to start\n",
    "EMBEDDING_DIM = 100"
   ]
  },
  {
   "cell_type": "code",
   "execution_count": 5,
   "id": "direct-growth",
   "metadata": {},
   "outputs": [],
   "source": [
    "frequency = np.asarray([values for key,values in frequency.items()])**0.75\n",
    "frequency /= np.linalg.norm(frequency, ord=1)\n",
    "frequency = torch.from_numpy(frequency)\n",
    "samplingids = torch.arange(0, len(frequency))"
   ]
  },
  {
   "cell_type": "code",
   "execution_count": 6,
   "id": "studied-clerk",
   "metadata": {},
   "outputs": [],
   "source": [
    "class CUIEmbeddingModel(torch.nn.Module):\n",
    "    def __init__(self, vocab_size, embedding_dim):\n",
    "        super(CUIEmbeddingModel, self).__init__()\n",
    "        self.dim = embedding_dim\n",
    "        self.in_embeddings = torch.nn.Embedding(vocab_size, embedding_dim, sparse=True)\n",
    "        self.out_embeddings = torch.nn.Embedding(vocab_size, embedding_dim, sparse=True)\n",
    "        \n",
    "    def init(self):\n",
    "        self.in_embeddings.weight.data.uniform_(-0.5/self.dim, 0.5/self.dim) # scaled by dimensionality to control initial norm.\n",
    "        self.out_embeddings.weight.data.uniform(-0, 0) # all 0s\n",
    "        \n",
    "    def forward(self, inputs, targets, negatives):\n",
    "        inembed = self.in_embeddings(inputs)\n",
    "        outembed = self.out_embeddings(targets)\n",
    "        pos_score = torch.sum(torch.mul(inembed, outembed), dim=1)\n",
    "        pos_score = torch.nn.functional.logsigmoid(pos_score)\n",
    "        negembed = self.out_embeddings(negatives)\n",
    "        neg_score = torch.bmm(negembed, inembed.unsqueeze(2)).squeeze()\n",
    "        neg_score = torch.nn.functional.logsigmoid(-1*neg_score)\n",
    "        return -1 * (torch.sum(pos_score)+torch.sum(neg_score))\n",
    "    "
   ]
  },
  {
   "cell_type": "code",
   "execution_count": 7,
   "id": "twelve-portrait",
   "metadata": {},
   "outputs": [],
   "source": [
    "losses = []\n",
    "model = CUIEmbeddingModel(len(vocab), EMBEDDING_DIM)\n",
    "optimizer = torch.optim.SGD(model.parameters(), lr=0.001)\n",
    "NEGSAMPLES = 2"
   ]
  },
  {
   "cell_type": "code",
   "execution_count": 8,
   "id": "alleged-leave",
   "metadata": {},
   "outputs": [
    {
     "name": "stderr",
     "output_type": "stream",
     "text": [
      "1764it [00:01, 930.75it/s]                                                                                             \n"
     ]
    }
   ],
   "source": [
    "#Test batching (also gives you an idea of theoretical max throughput in a way)\n",
    "BATCH_SIZE=2000\n",
    "for batchidx in tqdm(np.arange(0, len(trainingpairs), BATCH_SIZE), total = len(trainingpairs)//BATCH_SIZE):\n",
    "    data = trainingpairs[batchidx:batchidx+BATCH_SIZE]\n",
    "    context_idxs = torch.tensor(data)"
   ]
  },
  {
   "cell_type": "code",
   "execution_count": 9,
   "id": "attached-hydrogen",
   "metadata": {},
   "outputs": [],
   "source": [
    "def nearest_embedding_search(cui):\n",
    "    #C0948008 = ischemic stroke\n",
    "    for i in zip(*torch.topk(torch.nn.functional.cosine_similarity(model.in_embeddings.weight.data[vocab[cui]].view(1,-1), \n",
    "                                                                   model.in_embeddings.weight.data), 10, largest=True)):\n",
    "        print(f'{i[0]:0.3f}\\t{cuitranslate[id2vocab[int(i[1])]]}')"
   ]
  },
  {
   "cell_type": "code",
   "execution_count": 10,
   "id": "graduate-wilderness",
   "metadata": {},
   "outputs": [],
   "source": [
    "id2vocab = {value:key for key,value in vocab.items()}\n",
    "with open(os.path.join(DATA_PATH, \"cuitranslate.json\"),'r') as infile:\n",
    "    cuitranslate = json.load(infile)"
   ]
  },
  {
   "cell_type": "code",
   "execution_count": 11,
   "id": "super-ordering",
   "metadata": {},
   "outputs": [
    {
     "name": "stdout",
     "output_type": "stream",
     "text": [
      "[(0, 'C0008031'), (1, 'C1507320'), (2, 'C0015031'), (3, 'C4718442'), (4, 'C2707412'), (5, 'C0281822'), (6, 'C0043250'), (7, 'C0398266'), (8, 'C3244243'), (9, 'C0018802')]\n",
      "[('C0000005', '(131)I-Macroaggregated Albumin'), ('C0000039', '1,2-dipalmitoylphosphatidylcholine'), ('C0000052', '1,4-alpha-Glucan Branching Enzyme'), ('C0000074', '1-Alkyl-2-Acylphosphatidates'), ('C0000084', '1-Carboxyglutamic Acid'), ('C0000096', '1-Methyl-3-isobutylxanthine'), ('C0000097', '1-Methyl-4-phenyl-1,2,3,6-tetrahydropyridine'), ('C0000098', '1-Methyl-4-phenylpyridinium'), ('C0000102', '1-Naphthylamine'), ('C0000103', '1-Naphthylisothiocyanate')]\n",
      "(131)I-Macroaggregated Albumin\n"
     ]
    }
   ],
   "source": [
    "print(list(id2vocab.items())[0:10])\n",
    "print(list(cuitranslate.items())[0:10])\n",
    "print(cuitranslate[\"C0000005\"])"
   ]
  },
  {
   "cell_type": "code",
   "execution_count": 12,
   "id": "strategic-mitchell",
   "metadata": {
    "scrolled": true,
    "tags": []
   },
   "outputs": [
    {
     "name": "stderr",
     "output_type": "stream",
     "text": [
      "Epoch 1: 1764it [07:58,  3.68it/s, loss=9492.232]                                                                      \n"
     ]
    },
    {
     "name": "stdout",
     "output_type": "stream",
     "text": [
      "1.000\tIschemic stroke\n",
      "0.415\tPathological fracture of left rib\n",
      "0.386\tspindle cell rhabdomyosarcoma of soft tissue\n",
      "0.375\tTrimalleolar Fractures\n",
      "0.373\tSelf-expanding stent\n",
      "0.372\tBundle of His\n",
      "0.369\tmagnetic resonance imaging of knee: non-displaced fracture\n",
      "0.369\tpomalidomide\n",
      "0.364\tCisternal tap\n",
      "0.357\tColor Blindness, Blue\n"
     ]
    },
    {
     "name": "stderr",
     "output_type": "stream",
     "text": [
      "Epoch 2: 1764it [08:10,  3.60it/s, loss=7536.564]                                                                      \n"
     ]
    },
    {
     "name": "stdout",
     "output_type": "stream",
     "text": [
      "1.000\tIschemic stroke\n",
      "0.391\tPathological fracture of left rib\n",
      "0.385\tTrimalleolar Fractures\n",
      "0.384\tpomalidomide\n",
      "0.376\tspindle cell rhabdomyosarcoma of soft tissue\n",
      "0.374\tFemoracetabular Impingement\n",
      "0.368\tGuidance for cryoablation:Find:Pt:Chest>Lung:Doc:{Imaging modality}\n",
      "0.365\tPertinent information\n",
      "0.360\tCAT scan of head\n",
      "0.359\tstress test-induced anxiety\n"
     ]
    },
    {
     "name": "stderr",
     "output_type": "stream",
     "text": [
      "Epoch 3: 1764it [08:04,  3.64it/s, loss=6796.781]                                                                      \n"
     ]
    },
    {
     "name": "stdout",
     "output_type": "stream",
     "text": [
      "1.000\tIschemic stroke\n",
      "0.503\tDiabetes Mellitus, Non-Insulin-Dependent\n",
      "0.492\tTransient Ischemic Attack\n",
      "0.488\tAcute Cerebrovascular Accidents\n",
      "0.487\tImagent\n",
      "0.483\tsquare decimeter\n",
      "0.482\tEvaluation\n",
      "0.479\tHypertensive disease\n",
      "0.478\tCAD gene\n",
      "0.476\tX-Ray Computed Tomography\n"
     ]
    },
    {
     "name": "stderr",
     "output_type": "stream",
     "text": [
      "Epoch 4: 1764it [08:06,  3.63it/s, loss=6326.548]                                                                      \n"
     ]
    },
    {
     "name": "stdout",
     "output_type": "stream",
     "text": [
      "1.000\tIschemic stroke\n",
      "0.693\tAcute Cerebrovascular Accidents\n",
      "0.667\tTransient Ischemic Attack\n",
      "0.666\tCANCER WORKUP\n",
      "0.665\twork restrictions decision pending further evaluation\n",
      "0.663\tLeft hemiparesis\n",
      "0.634\tEvaluation\n",
      "0.632\tRehabilitation therapy\n",
      "0.632\tAtrial Fibrillation\n",
      "0.628\tMagnetic Resonance Imaging\n"
     ]
    },
    {
     "name": "stderr",
     "output_type": "stream",
     "text": [
      "Epoch 5: 1764it [07:40,  3.83it/s, loss=6165.735]                                                                      \n"
     ]
    },
    {
     "name": "stdout",
     "output_type": "stream",
     "text": [
      "1.000\tIschemic stroke\n",
      "0.772\tAcute Cerebrovascular Accidents\n",
      "0.733\tCANCER WORKUP\n",
      "0.732\tEvaluation\n",
      "0.698\tLeft hemiparesis\n",
      "0.688\tMagnetic Resonance Imaging\n",
      "0.686\tRehabilitation therapy\n",
      "0.685\tTransient Ischemic Attack\n",
      "0.678\tTelemetry\n",
      "0.673\tDeep Vein Thrombosis\n"
     ]
    },
    {
     "name": "stderr",
     "output_type": "stream",
     "text": [
      "Epoch 6: 1764it [07:49,  3.75it/s, loss=5586.606]                                                                      \n"
     ]
    },
    {
     "name": "stdout",
     "output_type": "stream",
     "text": [
      "1.000\tIschemic stroke\n",
      "0.809\tTransient Ischemic Attack\n",
      "0.772\tAcute Cerebrovascular Accidents\n",
      "0.760\tCANCER WORKUP\n",
      "0.754\tEvaluation\n",
      "0.719\tCerebrovascular accident\n",
      "0.717\tAtrial Fibrillation\n",
      "0.699\tCarcinoembryonic Antigen\n",
      "0.698\tRight hemiparesis\n",
      "0.697\tMagnetic resonance imaging of brain and brain stem\n"
     ]
    },
    {
     "name": "stderr",
     "output_type": "stream",
     "text": [
      "Epoch 7: 1764it [08:11,  3.59it/s, loss=5586.883]                                                                      \n"
     ]
    },
    {
     "name": "stdout",
     "output_type": "stream",
     "text": [
      "1.000\tIschemic stroke\n",
      "0.842\tTransient Ischemic Attack\n",
      "0.800\tAcute Cerebrovascular Accidents\n",
      "0.798\tEvaluation\n",
      "0.797\tAcute ischemic stroke subtype\n",
      "0.780\tCANCER WORKUP\n",
      "0.755\tWork-up\n",
      "0.753\tMagnetic resonance imaging of brain and brain stem\n",
      "0.752\twork restrictions decision pending further evaluation\n",
      "0.751\tCAT scan of head\n"
     ]
    },
    {
     "name": "stderr",
     "output_type": "stream",
     "text": [
      "Epoch 8: 1764it [08:25,  3.49it/s, loss=5135.917]                                                                      \n"
     ]
    },
    {
     "name": "stdout",
     "output_type": "stream",
     "text": [
      "1.000\tIschemic stroke\n",
      "0.838\tAcute Cerebrovascular Accidents\n",
      "0.820\tCANCER WORKUP\n",
      "0.818\tWork-up\n",
      "0.817\tEvaluation\n",
      "0.802\tTransient Ischemic Attack\n",
      "0.793\tAcute ischemic stroke subtype\n",
      "0.792\tRight hemiparesis\n",
      "0.788\tStructure of middle cerebral artery\n",
      "0.786\tLeft hemiparesis\n"
     ]
    },
    {
     "name": "stderr",
     "output_type": "stream",
     "text": [
      "Epoch 9: 1764it [08:26,  3.48it/s, loss=4770.896]                                                                      \n"
     ]
    },
    {
     "name": "stdout",
     "output_type": "stream",
     "text": [
      "1.000\tIschemic stroke\n",
      "0.853\tAcute Cerebrovascular Accidents\n",
      "0.847\tCANCER WORKUP\n",
      "0.839\tTransient Ischemic Attack\n",
      "0.838\tAcute ischemic stroke subtype\n",
      "0.820\tEvaluation\n",
      "0.820\tLeft hemiparesis\n",
      "0.819\tWEAKNESS RESIDUAL\n",
      "0.808\tCerebrovascular accident\n",
      "0.805\tFurther\n"
     ]
    },
    {
     "name": "stderr",
     "output_type": "stream",
     "text": [
      "Epoch 10: 1764it [07:59,  3.68it/s, loss=4861.857]                                                                     \n"
     ]
    },
    {
     "name": "stdout",
     "output_type": "stream",
     "text": [
      "1.000\tIschemic stroke\n",
      "0.888\tAcute Cerebrovascular Accidents\n",
      "0.867\tAcute ischemic stroke subtype\n",
      "0.866\tTransient Ischemic Attack\n",
      "0.856\tWEAKNESS RESIDUAL\n",
      "0.848\tCANCER WORKUP\n",
      "0.835\tEvaluation\n",
      "0.830\tIntervention regimes\n",
      "0.823\tStructure of middle cerebral artery\n",
      "0.823\tLeft hemiparesis\n"
     ]
    },
    {
     "name": "stderr",
     "output_type": "stream",
     "text": [
      "Epoch 11: 1764it [08:13,  3.57it/s, loss=4787.319]                                                                     \n"
     ]
    },
    {
     "name": "stdout",
     "output_type": "stream",
     "text": [
      "1.000\tIschemic stroke\n",
      "0.891\tAcute ischemic stroke subtype\n",
      "0.883\tAcute Cerebrovascular Accidents\n",
      "0.872\tTransient Ischemic Attack\n",
      "0.858\tCANCER WORKUP\n",
      "0.855\tIntervention regimes\n",
      "0.850\tCardioembolic Stroke\n",
      "0.849\tWEAKNESS RESIDUAL\n",
      "0.839\tLeft hemiparesis\n",
      "0.835\tCerebrovascular accident\n"
     ]
    },
    {
     "name": "stderr",
     "output_type": "stream",
     "text": [
      "Epoch 12: 1764it [08:13,  3.57it/s, loss=4528.994]                                                                     \n"
     ]
    },
    {
     "name": "stdout",
     "output_type": "stream",
     "text": [
      "1.000\tIschemic stroke\n",
      "0.901\tAcute Cerebrovascular Accidents\n",
      "0.887\tAcute ischemic stroke subtype\n",
      "0.866\tTransient Ischemic Attack\n",
      "0.856\tWork-up\n",
      "0.855\tWEAKNESS RESIDUAL\n",
      "0.850\tEvaluation\n",
      "0.846\tCardioembolic Stroke\n",
      "0.846\tCANCER WORKUP\n",
      "0.836\tThalamic infarction\n"
     ]
    },
    {
     "name": "stderr",
     "output_type": "stream",
     "text": [
      "Epoch 13: 1764it [07:42,  3.82it/s, loss=4676.262]                                                                     \n"
     ]
    },
    {
     "name": "stdout",
     "output_type": "stream",
     "text": [
      "1.000\tIschemic stroke\n",
      "0.906\tAcute Cerebrovascular Accidents\n",
      "0.893\tAcute ischemic stroke subtype\n",
      "0.877\tCANCER WORKUP\n",
      "0.858\tTransient Ischemic Attack\n",
      "0.857\tEvaluation\n",
      "0.852\tThalamic infarction\n",
      "0.851\tCardioembolic Stroke\n",
      "0.841\tMagnetic Resonance Imaging\n",
      "0.839\tWEAKNESS RESIDUAL\n"
     ]
    },
    {
     "name": "stderr",
     "output_type": "stream",
     "text": [
      "Epoch 14: 1764it [07:58,  3.69it/s, loss=4104.867]                                                                     \n"
     ]
    },
    {
     "name": "stdout",
     "output_type": "stream",
     "text": [
      "1.000\tIschemic stroke\n",
      "0.907\tAcute Cerebrovascular Accidents\n",
      "0.902\tAcute ischemic stroke subtype\n",
      "0.882\tCANCER WORKUP\n",
      "0.877\tTransient Ischemic Attack\n",
      "0.871\tThalamic infarction\n",
      "0.858\tEvaluation\n",
      "0.850\tWork-up\n",
      "0.848\tCardioembolic Stroke\n",
      "0.847\tMagnetic Resonance Imaging\n"
     ]
    },
    {
     "name": "stderr",
     "output_type": "stream",
     "text": [
      "Epoch 15: 1764it [08:11,  3.59it/s, loss=4182.456]                                                                     \n"
     ]
    },
    {
     "name": "stdout",
     "output_type": "stream",
     "text": [
      "1.000\tIschemic stroke\n",
      "0.913\tAcute Cerebrovascular Accidents\n",
      "0.894\tAcute ischemic stroke subtype\n",
      "0.887\tTransient Ischemic Attack\n",
      "0.886\tCANCER WORKUP\n",
      "0.878\tThalamic infarction\n",
      "0.875\tWEAKNESS RESIDUAL\n",
      "0.866\tEvaluation\n",
      "0.855\tCardioembolic Stroke\n",
      "0.846\tLeft hemiparesis\n"
     ]
    },
    {
     "name": "stderr",
     "output_type": "stream",
     "text": [
      "Epoch 16: 1764it [08:17,  3.55it/s, loss=3952.848]                                                                     \n"
     ]
    },
    {
     "name": "stdout",
     "output_type": "stream",
     "text": [
      "1.000\tIschemic stroke\n",
      "0.916\tAcute Cerebrovascular Accidents\n",
      "0.913\tAcute ischemic stroke subtype\n",
      "0.890\tCANCER WORKUP\n",
      "0.883\tEvaluation\n",
      "0.881\tThalamic infarction\n",
      "0.880\tWEAKNESS RESIDUAL\n",
      "0.874\tTransient Ischemic Attack\n",
      "0.865\tCardioembolic Stroke\n",
      "0.855\tCerebrovascular accident\n"
     ]
    },
    {
     "name": "stderr",
     "output_type": "stream",
     "text": [
      "Epoch 17: 1764it [07:59,  3.68it/s, loss=4002.738]                                                                     \n"
     ]
    },
    {
     "name": "stdout",
     "output_type": "stream",
     "text": [
      "1.000\tIschemic stroke\n",
      "0.927\tAcute ischemic stroke subtype\n",
      "0.919\tAcute Cerebrovascular Accidents\n",
      "0.888\tCANCER WORKUP\n",
      "0.884\tTransient Ischemic Attack\n",
      "0.876\tCardioembolic Stroke\n",
      "0.875\tNeurology speciality\n",
      "0.871\tWEAKNESS RESIDUAL\n",
      "0.870\tWork-up\n",
      "0.869\tThalamic infarction\n"
     ]
    },
    {
     "name": "stderr",
     "output_type": "stream",
     "text": [
      "Epoch 18: 1764it [08:14,  3.56it/s, loss=3977.569]                                                                     \n"
     ]
    },
    {
     "name": "stdout",
     "output_type": "stream",
     "text": [
      "1.000\tIschemic stroke\n",
      "0.915\tAcute Cerebrovascular Accidents\n",
      "0.905\tAcute ischemic stroke subtype\n",
      "0.883\tTransient Ischemic Attack\n",
      "0.882\tWEAKNESS RESIDUAL\n",
      "0.879\tCANCER WORKUP\n",
      "0.879\tThalamic infarction\n",
      "0.866\tWork-up\n",
      "0.864\tCardioembolic Stroke\n",
      "0.863\tSubacute\n"
     ]
    },
    {
     "name": "stderr",
     "output_type": "stream",
     "text": [
      "Epoch 19: 1764it [08:09,  3.61it/s, loss=3723.207]                                                                     \n"
     ]
    },
    {
     "name": "stdout",
     "output_type": "stream",
     "text": [
      "1.000\tIschemic stroke\n",
      "0.914\tAcute Cerebrovascular Accidents\n",
      "0.912\tAcute ischemic stroke subtype\n",
      "0.888\tWEAKNESS RESIDUAL\n",
      "0.883\tThalamic infarction\n",
      "0.881\tTransient Ischemic Attack\n",
      "0.879\tCANCER WORKUP\n",
      "0.874\tSubacute\n",
      "0.872\tCardioembolic Stroke\n",
      "0.861\tWork-up\n"
     ]
    },
    {
     "name": "stderr",
     "output_type": "stream",
     "text": [
      "Epoch 20: 1764it [07:56,  3.70it/s, loss=3656.540]                                                                     \n"
     ]
    },
    {
     "name": "stdout",
     "output_type": "stream",
     "text": [
      "1.000\tIschemic stroke\n",
      "0.936\tAcute Cerebrovascular Accidents\n",
      "0.914\tAcute ischemic stroke subtype\n",
      "0.904\tCANCER WORKUP\n",
      "0.896\tThalamic infarction\n",
      "0.886\tSubacute\n",
      "0.886\tWEAKNESS RESIDUAL\n",
      "0.875\tEvaluation\n",
      "0.874\tCardioembolic Stroke\n",
      "0.871\tStroke in the puerperium\n"
     ]
    },
    {
     "name": "stderr",
     "output_type": "stream",
     "text": [
      "Epoch 21: 1764it [08:04,  3.64it/s, loss=3733.581]                                                                     \n"
     ]
    },
    {
     "name": "stdout",
     "output_type": "stream",
     "text": [
      "1.000\tIschemic stroke\n",
      "0.932\tAcute Cerebrovascular Accidents\n",
      "0.918\tAcute ischemic stroke subtype\n",
      "0.910\tCANCER WORKUP\n",
      "0.899\tThalamic infarction\n",
      "0.896\tSubacute\n",
      "0.890\tWEAKNESS RESIDUAL\n",
      "0.884\tEvaluation\n",
      "0.881\tCardioembolic Stroke\n",
      "0.881\tCerebellar stroke\n"
     ]
    },
    {
     "name": "stderr",
     "output_type": "stream",
     "text": [
      "Epoch 22: 1764it [08:08,  3.61it/s, loss=3654.685]                                                                     \n"
     ]
    },
    {
     "name": "stdout",
     "output_type": "stream",
     "text": [
      "1.000\tIschemic stroke\n",
      "0.926\tAcute Cerebrovascular Accidents\n",
      "0.919\tAcute ischemic stroke subtype\n",
      "0.900\tCANCER WORKUP\n",
      "0.898\tSubacute\n",
      "0.897\tWEAKNESS RESIDUAL\n",
      "0.896\tThalamic infarction\n",
      "0.893\tTransient Ischemic Attack\n",
      "0.883\tCerebellar stroke\n",
      "0.880\tBrain hemorrhage\n"
     ]
    },
    {
     "name": "stderr",
     "output_type": "stream",
     "text": [
      "Epoch 23: 1764it [07:57,  3.69it/s, loss=3662.129]                                                                     \n"
     ]
    },
    {
     "name": "stdout",
     "output_type": "stream",
     "text": [
      "1.000\tIschemic stroke\n",
      "0.928\tAcute Cerebrovascular Accidents\n",
      "0.917\tAcute ischemic stroke subtype\n",
      "0.909\tWEAKNESS RESIDUAL\n",
      "0.901\tThalamic infarction\n",
      "0.900\tCardioembolic Stroke\n",
      "0.898\tCANCER WORKUP\n",
      "0.896\tCerebellar stroke\n",
      "0.889\tSubacute\n",
      "0.885\tWork-up\n"
     ]
    },
    {
     "name": "stderr",
     "output_type": "stream",
     "text": [
      "Epoch 24: 1764it [08:11,  3.59it/s, loss=3833.920]                                                                     \n"
     ]
    },
    {
     "name": "stdout",
     "output_type": "stream",
     "text": [
      "1.000\tIschemic stroke\n",
      "0.927\tAcute Cerebrovascular Accidents\n",
      "0.923\tAcute ischemic stroke subtype\n",
      "0.912\tCANCER WORKUP\n",
      "0.901\tThalamic infarction\n",
      "0.896\tCerebellar stroke\n",
      "0.894\tCardioembolic Stroke\n",
      "0.891\tWEAKNESS RESIDUAL\n",
      "0.888\tTransient Ischemic Attack\n",
      "0.882\tWork-up\n"
     ]
    },
    {
     "name": "stderr",
     "output_type": "stream",
     "text": [
      "Epoch 25: 1764it [08:28,  3.47it/s, loss=3385.498]                                                                     \n"
     ]
    },
    {
     "name": "stdout",
     "output_type": "stream",
     "text": [
      "1.000\tIschemic stroke\n",
      "0.931\tAcute Cerebrovascular Accidents\n",
      "0.918\tAcute ischemic stroke subtype\n",
      "0.905\tThalamic infarction\n",
      "0.904\tCANCER WORKUP\n",
      "0.904\tWEAKNESS RESIDUAL\n",
      "0.904\tCerebellar stroke\n",
      "0.895\tEmbolic Stroke\n",
      "0.893\tEvaluation\n",
      "0.892\tCardioembolic Stroke\n"
     ]
    },
    {
     "name": "stderr",
     "output_type": "stream",
     "text": [
      "Epoch 26: 1764it [08:23,  3.51it/s, loss=3520.954]                                                                     \n"
     ]
    },
    {
     "name": "stdout",
     "output_type": "stream",
     "text": [
      "1.000\tIschemic stroke\n",
      "0.937\tAcute Cerebrovascular Accidents\n",
      "0.923\tAcute ischemic stroke subtype\n",
      "0.909\tCerebellar stroke\n",
      "0.905\tCANCER WORKUP\n",
      "0.901\tThalamic infarction\n",
      "0.897\tWEAKNESS RESIDUAL\n",
      "0.886\tSubacute\n",
      "0.884\ttransient ischemic attack without residual deficits\n",
      "0.882\tEmbolic Stroke\n"
     ]
    },
    {
     "name": "stderr",
     "output_type": "stream",
     "text": [
      "Epoch 27: 1764it [07:55,  3.71it/s, loss=3460.953]                                                                     \n"
     ]
    },
    {
     "name": "stdout",
     "output_type": "stream",
     "text": [
      "1.000\tIschemic stroke\n",
      "0.924\tAcute Cerebrovascular Accidents\n",
      "0.917\tAcute ischemic stroke subtype\n",
      "0.905\tCerebellar stroke\n",
      "0.905\tCANCER WORKUP\n",
      "0.901\tWEAKNESS RESIDUAL\n",
      "0.892\ttransient ischemic attack without residual deficits\n",
      "0.891\tTransient Ischemic Attack\n",
      "0.890\tThalamic infarction\n",
      "0.879\tSubacute\n"
     ]
    },
    {
     "name": "stderr",
     "output_type": "stream",
     "text": [
      "Epoch 28: 1764it [08:06,  3.63it/s, loss=3458.620]                                                                     \n"
     ]
    },
    {
     "name": "stdout",
     "output_type": "stream",
     "text": [
      "1.000\tIschemic stroke\n",
      "0.933\tAcute Cerebrovascular Accidents\n",
      "0.920\tAcute ischemic stroke subtype\n",
      "0.915\tCerebellar stroke\n",
      "0.907\tThalamic infarction\n",
      "0.905\tCANCER WORKUP\n",
      "0.892\tWEAKNESS RESIDUAL\n",
      "0.892\tTransient Ischemic Attack\n",
      "0.890\ttransient ischemic attack without residual deficits\n",
      "0.887\tCVA DISTRIBUTION MCA\n"
     ]
    },
    {
     "name": "stderr",
     "output_type": "stream",
     "text": [
      "Epoch 29: 1764it [08:16,  3.55it/s, loss=3544.070]                                                                     \n"
     ]
    },
    {
     "name": "stdout",
     "output_type": "stream",
     "text": [
      "1.000\tIschemic stroke\n",
      "0.935\tAcute Cerebrovascular Accidents\n",
      "0.921\tAcute ischemic stroke subtype\n",
      "0.907\tCerebellar stroke\n",
      "0.906\tWEAKNESS RESIDUAL\n",
      "0.904\tThalamic infarction\n",
      "0.900\ttransient ischemic attack without residual deficits\n",
      "0.899\tCVA DISTRIBUTION MCA\n",
      "0.893\tTransient Ischemic Attack\n",
      "0.888\tEvaluation\n"
     ]
    },
    {
     "name": "stderr",
     "output_type": "stream",
     "text": [
      "Epoch 30: 1764it [08:31,  3.45it/s, loss=3290.292]                                                                     \n"
     ]
    },
    {
     "name": "stdout",
     "output_type": "stream",
     "text": [
      "1.000\tIschemic stroke\n",
      "0.941\tAcute Cerebrovascular Accidents\n",
      "0.918\tAcute ischemic stroke subtype\n",
      "0.904\ttransient ischemic attack without residual deficits\n",
      "0.904\tCerebellar stroke\n",
      "0.903\tThalamic infarction\n",
      "0.901\tWEAKNESS RESIDUAL\n",
      "0.897\tEmbolic Stroke\n",
      "0.896\tCVA DISTRIBUTION MCA\n",
      "0.891\tTransient Ischemic Attack\n"
     ]
    },
    {
     "name": "stderr",
     "output_type": "stream",
     "text": [
      "Epoch 31: 1764it [08:14,  3.56it/s, loss=3328.696]                                                                     \n"
     ]
    },
    {
     "name": "stdout",
     "output_type": "stream",
     "text": [
      "1.000\tIschemic stroke\n",
      "0.937\tAcute Cerebrovascular Accidents\n",
      "0.923\tAcute ischemic stroke subtype\n",
      "0.902\tCerebellar stroke\n",
      "0.902\tCANCER WORKUP\n",
      "0.900\tThalamic infarction\n",
      "0.900\ttransient ischemic attack without residual deficits\n",
      "0.896\tCVA DISTRIBUTION MCA\n",
      "0.887\tWEAKNESS RESIDUAL\n",
      "0.885\tEmbolic Stroke\n"
     ]
    },
    {
     "name": "stderr",
     "output_type": "stream",
     "text": [
      "Epoch 32: 1764it [07:59,  3.68it/s, loss=3353.450]                                                                     \n"
     ]
    },
    {
     "name": "stdout",
     "output_type": "stream",
     "text": [
      "1.000\tIschemic stroke\n",
      "0.936\tAcute Cerebrovascular Accidents\n",
      "0.925\tAcute ischemic stroke subtype\n",
      "0.904\tThalamic infarction\n",
      "0.901\tCerebellar stroke\n",
      "0.897\ttransient ischemic attack without residual deficits\n",
      "0.890\tCANCER WORKUP\n",
      "0.886\tCVA DISTRIBUTION MCA\n",
      "0.883\tWEAKNESS RESIDUAL\n",
      "0.882\tRight sided cerebral hemisphere cerebrovascular accident\n"
     ]
    },
    {
     "name": "stderr",
     "output_type": "stream",
     "text": [
      "Epoch 33: 1764it [08:38,  3.40it/s, loss=3179.852]                                                                     \n"
     ]
    },
    {
     "name": "stdout",
     "output_type": "stream",
     "text": [
      "1.000\tIschemic stroke\n",
      "0.930\tAcute Cerebrovascular Accidents\n",
      "0.923\tAcute ischemic stroke subtype\n",
      "0.902\tCerebellar stroke\n",
      "0.899\tThalamic infarction\n",
      "0.889\ttransient ischemic attack without residual deficits\n",
      "0.887\tCVA DISTRIBUTION MCA\n",
      "0.886\tEmbolic Stroke\n",
      "0.881\tWEAKNESS RESIDUAL\n",
      "0.880\tTransient Ischemic Attack\n"
     ]
    },
    {
     "name": "stderr",
     "output_type": "stream",
     "text": [
      "Epoch 34: 1764it [08:58,  3.28it/s, loss=2886.509]                                                                     \n"
     ]
    },
    {
     "name": "stdout",
     "output_type": "stream",
     "text": [
      "1.000\tIschemic stroke\n",
      "0.936\tAcute Cerebrovascular Accidents\n",
      "0.926\tAcute ischemic stroke subtype\n",
      "0.904\tCerebellar stroke\n",
      "0.895\tThalamic infarction\n",
      "0.894\tCANCER WORKUP\n",
      "0.891\ttransient ischemic attack without residual deficits\n",
      "0.891\tWEAKNESS RESIDUAL\n",
      "0.889\tSubacute\n",
      "0.888\tEmbolic Stroke\n"
     ]
    },
    {
     "name": "stderr",
     "output_type": "stream",
     "text": [
      "Epoch 35: 1764it [09:42,  3.03it/s, loss=3193.124]                                                                     \n"
     ]
    },
    {
     "name": "stdout",
     "output_type": "stream",
     "text": [
      "1.000\tIschemic stroke\n",
      "0.936\tAcute Cerebrovascular Accidents\n",
      "0.931\tAcute ischemic stroke subtype\n",
      "0.910\tCerebellar stroke\n",
      "0.903\tEmbolic Stroke\n",
      "0.903\tCANCER WORKUP\n",
      "0.898\tThalamic infarction\n",
      "0.896\tSubacute\n",
      "0.894\tCVA DISTRIBUTION MCA\n",
      "0.890\tWEAKNESS RESIDUAL\n"
     ]
    },
    {
     "name": "stderr",
     "output_type": "stream",
     "text": [
      "Epoch 36: 1764it [09:17,  3.17it/s, loss=3138.101]                                                                     \n"
     ]
    },
    {
     "name": "stdout",
     "output_type": "stream",
     "text": [
      "1.000\tIschemic stroke\n",
      "0.939\tAcute Cerebrovascular Accidents\n",
      "0.927\tAcute ischemic stroke subtype\n",
      "0.911\tEmbolic Stroke\n",
      "0.910\tCerebellar stroke\n",
      "0.900\ttransient ischemic attack without residual deficits\n",
      "0.896\tWEAKNESS RESIDUAL\n",
      "0.895\tRight sided cerebral hemisphere cerebrovascular accident\n",
      "0.894\tThalamic infarction\n",
      "0.886\tTransient Ischemic Attack\n"
     ]
    },
    {
     "name": "stderr",
     "output_type": "stream",
     "text": [
      "Epoch 37: 1764it [09:27,  3.11it/s, loss=2929.475]                                                                     \n"
     ]
    },
    {
     "name": "stdout",
     "output_type": "stream",
     "text": [
      "1.000\tIschemic stroke\n",
      "0.942\tAcute Cerebrovascular Accidents\n",
      "0.920\tAcute ischemic stroke subtype\n",
      "0.909\tCerebellar stroke\n",
      "0.904\tEmbolic Stroke\n",
      "0.902\ttransient ischemic attack without residual deficits\n",
      "0.902\tTransient Ischemic Attack\n",
      "0.895\tWEAKNESS RESIDUAL\n",
      "0.894\tThalamic infarction\n",
      "0.892\tRight sided cerebral hemisphere cerebrovascular accident\n"
     ]
    },
    {
     "name": "stderr",
     "output_type": "stream",
     "text": [
      "Epoch 38: 1764it [09:07,  3.22it/s, loss=3037.448]                                                                     \n"
     ]
    },
    {
     "name": "stdout",
     "output_type": "stream",
     "text": [
      "1.000\tIschemic stroke\n",
      "0.938\tAcute Cerebrovascular Accidents\n",
      "0.922\tAcute ischemic stroke subtype\n",
      "0.913\tCerebellar stroke\n",
      "0.898\tThalamic infarction\n",
      "0.898\tEmbolic Stroke\n",
      "0.896\ttransient ischemic attack without residual deficits\n",
      "0.896\tCANCER WORKUP\n",
      "0.890\tSubacute\n",
      "0.889\tWEAKNESS RESIDUAL\n"
     ]
    },
    {
     "name": "stderr",
     "output_type": "stream",
     "text": [
      "Epoch 39: 1764it [09:05,  3.23it/s, loss=3060.323]                                                                     \n"
     ]
    },
    {
     "name": "stdout",
     "output_type": "stream",
     "text": [
      "1.000\tIschemic stroke\n",
      "0.936\tAcute Cerebrovascular Accidents\n",
      "0.918\tAcute ischemic stroke subtype\n",
      "0.910\tCerebellar stroke\n",
      "0.902\tEmbolic Stroke\n",
      "0.900\tCANCER WORKUP\n",
      "0.899\ttransient ischemic attack without residual deficits\n",
      "0.898\tSubacute\n",
      "0.896\tThalamic infarction\n",
      "0.893\tTransient Ischemic Attack\n"
     ]
    },
    {
     "name": "stderr",
     "output_type": "stream",
     "text": [
      "Epoch 40: 1764it [13:23,  2.20it/s, loss=2940.464]                                                                     \n"
     ]
    },
    {
     "name": "stdout",
     "output_type": "stream",
     "text": [
      "1.000\tIschemic stroke\n",
      "0.943\tAcute Cerebrovascular Accidents\n",
      "0.916\tAcute ischemic stroke subtype\n",
      "0.915\tCerebellar stroke\n",
      "0.898\tThalamic infarction\n",
      "0.893\ttransient ischemic attack without residual deficits\n",
      "0.893\tRight sided cerebral hemisphere cerebrovascular accident\n",
      "0.891\tCardioembolic Stroke\n",
      "0.890\tEmbolic Stroke\n",
      "0.890\tTransient Ischemic Attack\n"
     ]
    },
    {
     "name": "stderr",
     "output_type": "stream",
     "text": [
      "Epoch 41: 1764it [13:56,  2.11it/s, loss=2814.748]                                                                     \n"
     ]
    },
    {
     "name": "stdout",
     "output_type": "stream",
     "text": [
      "1.000\tIschemic stroke\n",
      "0.941\tAcute Cerebrovascular Accidents\n",
      "0.925\tAcute ischemic stroke subtype\n",
      "0.917\tCerebellar stroke\n",
      "0.903\tThalamic infarction\n",
      "0.893\tSubacute\n",
      "0.892\ttransient ischemic attack without residual deficits\n",
      "0.891\tRight sided cerebral hemisphere cerebrovascular accident\n",
      "0.890\tCardioembolic Stroke\n",
      "0.890\tCANCER WORKUP\n"
     ]
    },
    {
     "name": "stderr",
     "output_type": "stream",
     "text": [
      "Epoch 42: 1764it [12:26,  2.36it/s, loss=2806.391]                                                                     \n"
     ]
    },
    {
     "name": "stdout",
     "output_type": "stream",
     "text": [
      "1.000\tIschemic stroke\n",
      "0.937\tAcute Cerebrovascular Accidents\n",
      "0.923\tAcute ischemic stroke subtype\n",
      "0.921\tCerebellar stroke\n",
      "0.907\tThalamic infarction\n",
      "0.895\tTransient Ischemic Attack\n",
      "0.895\tSubacute\n",
      "0.891\ttransient ischemic attack without residual deficits\n",
      "0.891\tWEAKNESS RESIDUAL\n",
      "0.890\tEmbolic Stroke\n"
     ]
    },
    {
     "name": "stderr",
     "output_type": "stream",
     "text": [
      "Epoch 43: 1764it [12:27,  2.36it/s, loss=2860.461]                                                                     \n"
     ]
    },
    {
     "name": "stdout",
     "output_type": "stream",
     "text": [
      "1.000\tIschemic stroke\n",
      "0.934\tAcute Cerebrovascular Accidents\n",
      "0.924\tCerebellar stroke\n",
      "0.922\tAcute ischemic stroke subtype\n",
      "0.915\tThalamic infarction\n",
      "0.894\tSubacute\n",
      "0.894\ttransient ischemic attack without residual deficits\n",
      "0.892\tWEAKNESS RESIDUAL\n",
      "0.887\tStroke, Lacunar\n",
      "0.885\tEmbolic Stroke\n"
     ]
    },
    {
     "name": "stderr",
     "output_type": "stream",
     "text": [
      "Epoch 44: 1764it [12:13,  2.41it/s, loss=2877.446]                                                                     \n"
     ]
    },
    {
     "name": "stdout",
     "output_type": "stream",
     "text": [
      "1.000\tIschemic stroke\n",
      "0.936\tAcute Cerebrovascular Accidents\n",
      "0.925\tAcute ischemic stroke subtype\n",
      "0.922\tCerebellar stroke\n",
      "0.907\tThalamic infarction\n",
      "0.905\tWEAKNESS RESIDUAL\n",
      "0.902\ttransient ischemic attack without residual deficits\n",
      "0.900\tTransient Ischemic Attack\n",
      "0.893\tEmbolic Stroke\n",
      "0.891\tStroke, Lacunar\n"
     ]
    },
    {
     "name": "stderr",
     "output_type": "stream",
     "text": [
      "Epoch 45: 1764it [12:19,  2.39it/s, loss=2835.276]                                                                     \n"
     ]
    },
    {
     "name": "stdout",
     "output_type": "stream",
     "text": [
      "1.000\tIschemic stroke\n",
      "0.938\tAcute Cerebrovascular Accidents\n",
      "0.928\tAcute ischemic stroke subtype\n",
      "0.917\tCerebellar stroke\n",
      "0.904\tThalamic infarction\n",
      "0.901\tWEAKNESS RESIDUAL\n",
      "0.898\ttransient ischemic attack without residual deficits\n",
      "0.894\tStroke, Lacunar\n",
      "0.894\tCANCER WORKUP\n",
      "0.892\tEmbolic Stroke\n"
     ]
    },
    {
     "name": "stderr",
     "output_type": "stream",
     "text": [
      "Epoch 46: 1764it [11:39,  2.52it/s, loss=2731.224]                                                                     \n"
     ]
    },
    {
     "name": "stdout",
     "output_type": "stream",
     "text": [
      "1.000\tIschemic stroke\n",
      "0.942\tAcute Cerebrovascular Accidents\n",
      "0.923\tAcute ischemic stroke subtype\n",
      "0.915\tCerebellar stroke\n",
      "0.902\tThalamic infarction\n",
      "0.900\tWEAKNESS RESIDUAL\n",
      "0.893\tStroke, Lacunar\n",
      "0.893\ttransient ischemic attack without residual deficits\n",
      "0.892\tEmbolic Stroke\n",
      "0.886\tTransient Ischemic Attack\n"
     ]
    },
    {
     "name": "stderr",
     "output_type": "stream",
     "text": [
      "Epoch 47: 1764it [11:47,  2.49it/s, loss=2727.372]                                                                     \n"
     ]
    },
    {
     "name": "stdout",
     "output_type": "stream",
     "text": [
      "1.000\tIschemic stroke\n",
      "0.948\tAcute Cerebrovascular Accidents\n",
      "0.924\tAcute ischemic stroke subtype\n",
      "0.921\tCerebellar stroke\n",
      "0.899\tThalamic infarction\n",
      "0.898\tWEAKNESS RESIDUAL\n",
      "0.894\tTransient Ischemic Attack\n",
      "0.894\tCANCER WORKUP\n",
      "0.894\tEmbolic Stroke\n",
      "0.893\ttransient ischemic attack without residual deficits\n"
     ]
    },
    {
     "name": "stderr",
     "output_type": "stream",
     "text": [
      "Epoch 48: 1764it [12:09,  2.42it/s, loss=2717.641]                                                                     \n"
     ]
    },
    {
     "name": "stdout",
     "output_type": "stream",
     "text": [
      "1.000\tIschemic stroke\n",
      "0.940\tAcute Cerebrovascular Accidents\n",
      "0.922\tAcute ischemic stroke subtype\n",
      "0.913\tCerebellar stroke\n",
      "0.901\tThalamic infarction\n",
      "0.892\ttransient ischemic attack without residual deficits\n",
      "0.889\tEmbolic Stroke\n",
      "0.887\tStroke, Lacunar\n",
      "0.887\tTransient Ischemic Attack\n",
      "0.886\tWEAKNESS RESIDUAL\n"
     ]
    },
    {
     "name": "stderr",
     "output_type": "stream",
     "text": [
      "Epoch 49: 1764it [12:21,  2.38it/s, loss=2524.348]                                                                     \n"
     ]
    },
    {
     "name": "stdout",
     "output_type": "stream",
     "text": [
      "1.000\tIschemic stroke\n",
      "0.941\tAcute Cerebrovascular Accidents\n",
      "0.914\tAcute ischemic stroke subtype\n",
      "0.911\tCerebellar stroke\n",
      "0.900\tThalamic infarction\n",
      "0.894\ttransient ischemic attack without residual deficits\n",
      "0.892\tCANCER WORKUP\n",
      "0.890\tEmbolic Stroke\n",
      "0.886\tRight sided cerebral hemisphere cerebrovascular accident\n",
      "0.886\tStroke, Lacunar\n"
     ]
    },
    {
     "name": "stderr",
     "output_type": "stream",
     "text": [
      "Epoch 50: 1764it [11:14,  2.62it/s, loss=2744.672]                                                                     \n"
     ]
    },
    {
     "name": "stdout",
     "output_type": "stream",
     "text": [
      "1.000\tIschemic stroke\n",
      "0.942\tAcute Cerebrovascular Accidents\n",
      "0.920\tAcute ischemic stroke subtype\n",
      "0.905\tCerebellar stroke\n",
      "0.900\ttransient ischemic attack without residual deficits\n",
      "0.899\tThalamic infarction\n",
      "0.889\tStroke, Lacunar\n",
      "0.888\tWEAKNESS RESIDUAL\n",
      "0.888\tEmbolic Stroke\n",
      "0.883\tTransient Ischemic Attack\n",
      "[57257052.21484375, 40678626.90625, 35044751.833496094, 31836171.319335938, 29633419.258789062, 27983979.967773438, 26664647.645507812, 25576521.196289062, 24623284.225097656, 23813744.600097656, 23080688.614257812, 22425428.349609375, 21829675.135742188, 21282920.526367188, 20788439.360351562, 20319894.665039062, 19887428.76513672, 19492024.178955078, 19117606.393310547, 18766285.12109375, 18439591.645751953, 18119113.669433594, 17833568.506347656, 17558088.908691406, 17286365.635253906, 17047605.104736328, 16808459.82080078, 16573014.188964844, 16348047.401855469, 16142642.270996094, 15942748.134033203, 15753041.085449219, 15573979.71484375, 15383281.936279297, 15210348.486083984, 15052761.030029297, 14897822.693603516, 14743808.071777344, 14600094.461425781, 14459197.138183594, 14313322.913330078, 14182280.691894531, 14061355.711425781, 13942344.838378906, 13802074.936279297, 13695882.283691406, 13571085.526855469, 13471824.635742188, 13355915.41430664, 13263023.994873047]\n"
     ]
    }
   ],
   "source": [
    "trainingpairs = torch.LongTensor(trainingpairs)\n",
    "for epoch in range(50):\n",
    "    total_loss = 0\n",
    "    shuffler = torch.randperm(trainingpairs.shape[0])\n",
    "    trainingpairs = trainingpairs[shuffler].view(trainingpairs.size())\n",
    "    with tqdm(np.arange(0, len(trainingpairs), BATCH_SIZE), desc=f'Epoch {epoch+1}', total = len(trainingpairs)//BATCH_SIZE) as progress: #goes one example at a time\n",
    "        for batchidx in progress:\n",
    "            data = trainingpairs[batchidx:batchidx+BATCH_SIZE]\n",
    "            inputs = torch.cat((data[:, 0], data[:,1])) #we'll go bidirectional; usually not done I suppose\n",
    "            targets = torch.cat((data[:, 1], data[:,0]))#doubles the batch size\n",
    "            negatives = samplingids[frequency.multinomial(num_samples=inputs.shape[0]*NEGSAMPLES, replacement=True)].reshape(inputs.shape[0], NEGSAMPLES)\n",
    "            optimizer.zero_grad()\n",
    "            loss = model.forward(inputs, targets, negatives)\n",
    "            loss.backward()\n",
    "            optimizer.step()\n",
    "            total_loss += loss.item()\n",
    "            progress.set_postfix(loss=f\"{loss.item():3.3f}\")\n",
    "        losses.append(total_loss)\n",
    "        progress.set_postfix(loss=f\"{total_loss:3.3f}\")\n",
    "    nearest_embedding_search('C0948008')\n",
    "    \n",
    "print(losses)\n"
   ]
  },
  {
   "cell_type": "code",
   "execution_count": 14,
   "id": "scenic-henry",
   "metadata": {},
   "outputs": [],
   "source": [
    "for _, i in enumerate(losses):\n",
    "    if losses[_-1] < i: #if loss is always monitonically decreasing, should print 0 only\n",
    "        print(_)"
   ]
  },
  {
   "cell_type": "code",
   "execution_count": 15,
   "id": "imperial-explanation",
   "metadata": {},
   "outputs": [
    {
     "name": "stderr",
     "output_type": "stream",
     "text": [
      "100%|███████████████████████████████████| 29865/29865 [01:16<00:00, 391.28it/s]\n"
     ]
    }
   ],
   "source": [
    "# ToDo: Build document vectors from CUI vector components\n",
    "docvectors = np.zeros((len(cuidata), EMBEDDING_DIM))\n",
    "for i,doc in tqdm(enumerate(cuidata), total=len(cuidata)):\n",
    "    for cui in cuidata[doc]['cuis']:\n",
    "        docvectors[i] += model.in_embeddings.weight.data[vocab[cui]].numpy()\n"
   ]
  },
  {
   "cell_type": "code",
   "execution_count": 21,
   "id": "failing-lotus",
   "metadata": {},
   "outputs": [
    {
     "name": "stderr",
     "output_type": "stream",
     "text": [
      "100%|███████████████████████████████████| 29865/29865 [01:07<00:00, 439.69it/s]\n"
     ]
    }
   ],
   "source": [
    "# ToDo: Build document vectors from CUI vector components\n",
    "docvectors = np.zeros((len(cuidata), EMBEDDING_DIM))\n",
    "for i,doc in tqdm(enumerate(cuidata), total=len(cuidata)):\n",
    "    tmpvecs = np.zeros(EMBEDDING_DIM)\n",
    "    for cui in cuidata[doc]['cuis']:\n",
    "        tmpvecs += model.in_embeddings.weight.data[vocab[cui]].numpy()\n",
    "    docvectors[i] = tmpvecs / len(cuidata[doc]['cuis'])"
   ]
  },
  {
   "cell_type": "code",
   "execution_count": 22,
   "id": "surprised-favorite",
   "metadata": {},
   "outputs": [],
   "source": [
    "with open('average_document_vectors_28_FEB_2022.json','w') as outfile:\n",
    "    json.dump({x:list(y) for x,y in zip(cuidata.keys(), docvectors)}, outfile)"
   ]
  },
  {
   "cell_type": "code",
   "execution_count": 16,
   "id": "fresh-resolution",
   "metadata": {},
   "outputs": [],
   "source": [
    "with open(\"cui_vectors_15_NOV_2021.json\",'w') as outfile:\n",
    "    json.dump({key:model.in_embeddings.weight.data[value].tolist() for key,value in vocab.items()}, outfile)"
   ]
  },
  {
   "cell_type": "code",
   "execution_count": null,
   "id": "signed-quilt",
   "metadata": {},
   "outputs": [],
   "source": []
  },
  {
   "cell_type": "code",
   "execution_count": 25,
   "id": "described-image",
   "metadata": {},
   "outputs": [],
   "source": [
    "torch.save(model.state_dict(), 'cui_model_15_NOV_2021.pt')"
   ]
  },
  {
   "cell_type": "code",
   "execution_count": 27,
   "id": "skilled-ordering",
   "metadata": {},
   "outputs": [],
   "source": [
    "'''\n",
    "To load the saved pytorch model:\n",
    "\n",
    "model = CUIEmbeddingModel(len(vocab), EMBEDDING_DIM) #vocab and embedding dim must match what the model was trained on\n",
    "model.load_state_dict(torch.load(cui_model_15_NOV_2021.pt))\n",
    "model.eval() #set to evaluation mode\n",
    "''';"
   ]
  },
  {
   "cell_type": "code",
   "execution_count": 32,
   "id": "champion-things",
   "metadata": {},
   "outputs": [
    {
     "name": "stdout",
     "output_type": "stream",
     "text": [
      "1.000\tCVA ETIOLOGY HEMORRHAGIC ISCHEMIC\n",
      "0.847\tAcute Cerebrovascular Accidents\n",
      "0.836\tIschemic stroke\n",
      "0.829\tLeft hemiparesis\n",
      "0.829\tStructure of middle cerebral artery\n",
      "0.822\tThalamic infarction\n",
      "0.821\tTransient Ischemic Attack\n",
      "0.820\tEvaluation\n",
      "0.815\tAcute ischemic stroke subtype\n",
      "0.815\ttransient ischemic attack without residual deficits\n"
     ]
    }
   ],
   "source": [
    "nearest_embedding_search('C0742946')"
   ]
  },
  {
   "cell_type": "code",
   "execution_count": 33,
   "id": "clean-selection",
   "metadata": {},
   "outputs": [],
   "source": [
    "import xgboost"
   ]
  },
  {
   "cell_type": "code",
   "execution_count": null,
   "id": "alpha-elimination",
   "metadata": {},
   "outputs": [],
   "source": []
  }
 ],
 "metadata": {
  "kernelspec": {
   "display_name": "Python 3",
   "language": "python",
   "name": "python3"
  },
  "language_info": {
   "codemirror_mode": {
    "name": "ipython",
    "version": 3
   },
   "file_extension": ".py",
   "mimetype": "text/x-python",
   "name": "python",
   "nbconvert_exporter": "python",
   "pygments_lexer": "ipython3",
   "version": "3.9.1"
  }
 },
 "nbformat": 4,
 "nbformat_minor": 5
}
