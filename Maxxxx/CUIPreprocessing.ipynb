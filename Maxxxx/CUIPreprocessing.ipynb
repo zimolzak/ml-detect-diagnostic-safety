{
 "cells": [
  {
   "cell_type": "markdown",
   "metadata": {},
   "source": [
    "# Notebook for preprocessing and cleaning CUI"
   ]
  },
  {
   "cell_type": "code",
   "execution_count": 1,
   "metadata": {},
   "outputs": [],
   "source": [
    "%load_ext autoreload\n",
    "%autoreload 2"
   ]
  },
  {
   "cell_type": "code",
   "execution_count": 6,
   "metadata": {},
   "outputs": [],
   "source": [
    "import numpy as np\n",
    "from tqdm import tqdm\n",
    "import json\n",
    "import matplotlib\n",
    "import matplotlib.pyplot as plt\n",
    "import re\n",
    "from collections import Counter"
   ]
  },
  {
   "cell_type": "code",
   "execution_count": 4,
   "metadata": {},
   "outputs": [
    {
     "name": "stdout",
     "output_type": "stream",
     "text": [
      "29865\n"
     ]
    }
   ],
   "source": [
    "# Clean CUI from parsing mistakes\n",
    "with open('sids_to_clamp_cuis.json','r') as infile:\n",
    "    cuidata = json.load(infile)\n",
    "cleaned_data = dict()\n",
    "for k,v in cuidata.items():\n",
    "    cuis = []\n",
    "    semtype = []\n",
    "    presence = []\n",
    "    for cui, s, p in zip(v['cuis'], v['presence'], v['semtype']):\n",
    "        if re.match(r\"C\\d{7}\", cui):\n",
    "            cuis.append(cui)\n",
    "            semtype.append(s)\n",
    "            presence.append(p)\n",
    "\n",
    "    cleaned_data[k] = {'cuis': cuis, 'semtype':semtype, 'presence':presence}\n",
    "\n",
    "print(len(cleaned_data))"
   ]
  },
  {
   "cell_type": "code",
   "execution_count": 5,
   "metadata": {},
   "outputs": [],
   "source": [
    "# with open(\"sids_to_cuis_cleaned.json\",'w') as outfile:\n",
    "#     json.dump(cleaned_data, outfile)"
   ]
  },
  {
   "cell_type": "markdown",
   "metadata": {},
   "source": [
    "# find dominant presences for each cui"
   ]
  },
  {
   "cell_type": "code",
   "execution_count": 7,
   "metadata": {},
   "outputs": [
    {
     "name": "stderr",
     "output_type": "stream",
     "text": [
      "100%|██████████████████████████████████████████████████████████████████████████| 29865/29865 [00:13<00:00, 2191.65it/s]\n"
     ]
    }
   ],
   "source": [
    "present = Counter()\n",
    "absent = Counter()\n",
    "dominant_presences = dict()\n",
    "for i,doc in tqdm(enumerate(cleaned_data), total=len(cleaned_data)):\n",
    "    for cui, presence in zip(cuidata[doc]['cuis'], cuidata[doc]['presence']):\n",
    "        if presence == \"present\":\n",
    "            present.update([cui])\n",
    "        else:\n",
    "            absent.update([cui])\n",
    "        dominant_presences[cui] = \"temp\""
   ]
  },
  {
   "cell_type": "code",
   "execution_count": 9,
   "metadata": {},
   "outputs": [
    {
     "name": "stdout",
     "output_type": "stream",
     "text": [
      "101991\n",
      "40063\n"
     ]
    }
   ],
   "source": [
    "print(len(present))\n",
    "print(len(absent))"
   ]
  },
  {
   "cell_type": "code",
   "execution_count": 10,
   "metadata": {},
   "outputs": [],
   "source": [
    "for cui in dominant_presences.keys():\n",
    "    if present[cui] >= absent[cui]:\n",
    "        dominant_presences[cui] = True\n",
    "    else:\n",
    "        dominant_presences[cui] = False"
   ]
  },
  {
   "cell_type": "code",
   "execution_count": 12,
   "metadata": {},
   "outputs": [
    {
     "name": "stdout",
     "output_type": "stream",
     "text": [
      "98976\n",
      "[('C0008031', True), ('C1507320', False), ('C0015031', True), ('C4718442', True), ('C2707412', True), ('C0281822', False), ('C0043250', True), ('C0398266', True), ('C3244243', True), ('C0018802', True)]\n"
     ]
    }
   ],
   "source": [
    "i = 0\n",
    "for k, v in dominant_presences.items():\n",
    "    if v:\n",
    "        i += 1\n",
    "print(i)\n",
    "print(list(dominant_presences.items())[:10])"
   ]
  },
  {
   "cell_type": "code",
   "execution_count": 13,
   "metadata": {},
   "outputs": [],
   "source": [
    "# with open(\"dominant_cui_presence.json\",'w') as outfile:\n",
    "#     json.dump(dominant_presences, outfile)"
   ]
  },
  {
   "cell_type": "markdown",
   "metadata": {},
   "source": [
    "# Filter doc data to only have dominant cuis"
   ]
  },
  {
   "cell_type": "code",
   "execution_count": 20,
   "metadata": {},
   "outputs": [
    {
     "name": "stderr",
     "output_type": "stream",
     "text": [
      "100%|██████████████████████████████████████████████████████████████████████████| 29865/29865 [00:03<00:00, 8575.39it/s]\n"
     ]
    }
   ],
   "source": [
    "filtered_docs = dict()\n",
    "for i,doc in tqdm(enumerate(cleaned_data), total=len(cleaned_data)):\n",
    "    cuis = []\n",
    "    for cui, presence in zip(cuidata[doc]['cuis'], cuidata[doc]['presence']):\n",
    "        if dominant_presences[cui] == (presence == \"present\"):\n",
    "            cuis.append(cui)\n",
    "    filtered_docs[doc] = cuis"
   ]
  },
  {
   "cell_type": "code",
   "execution_count": 21,
   "metadata": {},
   "outputs": [],
   "source": [
    "with open(\"filtered_sids_to_cuis.json\",'w') as outfile:\n",
    "    json.dump(filtered_docs, outfile)"
   ]
  },
  {
   "cell_type": "code",
   "execution_count": 22,
   "metadata": {},
   "outputs": [
    {
     "name": "stdout",
     "output_type": "stream",
     "text": [
      "29865\n"
     ]
    }
   ],
   "source": [
    "print(len(filtered_docs))"
   ]
  },
  {
   "cell_type": "code",
   "execution_count": null,
   "metadata": {},
   "outputs": [],
   "source": []
  }
 ],
 "metadata": {
  "kernelspec": {
   "display_name": "Python 3",
   "language": "python",
   "name": "python3"
  },
  "language_info": {
   "codemirror_mode": {
    "name": "ipython",
    "version": 3
   },
   "file_extension": ".py",
   "mimetype": "text/x-python",
   "name": "python",
   "nbconvert_exporter": "python",
   "pygments_lexer": "ipython3",
   "version": "3.9.1"
  }
 },
 "nbformat": 4,
 "nbformat_minor": 4
}
