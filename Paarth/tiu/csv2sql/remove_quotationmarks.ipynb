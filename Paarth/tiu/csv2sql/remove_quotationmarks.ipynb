{
 "cells": [
  {
   "cell_type": "code",
   "execution_count": 1,
   "metadata": {},
   "outputs": [],
   "source": [
    "import numpy as np\n",
    "import pandas as pd"
   ]
  },
  {
   "cell_type": "code",
   "execution_count": 2,
   "metadata": {},
   "outputs": [],
   "source": [
    "df = pd.read_csv('ccs_cpt_v2019/ccs_cpt_v2019_pre.csv')"
   ]
  },
  {
   "cell_type": "code",
   "execution_count": 3,
   "metadata": {},
   "outputs": [
    {
     "data": {
      "text/plain": [
       "Index(['Code Range', 'CCS', 'CCS Label'], dtype='object')"
      ]
     },
     "execution_count": 3,
     "metadata": {},
     "output_type": "execute_result"
    }
   ],
   "source": [
    "df.columns"
   ]
  },
  {
   "cell_type": "code",
   "execution_count": 4,
   "metadata": {},
   "outputs": [],
   "source": [
    "def remove_quotes(s):\n",
    "    s = str(s)\n",
    "    \n",
    "    if s[0] == \"'\":\n",
    "        s = s[1:]\n",
    "        \n",
    "    if s[-1] == \"'\":\n",
    "        s = s[:-1]\n",
    "        \n",
    "    return s\n",
    "\n",
    "new_cols = []\n",
    "for col in df.columns:\n",
    "    df[col] = df[col].apply(remove_quotes)\n",
    "    new_cols.append(remove_quotes(col))\n",
    "    \n",
    "df.columns = new_cols"
   ]
  },
  {
   "cell_type": "code",
   "execution_count": 5,
   "metadata": {},
   "outputs": [],
   "source": [
    "df.replace(' ', 'NULL', inplace=True)"
   ]
  },
  {
   "cell_type": "code",
   "execution_count": 6,
   "metadata": {},
   "outputs": [
    {
     "data": {
      "text/html": [
       "<div>\n",
       "<style scoped>\n",
       "    .dataframe tbody tr th:only-of-type {\n",
       "        vertical-align: middle;\n",
       "    }\n",
       "\n",
       "    .dataframe tbody tr th {\n",
       "        vertical-align: top;\n",
       "    }\n",
       "\n",
       "    .dataframe thead th {\n",
       "        text-align: right;\n",
       "    }\n",
       "</style>\n",
       "<table border=\"1\" class=\"dataframe\">\n",
       "  <thead>\n",
       "    <tr style=\"text-align: right;\">\n",
       "      <th></th>\n",
       "      <th>Code Range</th>\n",
       "      <th>CCS</th>\n",
       "      <th>CCS Label</th>\n",
       "    </tr>\n",
       "  </thead>\n",
       "  <tbody>\n",
       "    <tr>\n",
       "      <th>0</th>\n",
       "      <td>61000-61055</td>\n",
       "      <td>1</td>\n",
       "      <td>Incision and excision of CNS</td>\n",
       "    </tr>\n",
       "    <tr>\n",
       "      <th>1</th>\n",
       "      <td>61105-61106</td>\n",
       "      <td>1</td>\n",
       "      <td>Incision and excision of CNS</td>\n",
       "    </tr>\n",
       "    <tr>\n",
       "      <th>2</th>\n",
       "      <td>61108-61130</td>\n",
       "      <td>1</td>\n",
       "      <td>Incision and excision of CNS</td>\n",
       "    </tr>\n",
       "    <tr>\n",
       "      <th>3</th>\n",
       "      <td>61150-61156</td>\n",
       "      <td>1</td>\n",
       "      <td>Incision and excision of CNS</td>\n",
       "    </tr>\n",
       "    <tr>\n",
       "      <th>4</th>\n",
       "      <td>61250-61315</td>\n",
       "      <td>1</td>\n",
       "      <td>Incision and excision of CNS</td>\n",
       "    </tr>\n",
       "    <tr>\n",
       "      <th>...</th>\n",
       "      <td>...</td>\n",
       "      <td>...</td>\n",
       "      <td>...</td>\n",
       "    </tr>\n",
       "    <tr>\n",
       "      <th>10338</th>\n",
       "      <td>43644-43645</td>\n",
       "      <td>244</td>\n",
       "      <td>Gastric bypass and volume reduction</td>\n",
       "    </tr>\n",
       "    <tr>\n",
       "      <th>10339</th>\n",
       "      <td>43770-43775</td>\n",
       "      <td>244</td>\n",
       "      <td>Gastric bypass and volume reduction</td>\n",
       "    </tr>\n",
       "    <tr>\n",
       "      <th>10340</th>\n",
       "      <td>43842-43843</td>\n",
       "      <td>244</td>\n",
       "      <td>Gastric bypass and volume reduction</td>\n",
       "    </tr>\n",
       "    <tr>\n",
       "      <th>10341</th>\n",
       "      <td>43845-43848</td>\n",
       "      <td>244</td>\n",
       "      <td>Gastric bypass and volume reduction</td>\n",
       "    </tr>\n",
       "    <tr>\n",
       "      <th>10342</th>\n",
       "      <td>43886-43888</td>\n",
       "      <td>244</td>\n",
       "      <td>Gastric bypass and volume reduction</td>\n",
       "    </tr>\n",
       "  </tbody>\n",
       "</table>\n",
       "<p>10343 rows × 3 columns</p>\n",
       "</div>"
      ],
      "text/plain": [
       "        Code Range  CCS                            CCS Label\n",
       "0      61000-61055    1         Incision and excision of CNS\n",
       "1      61105-61106    1         Incision and excision of CNS\n",
       "2      61108-61130    1         Incision and excision of CNS\n",
       "3      61150-61156    1         Incision and excision of CNS\n",
       "4      61250-61315    1         Incision and excision of CNS\n",
       "...            ...  ...                                  ...\n",
       "10338  43644-43645  244  Gastric bypass and volume reduction\n",
       "10339  43770-43775  244  Gastric bypass and volume reduction\n",
       "10340  43842-43843  244  Gastric bypass and volume reduction\n",
       "10341  43845-43848  244  Gastric bypass and volume reduction\n",
       "10342  43886-43888  244  Gastric bypass and volume reduction\n",
       "\n",
       "[10343 rows x 3 columns]"
      ]
     },
     "execution_count": 6,
     "metadata": {},
     "output_type": "execute_result"
    }
   ],
   "source": [
    "df"
   ]
  },
  {
   "cell_type": "code",
   "execution_count": 7,
   "metadata": {},
   "outputs": [],
   "source": [
    "df.to_csv('ccs_cpt_v2019.csv')"
   ]
  }
 ],
 "metadata": {
  "kernelspec": {
   "display_name": "Python 3",
   "language": "python",
   "name": "python3"
  },
  "language_info": {
   "codemirror_mode": {
    "name": "ipython",
    "version": 3
   },
   "file_extension": ".py",
   "mimetype": "text/x-python",
   "name": "python",
   "nbconvert_exporter": "python",
   "pygments_lexer": "ipython3",
   "version": "3.7.7"
  },
  "toc": {
   "base_numbering": 1,
   "nav_menu": {},
   "number_sections": true,
   "sideBar": true,
   "skip_h1_title": false,
   "title_cell": "Table of Contents",
   "title_sidebar": "Contents",
   "toc_cell": false,
   "toc_position": {},
   "toc_section_display": true,
   "toc_window_display": false
  },
  "varInspector": {
   "cols": {
    "lenName": 16,
    "lenType": 16,
    "lenVar": 40
   },
   "kernels_config": {
    "python": {
     "delete_cmd_postfix": "",
     "delete_cmd_prefix": "del ",
     "library": "var_list.py",
     "varRefreshCmd": "print(var_dic_list())"
    },
    "r": {
     "delete_cmd_postfix": ") ",
     "delete_cmd_prefix": "rm(",
     "library": "var_list.r",
     "varRefreshCmd": "cat(var_dic_list()) "
    }
   },
   "types_to_exclude": [
    "module",
    "function",
    "builtin_function_or_method",
    "instance",
    "_Feature"
   ],
   "window_display": false
  }
 },
 "nbformat": 4,
 "nbformat_minor": 4
}
