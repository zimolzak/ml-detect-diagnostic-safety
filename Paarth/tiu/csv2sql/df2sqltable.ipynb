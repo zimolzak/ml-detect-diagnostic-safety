{
 "cells": [
  {
   "cell_type": "code",
   "execution_count": 1,
   "metadata": {},
   "outputs": [],
   "source": [
    "import numpy as np\n",
    "import pandas as pd"
   ]
  },
  {
   "cell_type": "code",
   "execution_count": 2,
   "metadata": {},
   "outputs": [],
   "source": [
    "df = pd.read_csv('ccs_cpt_v2019/ccs_cpt_v2019.csv', dtype=str)\n",
    "df.fillna('NULL', inplace=True)"
   ]
  },
  {
   "cell_type": "code",
   "execution_count": 3,
   "metadata": {},
   "outputs": [
    {
     "data": {
      "text/html": [
       "<div>\n",
       "<style scoped>\n",
       "    .dataframe tbody tr th:only-of-type {\n",
       "        vertical-align: middle;\n",
       "    }\n",
       "\n",
       "    .dataframe tbody tr th {\n",
       "        vertical-align: top;\n",
       "    }\n",
       "\n",
       "    .dataframe thead th {\n",
       "        text-align: right;\n",
       "    }\n",
       "</style>\n",
       "<table border=\"1\" class=\"dataframe\">\n",
       "  <thead>\n",
       "    <tr style=\"text-align: right;\">\n",
       "      <th></th>\n",
       "      <th>CPT CODE</th>\n",
       "      <th>CCS</th>\n",
       "      <th>CCS LABEL</th>\n",
       "    </tr>\n",
       "  </thead>\n",
       "  <tbody>\n",
       "    <tr>\n",
       "      <th>0</th>\n",
       "      <td>61000</td>\n",
       "      <td>1</td>\n",
       "      <td>Incision and excision of CNS</td>\n",
       "    </tr>\n",
       "    <tr>\n",
       "      <th>1</th>\n",
       "      <td>61001</td>\n",
       "      <td>1</td>\n",
       "      <td>Incision and excision of CNS</td>\n",
       "    </tr>\n",
       "    <tr>\n",
       "      <th>2</th>\n",
       "      <td>61002</td>\n",
       "      <td>1</td>\n",
       "      <td>Incision and excision of CNS</td>\n",
       "    </tr>\n",
       "    <tr>\n",
       "      <th>3</th>\n",
       "      <td>61003</td>\n",
       "      <td>1</td>\n",
       "      <td>Incision and excision of CNS</td>\n",
       "    </tr>\n",
       "    <tr>\n",
       "      <th>4</th>\n",
       "      <td>61004</td>\n",
       "      <td>1</td>\n",
       "      <td>Incision and excision of CNS</td>\n",
       "    </tr>\n",
       "    <tr>\n",
       "      <th>...</th>\n",
       "      <td>...</td>\n",
       "      <td>...</td>\n",
       "      <td>...</td>\n",
       "    </tr>\n",
       "    <tr>\n",
       "      <th>54978</th>\n",
       "      <td>43847</td>\n",
       "      <td>244</td>\n",
       "      <td>Gastric bypass and volume reduction</td>\n",
       "    </tr>\n",
       "    <tr>\n",
       "      <th>54979</th>\n",
       "      <td>43848</td>\n",
       "      <td>244</td>\n",
       "      <td>Gastric bypass and volume reduction</td>\n",
       "    </tr>\n",
       "    <tr>\n",
       "      <th>54980</th>\n",
       "      <td>43886</td>\n",
       "      <td>244</td>\n",
       "      <td>Gastric bypass and volume reduction</td>\n",
       "    </tr>\n",
       "    <tr>\n",
       "      <th>54981</th>\n",
       "      <td>43887</td>\n",
       "      <td>244</td>\n",
       "      <td>Gastric bypass and volume reduction</td>\n",
       "    </tr>\n",
       "    <tr>\n",
       "      <th>54982</th>\n",
       "      <td>43888</td>\n",
       "      <td>244</td>\n",
       "      <td>Gastric bypass and volume reduction</td>\n",
       "    </tr>\n",
       "  </tbody>\n",
       "</table>\n",
       "<p>54983 rows × 3 columns</p>\n",
       "</div>"
      ],
      "text/plain": [
       "      CPT CODE  CCS                            CCS LABEL\n",
       "0        61000    1         Incision and excision of CNS\n",
       "1        61001    1         Incision and excision of CNS\n",
       "2        61002    1         Incision and excision of CNS\n",
       "3        61003    1         Incision and excision of CNS\n",
       "4        61004    1         Incision and excision of CNS\n",
       "...        ...  ...                                  ...\n",
       "54978    43847  244  Gastric bypass and volume reduction\n",
       "54979    43848  244  Gastric bypass and volume reduction\n",
       "54980    43886  244  Gastric bypass and volume reduction\n",
       "54981    43887  244  Gastric bypass and volume reduction\n",
       "54982    43888  244  Gastric bypass and volume reduction\n",
       "\n",
       "[54983 rows x 3 columns]"
      ]
     },
     "execution_count": 3,
     "metadata": {},
     "output_type": "execute_result"
    }
   ],
   "source": [
    "df"
   ]
  },
  {
   "cell_type": "code",
   "execution_count": 4,
   "metadata": {},
   "outputs": [],
   "source": [
    "schema_name = 'DFLT'\n",
    "table_name = 'CCS_CPT_v2019'"
   ]
  },
  {
   "cell_type": "code",
   "execution_count": 5,
   "metadata": {},
   "outputs": [],
   "source": [
    "#table_variables_d = {'ICD10CM_Code': 'VARCHAR(8000)', 'ICD10CM_Code_Description': 'VARCHAR(8000)', 'Default_CCSR_Category': 'VARCHAR(8000)'}\n",
    "\n",
    "table_variables_d = {}\n",
    "for col in df.columns:\n",
    "    table_variables_d.update({col: 'VARCHAR(8000)'})"
   ]
  },
  {
   "cell_type": "code",
   "execution_count": 6,
   "metadata": {},
   "outputs": [],
   "source": [
    "table_variables_creation = ''\n",
    "first_flag = True\n",
    "for k,v in table_variables_d.items():\n",
    "    if not first_flag:\n",
    "        table_variables_creation += ','\n",
    "    else:\n",
    "        first_flag = False\n",
    "        \n",
    "    table_variables_creation += '[{}] {}\\n'.format(k, v)"
   ]
  },
  {
   "cell_type": "code",
   "execution_count": 7,
   "metadata": {},
   "outputs": [],
   "source": [
    "table_variables_insert = ''\n",
    "first_flag = True\n",
    "for k,v in table_variables_d.items():\n",
    "    if not first_flag:\n",
    "        table_variables_insert += ', '\n",
    "    else:\n",
    "        first_flag = False\n",
    "        \n",
    "    table_variables_insert += '[{}]'.format(k)"
   ]
  },
  {
   "cell_type": "code",
   "execution_count": 8,
   "metadata": {},
   "outputs": [],
   "source": [
    "table_values_insert = ''\n",
    "first_flag = True\n",
    "for k,v in table_variables_d.items():\n",
    "    if not first_flag:\n",
    "        table_values_insert += ', '\n",
    "    else:\n",
    "        first_flag = False\n",
    "        \n",
    "    table_values_insert += '\"{}\"'.format(v)"
   ]
  },
  {
   "cell_type": "code",
   "execution_count": 9,
   "metadata": {},
   "outputs": [],
   "source": [
    "all_table_inserts = ''\n",
    "\n",
    "number_of_rows = len(df.index)\n",
    "for idx in range(number_of_rows):    \n",
    "    table_values_insert = ''\n",
    "    first_flag = True\n",
    "    for val in list(df.iloc[idx]):\n",
    "        if not first_flag:\n",
    "            table_values_insert += ', '\n",
    "        else:\n",
    "            first_flag = False\n",
    "\n",
    "        table_values_insert += '\"{}\"'.format(val)\n",
    "    \n",
    "    all_table_inserts += '''INSERT [''' + schema_name + '''].[''' + table_name + '''] (''' + table_variables_insert + ''') VALUES (''' + table_values_insert + ''')\\n'''"
   ]
  },
  {
   "cell_type": "code",
   "execution_count": 10,
   "metadata": {},
   "outputs": [],
   "source": [
    "s = \\\n",
    "'''\n",
    "USE [TOREPLACE_INSERT_DB_HERE]\n",
    "\n",
    "\n",
    "CREATE TABLE [''' + schema_name + '''].[''' + table_name + ''']\n",
    "(\n",
    "''' +\\\n",
    "table_variables_creation +\\\n",
    "''')\n",
    "\n",
    "\n",
    "SET QUOTED_IDENTIFIER OFF\n",
    "\n",
    "'''+ all_table_inserts + '''\n",
    "SET QUOTED_IDENTIFIER ON\n",
    "'''"
   ]
  },
  {
   "cell_type": "code",
   "execution_count": 11,
   "metadata": {},
   "outputs": [],
   "source": [
    "with open('yeet.sql', 'w+') as f:\n",
    "    f.write(s)"
   ]
  }
 ],
 "metadata": {
  "kernelspec": {
   "display_name": "Python 3",
   "language": "python",
   "name": "python3"
  },
  "language_info": {
   "codemirror_mode": {
    "name": "ipython",
    "version": 3
   },
   "file_extension": ".py",
   "mimetype": "text/x-python",
   "name": "python",
   "nbconvert_exporter": "python",
   "pygments_lexer": "ipython3",
   "version": "3.7.7"
  },
  "toc": {
   "base_numbering": 1,
   "nav_menu": {},
   "number_sections": true,
   "sideBar": true,
   "skip_h1_title": false,
   "title_cell": "Table of Contents",
   "title_sidebar": "Contents",
   "toc_cell": false,
   "toc_position": {},
   "toc_section_display": true,
   "toc_window_display": false
  },
  "varInspector": {
   "cols": {
    "lenName": 16,
    "lenType": 16,
    "lenVar": 40
   },
   "kernels_config": {
    "python": {
     "delete_cmd_postfix": "",
     "delete_cmd_prefix": "del ",
     "library": "var_list.py",
     "varRefreshCmd": "print(var_dic_list())"
    },
    "r": {
     "delete_cmd_postfix": ") ",
     "delete_cmd_prefix": "rm(",
     "library": "var_list.r",
     "varRefreshCmd": "cat(var_dic_list()) "
    }
   },
   "types_to_exclude": [
    "module",
    "function",
    "builtin_function_or_method",
    "instance",
    "_Feature"
   ],
   "window_display": false
  }
 },
 "nbformat": 4,
 "nbformat_minor": 4
}
