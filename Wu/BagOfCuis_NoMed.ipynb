{
 "cells": [
  {
   "cell_type": "markdown",
   "metadata": {},
   "source": [
    "## extract needed data - Physician or ED notes, last entry per (person, note type) pair"
   ]
  },
  {
   "cell_type": "code",
   "execution_count": 1,
   "metadata": {},
   "outputs": [],
   "source": [
    "%load_ext autoreload\n",
    "%autoreload 2"
   ]
  },
  {
   "cell_type": "code",
   "execution_count": 2,
   "metadata": {},
   "outputs": [],
   "source": [
    "import dizzy_util as util\n",
    "import pandas as pd\n",
    "pd.set_option('display.max_rows', 100)\n",
    "pd.set_option('display.max_colwidth', 150)"
   ]
  },
  {
   "cell_type": "code",
   "execution_count": 3,
   "metadata": {},
   "outputs": [
    {
     "name": "stderr",
     "output_type": "stream",
     "text": [
      "C:\\Users\\VHAHOUWuY1\\AppData\\Local\\Continuum\\anaconda3\\envs\\ahrq-sci-med\\lib\\site-packages\\pandas\\io\\sql.py:762: UserWarning: pandas only support SQLAlchemy connectable(engine/connection) ordatabase string URI or sqlite3 DBAPI2 connectionother DBAPI2 objects are not tested, please consider using SQLAlchemy\n",
      "  warnings.warn(\n"
     ]
    },
    {
     "data": {
      "text/html": [
       "<div>\n",
       "<style scoped>\n",
       "    .dataframe tbody tr th:only-of-type {\n",
       "        vertical-align: middle;\n",
       "    }\n",
       "\n",
       "    .dataframe tbody tr th {\n",
       "        vertical-align: top;\n",
       "    }\n",
       "\n",
       "    .dataframe thead th {\n",
       "        text-align: right;\n",
       "    }\n",
       "</style>\n",
       "<table border=\"1\" class=\"dataframe\">\n",
       "  <thead>\n",
       "    <tr style=\"text-align: right;\">\n",
       "      <th></th>\n",
       "      <th>TABLE_CATALOG</th>\n",
       "      <th>TABLE_SCHEMA</th>\n",
       "      <th>TABLE_NAME</th>\n",
       "      <th>TABLE_TYPE</th>\n",
       "    </tr>\n",
       "  </thead>\n",
       "  <tbody>\n",
       "    <tr>\n",
       "      <th>0</th>\n",
       "      <td>ORD_Singh_201911038D</td>\n",
       "      <td>Dflt</td>\n",
       "      <td>_B00_ML4TrgPos_Y201621_01_04_cohort</td>\n",
       "      <td>BASE TABLE</td>\n",
       "    </tr>\n",
       "    <tr>\n",
       "      <th>1</th>\n",
       "      <td>ORD_Singh_201911038D</td>\n",
       "      <td>Dflt</td>\n",
       "      <td>_B00_ML4TrgPos_Y201621_05_04_Rad</td>\n",
       "      <td>BASE TABLE</td>\n",
       "    </tr>\n",
       "    <tr>\n",
       "      <th>2</th>\n",
       "      <td>ORD_Singh_201911038D</td>\n",
       "      <td>Dflt</td>\n",
       "      <td>_B00_ML4TrgPos_Y201621_30_Note_WithRole</td>\n",
       "      <td>BASE TABLE</td>\n",
       "    </tr>\n",
       "    <tr>\n",
       "      <th>3</th>\n",
       "      <td>ORD_Singh_201911038D</td>\n",
       "      <td>Dflt</td>\n",
       "      <td>_B00_ML4TrgPos_Y201621_30_Note</td>\n",
       "      <td>BASE TABLE</td>\n",
       "    </tr>\n",
       "    <tr>\n",
       "      <th>4</th>\n",
       "      <td>ORD_Singh_201911038D</td>\n",
       "      <td>Dflt</td>\n",
       "      <td>_B00_ML4TrgPos_Y201621_04_04_Lab</td>\n",
       "      <td>BASE TABLE</td>\n",
       "    </tr>\n",
       "    <tr>\n",
       "      <th>5</th>\n",
       "      <td>ORD_Singh_201911038D</td>\n",
       "      <td>Dflt</td>\n",
       "      <td>_B00_ML4TrgPos_Y201621_06_Med_04_RxOutpat</td>\n",
       "      <td>BASE TABLE</td>\n",
       "    </tr>\n",
       "    <tr>\n",
       "      <th>6</th>\n",
       "      <td>ORD_Singh_201911038D</td>\n",
       "      <td>Dflt</td>\n",
       "      <td>_B00_ML4TrgPos_Y201621_06_Med_07_NonVAMed</td>\n",
       "      <td>BASE TABLE</td>\n",
       "    </tr>\n",
       "    <tr>\n",
       "      <th>7</th>\n",
       "      <td>ORD_Singh_201911038D</td>\n",
       "      <td>Dflt</td>\n",
       "      <td>_B00_ML4TrgPos_Y201621_06_Med_05_BCMA_DispensedDrug</td>\n",
       "      <td>BASE TABLE</td>\n",
       "    </tr>\n",
       "    <tr>\n",
       "      <th>8</th>\n",
       "      <td>ORD_Singh_201911038D</td>\n",
       "      <td>Dflt</td>\n",
       "      <td>_B00_ML4TrgPos_Y201621_06_Med_08_AllMed</td>\n",
       "      <td>BASE TABLE</td>\n",
       "    </tr>\n",
       "    <tr>\n",
       "      <th>9</th>\n",
       "      <td>ORD_Singh_201911038D</td>\n",
       "      <td>Dflt</td>\n",
       "      <td>_B00_ML4TrgPos_Y201621_08_Consult</td>\n",
       "      <td>BASE TABLE</td>\n",
       "    </tr>\n",
       "    <tr>\n",
       "      <th>10</th>\n",
       "      <td>ORD_Singh_201911038D</td>\n",
       "      <td>Dflt</td>\n",
       "      <td>_B00_ML4TrgPos_Y201621_12_ICD</td>\n",
       "      <td>BASE TABLE</td>\n",
       "    </tr>\n",
       "    <tr>\n",
       "      <th>11</th>\n",
       "      <td>ORD_Singh_201911038D</td>\n",
       "      <td>Dflt</td>\n",
       "      <td>_B00_ML4TrgPos_Y201621_14_Vital</td>\n",
       "      <td>BASE TABLE</td>\n",
       "    </tr>\n",
       "    <tr>\n",
       "      <th>12</th>\n",
       "      <td>ORD_Singh_201911038D</td>\n",
       "      <td>Dflt</td>\n",
       "      <td>_B00_ML4TrgPos_Y201621_16_HF</td>\n",
       "      <td>BASE TABLE</td>\n",
       "    </tr>\n",
       "    <tr>\n",
       "      <th>13</th>\n",
       "      <td>ORD_Singh_201911038D</td>\n",
       "      <td>Dflt</td>\n",
       "      <td>_B00_ML4TrgPos_Y201621_05_04_Rad_new</td>\n",
       "      <td>BASE TABLE</td>\n",
       "    </tr>\n",
       "    <tr>\n",
       "      <th>14</th>\n",
       "      <td>ORD_Singh_201911038D</td>\n",
       "      <td>Dflt</td>\n",
       "      <td>_B00_ML4TrgPos_Y201621_01_04_Demorgraphics</td>\n",
       "      <td>BASE TABLE</td>\n",
       "    </tr>\n",
       "    <tr>\n",
       "      <th>15</th>\n",
       "      <td>ORD_Singh_201911038D</td>\n",
       "      <td>Dflt</td>\n",
       "      <td>_B00_ML4TrgPos_Y201621_05_04_Rad_Only10daysPrior30DaysAfter</td>\n",
       "      <td>BASE TABLE</td>\n",
       "    </tr>\n",
       "  </tbody>\n",
       "</table>\n",
       "</div>"
      ],
      "text/plain": [
       "           TABLE_CATALOG TABLE_SCHEMA  \\\n",
       "0   ORD_Singh_201911038D         Dflt   \n",
       "1   ORD_Singh_201911038D         Dflt   \n",
       "2   ORD_Singh_201911038D         Dflt   \n",
       "3   ORD_Singh_201911038D         Dflt   \n",
       "4   ORD_Singh_201911038D         Dflt   \n",
       "5   ORD_Singh_201911038D         Dflt   \n",
       "6   ORD_Singh_201911038D         Dflt   \n",
       "7   ORD_Singh_201911038D         Dflt   \n",
       "8   ORD_Singh_201911038D         Dflt   \n",
       "9   ORD_Singh_201911038D         Dflt   \n",
       "10  ORD_Singh_201911038D         Dflt   \n",
       "11  ORD_Singh_201911038D         Dflt   \n",
       "12  ORD_Singh_201911038D         Dflt   \n",
       "13  ORD_Singh_201911038D         Dflt   \n",
       "14  ORD_Singh_201911038D         Dflt   \n",
       "15  ORD_Singh_201911038D         Dflt   \n",
       "\n",
       "                                                     TABLE_NAME  TABLE_TYPE  \n",
       "0                           _B00_ML4TrgPos_Y201621_01_04_cohort  BASE TABLE  \n",
       "1                              _B00_ML4TrgPos_Y201621_05_04_Rad  BASE TABLE  \n",
       "2                       _B00_ML4TrgPos_Y201621_30_Note_WithRole  BASE TABLE  \n",
       "3                                _B00_ML4TrgPos_Y201621_30_Note  BASE TABLE  \n",
       "4                              _B00_ML4TrgPos_Y201621_04_04_Lab  BASE TABLE  \n",
       "5                     _B00_ML4TrgPos_Y201621_06_Med_04_RxOutpat  BASE TABLE  \n",
       "6                     _B00_ML4TrgPos_Y201621_06_Med_07_NonVAMed  BASE TABLE  \n",
       "7           _B00_ML4TrgPos_Y201621_06_Med_05_BCMA_DispensedDrug  BASE TABLE  \n",
       "8                       _B00_ML4TrgPos_Y201621_06_Med_08_AllMed  BASE TABLE  \n",
       "9                             _B00_ML4TrgPos_Y201621_08_Consult  BASE TABLE  \n",
       "10                                _B00_ML4TrgPos_Y201621_12_ICD  BASE TABLE  \n",
       "11                              _B00_ML4TrgPos_Y201621_14_Vital  BASE TABLE  \n",
       "12                                 _B00_ML4TrgPos_Y201621_16_HF  BASE TABLE  \n",
       "13                         _B00_ML4TrgPos_Y201621_05_04_Rad_new  BASE TABLE  \n",
       "14                   _B00_ML4TrgPos_Y201621_01_04_Demorgraphics  BASE TABLE  \n",
       "15  _B00_ML4TrgPos_Y201621_05_04_Rad_Only10daysPrior30DaysAfter  BASE TABLE  "
      ]
     },
     "metadata": {},
     "output_type": "display_data"
    },
    {
     "name": "stderr",
     "output_type": "stream",
     "text": [
      "C:\\Users\\VHAHOUWuY1\\AppData\\Local\\Continuum\\anaconda3\\envs\\ahrq-sci-med\\lib\\site-packages\\pandas\\io\\sql.py:762: UserWarning: pandas only support SQLAlchemy connectable(engine/connection) ordatabase string URI or sqlite3 DBAPI2 connectionother DBAPI2 objects are not tested, please consider using SQLAlchemy\n",
      "  warnings.warn(\n",
      "C:\\Users\\VHAHOUWuY1\\AppData\\Local\\Continuum\\anaconda3\\envs\\ahrq-sci-med\\lib\\site-packages\\pandas\\io\\sql.py:762: UserWarning: pandas only support SQLAlchemy connectable(engine/connection) ordatabase string URI or sqlite3 DBAPI2 connectionother DBAPI2 objects are not tested, please consider using SQLAlchemy\n",
      "  warnings.warn(\n",
      "C:\\Users\\VHAHOUWuY1\\AppData\\Local\\Continuum\\anaconda3\\envs\\ahrq-sci-med\\lib\\site-packages\\pandas\\io\\sql.py:762: UserWarning: pandas only support SQLAlchemy connectable(engine/connection) ordatabase string URI or sqlite3 DBAPI2 connectionother DBAPI2 objects are not tested, please consider using SQLAlchemy\n",
      "  warnings.warn(\n",
      "C:\\Users\\VHAHOUWuY1\\AppData\\Local\\Continuum\\anaconda3\\envs\\ahrq-sci-med\\lib\\site-packages\\pandas\\io\\sql.py:762: UserWarning: pandas only support SQLAlchemy connectable(engine/connection) ordatabase string URI or sqlite3 DBAPI2 connectionother DBAPI2 objects are not tested, please consider using SQLAlchemy\n",
      "  warnings.warn(\n",
      "C:\\Users\\VHAHOUWuY1\\AppData\\Local\\Continuum\\anaconda3\\envs\\ahrq-sci-med\\lib\\site-packages\\pandas\\io\\sql.py:762: UserWarning: pandas only support SQLAlchemy connectable(engine/connection) ordatabase string URI or sqlite3 DBAPI2 connectionother DBAPI2 objects are not tested, please consider using SQLAlchemy\n",
      "  warnings.warn(\n",
      "C:\\Users\\VHAHOUWuY1\\AppData\\Local\\Continuum\\anaconda3\\envs\\ahrq-sci-med\\lib\\site-packages\\pandas\\io\\sql.py:762: UserWarning: pandas only support SQLAlchemy connectable(engine/connection) ordatabase string URI or sqlite3 DBAPI2 connectionother DBAPI2 objects are not tested, please consider using SQLAlchemy\n",
      "  warnings.warn(\n",
      "C:\\Users\\VHAHOUWuY1\\AppData\\Local\\Continuum\\anaconda3\\envs\\ahrq-sci-med\\lib\\site-packages\\pandas\\io\\sql.py:762: UserWarning: pandas only support SQLAlchemy connectable(engine/connection) ordatabase string URI or sqlite3 DBAPI2 connectionother DBAPI2 objects are not tested, please consider using SQLAlchemy\n",
      "  warnings.warn(\n",
      "C:\\Users\\VHAHOUWuY1\\AppData\\Local\\Continuum\\anaconda3\\envs\\ahrq-sci-med\\lib\\site-packages\\pandas\\io\\sql.py:762: UserWarning: pandas only support SQLAlchemy connectable(engine/connection) ordatabase string URI or sqlite3 DBAPI2 connectionother DBAPI2 objects are not tested, please consider using SQLAlchemy\n",
      "  warnings.warn(\n",
      "C:\\Users\\VHAHOUWuY1\\AppData\\Local\\Continuum\\anaconda3\\envs\\ahrq-sci-med\\lib\\site-packages\\pandas\\io\\sql.py:762: UserWarning: pandas only support SQLAlchemy connectable(engine/connection) ordatabase string URI or sqlite3 DBAPI2 connectionother DBAPI2 objects are not tested, please consider using SQLAlchemy\n",
      "  warnings.warn(\n",
      "C:\\Users\\VHAHOUWuY1\\AppData\\Local\\Continuum\\anaconda3\\envs\\ahrq-sci-med\\lib\\site-packages\\pandas\\io\\sql.py:762: UserWarning: pandas only support SQLAlchemy connectable(engine/connection) ordatabase string URI or sqlite3 DBAPI2 connectionother DBAPI2 objects are not tested, please consider using SQLAlchemy\n",
      "  warnings.warn(\n",
      "C:\\Users\\VHAHOUWuY1\\AppData\\Local\\Continuum\\anaconda3\\envs\\ahrq-sci-med\\lib\\site-packages\\pandas\\io\\sql.py:762: UserWarning: pandas only support SQLAlchemy connectable(engine/connection) ordatabase string URI or sqlite3 DBAPI2 connectionother DBAPI2 objects are not tested, please consider using SQLAlchemy\n",
      "  warnings.warn(\n"
     ]
    },
    {
     "name": "stdout",
     "output_type": "stream",
     "text": [
      "dict_keys(['cohort', 'Rad', 'Note', 'Lab', 'RxOutpat', 'NonVAMed', 'Consult', 'ICD', 'new', 'Demorgraphics', 'Only10daysPrior30DaysAfter'])\n"
     ]
    }
   ],
   "source": [
    "dataset = util.extractDataset(\"B00_ML4TrgPos_\", {\"WithRole\", \"AllMed\", \"Vital\", \"HF\", \"DispensedDrug\"})"
   ]
  },
  {
   "cell_type": "code",
   "execution_count": 4,
   "metadata": {},
   "outputs": [],
   "source": [
    "dizziness_df, label_map = util.retrieveLabels() # labeled\n",
    "label_df = util.convertLabelMap(label_map) # PatientSSN | Label (100)\n",
    "datasubset = util.extractAndStandarizeCohort(dataset, \"Dizziness\") # dataset for dizziness (All).\n",
    "edstart = util.extractFirstVisitIndexDatetime(datasubset[\"cohort\"]) # get first entry of each patient."
   ]
  },
  {
   "cell_type": "code",
   "execution_count": 5,
   "metadata": {},
   "outputs": [
    {
     "data": {
      "text/plain": [
       "NoMOD       44\n",
       "MOD         38\n",
       "PMOD        12\n",
       "CodingEr     6\n",
       "Name: DxErrorERCoded, dtype: int64"
      ]
     },
     "execution_count": 5,
     "metadata": {},
     "output_type": "execute_result"
    }
   ],
   "source": [
    "dizziness_df[\"DxErrorERCoded\"].value_counts()"
   ]
  },
  {
   "cell_type": "code",
   "execution_count": 6,
   "metadata": {},
   "outputs": [],
   "source": [
    "datasubset[\"cohort\"] = datasubset[\"cohort\"].merge(label_df.rename(columns={\"PatientSSN\":\"patientSSN\"})) # concat label"
   ]
  },
  {
   "cell_type": "code",
   "execution_count": 7,
   "metadata": {},
   "outputs": [],
   "source": [
    "def extractSubset(ds, subsetNames):\n",
    "    pkeys = util.getPrimaryKeys(dataset)\n",
    "    cohort_key = pkeys[\"cohort\"]\n",
    "    cohort_subset = ds[\"cohort\"][ds[\"cohort\"].Label.isin(subsetNames)]\n",
    "    ids = pd.DataFrame({cohort_key: cohort_subset[cohort_key].unique()})\n",
    "    dss = dict()\n",
    "    for table, df in ds.items():\n",
    "        dss[table] = ids.merge(df, how=\"inner\", left_on=cohort_key, right_on=pkeys[table])\n",
    "        if pkeys[table] != cohort_key:\n",
    "            dss[table] = dss[table].drop([cohort_key], axis = 1)\n",
    "        dss[table][pkeys[table]] = dss[table][pkeys[table]].astype(int)\n",
    "    return dss"
   ]
  },
  {
   "cell_type": "code",
   "execution_count": 8,
   "metadata": {},
   "outputs": [],
   "source": [
    "modsubset = extractSubset(datasubset, [\"MOD\"]) # dizziness MOD cases\n",
    "nomodsubset = extractSubset(datasubset, [\"NoMOD\"]) # dizziness no-MOD cases"
   ]
  },
  {
   "cell_type": "code",
   "execution_count": 9,
   "metadata": {},
   "outputs": [
    {
     "name": "stdout",
     "output_type": "stream",
     "text": [
      "Index(['PatientSSN', 'EntryDateTime', 'TIUDocumentSID', 'TIUStandardTitle',\n",
      "       'ReportText', 'Sta3n', 'PatientSID', 'ProviderRole'],\n",
      "      dtype='object')\n"
     ]
    }
   ],
   "source": [
    "print(modsubset['Note'].columns)"
   ]
  },
  {
   "cell_type": "code",
   "execution_count": 10,
   "metadata": {},
   "outputs": [],
   "source": [
    "def getEDorPhysician(df):\n",
    "    pattern = 'EMERGENCY DEPT NOTE|PHYSICIAN NOTE'\n",
    "    return df[df.TIUStandardTitle.str.contains(pattern)]"
   ]
  },
  {
   "cell_type": "code",
   "execution_count": 11,
   "metadata": {},
   "outputs": [],
   "source": [
    "mod_ed_or_physician_df = getEDorPhysician(modsubset['Note']).sort_values(\"EntryDateTime\")"
   ]
  },
  {
   "cell_type": "code",
   "execution_count": 12,
   "metadata": {},
   "outputs": [],
   "source": [
    "nomod_ed_or_physician_df = getEDorPhysician(nomodsubset['Note']).sort_values(\"EntryDateTime\")"
   ]
  },
  {
   "cell_type": "code",
   "execution_count": 13,
   "metadata": {},
   "outputs": [
    {
     "name": "stdout",
     "output_type": "stream",
     "text": [
      "['NURSING EMERGENCY DEPT NOTE' 'EMERGENCY DEPT NOTE'\n",
      " 'PRIMARY CARE PHYSICIAN NOTE' 'PHYSICAL MEDICINE REHAB PHYSICIAN NOTE'\n",
      " 'ATTENDING EMERGENCY DEPT NOTE' 'MENTAL HEALTH PHYSICIAN NOTE'\n",
      " 'PHYSICIAN NOTE' 'NEUROLOGY PHYSICIAN NOTE'\n",
      " 'PHYSICIAN EMERGENCY DEPT NOTE' 'UROLOGY PHYSICIAN NOTE'\n",
      " 'SCANNED EMERGENCY DEPT NOTE' 'PULMONARY PHYSICIAN NOTE'\n",
      " 'PHYSICAL THERAPY PHYSICIAN NOTE' 'ANESTHESIOLOGY PHYSICIAN NOTE'\n",
      " 'DERMATOLOGY PHYSICIAN NOTE' 'PALLIATIVE CARE PHYSICIAN NOTE'\n",
      " 'SOCIAL WORK EMERGENCY DEPT NOTE' 'DIALYSIS PHYSICIAN NOTE'\n",
      " 'INTERNAL MEDICINE PHYSICIAN NOTE']\n"
     ]
    }
   ],
   "source": [
    "print(mod_ed_or_physician_df['TIUStandardTitle'].unique())"
   ]
  },
  {
   "cell_type": "code",
   "execution_count": 14,
   "metadata": {},
   "outputs": [],
   "source": [
    "from collections import defaultdict\n",
    "def getLastEntryOfNote(df):\n",
    "    idnote_to_note = defaultdict(str)\n",
    "    for index, row in df.iterrows():\n",
    "        idnote_to_note[(row['PatientSSN'], row['TIUStandardTitle'])] = row['ReportText']\n",
    "    return idnote_to_note"
   ]
  },
  {
   "cell_type": "code",
   "execution_count": null,
   "metadata": {
    "scrolled": true
   },
   "outputs": [],
   "source": [
    "mod_ed_or_physician_df"
   ]
  },
  {
   "cell_type": "code",
   "execution_count": 16,
   "metadata": {},
   "outputs": [],
   "source": [
    "filtered_mod_dict = getLastEntryOfNote(mod_ed_or_physician_df)\n",
    "filtered_nomod_dict = getLastEntryOfNote(nomod_ed_or_physician_df)"
   ]
  },
  {
   "cell_type": "code",
   "execution_count": 17,
   "metadata": {},
   "outputs": [],
   "source": [
    "filtered_mod_df = pd.DataFrame(filtered_mod_dict.values(), columns =[\"ReportText\"])\n",
    "filtered_nomod_df = pd.DataFrame(filtered_nomod_dict.values(), columns =[\"ReportText\"])"
   ]
  },
  {
   "cell_type": "code",
   "execution_count": 18,
   "metadata": {},
   "outputs": [],
   "source": [
    "mod_texts = filtered_mod_df.reset_index(drop=True)\n",
    "nomod_texts = filtered_nomod_df.reset_index(drop=True)"
   ]
  },
  {
   "cell_type": "code",
   "execution_count": 19,
   "metadata": {},
   "outputs": [],
   "source": [
    "import re\n",
    "def preprocessing(text):\n",
    "    y = ''\n",
    "    if text:\n",
    "        y = text.lower()\n",
    "        y = re.sub(r'\\\\[(.*?)\\\\]', '', y)\n",
    "        y = re.sub(r'[0-9]+\\.', '', y)\n",
    "        y = re.sub(r'dr\\.', 'doctor', y)\n",
    "        y = re.sub(r'm\\.d\\.', 'md', y)\n",
    "        y = re.sub(r'--|__|==', '', y) \n",
    "        y = re.sub(r'y\\.o\\.', 'year old', y)\n",
    "        y = re.sub(r'fh', 'family history', y)\n",
    "        y = re.sub(r'sh:', 'social history:', y)\n",
    "        y = re.sub(r'\\r\\n', ' ', y)\n",
    "        y = re.sub(r' :', ':', y)\n",
    "        y = re.sub(r'physical examination', 'physical exam', y)\n",
    "        y = re.sub(r'medications/iv:', 'medications:', y)\n",
    "        ######### prevent catching as section\n",
    "        y = re.sub(r'consult', 'consultation', y)\n",
    "        y = re.sub(r'allergies', 'allergy', y) # allergies: stay the same but allergie -> allergy\n",
    "        y = re.sub(r'allergy:', 'allergies:', y)\n",
    "        y = re.sub(r'past history', 'past histories', y) # past history: stay the same but history -> histories, not ran for mod.\n",
    "        y = re.sub(r'past histories:', 'past history:', y) # not ran for mods.\n",
    "        y = re.sub(r'/ ', '/', y)\n",
    "        y = re.sub(r'plan/disposition', 'plan', y)\n",
    "        y = re.sub(r'=', '', y)\n",
    "        ####### 11/5 added\n",
    "        y = re.sub(r'\\[\\]', 'not ', y)\n",
    "        y = re.sub(r'\\[x\\]', '', y)\n",
    "        y = re.sub(r':', ': ', y)\n",
    "        y = re.sub(r'\\.', '. ', y)\n",
    "        y = re.sub(r'assessment \\& plan:', 'assessment:', y)\n",
    "        y = re.sub(r'vitals:', 'vital signs', y)\n",
    "        y = re.sub(r'active and recently expired inpatient medications \\(including supplies\\):', 'medications:', y)\n",
    "        y = re.sub(r'active outpatient medications \\(including supplies\\):', 'medications:', y)\n",
    "        y = re.sub(r'active inpatient medications \\(including supplies\\):', 'medications:',  y)\n",
    "        y = re.sub(r'active outpatient medications \\(excluding supplies\\):', 'medications:', y)\n",
    "        y = re.sub(r'reason for visit \\(chief complaint\\):', 'cc:', y)\n",
    "        y = re.sub(r'lab results:', 'labs:', y)\n",
    "        # very specific ones\n",
    "        y = re.sub(r'med reconciliation  included in this list:', 'medications:', y)\n",
    "        y = re.sub(r'51 y/o wm who', 'hpi: 51 y/o wm who', y)\n",
    "        y = re.sub(r'reason for visit \\(cc\\):', 'cc:', y)\n",
    "        y = re.sub(r'gen:', 'general:', y)\n",
    "        y = re.sub(r'68 year old male appears', 'general: 68 year old male appears', y)\n",
    "        y = re.sub(r'cc-', 'cc:', y)\n",
    "        y = re.sub(r'hpi-', 'hpi:', y)\n",
    "        y = re.sub('  +', ' ', y)  # whitespace\n",
    "        # new\n",
    "        y = re.sub(r'y/o', 'year old', y)  \n",
    "        y = re.sub(r'/', ' ', y)\n",
    "        #y = re.sub(r'|', ' ', y)\n",
    "    return y"
   ]
  },
  {
   "cell_type": "code",
   "execution_count": null,
   "metadata": {},
   "outputs": [],
   "source": [
    "pd.set_option('display.max_colwidth', 150)\n",
    "mod_texts['ReportText'] = mod_texts['ReportText'].map(preprocessing)\n",
    "mod_texts"
   ]
  },
  {
   "cell_type": "code",
   "execution_count": null,
   "metadata": {},
   "outputs": [],
   "source": [
    "nomod_texts['ReportText'] = nomod_texts['ReportText'].map(preprocessing)\n",
    "nomod_texts"
   ]
  },
  {
   "cell_type": "markdown",
   "metadata": {},
   "source": [
    "##  Build Bag Of Cuis Vector"
   ]
  },
  {
   "cell_type": "code",
   "execution_count": 22,
   "metadata": {},
   "outputs": [],
   "source": [
    "import spacy\n",
    "import medspacy\n",
    "from medspacy.visualization import visualize_ent, visualize_dep\n",
    "from medspacy.custom_tokenizer import create_medspacy_tokenizer\n",
    "from medspacy.section_detection import Sectionizer\n",
    "from medspacy.section_detection import SectionRule\n",
    "#from quickumls import QuickUMLS\n",
    "from collections import defaultdict\n",
    "import matplotlib.pyplot as plt\n",
    "import pandas as pd"
   ]
  },
  {
   "cell_type": "code",
   "execution_count": 23,
   "metadata": {},
   "outputs": [],
   "source": [
    "nlp = medspacy.load(\"en_core_sci_sm\")\n",
    "nlp.disable_pipe('parser')\n",
    "nlp.disable_pipe('medspacy_target_matcher') # matcher: disable warning, ok doesn't help."
   ]
  },
  {
   "cell_type": "code",
   "execution_count": 24,
   "metadata": {},
   "outputs": [
    {
     "data": {
      "text/plain": [
       "['tok2vec',\n",
       " 'tagger',\n",
       " 'attribute_ruler',\n",
       " 'lemmatizer',\n",
       " 'ner',\n",
       " 'medspacy_pyrush',\n",
       " 'medspacy_context',\n",
       " 'medspacy_sectionizer']"
      ]
     },
     "execution_count": 24,
     "metadata": {},
     "output_type": "execute_result"
    }
   ],
   "source": [
    "sectionizer = nlp.add_pipe(\"medspacy_sectionizer\", config={\"rules\": \"default\"})\n",
    "section_patterns = [\n",
    "    SectionRule(category=\"history\",literal=\"past medical/surgical history:\"),\n",
    "    SectionRule(category=\"history\",literal=\"medical history:\"),\n",
    "    SectionRule(category=\"history\",literal=\"surgical history:\"),\n",
    "    # added\n",
    "    SectionRule(category=\"history\",literal=\"cvabackground:\"),\n",
    "    SectionRule(category=\"status\",literal=\"patient care status:\"),\n",
    "    SectionRule(category=\"other\",literal=\"other:\"),\n",
    "    SectionRule(category=\"treatment\",literal=\"treatments/therapies:\"),\n",
    "    SectionRule(category=\"preview\",literal=\"subjectives:\"),\n",
    "    SectionRule(category=\"diagnosis\",literal=\"diagnosis:\",pattern=[{\"LOWER\": {\"REGEX\": \".*admi(tting|ssion)\"}}, {\"LOWER\": \"diagnosis\"}, {\"LOWER\": \":\"}]),\n",
    "    SectionRule(category=\"review\",literal=\"review of system:\"),\n",
    "    SectionRule(category=\"diagnosis\",literal=\"assessment/diagnosis:\"),\n",
    "    SectionRule(category=\"status\",literal=\"general:\"),\n",
    "    SectionRule(category=\"followup\",literal=\"discussed with pt:\"),\n",
    "    \n",
    "]\n",
    "sectionizer.add(section_patterns)\n",
    "\n",
    "nlp.pipe_names"
   ]
  },
  {
   "cell_type": "markdown",
   "metadata": {},
   "source": [
    "## Extract Sections Other than Medications"
   ]
  },
  {
   "cell_type": "code",
   "execution_count": 25,
   "metadata": {},
   "outputs": [],
   "source": [
    "avoidsections = ['medications:', 'active medications:', 'current medications:', 'discharge medications:', 'other:', 'education:']"
   ]
  },
  {
   "cell_type": "code",
   "execution_count": 26,
   "metadata": {},
   "outputs": [],
   "source": [
    "def getSection(text):\n",
    "    filteredtext = \"\"\n",
    "    current_doc = nlp(text)  \n",
    "    for title, body in zip(current_doc._.section_titles, current_doc._.section_bodies):\n",
    "        if title.text not in avoidsections:\n",
    "            filteredtext += body.text\n",
    "            filteredtext += \" \"\n",
    "    return filteredtext"
   ]
  },
  {
   "cell_type": "code",
   "execution_count": 27,
   "metadata": {},
   "outputs": [],
   "source": [
    "mod_texts['ReportText'] = mod_texts['ReportText'].map(getSection)\n",
    "nomod_texts['ReportText'] = nomod_texts['ReportText'].map(getSection)"
   ]
  },
  {
   "cell_type": "code",
   "execution_count": null,
   "metadata": {},
   "outputs": [],
   "source": [
    "mod_texts"
   ]
  },
  {
   "cell_type": "code",
   "execution_count": null,
   "metadata": {},
   "outputs": [],
   "source": [
    "nomod_texts"
   ]
  },
  {
   "cell_type": "code",
   "execution_count": 30,
   "metadata": {},
   "outputs": [],
   "source": [
    "def getAllCuisAndCuiDict(df, allCuis):\n",
    "    noteToCuis = defaultdict(list)    \n",
    "    for index, row in df.iterrows():\n",
    "        current_doc = nlp(row['ReportText'])        \n",
    "        for entity in current_doc.ents:\n",
    "            noteToCuis[index] += [entity.lemma_] ### text -> lemma_\n",
    "            allCuis[entity.lemma_] += 1 ### text -> lemma_\n",
    "    return allCuis, noteToCuis"
   ]
  },
  {
   "cell_type": "code",
   "execution_count": 31,
   "metadata": {},
   "outputs": [],
   "source": [
    "import collections\n",
    "allCuis = collections.Counter() # just in case we need TF-IDF vector in the future.\n",
    "allCuis, mod_note_to_cuis = getAllCuisAndCuiDict(mod_texts, allCuis)\n",
    "allCuis, nomod_note_to_cuis = getAllCuisAndCuiDict(nomod_texts, allCuis)"
   ]
  },
  {
   "cell_type": "code",
   "execution_count": 32,
   "metadata": {},
   "outputs": [
    {
     "name": "stdout",
     "output_type": "stream",
     "text": [
      "['patient', 'day', 'tablet', 'medication', 'tab', 'mouth', 'eval', 'pain', 'report', 'refill', 'negative', 'pulse', 'review', 'male', 'year', 'deny', 'intact', 'expiration', 'release', 'specimen', 'month', 'veteran', 'week', '|', 'skin', 'symptom', 'plan', 'stable', 'alert', 'discharge', 'blood', 'level', 'provider', 'collection', 'test', 'lab', 'neg', 'soft', 'state', 'outpt', 'history', 'hyperlipidemia', 'treatment', 'blood pressure', 'change', 'risk', 'auto', 'answer', 'daily', 'bilaterally', 'eye', 'egfr', 'admission', 'hypertension', 'evaluation', 'active', 'calcium', 'result', 'fever', 'increase', 'mild', 'pcp', 'htn', 'nurse', 'site', 'bilateral', 'date time', 'admit', 'dose', 'moderate', 'sob', 'lesion', 'diagnosis', 'stroke', 'abdoman', 'lung', 'please', 'visit', \"patient's\", 'co2', 'atrial fibrillation', 'aneurysm', 'smoke', 'head trauma']\n"
     ]
    }
   ],
   "source": [
    "allCuisListCount = allCuis.most_common(80)\n",
    "allCuisList = [word for word, count in allCuisListCount]\n",
    "# add risk factors\n",
    "allCuisList += ['atrial fibrillation']\n",
    "allCuisList += ['aneurysm']\n",
    "allCuisList += ['smoke']\n",
    "allCuisList += ['head trauma']\n",
    "print(allCuisList)\n",
    "#random.shuffle(allCuisList)"
   ]
  },
  {
   "cell_type": "code",
   "execution_count": 62,
   "metadata": {},
   "outputs": [
    {
     "name": "stdout",
     "output_type": "stream",
     "text": [
      "['mouth', 'eval', 'pain', 'report', 'refill', 'negative', 'pulse', 'review', 'male', 'year', 'deny', 'intact', 'expiration', 'release', 'specimen', 'month', 'veteran', 'week', '|', 'skin', 'symptom', 'plan', 'stable', 'alert', 'discharge', 'blood', 'level', 'provider', 'collection', 'test', 'lab', 'neg', 'soft', 'state', 'outpt', 'history', 'hyperlipidemia', 'treatment', 'blood pressure', 'change', 'risk', 'auto', 'answer', 'daily', 'bilaterally', 'eye', 'egfr', 'admission', 'hypertension', 'evaluation', 'active', 'calcium', 'result', 'fever', 'increase', 'mild', 'pcp', 'htn', 'nurse', 'site', 'bilateral', 'date time', 'admit', 'dose', 'moderate', 'sob', 'lesion', 'diagnosis', 'stroke', 'abdoman', 'lung', 'please', 'visit', \"patient's\", 'co2', 'atrial fibrillation', 'aneurysm', 'smoke', 'head trauma']\n"
     ]
    }
   ],
   "source": [
    "blacklisted = ['patient', 'day', 'tablet', 'medication', 'tab']\n",
    "n = []\n",
    "for i in allCuisList:\n",
    "    if i not in blacklisted:\n",
    "        n += [i]\n",
    "\n",
    "allCuisList = n\n",
    "print(allCuisList)"
   ]
  },
  {
   "cell_type": "code",
   "execution_count": 63,
   "metadata": {},
   "outputs": [],
   "source": [
    "# make Cui to index dictionary.\n",
    "cuiToIndex = {}\n",
    "for index, cui in enumerate(allCuisList):\n",
    "    cuiToIndex[cui] = index"
   ]
  },
  {
   "cell_type": "code",
   "execution_count": 64,
   "metadata": {},
   "outputs": [],
   "source": [
    "import numpy as np\n",
    "bagOfCuisVector = np.zeros((len(mod_texts)+len(nomod_texts), len(allCuisList)))"
   ]
  },
  {
   "cell_type": "code",
   "execution_count": 65,
   "metadata": {},
   "outputs": [],
   "source": [
    "def populateBOC(bagOfCuisVector, noteToCuis, shifter=0):\n",
    "    for noteIndex, cuiList in noteToCuis.items():\n",
    "        for cui in cuiList:\n",
    "            if cui in cuiToIndex:\n",
    "                bagOfCuisVector[noteIndex + shifter][cuiToIndex[cui]] = 1\n",
    "    return bagOfCuisVector"
   ]
  },
  {
   "cell_type": "code",
   "execution_count": 66,
   "metadata": {},
   "outputs": [],
   "source": [
    "bagOfCuisVector = populateBOC(bagOfCuisVector, mod_note_to_cuis)\n",
    "bagOfCuisVector = populateBOC(bagOfCuisVector, nomod_note_to_cuis, len(mod_note_to_cuis))"
   ]
  },
  {
   "cell_type": "code",
   "execution_count": 67,
   "metadata": {},
   "outputs": [
    {
     "name": "stdout",
     "output_type": "stream",
     "text": [
      "number of cuis extracted in each notes:\n",
      " [ 5.  6. 15. 33. 14. 18. 27.  6. 26. 18. 24.  1. 12.  2.  8.  5. 19.  6.\n",
      "  5. 13.  6. 20.  2. 12. 13.  6. 19.  3. 15.  6.  1.  0. 38.  1.  6. 11.\n",
      " 20.  4.  5.  1.  1.  3. 14. 14. 15.  2. 11.  0. 29.  5.  2. 27.  1.  4.\n",
      "  7.  0.  2. 26.  1.  2. 10. 13. 20.  4. 14. 15.  6.  1. 19.  1.  0. 14.\n",
      "  1.  4. 26. 21. 37. 24. 11.  2. 14.  4. 24.  3.  8.  1.  7.  0. 17.  2.\n",
      "  4. 15. 14.  5. 15. 15.  0.  3. 25.  5. 30. 10.  2.  2. 25. 18. 12. 27.\n",
      " 36.  6. 34. 18. 20. 10.  4. 26.  7. 47.  8.  0. 12.  6. 28. 28. 18.  6.\n",
      "  6. 27.  9.  5.  2.  5. 36.  8. 13. 19.  3. 26. 13. 16. 15.  5. 28. 12.\n",
      " 30. 11.  0. 19.  1. 25. 39. 23. 15.  2.  5.  0. 15. 19.  1. 18. 22. 15.\n",
      " 13.  4. 20. 10. 14.  7.  6. 44. 22. 14. 15. 13. 10.  3. 24.  4. 16.  4.\n",
      "  3.  2.  9. 25.  0.]\n"
     ]
    }
   ],
   "source": [
    "print(\"number of cuis extracted in each notes:\\n\", bagOfCuisVector.sum(1))"
   ]
  },
  {
   "cell_type": "code",
   "execution_count": 68,
   "metadata": {},
   "outputs": [
    {
     "name": "stdout",
     "output_type": "stream",
     "text": [
      "[]\n"
     ]
    }
   ],
   "source": [
    "prevalent = np.where(bagOfCuisVector.sum(0) > 185*0.5)\n",
    "print(prevalent[0])\n",
    "# vector is pretty sparse."
   ]
  },
  {
   "cell_type": "code",
   "execution_count": 69,
   "metadata": {},
   "outputs": [],
   "source": [
    "modVector = bagOfCuisVector[:len(mod_texts)]\n",
    "nomodVector = bagOfCuisVector[len(mod_texts):]"
   ]
  },
  {
   "cell_type": "code",
   "execution_count": 70,
   "metadata": {},
   "outputs": [
    {
     "name": "stdout",
     "output_type": "stream",
     "text": [
      "27.0\n",
      "[ 8.  5. 21. 24.  3. 21. 24. 27. 27. 27. 18. 16.  2.  0.  7. 13. 11. 21.\n",
      "  0. 17. 22. 16. 12. 25. 14.  8. 10.  6.  7.  7. 19.  3. 24. 15.  3. 16.\n",
      " 20.  8. 14. 13. 12.  4. 18.  8.  6. 10. 12.  9. 14.  9. 10. 14. 14. 10.\n",
      " 10. 10. 11. 10. 10.  8.  6.  5. 12.  5.  8. 11.  8. 14. 13. 13. 12.  5.\n",
      " 13. 12. 13.  6.  0.  2.  1.]\n"
     ]
    }
   ],
   "source": [
    "print(max(modVector.sum(0)))\n",
    "cui_count = modVector.sum(0)\n",
    "print(cui_count)"
   ]
  },
  {
   "cell_type": "code",
   "execution_count": 71,
   "metadata": {},
   "outputs": [
    {
     "data": {
      "text/plain": [
       "Text(0.5, 1.0, 'cuis distribution in mod notes, sectionized')"
      ]
     },
     "execution_count": 71,
     "metadata": {},
     "output_type": "execute_result"
    },
    {
     "data": {
      "image/png": "[encoded data removed]",
      "text/plain": [
       "<Figure size 640x480 with 1 Axes>"
      ]
     },
     "metadata": {},
     "output_type": "display_data"
    }
   ],
   "source": [
    "modcuifreq = modVector.sum(0)\n",
    "plt.plot(modcuifreq) # draw this as line graph since too much argument for bar.\n",
    "plt.xlim([0, 100])\n",
    "plt.ylim([0, 50])\n",
    "plt.xlabel(\"index in cui list\")\n",
    "plt.ylabel(\"number of doc with cui\")\n",
    "plt.title(\"cuis distribution in mod notes, sectionized\")"
   ]
  },
  {
   "cell_type": "code",
   "execution_count": 72,
   "metadata": {},
   "outputs": [
    {
     "data": {
      "text/plain": [
       "Text(0.5, 1.0, 'cuis distribution in nomod notes, sectionized')"
      ]
     },
     "execution_count": 72,
     "metadata": {},
     "output_type": "execute_result"
    },
    {
     "data": {
      "image/png": "[encoded data removed]",
      "text/plain": [
       "<Figure size 640x480 with 1 Axes>"
      ]
     },
     "metadata": {},
     "output_type": "display_data"
    }
   ],
   "source": [
    "nomodcuifreq = nomodVector.sum(0)\n",
    "plt.plot(nomodcuifreq)\n",
    "plt.xlim([0, 100])\n",
    "plt.ylim([0, 50])\n",
    "plt.xlabel(\"index in cui list\")\n",
    "plt.ylabel(\"number of doc with cui\")\n",
    "plt.title(\"cuis distribution in nomod notes, sectionized\")"
   ]
  },
  {
   "cell_type": "markdown",
   "metadata": {},
   "source": [
    "## Hamming Distance"
   ]
  },
  {
   "cell_type": "code",
   "execution_count": 73,
   "metadata": {},
   "outputs": [],
   "source": [
    "from scipy.spatial.distance import hamming"
   ]
  },
  {
   "cell_type": "code",
   "execution_count": 74,
   "metadata": {},
   "outputs": [
    {
     "name": "stdout",
     "output_type": "stream",
     "text": [
      "(85, 4.0)\n",
      "(30, 5.0)\n"
     ]
    }
   ],
   "source": [
    "# bagOfCuisVector: 185 x 1000\n",
    "def getHammings(standardNoteIndex):\n",
    "    standard = bagOfCuisVector[standardNoteIndex]\n",
    "    IndexToHammings = {}\n",
    "    for i in range(len(bagOfCuisVector)): # 185\n",
    "        if i != standardNoteIndex:\n",
    "            vector = bagOfCuisVector[i]\n",
    "            IndexToHammings[i] = hamming(standard, vector) * len(standard) # percentage of correspoinding elements that differ * len\n",
    "    return sorted(IndexToHammings.items(), key = lambda v: v[1])\n",
    "\n",
    "modSortedHammings0 = getHammings(0)\n",
    "print(modSortedHammings0[0])\n",
    "modSortedHammings1 = getHammings(1)\n",
    "print(modSortedHammings1[0])"
   ]
  },
  {
   "cell_type": "code",
   "execution_count": null,
   "metadata": {},
   "outputs": [],
   "source": [
    "mod_texts['ReportText'][0]"
   ]
  },
  {
   "cell_type": "code",
   "execution_count": null,
   "metadata": {},
   "outputs": [],
   "source": [
    "mod_texts['ReportText'][85]"
   ]
  },
  {
   "cell_type": "code",
   "execution_count": 77,
   "metadata": {},
   "outputs": [
    {
     "name": "stdout",
     "output_type": "stream",
     "text": [
      "intact\n",
      "hyperlipidemia\n",
      "answer\n",
      "bilateral\n",
      "diagnosis\n"
     ]
    }
   ],
   "source": [
    "for index, i in enumerate(modVector[0]):\n",
    "    if i > 0:\n",
    "        print(allCuisList[index])"
   ]
  },
  {
   "cell_type": "code",
   "execution_count": 78,
   "metadata": {},
   "outputs": [
    {
     "name": "stdout",
     "output_type": "stream",
     "text": [
      "bilateral\n"
     ]
    }
   ],
   "source": [
    "for index, i in enumerate(modVector[85]):\n",
    "    if i > 0:\n",
    "        print(allCuisList[index])"
   ]
  },
  {
   "cell_type": "markdown",
   "metadata": {},
   "source": [
    "# Hamming, knn"
   ]
  },
  {
   "cell_type": "code",
   "execution_count": 79,
   "metadata": {},
   "outputs": [],
   "source": [
    "k = 5\n",
    "modCounts = []\n",
    "for i in range(185):\n",
    "    modSortedHammings = getHammings(i)\n",
    "    modCounts += [np.sum([1 if index < 87 else 0 for index, _ in modSortedHammings[:k]])]"
   ]
  },
  {
   "cell_type": "code",
   "execution_count": 80,
   "metadata": {},
   "outputs": [
    {
     "name": "stdout",
     "output_type": "stream",
     "text": [
      "[5, 4, 3, 2, 4, 3, 4, 5, 1, 4, 4, 5, 2, 4, 4, 5, 3, 5, 4, 4, 3, 4, 4, 4, 2, 4, 4, 5, 4, 3, 4, 3, 2, 4, 5, 5, 5, 4, 4, 4, 5, 5, 5, 2, 1, 5, 3, 3, 5, 4, 5, 2, 4, 4, 4, 3, 4, 3, 4, 5, 5, 4, 4, 5, 4, 3, 5, 4, 3, 5, 3, 5, 5, 4, 5, 2, 0, 5, 3, 4, 5, 4, 4, 4, 3, 4, 4, 4, 3, 5, 4, 2, 3, 4, 5, 2, 4, 5, 2, 5, 1, 5, 5, 5, 3, 5, 4, 3, 1, 2, 4, 3, 3, 3, 4, 2, 5, 3, 5, 4, 5, 4, 0, 4, 4, 4, 5, 2, 5, 4, 5, 5, 2, 5, 4, 2, 5, 3, 1, 4, 2, 2, 2, 2, 1, 5, 4, 3, 5, 2, 1, 4, 3, 5, 5, 4, 3, 3, 5, 4, 5, 4, 2, 4, 2, 5, 5, 4, 5, 3, 2, 3, 1, 4, 5, 4, 2, 5, 1, 5, 5, 4, 3, 4, 4]\n"
     ]
    }
   ],
   "source": [
    "print(modCounts)"
   ]
  },
  {
   "cell_type": "code",
   "execution_count": 81,
   "metadata": {},
   "outputs": [
    {
     "name": "stdout",
     "output_type": "stream",
     "text": [
      "77 / 87 of mod are determined as mod, 25 / 98 of nomod are determined as nomod\n"
     ]
    }
   ],
   "source": [
    "modClosestToMod = sum([1 if i > 2 else 0 for i in modCounts[:87]])\n",
    "nomodClosestToNomod = sum([1 if i < 3 else 0 for i in modCounts[87:]])\n",
    "print(modClosestToMod, \"/ 87 of mod are determined as mod,\", nomodClosestToNomod, \"/ 98 of nomod are determined as nomod\")"
   ]
  },
  {
   "cell_type": "code",
   "execution_count": 82,
   "metadata": {},
   "outputs": [],
   "source": [
    "# 75, 28\n",
    "# 72, 19"
   ]
  },
  {
   "cell_type": "code",
   "execution_count": null,
   "metadata": {},
   "outputs": [],
   "source": []
  },
  {
   "cell_type": "code",
   "execution_count": null,
   "metadata": {},
   "outputs": [],
   "source": []
  },
  {
   "cell_type": "code",
   "execution_count": null,
   "metadata": {},
   "outputs": [],
   "source": []
  },
  {
   "cell_type": "code",
   "execution_count": null,
   "metadata": {},
   "outputs": [],
   "source": []
  }
 ],
 "metadata": {
  "kernelspec": {
   "display_name": "Python 3",
   "language": "python",
   "name": "python3"
  },
  "language_info": {
   "codemirror_mode": {
    "name": "ipython",
    "version": 3
   },
   "file_extension": ".py",
   "mimetype": "text/x-python",
   "name": "python",
   "nbconvert_exporter": "python",
   "pygments_lexer": "ipython3",
   "version": "3.9.1"
  }
 },
 "nbformat": 4,
 "nbformat_minor": 2
}
