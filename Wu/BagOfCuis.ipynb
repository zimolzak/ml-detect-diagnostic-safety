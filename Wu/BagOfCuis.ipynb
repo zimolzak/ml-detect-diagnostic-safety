{
 "cells": [
  {
   "cell_type": "markdown",
   "metadata": {},
   "source": [
    "## extract needed data - Physician or ED notes, last entry per (person, note type) pair"
   ]
  },
  {
   "cell_type": "code",
   "execution_count": 1,
   "metadata": {
    "scrolled": false
   },
   "outputs": [],
   "source": [
    "%load_ext autoreload\n",
    "%autoreload 2"
   ]
  },
  {
   "cell_type": "code",
   "execution_count": 2,
   "metadata": {
    "scrolled": false
   },
   "outputs": [],
   "source": [
    "import dizzy_util as util\n",
    "import pandas as pd\n",
    "pd.set_option('display.max_rows', 100)\n",
    "pd.set_option('display.max_colwidth', 150)"
   ]
  },
  {
   "cell_type": "code",
   "execution_count": 3,
   "metadata": {
    "scrolled": false
   },
   "outputs": [
    {
     "name": "stderr",
     "output_type": "stream",
     "text": [
      "C:\\Users\\VHAHOUWuY1\\AppData\\Local\\Continuum\\anaconda3\\envs\\ahrq-sci-med\\lib\\site-packages\\pandas\\io\\sql.py:762: UserWarning: pandas only support SQLAlchemy connectable(engine/connection) ordatabase string URI or sqlite3 DBAPI2 connectionother DBAPI2 objects are not tested, please consider using SQLAlchemy\n",
      "  warnings.warn(\n"
     ]
    },
    {
     "data": {
      "text/html": [
       "<div>\n",
       "<style scoped>\n",
       "    .dataframe tbody tr th:only-of-type {\n",
       "        vertical-align: middle;\n",
       "    }\n",
       "\n",
       "    .dataframe tbody tr th {\n",
       "        vertical-align: top;\n",
       "    }\n",
       "\n",
       "    .dataframe thead th {\n",
       "        text-align: right;\n",
       "    }\n",
       "</style>\n",
       "<table border=\"1\" class=\"dataframe\">\n",
       "  <thead>\n",
       "    <tr style=\"text-align: right;\">\n",
       "      <th></th>\n",
       "      <th>TABLE_CATALOG</th>\n",
       "      <th>TABLE_SCHEMA</th>\n",
       "      <th>TABLE_NAME</th>\n",
       "      <th>TABLE_TYPE</th>\n",
       "    </tr>\n",
       "  </thead>\n",
       "  <tbody>\n",
       "    <tr>\n",
       "      <th>0</th>\n",
       "      <td>ORD_Singh_201911038D</td>\n",
       "      <td>Dflt</td>\n",
       "      <td>_B00_ML4TrgPos_Y201621_01_04_cohort</td>\n",
       "      <td>BASE TABLE</td>\n",
       "    </tr>\n",
       "    <tr>\n",
       "      <th>1</th>\n",
       "      <td>ORD_Singh_201911038D</td>\n",
       "      <td>Dflt</td>\n",
       "      <td>_B00_ML4TrgPos_Y201621_05_04_Rad</td>\n",
       "      <td>BASE TABLE</td>\n",
       "    </tr>\n",
       "    <tr>\n",
       "      <th>2</th>\n",
       "      <td>ORD_Singh_201911038D</td>\n",
       "      <td>Dflt</td>\n",
       "      <td>_B00_ML4TrgPos_Y201621_30_Note_WithRole</td>\n",
       "      <td>BASE TABLE</td>\n",
       "    </tr>\n",
       "    <tr>\n",
       "      <th>3</th>\n",
       "      <td>ORD_Singh_201911038D</td>\n",
       "      <td>Dflt</td>\n",
       "      <td>_B00_ML4TrgPos_Y201621_30_Note</td>\n",
       "      <td>BASE TABLE</td>\n",
       "    </tr>\n",
       "    <tr>\n",
       "      <th>4</th>\n",
       "      <td>ORD_Singh_201911038D</td>\n",
       "      <td>Dflt</td>\n",
       "      <td>_B00_ML4TrgPos_Y201621_04_04_Lab</td>\n",
       "      <td>BASE TABLE</td>\n",
       "    </tr>\n",
       "    <tr>\n",
       "      <th>5</th>\n",
       "      <td>ORD_Singh_201911038D</td>\n",
       "      <td>Dflt</td>\n",
       "      <td>_B00_ML4TrgPos_Y201621_06_Med_04_RxOutpat</td>\n",
       "      <td>BASE TABLE</td>\n",
       "    </tr>\n",
       "    <tr>\n",
       "      <th>6</th>\n",
       "      <td>ORD_Singh_201911038D</td>\n",
       "      <td>Dflt</td>\n",
       "      <td>_B00_ML4TrgPos_Y201621_06_Med_07_NonVAMed</td>\n",
       "      <td>BASE TABLE</td>\n",
       "    </tr>\n",
       "    <tr>\n",
       "      <th>7</th>\n",
       "      <td>ORD_Singh_201911038D</td>\n",
       "      <td>Dflt</td>\n",
       "      <td>_B00_ML4TrgPos_Y201621_06_Med_05_BCMA_DispensedDrug</td>\n",
       "      <td>BASE TABLE</td>\n",
       "    </tr>\n",
       "    <tr>\n",
       "      <th>8</th>\n",
       "      <td>ORD_Singh_201911038D</td>\n",
       "      <td>Dflt</td>\n",
       "      <td>_B00_ML4TrgPos_Y201621_06_Med_08_AllMed</td>\n",
       "      <td>BASE TABLE</td>\n",
       "    </tr>\n",
       "    <tr>\n",
       "      <th>9</th>\n",
       "      <td>ORD_Singh_201911038D</td>\n",
       "      <td>Dflt</td>\n",
       "      <td>_B00_ML4TrgPos_Y201621_08_Consult</td>\n",
       "      <td>BASE TABLE</td>\n",
       "    </tr>\n",
       "    <tr>\n",
       "      <th>10</th>\n",
       "      <td>ORD_Singh_201911038D</td>\n",
       "      <td>Dflt</td>\n",
       "      <td>_B00_ML4TrgPos_Y201621_12_ICD</td>\n",
       "      <td>BASE TABLE</td>\n",
       "    </tr>\n",
       "    <tr>\n",
       "      <th>11</th>\n",
       "      <td>ORD_Singh_201911038D</td>\n",
       "      <td>Dflt</td>\n",
       "      <td>_B00_ML4TrgPos_Y201621_14_Vital</td>\n",
       "      <td>BASE TABLE</td>\n",
       "    </tr>\n",
       "    <tr>\n",
       "      <th>12</th>\n",
       "      <td>ORD_Singh_201911038D</td>\n",
       "      <td>Dflt</td>\n",
       "      <td>_B00_ML4TrgPos_Y201621_16_HF</td>\n",
       "      <td>BASE TABLE</td>\n",
       "    </tr>\n",
       "    <tr>\n",
       "      <th>13</th>\n",
       "      <td>ORD_Singh_201911038D</td>\n",
       "      <td>Dflt</td>\n",
       "      <td>_B00_ML4TrgPos_Y201621_05_04_Rad_new</td>\n",
       "      <td>BASE TABLE</td>\n",
       "    </tr>\n",
       "    <tr>\n",
       "      <th>14</th>\n",
       "      <td>ORD_Singh_201911038D</td>\n",
       "      <td>Dflt</td>\n",
       "      <td>_B00_ML4TrgPos_Y201621_01_04_Demorgraphics</td>\n",
       "      <td>BASE TABLE</td>\n",
       "    </tr>\n",
       "    <tr>\n",
       "      <th>15</th>\n",
       "      <td>ORD_Singh_201911038D</td>\n",
       "      <td>Dflt</td>\n",
       "      <td>_B00_ML4TrgPos_Y201621_05_04_Rad_Only10daysPrior30DaysAfter</td>\n",
       "      <td>BASE TABLE</td>\n",
       "    </tr>\n",
       "  </tbody>\n",
       "</table>\n",
       "</div>"
      ],
      "text/plain": [
       "           TABLE_CATALOG TABLE_SCHEMA  \\\n",
       "0   ORD_Singh_201911038D         Dflt   \n",
       "1   ORD_Singh_201911038D         Dflt   \n",
       "2   ORD_Singh_201911038D         Dflt   \n",
       "3   ORD_Singh_201911038D         Dflt   \n",
       "4   ORD_Singh_201911038D         Dflt   \n",
       "5   ORD_Singh_201911038D         Dflt   \n",
       "6   ORD_Singh_201911038D         Dflt   \n",
       "7   ORD_Singh_201911038D         Dflt   \n",
       "8   ORD_Singh_201911038D         Dflt   \n",
       "9   ORD_Singh_201911038D         Dflt   \n",
       "10  ORD_Singh_201911038D         Dflt   \n",
       "11  ORD_Singh_201911038D         Dflt   \n",
       "12  ORD_Singh_201911038D         Dflt   \n",
       "13  ORD_Singh_201911038D         Dflt   \n",
       "14  ORD_Singh_201911038D         Dflt   \n",
       "15  ORD_Singh_201911038D         Dflt   \n",
       "\n",
       "                                                     TABLE_NAME  TABLE_TYPE  \n",
       "0                           _B00_ML4TrgPos_Y201621_01_04_cohort  BASE TABLE  \n",
       "1                              _B00_ML4TrgPos_Y201621_05_04_Rad  BASE TABLE  \n",
       "2                       _B00_ML4TrgPos_Y201621_30_Note_WithRole  BASE TABLE  \n",
       "3                                _B00_ML4TrgPos_Y201621_30_Note  BASE TABLE  \n",
       "4                              _B00_ML4TrgPos_Y201621_04_04_Lab  BASE TABLE  \n",
       "5                     _B00_ML4TrgPos_Y201621_06_Med_04_RxOutpat  BASE TABLE  \n",
       "6                     _B00_ML4TrgPos_Y201621_06_Med_07_NonVAMed  BASE TABLE  \n",
       "7           _B00_ML4TrgPos_Y201621_06_Med_05_BCMA_DispensedDrug  BASE TABLE  \n",
       "8                       _B00_ML4TrgPos_Y201621_06_Med_08_AllMed  BASE TABLE  \n",
       "9                             _B00_ML4TrgPos_Y201621_08_Consult  BASE TABLE  \n",
       "10                                _B00_ML4TrgPos_Y201621_12_ICD  BASE TABLE  \n",
       "11                              _B00_ML4TrgPos_Y201621_14_Vital  BASE TABLE  \n",
       "12                                 _B00_ML4TrgPos_Y201621_16_HF  BASE TABLE  \n",
       "13                         _B00_ML4TrgPos_Y201621_05_04_Rad_new  BASE TABLE  \n",
       "14                   _B00_ML4TrgPos_Y201621_01_04_Demorgraphics  BASE TABLE  \n",
       "15  _B00_ML4TrgPos_Y201621_05_04_Rad_Only10daysPrior30DaysAfter  BASE TABLE  "
      ]
     },
     "metadata": {},
     "output_type": "display_data"
    },
    {
     "name": "stderr",
     "output_type": "stream",
     "text": [
      "C:\\Users\\VHAHOUWuY1\\AppData\\Local\\Continuum\\anaconda3\\envs\\ahrq-sci-med\\lib\\site-packages\\pandas\\io\\sql.py:762: UserWarning: pandas only support SQLAlchemy connectable(engine/connection) ordatabase string URI or sqlite3 DBAPI2 connectionother DBAPI2 objects are not tested, please consider using SQLAlchemy\n",
      "  warnings.warn(\n",
      "C:\\Users\\VHAHOUWuY1\\AppData\\Local\\Continuum\\anaconda3\\envs\\ahrq-sci-med\\lib\\site-packages\\pandas\\io\\sql.py:762: UserWarning: pandas only support SQLAlchemy connectable(engine/connection) ordatabase string URI or sqlite3 DBAPI2 connectionother DBAPI2 objects are not tested, please consider using SQLAlchemy\n",
      "  warnings.warn(\n",
      "C:\\Users\\VHAHOUWuY1\\AppData\\Local\\Continuum\\anaconda3\\envs\\ahrq-sci-med\\lib\\site-packages\\pandas\\io\\sql.py:762: UserWarning: pandas only support SQLAlchemy connectable(engine/connection) ordatabase string URI or sqlite3 DBAPI2 connectionother DBAPI2 objects are not tested, please consider using SQLAlchemy\n",
      "  warnings.warn(\n",
      "C:\\Users\\VHAHOUWuY1\\AppData\\Local\\Continuum\\anaconda3\\envs\\ahrq-sci-med\\lib\\site-packages\\pandas\\io\\sql.py:762: UserWarning: pandas only support SQLAlchemy connectable(engine/connection) ordatabase string URI or sqlite3 DBAPI2 connectionother DBAPI2 objects are not tested, please consider using SQLAlchemy\n",
      "  warnings.warn(\n",
      "C:\\Users\\VHAHOUWuY1\\AppData\\Local\\Continuum\\anaconda3\\envs\\ahrq-sci-med\\lib\\site-packages\\pandas\\io\\sql.py:762: UserWarning: pandas only support SQLAlchemy connectable(engine/connection) ordatabase string URI or sqlite3 DBAPI2 connectionother DBAPI2 objects are not tested, please consider using SQLAlchemy\n",
      "  warnings.warn(\n",
      "C:\\Users\\VHAHOUWuY1\\AppData\\Local\\Continuum\\anaconda3\\envs\\ahrq-sci-med\\lib\\site-packages\\pandas\\io\\sql.py:762: UserWarning: pandas only support SQLAlchemy connectable(engine/connection) ordatabase string URI or sqlite3 DBAPI2 connectionother DBAPI2 objects are not tested, please consider using SQLAlchemy\n",
      "  warnings.warn(\n",
      "C:\\Users\\VHAHOUWuY1\\AppData\\Local\\Continuum\\anaconda3\\envs\\ahrq-sci-med\\lib\\site-packages\\pandas\\io\\sql.py:762: UserWarning: pandas only support SQLAlchemy connectable(engine/connection) ordatabase string URI or sqlite3 DBAPI2 connectionother DBAPI2 objects are not tested, please consider using SQLAlchemy\n",
      "  warnings.warn(\n",
      "C:\\Users\\VHAHOUWuY1\\AppData\\Local\\Continuum\\anaconda3\\envs\\ahrq-sci-med\\lib\\site-packages\\pandas\\io\\sql.py:762: UserWarning: pandas only support SQLAlchemy connectable(engine/connection) ordatabase string URI or sqlite3 DBAPI2 connectionother DBAPI2 objects are not tested, please consider using SQLAlchemy\n",
      "  warnings.warn(\n"
     ]
    },
    {
     "name": "stdout",
     "output_type": "stream",
     "text": [
      "dict_keys(['cohort', 'Rad', 'Note', 'Lab', 'RxOutpat', 'NonVAMed', 'Consult', 'ICD', 'new', 'Demorgraphics', 'Only10daysPrior30DaysAfter'])\n"
     ]
    },
    {
     "name": "stderr",
     "output_type": "stream",
     "text": [
      "C:\\Users\\VHAHOUWuY1\\AppData\\Local\\Continuum\\anaconda3\\envs\\ahrq-sci-med\\lib\\site-packages\\pandas\\io\\sql.py:762: UserWarning: pandas only support SQLAlchemy connectable(engine/connection) ordatabase string URI or sqlite3 DBAPI2 connectionother DBAPI2 objects are not tested, please consider using SQLAlchemy\n",
      "  warnings.warn(\n",
      "C:\\Users\\VHAHOUWuY1\\AppData\\Local\\Continuum\\anaconda3\\envs\\ahrq-sci-med\\lib\\site-packages\\pandas\\io\\sql.py:762: UserWarning: pandas only support SQLAlchemy connectable(engine/connection) ordatabase string URI or sqlite3 DBAPI2 connectionother DBAPI2 objects are not tested, please consider using SQLAlchemy\n",
      "  warnings.warn(\n",
      "C:\\Users\\VHAHOUWuY1\\AppData\\Local\\Continuum\\anaconda3\\envs\\ahrq-sci-med\\lib\\site-packages\\pandas\\io\\sql.py:762: UserWarning: pandas only support SQLAlchemy connectable(engine/connection) ordatabase string URI or sqlite3 DBAPI2 connectionother DBAPI2 objects are not tested, please consider using SQLAlchemy\n",
      "  warnings.warn(\n"
     ]
    }
   ],
   "source": [
    "dataset = util.extractDataset(\"B00_ML4TrgPos_\", {\"WithRole\", \"AllMed\", \"Vital\", \"HF\", \"DispensedDrug\"})"
   ]
  },
  {
   "cell_type": "code",
   "execution_count": 4,
   "metadata": {
    "scrolled": false
   },
   "outputs": [],
   "source": [
    "dizziness_df, label_map = util.retrieveLabels() # labeled\n",
    "label_df = util.convertLabelMap(label_map) # PatientSSN | Label (100)\n",
    "datasubset = util.extractAndStandarizeCohort(dataset, \"Dizziness\") # dataset for dizziness (All).\n",
    "edstart = util.extractFirstVisitIndexDatetime(datasubset[\"cohort\"]) # get first entry of each patient."
   ]
  },
  {
   "cell_type": "code",
   "execution_count": 5,
   "metadata": {
    "scrolled": false
   },
   "outputs": [
    {
     "data": {
      "text/plain": [
       "NoMOD       44\n",
       "MOD         38\n",
       "PMOD        12\n",
       "CodingEr     6\n",
       "Name: DxErrorERCoded, dtype: int64"
      ]
     },
     "execution_count": 5,
     "metadata": {},
     "output_type": "execute_result"
    }
   ],
   "source": [
    "dizziness_df[\"DxErrorERCoded\"].value_counts()"
   ]
  },
  {
   "cell_type": "code",
   "execution_count": 6,
   "metadata": {
    "scrolled": false
   },
   "outputs": [],
   "source": [
    "datasubset[\"cohort\"] = datasubset[\"cohort\"].merge(label_df.rename(columns={\"PatientSSN\":\"patientSSN\"})) # concat label"
   ]
  },
  {
   "cell_type": "code",
   "execution_count": 7,
   "metadata": {
    "scrolled": false
   },
   "outputs": [],
   "source": [
    "def extractSubset(ds, subsetNames):\n",
    "    pkeys = util.getPrimaryKeys(dataset)\n",
    "    cohort_key = pkeys[\"cohort\"]\n",
    "    cohort_subset = ds[\"cohort\"][ds[\"cohort\"].Label.isin(subsetNames)]\n",
    "    ids = pd.DataFrame({cohort_key: cohort_subset[cohort_key].unique()})\n",
    "    dss = dict()\n",
    "    for table, df in ds.items():\n",
    "        dss[table] = ids.merge(df, how=\"inner\", left_on=cohort_key, right_on=pkeys[table])\n",
    "        if pkeys[table] != cohort_key:\n",
    "            dss[table] = dss[table].drop([cohort_key], axis = 1)\n",
    "        dss[table][pkeys[table]] = dss[table][pkeys[table]].astype(int)\n",
    "    return dss"
   ]
  },
  {
   "cell_type": "code",
   "execution_count": 8,
   "metadata": {
    "scrolled": false
   },
   "outputs": [],
   "source": [
    "modsubset = extractSubset(datasubset, [\"MOD\"]) # dizziness MOD cases\n",
    "nomodsubset = extractSubset(datasubset, [\"NoMOD\"]) # dizziness no-MOD cases"
   ]
  },
  {
   "cell_type": "code",
   "execution_count": 9,
   "metadata": {
    "scrolled": false
   },
   "outputs": [
    {
     "name": "stdout",
     "output_type": "stream",
     "text": [
      "Index(['PatientSSN', 'EntryDateTime', 'TIUDocumentSID', 'TIUStandardTitle',\n",
      "       'ReportText', 'Sta3n', 'PatientSID', 'ProviderRole'],\n",
      "      dtype='object')\n"
     ]
    }
   ],
   "source": [
    "print(modsubset['Note'].columns)"
   ]
  },
  {
   "cell_type": "code",
   "execution_count": 10,
   "metadata": {
    "scrolled": false
   },
   "outputs": [],
   "source": [
    "def getEDorPhysician(df):\n",
    "    pattern = 'EMERGENCY DEPT NOTE|PHYSICIAN NOTE'\n",
    "    return df[df.TIUStandardTitle.str.contains(pattern)]"
   ]
  },
  {
   "cell_type": "code",
   "execution_count": 11,
   "metadata": {
    "scrolled": false
   },
   "outputs": [],
   "source": [
    "mod_ed_or_physician_df = getEDorPhysician(modsubset['Note']).sort_values(\"EntryDateTime\")"
   ]
  },
  {
   "cell_type": "code",
   "execution_count": 12,
   "metadata": {
    "scrolled": false
   },
   "outputs": [],
   "source": [
    "nomod_ed_or_physician_df = getEDorPhysician(nomodsubset['Note']).sort_values(\"EntryDateTime\")"
   ]
  },
  {
   "cell_type": "code",
   "execution_count": 13,
   "metadata": {
    "scrolled": false
   },
   "outputs": [
    {
     "name": "stdout",
     "output_type": "stream",
     "text": [
      "['NURSING EMERGENCY DEPT NOTE' 'EMERGENCY DEPT NOTE'\n",
      " 'PRIMARY CARE PHYSICIAN NOTE' 'PHYSICAL MEDICINE REHAB PHYSICIAN NOTE'\n",
      " 'ATTENDING EMERGENCY DEPT NOTE' 'MENTAL HEALTH PHYSICIAN NOTE'\n",
      " 'PHYSICIAN NOTE' 'NEUROLOGY PHYSICIAN NOTE'\n",
      " 'PHYSICIAN EMERGENCY DEPT NOTE' 'UROLOGY PHYSICIAN NOTE'\n",
      " 'SCANNED EMERGENCY DEPT NOTE' 'PULMONARY PHYSICIAN NOTE'\n",
      " 'PHYSICAL THERAPY PHYSICIAN NOTE' 'ANESTHESIOLOGY PHYSICIAN NOTE'\n",
      " 'DERMATOLOGY PHYSICIAN NOTE' 'PALLIATIVE CARE PHYSICIAN NOTE'\n",
      " 'SOCIAL WORK EMERGENCY DEPT NOTE' 'DIALYSIS PHYSICIAN NOTE'\n",
      " 'INTERNAL MEDICINE PHYSICIAN NOTE']\n"
     ]
    }
   ],
   "source": [
    "print(mod_ed_or_physician_df['TIUStandardTitle'].unique())"
   ]
  },
  {
   "cell_type": "code",
   "execution_count": 14,
   "metadata": {
    "scrolled": false
   },
   "outputs": [],
   "source": [
    "from collections import defaultdict\n",
    "def getLastEntryOfNote(df):\n",
    "    idnote_to_note = defaultdict(str)\n",
    "    for index, row in df.iterrows():\n",
    "        idnote_to_note[(row['PatientSSN'], row['TIUStandardTitle'])] = row['ReportText']\n",
    "    return idnote_to_note"
   ]
  },
  {
   "cell_type": "code",
   "execution_count": null,
   "metadata": {
    "scrolled": true
   },
   "outputs": [],
   "source": [
    "mod_ed_or_physician_df"
   ]
  },
  {
   "cell_type": "code",
   "execution_count": 16,
   "metadata": {
    "scrolled": false
   },
   "outputs": [],
   "source": [
    "filtered_mod_dict = getLastEntryOfNote(mod_ed_or_physician_df)\n",
    "filtered_nomod_dict = getLastEntryOfNote(nomod_ed_or_physician_df)"
   ]
  },
  {
   "cell_type": "code",
   "execution_count": 17,
   "metadata": {
    "scrolled": false
   },
   "outputs": [],
   "source": [
    "filtered_mod_df = pd.DataFrame(filtered_mod_dict.values(), columns =[\"ReportText\"])\n",
    "filtered_nomod_df = pd.DataFrame(filtered_nomod_dict.values(), columns =[\"ReportText\"])"
   ]
  },
  {
   "cell_type": "code",
   "execution_count": 18,
   "metadata": {
    "scrolled": false
   },
   "outputs": [],
   "source": [
    "mod_texts = filtered_mod_df.reset_index(drop=True)\n",
    "nomod_texts = filtered_nomod_df.reset_index(drop=True)"
   ]
  },
  {
   "cell_type": "code",
   "execution_count": 19,
   "metadata": {
    "scrolled": false
   },
   "outputs": [],
   "source": [
    "import re\n",
    "def preprocessing(text):\n",
    "    y = ''\n",
    "    if text:\n",
    "        y = text.lower()\n",
    "        y = re.sub(r'\\\\[(.*?)\\\\]', '', y)\n",
    "        y = re.sub(r'[0-9]+\\.', '', y)\n",
    "        y = re.sub(r'dr\\.', 'doctor', y)\n",
    "        y = re.sub(r'm\\.d\\.', 'md', y)\n",
    "        y = re.sub(r'--|__|==', '', y) \n",
    "        y = re.sub(r'y\\.o\\.', 'year old', y)\n",
    "        y = re.sub(r'fh', 'family history', y)\n",
    "        y = re.sub(r'sh:', 'social history:', y)\n",
    "        y = re.sub(r'\\r\\n', ' ', y)\n",
    "        y = re.sub(r' :', ':', y)\n",
    "        y = re.sub(r'physical examination', 'physical exam', y)\n",
    "        y = re.sub(r'medications/iv:', 'medications:', y)\n",
    "        ######### prevent catching as section\n",
    "        y = re.sub(r'consult', 'consultation', y)\n",
    "        y = re.sub(r'allergies', 'allergy', y) # allergies: stay the same but allergie -> allergy\n",
    "        y = re.sub(r'allergy:', 'allergies:', y)\n",
    "        y = re.sub(r'past history', 'past histories', y) # past history: stay the same but history -> histories, not ran for mod.\n",
    "        y = re.sub(r'past histories:', 'past history:', y) # not ran for mods.\n",
    "        y = re.sub(r'/ ', '/', y)\n",
    "        y = re.sub(r'plan/disposition', 'plan', y)\n",
    "        y = re.sub(r'=', '', y)\n",
    "        ####### 11/5 added\n",
    "        y = re.sub(r'\\[\\]', 'not ', y)\n",
    "        y = re.sub(r'\\[x\\]', '', y)\n",
    "        y = re.sub(r':', ': ', y)\n",
    "        y = re.sub(r'\\.', '. ', y)\n",
    "        y = re.sub(r'assessment \\& plan:', 'assessment:', y)\n",
    "        y = re.sub(r'vitals:', 'vital signs', y)\n",
    "        y = re.sub(r'active and recently expired inpatient medications \\(including supplies\\):', 'medications:', y)\n",
    "        y = re.sub(r'active outpatient medications \\(including supplies\\):', 'medications:', y)\n",
    "        y = re.sub(r'active inpatient medications \\(including supplies\\):', 'medications:',  y)\n",
    "        y = re.sub(r'active outpatient medications \\(excluding supplies\\):', 'medications:', y)\n",
    "        y = re.sub(r'reason for visit \\(chief complaint\\):', 'cc:', y)\n",
    "        y = re.sub(r'lab results:', 'labs:', y)\n",
    "        # very specific ones\n",
    "        y = re.sub(r'med reconciliation  included in this list:', 'medications:', y)\n",
    "        y = re.sub(r'51 y/o wm who', 'hpi: 51 y/o wm who', y)\n",
    "        y = re.sub(r'reason for visit \\(cc\\):', 'cc:', y)\n",
    "        y = re.sub(r'gen:', 'general:', y)\n",
    "        y = re.sub(r'68 year old male appears', 'general: 68 year old male appears', y)\n",
    "        y = re.sub(r'cc-', 'cc:', y)\n",
    "        y = re.sub(r'hpi-', 'hpi:', y)  \n",
    "        y = re.sub('  +', ' ', y)  # whitespace\n",
    "    return y"
   ]
  },
  {
   "cell_type": "code",
   "execution_count": null,
   "metadata": {
    "scrolled": true
   },
   "outputs": [],
   "source": [
    "pd.set_option('display.max_colwidth', 150)\n",
    "mod_texts['ReportText'] = mod_texts['ReportText'].map(preprocessing)\n",
    "mod_texts"
   ]
  },
  {
   "cell_type": "code",
   "execution_count": null,
   "metadata": {
    "scrolled": true
   },
   "outputs": [],
   "source": [
    "nomod_texts['ReportText'] = nomod_texts['ReportText'].map(preprocessing)\n",
    "nomod_texts"
   ]
  },
  {
   "cell_type": "markdown",
   "metadata": {},
   "source": [
    "##  Build Bag Of Cuis Vector"
   ]
  },
  {
   "cell_type": "code",
   "execution_count": 22,
   "metadata": {
    "scrolled": false
   },
   "outputs": [],
   "source": [
    "import spacy\n",
    "import medspacy\n",
    "from medspacy.visualization import visualize_ent, visualize_dep\n",
    "from medspacy.custom_tokenizer import create_medspacy_tokenizer\n",
    "from medspacy.section_detection import Sectionizer\n",
    "from medspacy.section_detection import SectionRule\n",
    "from collections import defaultdict\n",
    "import matplotlib.pyplot as plt\n",
    "import pandas as pd"
   ]
  },
  {
   "cell_type": "code",
   "execution_count": 23,
   "metadata": {
    "scrolled": true
   },
   "outputs": [],
   "source": [
    "nlp = medspacy.load(\"en_core_sci_sm\")\n",
    "nlp.disable_pipe('parser')\n",
    "nlp.disable_pipe('medspacy_target_matcher') # matcher: disable warning, ok doesn't help.\n",
    "sectionizer = nlp.add_pipe(\"medspacy_sectionizer\", config={\"rules\": \"default\"})"
   ]
  },
  {
   "cell_type": "code",
   "execution_count": 24,
   "metadata": {
    "scrolled": false
   },
   "outputs": [
    {
     "data": {
      "text/plain": [
       "['tok2vec',\n",
       " 'tagger',\n",
       " 'attribute_ruler',\n",
       " 'lemmatizer',\n",
       " 'ner',\n",
       " 'medspacy_pyrush',\n",
       " 'medspacy_context',\n",
       " 'medspacy_sectionizer']"
      ]
     },
     "execution_count": 24,
     "metadata": {},
     "output_type": "execute_result"
    }
   ],
   "source": [
    "section_patterns = [\n",
    "    SectionRule(category=\"history\",literal=\"past medical/surgical history:\"),\n",
    "    SectionRule(category=\"history\",literal=\"medical history:\"),\n",
    "    SectionRule(category=\"history\",literal=\"surgical history:\"),\n",
    "    # added\n",
    "    SectionRule(category=\"history\",literal=\"cvabackground:\"),\n",
    "    SectionRule(category=\"status\",literal=\"patient care status:\"),\n",
    "    SectionRule(category=\"other\",literal=\"other:\"),\n",
    "    SectionRule(category=\"treatment\",literal=\"treatments/therapies:\"),\n",
    "    SectionRule(category=\"preview\",literal=\"subjectives:\"),\n",
    "    SectionRule(category=\"diagnosis\",literal=\"diagnosis:\",pattern=[{\"LOWER\": {\"REGEX\": \".*admi(tting|ssion)\"}}, {\"LOWER\": \"diagnosis\"}, {\"LOWER\": \":\"}]),\n",
    "    SectionRule(category=\"review\",literal=\"review of system:\"),\n",
    "    SectionRule(category=\"diagnosis\",literal=\"assessment/diagnosis:\"),\n",
    "    SectionRule(category=\"status\",literal=\"general:\"),\n",
    "    SectionRule(category=\"followup\",literal=\"discussed with pt:\"),\n",
    "    \n",
    "]\n",
    "sectionizer.add(section_patterns)\n",
    "\n",
    "nlp.pipe_names"
   ]
  },
  {
   "cell_type": "code",
   "execution_count": null,
   "metadata": {
    "scrolled": true
   },
   "outputs": [],
   "source": [
    "doc = nlp(mod_texts['ReportText'][0])\n",
    "for title, body in zip(doc._.section_titles, doc._.section_bodies):\n",
    "    print('#########')\n",
    "    print(title)\n",
    "    print(body)"
   ]
  },
  {
   "cell_type": "code",
   "execution_count": 26,
   "metadata": {
    "scrolled": false
   },
   "outputs": [],
   "source": [
    "def getAllCuisAndCuiDict(df, allCuis):\n",
    "    noteToCuis = defaultdict(list)    \n",
    "    for index, row in df.iterrows():\n",
    "        current_doc = nlp(preprocessing(row['ReportText']))\n",
    "        for entity in current_doc.ents:\n",
    "            noteToCuis[index] += [entity.lemma_]\n",
    "            allCuis[entity.lemma_] += 1\n",
    "    return allCuis, noteToCuis"
   ]
  },
  {
   "cell_type": "code",
   "execution_count": 27,
   "metadata": {
    "scrolled": true
   },
   "outputs": [],
   "source": [
    "import collections\n",
    "allCuis = collections.Counter() # just in case we need TF-IDF vector in the future.\n",
    "allCuis, mod_note_to_cuis = getAllCuisAndCuiDict(mod_texts, allCuis)\n",
    "allCuis, nomod_note_to_cuis = getAllCuisAndCuiDict(nomod_texts, allCuis)"
   ]
  },
  {
   "cell_type": "code",
   "execution_count": null,
   "metadata": {
    "scrolled": false
   },
   "outputs": [],
   "source": [
    "import random\n",
    "allCuisListCount = allCuis.most_common(700)\n",
    "allCuisList = [word for word, count in allCuisListCount]\n",
    "print(allCuisList)\n",
    "#allCuisList = list(allCuis)\n",
    "#random.shuffle(allCuisList)"
   ]
  },
  {
   "cell_type": "code",
   "execution_count": 29,
   "metadata": {
    "scrolled": true
   },
   "outputs": [
    {
     "name": "stdout",
     "output_type": "stream",
     "text": [
      "['day', 'patient', 'tablet', 'tab', 'mouth', 'medication', 'refill', 'active', 'supply', 'pain']\n"
     ]
    }
   ],
   "source": [
    "print(allCuisList[:10])"
   ]
  },
  {
   "cell_type": "code",
   "execution_count": 30,
   "metadata": {
    "scrolled": false
   },
   "outputs": [],
   "source": [
    "# make Cui to index dictionary.\n",
    "cuiToIndex = {}\n",
    "for index, cui in enumerate(allCuisList):\n",
    "    cuiToIndex[cui] = index"
   ]
  },
  {
   "cell_type": "code",
   "execution_count": 31,
   "metadata": {
    "scrolled": false
   },
   "outputs": [],
   "source": [
    "import numpy as np\n",
    "bagOfCuisVector = np.zeros((len(mod_texts)+len(nomod_texts), len(allCuisList)))"
   ]
  },
  {
   "cell_type": "code",
   "execution_count": 32,
   "metadata": {
    "scrolled": false
   },
   "outputs": [],
   "source": [
    "def populateBOC(bagOfCuisVector, noteToCuis, shifter=0):\n",
    "    for noteIndex, cuiList in noteToCuis.items():\n",
    "        for cui in cuiList:\n",
    "            if cui in cuiToIndex:\n",
    "                bagOfCuisVector[noteIndex + shifter][cuiToIndex[cui]] = 1\n",
    "    return bagOfCuisVector"
   ]
  },
  {
   "cell_type": "code",
   "execution_count": 33,
   "metadata": {
    "scrolled": false
   },
   "outputs": [],
   "source": [
    "bagOfCuisVector = populateBOC(bagOfCuisVector, mod_note_to_cuis)\n",
    "bagOfCuisVector = populateBOC(bagOfCuisVector, nomod_note_to_cuis, len(mod_note_to_cuis))"
   ]
  },
  {
   "cell_type": "code",
   "execution_count": 34,
   "metadata": {
    "scrolled": false
   },
   "outputs": [
    {
     "name": "stdout",
     "output_type": "stream",
     "text": [
      "number of cuis extracted in each notes:\n",
      " [ 28.  19. 106. 163.  81.  94. 168.  34. 122. 113. 189.  92. 132.   8.\n",
      "  28.  13. 130.  26.  30.  74.  26. 122.  21.  50. 117.  14.  93.  19.\n",
      "  98.  34.   2.   4. 163.   3.  26.  64.  72.  17.  33.   3.   7.  21.\n",
      "  91.  68.  88.   3. 101.   3. 125.   9.   7. 104.   7.   8.  18.   2.\n",
      "  20. 141.  12.   5.  28.  58.  82.  89.  81.  68.  24.   6.  92.   1.\n",
      "   0. 111.   2.  68. 107.  78. 170. 123.  73.  16. 123.  15.  85.  13.\n",
      "  47.   2.  14.   0.  52.   4.   9.  75.  39.  26.  65.  51.   2.  14.\n",
      " 182.  94. 181.  48.  23.  37. 131.  81.  76. 139. 154.  14. 135.  73.\n",
      "  70.  97.  17. 109.  84. 201.  22.   2.  60.  19. 148. 183. 120.  28.\n",
      "  51. 138.  33.  32.   9.  40. 160.  28. 107.  97.   9. 138.  30.  89.\n",
      "  69.  18. 148.  53. 131. 103.   3.  63.   5. 111. 211.  93.  68.   9.\n",
      "  10.   2.  34.  61.   7.  85.  91.  50.  87.  14. 142.  84.  79.  34.\n",
      "  26. 204.  76.  75.  52.  70.  63.   9. 124.  12. 100.  29.  33.  15.\n",
      "  25. 145.   4.]\n"
     ]
    }
   ],
   "source": [
    "print(\"number of cuis extracted in each notes:\\n\", bagOfCuisVector.sum(1))"
   ]
  },
  {
   "cell_type": "code",
   "execution_count": 35,
   "metadata": {
    "scrolled": false
   },
   "outputs": [
    {
     "name": "stdout",
     "output_type": "stream",
     "text": [
      "[1 5]\n"
     ]
    }
   ],
   "source": [
    "prevalent = np.where(bagOfCuisVector.sum(0) > 185*0.5)\n",
    "print(prevalent[0])\n",
    "# vector is pretty sparse."
   ]
  },
  {
   "cell_type": "code",
   "execution_count": 36,
   "metadata": {
    "scrolled": false
   },
   "outputs": [],
   "source": [
    "modVector = bagOfCuisVector[:len(mod_texts)]\n",
    "nomodVector = bagOfCuisVector[len(nomod_texts):]"
   ]
  },
  {
   "cell_type": "code",
   "execution_count": 49,
   "metadata": {
    "scrolled": false
   },
   "outputs": [
    {
     "data": {
      "text/plain": [
       "Text(0.5, 1.0, 'cuis distribution in mod notes')"
      ]
     },
     "execution_count": 49,
     "metadata": {},
     "output_type": "execute_result"
    },
    {
     "data": {
      "image/png": "[encoded data removed]",
      "text/plain": [
       "<Figure size 640x480 with 1 Axes>"
      ]
     },
     "metadata": {},
     "output_type": "display_data"
    }
   ],
   "source": [
    "modcuifreq = modVector.sum(0)\n",
    "plt.plot(modcuifreq)\n",
    "plt.xlim([0, 700])\n",
    "plt.ylim([0, 70])\n",
    "plt.xlabel(\"index in cui list\")\n",
    "plt.ylabel(\"number of doc with cui\")\n",
    "plt.title(\"cuis distribution in mod notes\")"
   ]
  },
  {
   "cell_type": "code",
   "execution_count": 51,
   "metadata": {
    "scrolled": false
   },
   "outputs": [
    {
     "data": {
      "text/plain": [
       "Text(0.5, 1.0, 'cuis distribution in nomod notes')"
      ]
     },
     "execution_count": 51,
     "metadata": {},
     "output_type": "execute_result"
    },
    {
     "data": {
      "image/png": "[encoded data removed]",
      "text/plain": [
       "<Figure size 640x480 with 1 Axes>"
      ]
     },
     "metadata": {},
     "output_type": "display_data"
    }
   ],
   "source": [
    "nomodcuifreq = nomodVector.sum(0)\n",
    "plt.plot(nomodcuifreq)\n",
    "plt.xlim([0, 700])\n",
    "plt.ylim([0, 70])\n",
    "plt.xlabel(\"index in cui list\")\n",
    "plt.ylabel(\"number of doc with cui\")\n",
    "plt.title(\"cuis distribution in nomod notes\")"
   ]
  },
  {
   "cell_type": "markdown",
   "metadata": {},
   "source": [
    "## Hamming Distance"
   ]
  },
  {
   "cell_type": "code",
   "execution_count": 39,
   "metadata": {},
   "outputs": [],
   "source": [
    "from scipy.spatial.distance import hamming"
   ]
  },
  {
   "cell_type": "code",
   "execution_count": 40,
   "metadata": {},
   "outputs": [
    {
     "name": "stdout",
     "output_type": "stream",
     "text": [
      "(38, 23.0)\n",
      "(30, 19.0)\n"
     ]
    }
   ],
   "source": [
    "# bagOfCuisVector: 185 x 1000\n",
    "def getHammings(standardNoteIndex):\n",
    "    standard = bagOfCuisVector[standardNoteIndex]\n",
    "    IndexToHammings = {}\n",
    "    for i in range(len(bagOfCuisVector)): # 185\n",
    "        if i != standardNoteIndex:\n",
    "            vector = bagOfCuisVector[i]\n",
    "            IndexToHammings[i] = hamming(standard, vector) * len(standard) # percentage of correspoinding elements that differ * len\n",
    "    return sorted(IndexToHammings.items(), key = lambda v: v[1])\n",
    "\n",
    "modSortedHammings0 = getHammings(0)\n",
    "print(modSortedHammings0[0])\n",
    "modSortedHammings1 = getHammings(1)\n",
    "print(modSortedHammings1[0])"
   ]
  },
  {
   "cell_type": "code",
   "execution_count": null,
   "metadata": {},
   "outputs": [],
   "source": [
    "mod_texts['ReportText'][0]"
   ]
  },
  {
   "cell_type": "code",
   "execution_count": null,
   "metadata": {},
   "outputs": [],
   "source": [
    "mod_texts['ReportText'][38]"
   ]
  },
  {
   "cell_type": "code",
   "execution_count": null,
   "metadata": {},
   "outputs": [],
   "source": [
    "mod_texts['ReportText'][1]"
   ]
  },
  {
   "cell_type": "code",
   "execution_count": null,
   "metadata": {},
   "outputs": [],
   "source": [
    "mod_texts['ReportText'][30]"
   ]
  },
  {
   "cell_type": "markdown",
   "metadata": {},
   "source": [
    "## knn"
   ]
  },
  {
   "cell_type": "code",
   "execution_count": 45,
   "metadata": {},
   "outputs": [],
   "source": [
    "k = 5\n",
    "modCounts = []\n",
    "for i in range(185):\n",
    "    modSortedHammings = getHammings(i)\n",
    "    modCounts += [np.sum([1 if index < 87 else 0 for index, _ in modSortedHammings[:k]])]"
   ]
  },
  {
   "cell_type": "code",
   "execution_count": 46,
   "metadata": {},
   "outputs": [
    {
     "name": "stdout",
     "output_type": "stream",
     "text": [
      "[4, 4, 5, 3, 4, 3, 2, 4, 4, 3, 3, 4, 2, 4, 4, 4, 5, 4, 3, 3, 4, 4, 4, 4, 3, 4, 3, 4, 4, 4, 4, 2, 1, 4, 4, 3, 3, 4, 4, 4, 3, 4, 2, 3, 3, 4, 4, 2, 3, 4, 4, 4, 4, 4, 4, 2, 5, 3, 4, 4, 4, 4, 5, 3, 4, 3, 5, 3, 3, 4, 4, 5, 4, 4, 4, 3, 3, 5, 4, 4, 3, 4, 5, 4, 5, 4, 4, 5, 4, 4, 4, 3, 5, 5, 4, 3, 3, 2, 2, 3, 1, 4, 4, 5, 2, 4, 3, 2, 3, 3, 5, 5, 3, 4, 3, 3, 4, 2, 4, 3, 4, 3, 2, 4, 5, 4, 5, 3, 4, 4, 4, 4, 3, 4, 3, 3, 4, 2, 3, 3, 2, 2, 3, 3, 5, 4, 4, 3, 4, 4, 1, 5, 3, 4, 4, 3, 4, 3, 4, 5, 5, 4, 3, 4, 2, 3, 3, 4, 4, 4, 4, 3, 5, 4, 4, 4, 5, 4, 3, 4, 4, 4, 4, 5, 4]\n"
     ]
    }
   ],
   "source": [
    "print(modCounts)"
   ]
  },
  {
   "cell_type": "code",
   "execution_count": 47,
   "metadata": {},
   "outputs": [
    {
     "name": "stdout",
     "output_type": "stream",
     "text": [
      "80 / 87 of mod are close to mod, 12 / 98 of nomod are close to nomod\n"
     ]
    }
   ],
   "source": [
    "modClosestToMod = sum([1 if i > 2 else 0 for i in modCounts[:87]])\n",
    "nomodClosestToNomod = sum([1 if i < 3 else 0 for i in modCounts[87:]])\n",
    "print(modClosestToMod, \"/ 87 of mod are close to mod,\", nomodClosestToNomod, \"/ 98 of nomod are close to nomod\")"
   ]
  },
  {
   "cell_type": "code",
   "execution_count": 48,
   "metadata": {},
   "outputs": [],
   "source": [
    "# k = 5\n",
    "# 300: 69, 16\n",
    "# 400: 72, 17\n",
    "# 500: 77, 18 #######\n",
    "# 600: 75, 18\n",
    "# 700: 80, 12 ####### v\n",
    "# 800: 79, 11\n",
    "# 900: 79, 7\n",
    "# 1000: 79, 6\n",
    "# 2000: 83, 3\n",
    "# 3000: 83, 3\n",
    "# 5000: 84, 1"
   ]
  },
  {
   "cell_type": "code",
   "execution_count": null,
   "metadata": {},
   "outputs": [],
   "source": [
    "# k = 7\n",
    "# 700: 74, 18\n",
    "# k = 9\n",
    "# 700: 84, 7"
   ]
  }
 ],
 "metadata": {
  "kernelspec": {
   "display_name": "Python 3",
   "language": "python",
   "name": "python3"
  },
  "language_info": {
   "codemirror_mode": {
    "name": "ipython",
    "version": 3
   },
   "file_extension": ".py",
   "mimetype": "text/x-python",
   "name": "python",
   "nbconvert_exporter": "python",
   "pygments_lexer": "ipython3",
   "version": "3.9.1"
  }
 },
 "nbformat": 4,
 "nbformat_minor": 2
}
