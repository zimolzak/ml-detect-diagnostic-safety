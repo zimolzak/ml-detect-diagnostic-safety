{
 "cells": [
  {
   "cell_type": "markdown",
   "metadata": {},
   "source": [
    "## extract needed data - Physician or ED notes, last entry per (person, note type) pair"
   ]
  },
  {
   "cell_type": "code",
   "execution_count": 1,
   "metadata": {},
   "outputs": [],
   "source": [
    "%load_ext autoreload\n",
    "%autoreload 2"
   ]
  },
  {
   "cell_type": "code",
   "execution_count": 2,
   "metadata": {},
   "outputs": [],
   "source": [
    "import dizzy_util as util\n",
    "import pandas as pd\n",
    "pd.set_option('display.max_rows', 100)\n",
    "pd.set_option('display.max_colwidth', 150)"
   ]
  },
  {
   "cell_type": "code",
   "execution_count": 3,
   "metadata": {},
   "outputs": [
    {
     "name": "stderr",
     "output_type": "stream",
     "text": [
      "C:\\Users\\VHAHOUWuY1\\AppData\\Local\\Continuum\\anaconda3\\envs\\ahrq-sci-med\\lib\\site-packages\\pandas\\io\\sql.py:762: UserWarning: pandas only support SQLAlchemy connectable(engine/connection) ordatabase string URI or sqlite3 DBAPI2 connectionother DBAPI2 objects are not tested, please consider using SQLAlchemy\n",
      "  warnings.warn(\n"
     ]
    },
    {
     "data": {
      "text/html": [
       "<div>\n",
       "<style scoped>\n",
       "    .dataframe tbody tr th:only-of-type {\n",
       "        vertical-align: middle;\n",
       "    }\n",
       "\n",
       "    .dataframe tbody tr th {\n",
       "        vertical-align: top;\n",
       "    }\n",
       "\n",
       "    .dataframe thead th {\n",
       "        text-align: right;\n",
       "    }\n",
       "</style>\n",
       "<table border=\"1\" class=\"dataframe\">\n",
       "  <thead>\n",
       "    <tr style=\"text-align: right;\">\n",
       "      <th></th>\n",
       "      <th>TABLE_CATALOG</th>\n",
       "      <th>TABLE_SCHEMA</th>\n",
       "      <th>TABLE_NAME</th>\n",
       "      <th>TABLE_TYPE</th>\n",
       "    </tr>\n",
       "  </thead>\n",
       "  <tbody>\n",
       "    <tr>\n",
       "      <th>0</th>\n",
       "      <td>ORD_Singh_201911038D</td>\n",
       "      <td>Dflt</td>\n",
       "      <td>_B00_ML4TrgPos_Y201621_01_04_cohort</td>\n",
       "      <td>BASE TABLE</td>\n",
       "    </tr>\n",
       "    <tr>\n",
       "      <th>1</th>\n",
       "      <td>ORD_Singh_201911038D</td>\n",
       "      <td>Dflt</td>\n",
       "      <td>_B00_ML4TrgPos_Y201621_05_04_Rad</td>\n",
       "      <td>BASE TABLE</td>\n",
       "    </tr>\n",
       "    <tr>\n",
       "      <th>2</th>\n",
       "      <td>ORD_Singh_201911038D</td>\n",
       "      <td>Dflt</td>\n",
       "      <td>_B00_ML4TrgPos_Y201621_30_Note_WithRole</td>\n",
       "      <td>BASE TABLE</td>\n",
       "    </tr>\n",
       "    <tr>\n",
       "      <th>3</th>\n",
       "      <td>ORD_Singh_201911038D</td>\n",
       "      <td>Dflt</td>\n",
       "      <td>_B00_ML4TrgPos_Y201621_30_Note</td>\n",
       "      <td>BASE TABLE</td>\n",
       "    </tr>\n",
       "    <tr>\n",
       "      <th>4</th>\n",
       "      <td>ORD_Singh_201911038D</td>\n",
       "      <td>Dflt</td>\n",
       "      <td>_B00_ML4TrgPos_Y201621_04_04_Lab</td>\n",
       "      <td>BASE TABLE</td>\n",
       "    </tr>\n",
       "    <tr>\n",
       "      <th>5</th>\n",
       "      <td>ORD_Singh_201911038D</td>\n",
       "      <td>Dflt</td>\n",
       "      <td>_B00_ML4TrgPos_Y201621_06_Med_04_RxOutpat</td>\n",
       "      <td>BASE TABLE</td>\n",
       "    </tr>\n",
       "    <tr>\n",
       "      <th>6</th>\n",
       "      <td>ORD_Singh_201911038D</td>\n",
       "      <td>Dflt</td>\n",
       "      <td>_B00_ML4TrgPos_Y201621_06_Med_07_NonVAMed</td>\n",
       "      <td>BASE TABLE</td>\n",
       "    </tr>\n",
       "    <tr>\n",
       "      <th>7</th>\n",
       "      <td>ORD_Singh_201911038D</td>\n",
       "      <td>Dflt</td>\n",
       "      <td>_B00_ML4TrgPos_Y201621_06_Med_05_BCMA_DispensedDrug</td>\n",
       "      <td>BASE TABLE</td>\n",
       "    </tr>\n",
       "    <tr>\n",
       "      <th>8</th>\n",
       "      <td>ORD_Singh_201911038D</td>\n",
       "      <td>Dflt</td>\n",
       "      <td>_B00_ML4TrgPos_Y201621_06_Med_08_AllMed</td>\n",
       "      <td>BASE TABLE</td>\n",
       "    </tr>\n",
       "    <tr>\n",
       "      <th>9</th>\n",
       "      <td>ORD_Singh_201911038D</td>\n",
       "      <td>Dflt</td>\n",
       "      <td>_B00_ML4TrgPos_Y201621_08_Consult</td>\n",
       "      <td>BASE TABLE</td>\n",
       "    </tr>\n",
       "    <tr>\n",
       "      <th>10</th>\n",
       "      <td>ORD_Singh_201911038D</td>\n",
       "      <td>Dflt</td>\n",
       "      <td>_B00_ML4TrgPos_Y201621_12_ICD</td>\n",
       "      <td>BASE TABLE</td>\n",
       "    </tr>\n",
       "    <tr>\n",
       "      <th>11</th>\n",
       "      <td>ORD_Singh_201911038D</td>\n",
       "      <td>Dflt</td>\n",
       "      <td>_B00_ML4TrgPos_Y201621_14_Vital</td>\n",
       "      <td>BASE TABLE</td>\n",
       "    </tr>\n",
       "    <tr>\n",
       "      <th>12</th>\n",
       "      <td>ORD_Singh_201911038D</td>\n",
       "      <td>Dflt</td>\n",
       "      <td>_B00_ML4TrgPos_Y201621_16_HF</td>\n",
       "      <td>BASE TABLE</td>\n",
       "    </tr>\n",
       "    <tr>\n",
       "      <th>13</th>\n",
       "      <td>ORD_Singh_201911038D</td>\n",
       "      <td>Dflt</td>\n",
       "      <td>_B00_ML4TrgPos_Y201621_05_04_Rad_new</td>\n",
       "      <td>BASE TABLE</td>\n",
       "    </tr>\n",
       "    <tr>\n",
       "      <th>14</th>\n",
       "      <td>ORD_Singh_201911038D</td>\n",
       "      <td>Dflt</td>\n",
       "      <td>_B00_ML4TrgPos_Y201621_01_04_Demorgraphics</td>\n",
       "      <td>BASE TABLE</td>\n",
       "    </tr>\n",
       "    <tr>\n",
       "      <th>15</th>\n",
       "      <td>ORD_Singh_201911038D</td>\n",
       "      <td>Dflt</td>\n",
       "      <td>_B00_ML4TrgPos_Y201621_05_04_Rad_Only10daysPrior30DaysAfter</td>\n",
       "      <td>BASE TABLE</td>\n",
       "    </tr>\n",
       "  </tbody>\n",
       "</table>\n",
       "</div>"
      ],
      "text/plain": [
       "           TABLE_CATALOG TABLE_SCHEMA  \\\n",
       "0   ORD_Singh_201911038D         Dflt   \n",
       "1   ORD_Singh_201911038D         Dflt   \n",
       "2   ORD_Singh_201911038D         Dflt   \n",
       "3   ORD_Singh_201911038D         Dflt   \n",
       "4   ORD_Singh_201911038D         Dflt   \n",
       "5   ORD_Singh_201911038D         Dflt   \n",
       "6   ORD_Singh_201911038D         Dflt   \n",
       "7   ORD_Singh_201911038D         Dflt   \n",
       "8   ORD_Singh_201911038D         Dflt   \n",
       "9   ORD_Singh_201911038D         Dflt   \n",
       "10  ORD_Singh_201911038D         Dflt   \n",
       "11  ORD_Singh_201911038D         Dflt   \n",
       "12  ORD_Singh_201911038D         Dflt   \n",
       "13  ORD_Singh_201911038D         Dflt   \n",
       "14  ORD_Singh_201911038D         Dflt   \n",
       "15  ORD_Singh_201911038D         Dflt   \n",
       "\n",
       "                                                     TABLE_NAME  TABLE_TYPE  \n",
       "0                           _B00_ML4TrgPos_Y201621_01_04_cohort  BASE TABLE  \n",
       "1                              _B00_ML4TrgPos_Y201621_05_04_Rad  BASE TABLE  \n",
       "2                       _B00_ML4TrgPos_Y201621_30_Note_WithRole  BASE TABLE  \n",
       "3                                _B00_ML4TrgPos_Y201621_30_Note  BASE TABLE  \n",
       "4                              _B00_ML4TrgPos_Y201621_04_04_Lab  BASE TABLE  \n",
       "5                     _B00_ML4TrgPos_Y201621_06_Med_04_RxOutpat  BASE TABLE  \n",
       "6                     _B00_ML4TrgPos_Y201621_06_Med_07_NonVAMed  BASE TABLE  \n",
       "7           _B00_ML4TrgPos_Y201621_06_Med_05_BCMA_DispensedDrug  BASE TABLE  \n",
       "8                       _B00_ML4TrgPos_Y201621_06_Med_08_AllMed  BASE TABLE  \n",
       "9                             _B00_ML4TrgPos_Y201621_08_Consult  BASE TABLE  \n",
       "10                                _B00_ML4TrgPos_Y201621_12_ICD  BASE TABLE  \n",
       "11                              _B00_ML4TrgPos_Y201621_14_Vital  BASE TABLE  \n",
       "12                                 _B00_ML4TrgPos_Y201621_16_HF  BASE TABLE  \n",
       "13                         _B00_ML4TrgPos_Y201621_05_04_Rad_new  BASE TABLE  \n",
       "14                   _B00_ML4TrgPos_Y201621_01_04_Demorgraphics  BASE TABLE  \n",
       "15  _B00_ML4TrgPos_Y201621_05_04_Rad_Only10daysPrior30DaysAfter  BASE TABLE  "
      ]
     },
     "metadata": {},
     "output_type": "display_data"
    },
    {
     "name": "stderr",
     "output_type": "stream",
     "text": [
      "C:\\Users\\VHAHOUWuY1\\AppData\\Local\\Continuum\\anaconda3\\envs\\ahrq-sci-med\\lib\\site-packages\\pandas\\io\\sql.py:762: UserWarning: pandas only support SQLAlchemy connectable(engine/connection) ordatabase string URI or sqlite3 DBAPI2 connectionother DBAPI2 objects are not tested, please consider using SQLAlchemy\n",
      "  warnings.warn(\n",
      "C:\\Users\\VHAHOUWuY1\\AppData\\Local\\Continuum\\anaconda3\\envs\\ahrq-sci-med\\lib\\site-packages\\pandas\\io\\sql.py:762: UserWarning: pandas only support SQLAlchemy connectable(engine/connection) ordatabase string URI or sqlite3 DBAPI2 connectionother DBAPI2 objects are not tested, please consider using SQLAlchemy\n",
      "  warnings.warn(\n",
      "C:\\Users\\VHAHOUWuY1\\AppData\\Local\\Continuum\\anaconda3\\envs\\ahrq-sci-med\\lib\\site-packages\\pandas\\io\\sql.py:762: UserWarning: pandas only support SQLAlchemy connectable(engine/connection) ordatabase string URI or sqlite3 DBAPI2 connectionother DBAPI2 objects are not tested, please consider using SQLAlchemy\n",
      "  warnings.warn(\n",
      "C:\\Users\\VHAHOUWuY1\\AppData\\Local\\Continuum\\anaconda3\\envs\\ahrq-sci-med\\lib\\site-packages\\pandas\\io\\sql.py:762: UserWarning: pandas only support SQLAlchemy connectable(engine/connection) ordatabase string URI or sqlite3 DBAPI2 connectionother DBAPI2 objects are not tested, please consider using SQLAlchemy\n",
      "  warnings.warn(\n",
      "C:\\Users\\VHAHOUWuY1\\AppData\\Local\\Continuum\\anaconda3\\envs\\ahrq-sci-med\\lib\\site-packages\\pandas\\io\\sql.py:762: UserWarning: pandas only support SQLAlchemy connectable(engine/connection) ordatabase string URI or sqlite3 DBAPI2 connectionother DBAPI2 objects are not tested, please consider using SQLAlchemy\n",
      "  warnings.warn(\n",
      "C:\\Users\\VHAHOUWuY1\\AppData\\Local\\Continuum\\anaconda3\\envs\\ahrq-sci-med\\lib\\site-packages\\pandas\\io\\sql.py:762: UserWarning: pandas only support SQLAlchemy connectable(engine/connection) ordatabase string URI or sqlite3 DBAPI2 connectionother DBAPI2 objects are not tested, please consider using SQLAlchemy\n",
      "  warnings.warn(\n",
      "C:\\Users\\VHAHOUWuY1\\AppData\\Local\\Continuum\\anaconda3\\envs\\ahrq-sci-med\\lib\\site-packages\\pandas\\io\\sql.py:762: UserWarning: pandas only support SQLAlchemy connectable(engine/connection) ordatabase string URI or sqlite3 DBAPI2 connectionother DBAPI2 objects are not tested, please consider using SQLAlchemy\n",
      "  warnings.warn(\n",
      "C:\\Users\\VHAHOUWuY1\\AppData\\Local\\Continuum\\anaconda3\\envs\\ahrq-sci-med\\lib\\site-packages\\pandas\\io\\sql.py:762: UserWarning: pandas only support SQLAlchemy connectable(engine/connection) ordatabase string URI or sqlite3 DBAPI2 connectionother DBAPI2 objects are not tested, please consider using SQLAlchemy\n",
      "  warnings.warn(\n",
      "C:\\Users\\VHAHOUWuY1\\AppData\\Local\\Continuum\\anaconda3\\envs\\ahrq-sci-med\\lib\\site-packages\\pandas\\io\\sql.py:762: UserWarning: pandas only support SQLAlchemy connectable(engine/connection) ordatabase string URI or sqlite3 DBAPI2 connectionother DBAPI2 objects are not tested, please consider using SQLAlchemy\n",
      "  warnings.warn(\n",
      "C:\\Users\\VHAHOUWuY1\\AppData\\Local\\Continuum\\anaconda3\\envs\\ahrq-sci-med\\lib\\site-packages\\pandas\\io\\sql.py:762: UserWarning: pandas only support SQLAlchemy connectable(engine/connection) ordatabase string URI or sqlite3 DBAPI2 connectionother DBAPI2 objects are not tested, please consider using SQLAlchemy\n",
      "  warnings.warn(\n",
      "C:\\Users\\VHAHOUWuY1\\AppData\\Local\\Continuum\\anaconda3\\envs\\ahrq-sci-med\\lib\\site-packages\\pandas\\io\\sql.py:762: UserWarning: pandas only support SQLAlchemy connectable(engine/connection) ordatabase string URI or sqlite3 DBAPI2 connectionother DBAPI2 objects are not tested, please consider using SQLAlchemy\n",
      "  warnings.warn(\n"
     ]
    },
    {
     "name": "stdout",
     "output_type": "stream",
     "text": [
      "dict_keys(['cohort', 'Rad', 'Note', 'Lab', 'RxOutpat', 'NonVAMed', 'Consult', 'ICD', 'new', 'Demorgraphics', 'Only10daysPrior30DaysAfter'])\n"
     ]
    }
   ],
   "source": [
    "dataset = util.extractDataset(\"B00_ML4TrgPos_\", {\"WithRole\", \"AllMed\", \"Vital\", \"HF\", \"DispensedDrug\"})"
   ]
  },
  {
   "cell_type": "code",
   "execution_count": 4,
   "metadata": {},
   "outputs": [],
   "source": [
    "dizziness_df, label_map = util.retrieveLabels() # labeled\n",
    "label_df = util.convertLabelMap(label_map) # PatientSSN | Label (100)\n",
    "datasubset = util.extractAndStandarizeCohort(dataset, \"Dizziness\") # dataset for dizziness (All).\n",
    "edstart = util.extractFirstVisitIndexDatetime(datasubset[\"cohort\"]) # get first entry of each patient."
   ]
  },
  {
   "cell_type": "code",
   "execution_count": 5,
   "metadata": {},
   "outputs": [
    {
     "data": {
      "text/plain": [
       "NoMOD       44\n",
       "MOD         38\n",
       "PMOD        12\n",
       "CodingEr     6\n",
       "Name: DxErrorERCoded, dtype: int64"
      ]
     },
     "execution_count": 5,
     "metadata": {},
     "output_type": "execute_result"
    }
   ],
   "source": [
    "dizziness_df[\"DxErrorERCoded\"].value_counts()"
   ]
  },
  {
   "cell_type": "code",
   "execution_count": 6,
   "metadata": {},
   "outputs": [],
   "source": [
    "datasubset[\"cohort\"] = datasubset[\"cohort\"].merge(label_df.rename(columns={\"PatientSSN\":\"patientSSN\"})) # concat label"
   ]
  },
  {
   "cell_type": "code",
   "execution_count": 7,
   "metadata": {},
   "outputs": [],
   "source": [
    "def extractSubset(ds, subsetNames):\n",
    "    pkeys = util.getPrimaryKeys(dataset)\n",
    "    cohort_key = pkeys[\"cohort\"]\n",
    "    cohort_subset = ds[\"cohort\"][ds[\"cohort\"].Label.isin(subsetNames)]\n",
    "    ids = pd.DataFrame({cohort_key: cohort_subset[cohort_key].unique()})\n",
    "    dss = dict()\n",
    "    for table, df in ds.items():\n",
    "        dss[table] = ids.merge(df, how=\"inner\", left_on=cohort_key, right_on=pkeys[table])\n",
    "        if pkeys[table] != cohort_key:\n",
    "            dss[table] = dss[table].drop([cohort_key], axis = 1)\n",
    "        dss[table][pkeys[table]] = dss[table][pkeys[table]].astype(int)\n",
    "    return dss"
   ]
  },
  {
   "cell_type": "code",
   "execution_count": 8,
   "metadata": {},
   "outputs": [],
   "source": [
    "modsubset = extractSubset(datasubset, [\"MOD\"]) # dizziness MOD cases\n",
    "nomodsubset = extractSubset(datasubset, [\"NoMOD\"]) # dizziness no-MOD cases"
   ]
  },
  {
   "cell_type": "code",
   "execution_count": 9,
   "metadata": {},
   "outputs": [
    {
     "name": "stdout",
     "output_type": "stream",
     "text": [
      "Index(['PatientSSN', 'EntryDateTime', 'TIUDocumentSID', 'TIUStandardTitle',\n",
      "       'ReportText', 'Sta3n', 'PatientSID', 'ProviderRole'],\n",
      "      dtype='object')\n"
     ]
    }
   ],
   "source": [
    "print(modsubset['Note'].columns)"
   ]
  },
  {
   "cell_type": "code",
   "execution_count": 10,
   "metadata": {},
   "outputs": [],
   "source": [
    "def getEDorPhysician(df):\n",
    "    pattern = 'EMERGENCY DEPT NOTE|PHYSICIAN NOTE'\n",
    "    return df[df.TIUStandardTitle.str.contains(pattern)]"
   ]
  },
  {
   "cell_type": "code",
   "execution_count": 11,
   "metadata": {},
   "outputs": [],
   "source": [
    "mod_ed_or_physician_df = getEDorPhysician(modsubset['Note']).sort_values(\"EntryDateTime\")"
   ]
  },
  {
   "cell_type": "code",
   "execution_count": 12,
   "metadata": {},
   "outputs": [],
   "source": [
    "nomod_ed_or_physician_df = getEDorPhysician(nomodsubset['Note']).sort_values(\"EntryDateTime\")"
   ]
  },
  {
   "cell_type": "code",
   "execution_count": 13,
   "metadata": {},
   "outputs": [
    {
     "name": "stdout",
     "output_type": "stream",
     "text": [
      "['NURSING EMERGENCY DEPT NOTE' 'EMERGENCY DEPT NOTE'\n",
      " 'PRIMARY CARE PHYSICIAN NOTE' 'PHYSICAL MEDICINE REHAB PHYSICIAN NOTE'\n",
      " 'ATTENDING EMERGENCY DEPT NOTE' 'MENTAL HEALTH PHYSICIAN NOTE'\n",
      " 'PHYSICIAN NOTE' 'NEUROLOGY PHYSICIAN NOTE'\n",
      " 'PHYSICIAN EMERGENCY DEPT NOTE' 'UROLOGY PHYSICIAN NOTE'\n",
      " 'SCANNED EMERGENCY DEPT NOTE' 'PULMONARY PHYSICIAN NOTE'\n",
      " 'PHYSICAL THERAPY PHYSICIAN NOTE' 'ANESTHESIOLOGY PHYSICIAN NOTE'\n",
      " 'DERMATOLOGY PHYSICIAN NOTE' 'PALLIATIVE CARE PHYSICIAN NOTE'\n",
      " 'SOCIAL WORK EMERGENCY DEPT NOTE' 'DIALYSIS PHYSICIAN NOTE'\n",
      " 'INTERNAL MEDICINE PHYSICIAN NOTE']\n"
     ]
    }
   ],
   "source": [
    "print(mod_ed_or_physician_df['TIUStandardTitle'].unique())"
   ]
  },
  {
   "cell_type": "code",
   "execution_count": 14,
   "metadata": {},
   "outputs": [],
   "source": [
    "from collections import defaultdict\n",
    "def getLastEntryOfNote(df):\n",
    "    idnote_to_note = defaultdict(str)\n",
    "    for index, row in df.iterrows():\n",
    "        idnote_to_note[(row['PatientSSN'], row['TIUStandardTitle'])] = row['ReportText']\n",
    "    return idnote_to_note"
   ]
  },
  {
   "cell_type": "code",
   "execution_count": null,
   "metadata": {
    "scrolled": true
   },
   "outputs": [],
   "source": [
    "mod_ed_or_physician_df"
   ]
  },
  {
   "cell_type": "code",
   "execution_count": 16,
   "metadata": {},
   "outputs": [],
   "source": [
    "filtered_mod_dict = getLastEntryOfNote(mod_ed_or_physician_df)\n",
    "filtered_nomod_dict = getLastEntryOfNote(nomod_ed_or_physician_df)"
   ]
  },
  {
   "cell_type": "code",
   "execution_count": 17,
   "metadata": {},
   "outputs": [],
   "source": [
    "filtered_mod_df = pd.DataFrame(filtered_mod_dict.values(), columns =[\"ReportText\"])\n",
    "filtered_nomod_df = pd.DataFrame(filtered_nomod_dict.values(), columns =[\"ReportText\"])"
   ]
  },
  {
   "cell_type": "code",
   "execution_count": 18,
   "metadata": {},
   "outputs": [],
   "source": [
    "mod_texts = filtered_mod_df.reset_index(drop=True)\n",
    "nomod_texts = filtered_nomod_df.reset_index(drop=True)"
   ]
  },
  {
   "cell_type": "code",
   "execution_count": 19,
   "metadata": {},
   "outputs": [],
   "source": [
    "import re\n",
    "def preprocessing(text):\n",
    "    y = ''\n",
    "    if text:\n",
    "        y = text.lower()\n",
    "        y = re.sub(r'\\\\[(.*?)\\\\]', '', y)\n",
    "        y = re.sub(r'[0-9]+\\.', '', y)\n",
    "        y = re.sub(r'dr\\.', 'doctor', y)\n",
    "        y = re.sub(r'm\\.d\\.', 'md', y)\n",
    "        y = re.sub(r'--|__|==', '', y) \n",
    "        y = re.sub(r'y\\.o\\.', 'year old', y)\n",
    "        y = re.sub(r'fh', 'family history', y)\n",
    "        y = re.sub(r'sh:', 'social history:', y)\n",
    "        y = re.sub(r'\\r\\n', ' ', y)\n",
    "        y = re.sub(r' :', ':', y)\n",
    "        y = re.sub(r'physical examination', 'physical exam', y)\n",
    "        y = re.sub(r'medications/iv:', 'medications:', y)\n",
    "        ######### prevent catching as section\n",
    "        y = re.sub(r'consult', 'consultation', y)\n",
    "        y = re.sub(r'allergies', 'allergy', y) # allergies: stay the same but allergie -> allergy\n",
    "        y = re.sub(r'allergy:', 'allergies:', y)\n",
    "        y = re.sub(r'past history', 'past histories', y) # past history: stay the same but history -> histories, not ran for mod.\n",
    "        y = re.sub(r'past histories:', 'past history:', y) # not ran for mods.\n",
    "        y = re.sub(r'/ ', '/', y)\n",
    "        y = re.sub(r'plan/disposition', 'plan', y)\n",
    "        y = re.sub(r'=', '', y)\n",
    "        ####### 11/5 added\n",
    "        y = re.sub(r'\\[\\]', 'not ', y)\n",
    "        y = re.sub(r'\\[x\\]', '', y)\n",
    "        y = re.sub(r':', ': ', y)\n",
    "        y = re.sub(r'\\.', '. ', y)\n",
    "        y = re.sub(r'assessment \\& plan:', 'assessment:', y)\n",
    "        y = re.sub(r'vitals:', 'vital signs', y)\n",
    "        y = re.sub(r'active and recently expired inpatient medications \\(including supplies\\):', 'medications:', y)\n",
    "        y = re.sub(r'active outpatient medications \\(including supplies\\):', 'medications:', y)\n",
    "        y = re.sub(r'active inpatient medications \\(including supplies\\):', 'medications:',  y)\n",
    "        y = re.sub(r'active outpatient medications \\(excluding supplies\\):', 'medications:', y)\n",
    "        y = re.sub(r'reason for visit \\(chief complaint\\):', 'cc:', y)\n",
    "        y = re.sub(r'lab results:', 'labs:', y)\n",
    "        # very specific ones\n",
    "        y = re.sub(r'med reconciliation  included in this list:', 'medications:', y)\n",
    "        y = re.sub(r'51 y/o wm who', 'hpi: 51 y/o wm who', y)\n",
    "        y = re.sub(r'reason for visit \\(cc\\):', 'cc:', y)\n",
    "        y = re.sub(r'gen:', 'general:', y)\n",
    "        y = re.sub(r'68 year old male appears', 'general: 68 year old male appears', y)\n",
    "        y = re.sub(r'cc-', 'cc:', y)\n",
    "        y = re.sub(r'hpi-', 'hpi:', y)\n",
    "        y = re.sub('  +', ' ', y)  # whitespace\n",
    "    return y"
   ]
  },
  {
   "cell_type": "code",
   "execution_count": null,
   "metadata": {},
   "outputs": [],
   "source": [
    "pd.set_option('display.max_colwidth', 150)\n",
    "mod_texts['ReportText'] = mod_texts['ReportText'].map(preprocessing)\n",
    "mod_texts"
   ]
  },
  {
   "cell_type": "code",
   "execution_count": null,
   "metadata": {},
   "outputs": [],
   "source": [
    "nomod_texts['ReportText'] = nomod_texts['ReportText'].map(preprocessing)\n",
    "nomod_texts"
   ]
  },
  {
   "cell_type": "markdown",
   "metadata": {},
   "source": [
    "##  Build Bag Of Cuis Vector"
   ]
  },
  {
   "cell_type": "code",
   "execution_count": 22,
   "metadata": {},
   "outputs": [],
   "source": [
    "import spacy\n",
    "import medspacy\n",
    "from medspacy.visualization import visualize_ent, visualize_dep\n",
    "from medspacy.custom_tokenizer import create_medspacy_tokenizer\n",
    "from medspacy.section_detection import Sectionizer\n",
    "from medspacy.section_detection import SectionRule\n",
    "from quickumls import QuickUMLS\n",
    "from collections import defaultdict\n",
    "import matplotlib.pyplot as plt\n",
    "import pandas as pd"
   ]
  },
  {
   "cell_type": "code",
   "execution_count": 23,
   "metadata": {},
   "outputs": [],
   "source": [
    "nlp = medspacy.load(\"en_core_sci_sm\")\n",
    "nlp.disable_pipe('parser')\n",
    "nlp.disable_pipe('medspacy_target_matcher') # matcher: disable warning, ok doesn't help."
   ]
  },
  {
   "cell_type": "code",
   "execution_count": 24,
   "metadata": {},
   "outputs": [
    {
     "data": {
      "text/plain": [
       "['tok2vec',\n",
       " 'tagger',\n",
       " 'attribute_ruler',\n",
       " 'lemmatizer',\n",
       " 'ner',\n",
       " 'medspacy_pyrush',\n",
       " 'medspacy_context',\n",
       " 'medspacy_sectionizer']"
      ]
     },
     "execution_count": 24,
     "metadata": {},
     "output_type": "execute_result"
    }
   ],
   "source": [
    "sectionizer = nlp.add_pipe(\"medspacy_sectionizer\", config={\"rules\": \"default\"})\n",
    "section_patterns = [\n",
    "    SectionRule(category=\"history\",literal=\"past medical/surgical history:\"),\n",
    "    SectionRule(category=\"history\",literal=\"medical history:\"),\n",
    "    SectionRule(category=\"history\",literal=\"surgical history:\"),\n",
    "    # added\n",
    "    SectionRule(category=\"history\",literal=\"cvabackground:\"),\n",
    "    SectionRule(category=\"status\",literal=\"patient care status:\"),\n",
    "    SectionRule(category=\"other\",literal=\"other:\"),\n",
    "    SectionRule(category=\"treatment\",literal=\"treatments/therapies:\"),\n",
    "    SectionRule(category=\"preview\",literal=\"subjectives:\"),\n",
    "    SectionRule(category=\"diagnosis\",literal=\"diagnosis:\",pattern=[{\"LOWER\": {\"REGEX\": \".*admi(tting|ssion)\"}}, {\"LOWER\": \"diagnosis\"}, {\"LOWER\": \":\"}]),\n",
    "    SectionRule(category=\"review\",literal=\"review of system:\"),\n",
    "    SectionRule(category=\"diagnosis\",literal=\"assessment/diagnosis:\"),\n",
    "    SectionRule(category=\"status\",literal=\"general:\"),\n",
    "    SectionRule(category=\"followup\",literal=\"discussed with pt:\"),\n",
    "    \n",
    "]\n",
    "sectionizer.add(section_patterns)\n",
    "\n",
    "nlp.pipe_names"
   ]
  },
  {
   "cell_type": "markdown",
   "metadata": {},
   "source": [
    "## Extract Sections"
   ]
  },
  {
   "cell_type": "code",
   "execution_count": 25,
   "metadata": {
    "scrolled": true
   },
   "outputs": [
    {
     "name": "stdout",
     "output_type": "stream",
     "text": [
      "{'', 'neuro:', 'past medical history:', 'other:', 'active medications:', 'discharge plan', 'physical exam:', 'assessment/plan:', 'interpretation:', 'clinical history:', 'education:', 'surgical history:', 'hpi:', 'treatments/therapies:', 'history:', 'procedure note', 'discharge diagnosis:', 'past medical hx:', 'review of system:', 'admitting diagnosis:', 'comments:', 'current medications:', 'studies:', 'general:', 'medical history:', 'pmh:', 'discharge medications:', 'imaging:', 'discussed with pt:', 'primary diagnosis:', 'diagnoses:', 'secondary diagnosis:', 'history of present illness:', 'past surgical history:', 'admission diagnosis:', 'patient care status:', 'clinical impression:', 'social history:', 'final diagnosis:', 'family history:', 'past medical/surgical history:', 'assessment:', 'indication:', 'service:', 'radiology:', 'pe:', 'pmhx:', 'allergies:', 'cc:', 'patient education:', 'medical problems:', 'medications:', 'current problems:', 'laboratory tests', 'subjectives:', 'chief complaint:', 'facility:', 'vital signs', 'impression and plan:', 'consent:', 'a/p:', 'labs:', 'problem list:', 'findings:', 'impression:', 'echo:', 'mri:', 'technique:', 'assessment/diagnosis:', 'discharge instructions:', 'active problem list:'}\n"
     ]
    }
   ],
   "source": [
    "def getAllSections(df, secs):\n",
    "    for index, row in df.iterrows():\n",
    "        current_doc = nlp(preprocessing(row['ReportText']))\n",
    "        for title in current_doc._.section_titles:\n",
    "            secs.add(title.text)\n",
    "    return secs\n",
    "secs = set()\n",
    "secs = getAllSections(mod_texts, secs)\n",
    "secs = getAllSections(nomod_texts,secs)\n",
    "print(secs)"
   ]
  },
  {
   "cell_type": "code",
   "execution_count": 26,
   "metadata": {},
   "outputs": [],
   "source": [
    "interestedSections = ['hpi:', 'history:', 'cc:', 'chief complaint:', 'clinical history:', 'history of present illness:', \n",
    "                      'clinical history:', 'vital signs', 'physical exam:', 'neuro:', 'pe:', 'impression:', 'assessment:', \n",
    "                      'impression and plan:', 'final diagnosis:', 'secondary diagnosis:', 'assessment/plan:', \n",
    "                      'clinical impression:']"
   ]
  },
  {
   "cell_type": "code",
   "execution_count": 27,
   "metadata": {},
   "outputs": [],
   "source": [
    "def getSection(text):\n",
    "    filteredtext = \"\"\n",
    "    current_doc = nlp(text)  \n",
    "    for title, body in zip(current_doc._.section_titles, current_doc._.section_bodies):\n",
    "        if title.text in interestedSections:\n",
    "            filteredtext += body.text\n",
    "            filteredtext += \" \"\n",
    "    return filteredtext"
   ]
  },
  {
   "cell_type": "code",
   "execution_count": 28,
   "metadata": {},
   "outputs": [],
   "source": [
    "mod_texts['ReportText'] = mod_texts['ReportText'].map(getSection)\n",
    "nomod_texts['ReportText'] = nomod_texts['ReportText'].map(getSection)"
   ]
  },
  {
   "cell_type": "code",
   "execution_count": null,
   "metadata": {},
   "outputs": [],
   "source": [
    "mod_texts"
   ]
  },
  {
   "cell_type": "code",
   "execution_count": null,
   "metadata": {},
   "outputs": [],
   "source": [
    "nomod_texts"
   ]
  },
  {
   "cell_type": "code",
   "execution_count": 31,
   "metadata": {},
   "outputs": [],
   "source": [
    "def getAllCuisAndCuiDict(df, allCuis):\n",
    "    noteToCuis = defaultdict(list)    \n",
    "    for index, row in df.iterrows():\n",
    "        current_doc = nlp(row['ReportText'])        \n",
    "        for entity in current_doc.ents:\n",
    "            noteToCuis[index] += [entity.lemma_] ### text\n",
    "            allCuis[entity.lemma_] += 1\n",
    "    return allCuis, noteToCuis"
   ]
  },
  {
   "cell_type": "code",
   "execution_count": 32,
   "metadata": {},
   "outputs": [],
   "source": [
    "import collections\n",
    "allCuis = collections.Counter() # just in case we need TF-IDF vector in the future.\n",
    "allCuis, mod_note_to_cuis = getAllCuisAndCuiDict(mod_texts, allCuis)\n",
    "allCuis, nomod_note_to_cuis = getAllCuisAndCuiDict(nomod_texts, allCuis)"
   ]
  },
  {
   "cell_type": "code",
   "execution_count": 33,
   "metadata": {},
   "outputs": [],
   "source": [
    "allCuisListCount = allCuis.most_common(50)\n",
    "allCuisList = [word for word, count in allCuisListCount]\n",
    "print(allCuisList)\n",
    "#random.shuffle(allCuisList)"
   ]
  },
  {
   "cell_type": "code",
   "execution_count": 34,
   "metadata": {
    "scrolled": true
   },
   "outputs": [
    {
     "name": "stdout",
     "output_type": "stream",
     "text": [
      "['patient', 'day', 'tablet', 'mouth', 'tab', 'medication', 'pain', 'eval', 'pulse', 'report', 'refill', 'supply', 'week', 'plan', 'deny', 'symptom', 'male', 'review', 'expiration', 'release', 'lab', 'intact', 'qty', 'negative', 'p', 'specimen', 'year', 'stable', 'blood pressure', 'state', 'risk', 'collection', 'alert', 'treatment', 'time', 'neg', 'pulse oximetry', 'skin', 'respiration', 'level', 'provider', 'discharge', 'fever', 'auto', 'outpt', 'date', 'test', 'month', 'eye', 'bilateral', 'atrial fibrillation', 'aneurysm', 'smoke', 'head trauma']\n"
     ]
    }
   ],
   "source": [
    "\n",
    "# add risk factors\n",
    "allCuisList += ['atrial fibrillation']\n",
    "allCuisList += ['aneurysm']\n",
    "allCuisList += ['smoke']\n",
    "allCuisList += ['head trauma']\n",
    "print(allCuisList)"
   ]
  },
  {
   "cell_type": "code",
   "execution_count": 35,
   "metadata": {},
   "outputs": [],
   "source": [
    "# make Cui to index dictionary.\n",
    "cuiToIndex = {}\n",
    "for index, cui in enumerate(allCuisList):\n",
    "    cuiToIndex[cui] = index"
   ]
  },
  {
   "cell_type": "code",
   "execution_count": 36,
   "metadata": {},
   "outputs": [],
   "source": [
    "import numpy as np\n",
    "bagOfCuisVector = np.zeros((len(mod_texts)+len(nomod_texts), len(allCuisList)))"
   ]
  },
  {
   "cell_type": "code",
   "execution_count": 37,
   "metadata": {},
   "outputs": [],
   "source": [
    "def populateBOC(bagOfCuisVector, noteToCuis, shifter=0):\n",
    "    for noteIndex, cuiList in noteToCuis.items():\n",
    "        for cui in cuiList:\n",
    "            if cui in cuiToIndex:\n",
    "                bagOfCuisVector[noteIndex + shifter][cuiToIndex[cui]] = 1\n",
    "    return bagOfCuisVector"
   ]
  },
  {
   "cell_type": "code",
   "execution_count": 38,
   "metadata": {},
   "outputs": [],
   "source": [
    "bagOfCuisVector = populateBOC(bagOfCuisVector, mod_note_to_cuis)\n",
    "bagOfCuisVector = populateBOC(bagOfCuisVector, nomod_note_to_cuis, len(mod_note_to_cuis))"
   ]
  },
  {
   "cell_type": "code",
   "execution_count": 39,
   "metadata": {},
   "outputs": [
    {
     "name": "stdout",
     "output_type": "stream",
     "text": [
      "number of cuis extracted in each notes:\n",
      " [ 2.  1. 10. 11.  7. 15. 16.  4.  8.  6.  6.  0.  9.  0.  0.  0. 16.  5.\n",
      "  4.  1.  1. 13.  2.  0. 10.  0.  5.  0.  5.  3.  0.  0. 28.  0.  5.  3.\n",
      "  1.  1.  4.  0.  0.  0.  9.  5.  9.  0.  6.  0. 13.  0.  0. 16.  0.  1.\n",
      "  0.  0.  4. 12.  0.  0.  9.  5.  6. 12. 14. 13.  8. 10.  5.  4.  8. 10.\n",
      " 13.  4. 10. 14. 23. 24.  9. 11. 12.  4. 34. 10. 15.  8.  5.  9.  0. 28.\n",
      "  0.  0.  7.  0.  7. 28. 12.  3.  0. 12.  4.  1.  0.  1. 21.  7. 10.  1.\n",
      "  0.  8.  3. 11.  6.  5. 13.  8. 18.  9.  0.  8.  0.  5. 11. 16.  8.  0.\n",
      "  0.  0.  8. 13.  0. 14.  7. 14.  5.  0. 10.  0.  0.  0.  5.  6.  7.  2.\n",
      "  9.  3.  4.  0.  6.  0. 10.  4.  0.  0. 10.  8.  0.  0.  0.  0.  0.  0.\n",
      "  0.  0.  0.  0.  0.  0.  0.  0.  0.  0.  0.  0.  0.  0.  0.  0.  0.  0.\n",
      "  0.  0.  0.  0.  0.]\n"
     ]
    }
   ],
   "source": [
    "print(\"number of cuis extracted in each notes:\\n\", bagOfCuisVector.sum(1))"
   ]
  },
  {
   "cell_type": "code",
   "execution_count": 40,
   "metadata": {},
   "outputs": [
    {
     "name": "stdout",
     "output_type": "stream",
     "text": [
      "[]\n"
     ]
    }
   ],
   "source": [
    "prevalent = np.where(bagOfCuisVector.sum(0) > 185*0.5)\n",
    "print(prevalent[0])\n",
    "# vector is pretty sparse."
   ]
  },
  {
   "cell_type": "code",
   "execution_count": 41,
   "metadata": {},
   "outputs": [],
   "source": [
    "modVector = bagOfCuisVector[:len(mod_texts)]\n",
    "nomodVector = bagOfCuisVector[len(mod_texts):]"
   ]
  },
  {
   "cell_type": "code",
   "execution_count": 42,
   "metadata": {},
   "outputs": [
    {
     "name": "stdout",
     "output_type": "stream",
     "text": [
      "44.0\n",
      "[44. 24.  4.  4.  5. 18. 21.  6. 30. 17.  2.  4. 16. 21. 14. 18. 19. 17.\n",
      "  1.  0. 17. 14.  0. 11. 16.  2. 15. 10. 14. 12.  8.  5. 16. 10. 10.  3.\n",
      " 16. 14. 17. 10.  5. 10.  9.  2.  0.  9.  8.  9. 10.  5.  2.  1.  1.  1.]\n"
     ]
    }
   ],
   "source": [
    "print(max(modVector.sum(0)))\n",
    "cui_count = modVector.sum(0)\n",
    "print(cui_count)"
   ]
  },
  {
   "cell_type": "code",
   "execution_count": 46,
   "metadata": {},
   "outputs": [
    {
     "data": {
      "text/plain": [
       "Text(0.5, 1.0, 'cuis distribution in mod notes, sectionized')"
      ]
     },
     "execution_count": 46,
     "metadata": {},
     "output_type": "execute_result"
    },
    {
     "data": {
      "image/png": "[encoded data removed]",
      "text/plain": [
       "<Figure size 640x480 with 1 Axes>"
      ]
     },
     "metadata": {},
     "output_type": "display_data"
    }
   ],
   "source": [
    "modcuifreq = modVector.sum(0)\n",
    "plt.plot(modcuifreq) # draw this as line graph since too much argument for bar.\n",
    "plt.xlim([0, 50])\n",
    "plt.ylim([0, 50])\n",
    "plt.xlabel(\"index in cui list\")\n",
    "plt.ylabel(\"number of doc with cui\")\n",
    "plt.title(\"cuis distribution in mod notes, sectionized\")"
   ]
  },
  {
   "cell_type": "code",
   "execution_count": 47,
   "metadata": {},
   "outputs": [
    {
     "data": {
      "text/plain": [
       "Text(0.5, 1.0, 'cuis distribution in nomod notes, sectionized')"
      ]
     },
     "execution_count": 47,
     "metadata": {},
     "output_type": "execute_result"
    },
    {
     "data": {
      "image/png": "[encoded data removed]",
      "text/plain": [
       "<Figure size 640x480 with 1 Axes>"
      ]
     },
     "metadata": {},
     "output_type": "display_data"
    }
   ],
   "source": [
    "nomodcuifreq = nomodVector.sum(0)\n",
    "plt.plot(nomodcuifreq)\n",
    "plt.xlim([0, 50])\n",
    "plt.ylim([0, 50])\n",
    "plt.xlabel(\"index in cui list\")\n",
    "plt.ylabel(\"number of doc with cui\")\n",
    "plt.title(\"cuis distribution in nomod notes, sectionized\")"
   ]
  },
  {
   "cell_type": "markdown",
   "metadata": {},
   "source": [
    "## Hamming Distance"
   ]
  },
  {
   "cell_type": "code",
   "execution_count": 48,
   "metadata": {},
   "outputs": [],
   "source": [
    "from scipy.spatial.distance import hamming"
   ]
  },
  {
   "cell_type": "code",
   "execution_count": 49,
   "metadata": {},
   "outputs": [
    {
     "name": "stdout",
     "output_type": "stream",
     "text": [
      "(37, 1.0)\n",
      "(11, 1.0)\n"
     ]
    }
   ],
   "source": [
    "# bagOfCuisVector: 185 x 1000\n",
    "def getHammings(standardNoteIndex):\n",
    "    standard = bagOfCuisVector[standardNoteIndex]\n",
    "    IndexToHammings = {}\n",
    "    for i in range(len(bagOfCuisVector)): # 185\n",
    "        if i != standardNoteIndex:\n",
    "            vector = bagOfCuisVector[i]\n",
    "            IndexToHammings[i] = hamming(standard, vector) * len(standard) # percentage of correspoinding elements that differ * len\n",
    "    return sorted(IndexToHammings.items(), key = lambda v: v[1])\n",
    "\n",
    "modSortedHammings0 = getHammings(0)\n",
    "print(modSortedHammings0[0])\n",
    "modSortedHammings1 = getHammings(1)\n",
    "print(modSortedHammings1[0])"
   ]
  },
  {
   "cell_type": "code",
   "execution_count": null,
   "metadata": {
    "scrolled": true
   },
   "outputs": [],
   "source": [
    "mod_texts['ReportText'][0]"
   ]
  },
  {
   "cell_type": "code",
   "execution_count": null,
   "metadata": {},
   "outputs": [],
   "source": [
    "mod_texts['ReportText'][37]"
   ]
  },
  {
   "cell_type": "markdown",
   "metadata": {},
   "source": [
    "## knn"
   ]
  },
  {
   "cell_type": "code",
   "execution_count": 54,
   "metadata": {},
   "outputs": [],
   "source": [
    "k = 5\n",
    "modCounts = []\n",
    "for i in range(185):\n",
    "    modSortedHammings = getHammings(i)\n",
    "    modCounts += [np.sum([1 if index < 87 else 0 for index, _ in modSortedHammings[:k]])]"
   ]
  },
  {
   "cell_type": "code",
   "execution_count": 55,
   "metadata": {},
   "outputs": [
    {
     "name": "stdout",
     "output_type": "stream",
     "text": [
      "[5, 5, 3, 5, 4, 1, 3, 5, 3, 4, 5, 5, 5, 5, 5, 5, 4, 4, 5, 4, 5, 4, 4, 5, 4, 5, 4, 5, 4, 4, 5, 5, 3, 5, 4, 5, 5, 5, 4, 5, 5, 5, 5, 5, 4, 5, 4, 5, 3, 5, 5, 2, 5, 5, 5, 5, 3, 4, 5, 5, 4, 4, 5, 2, 2, 3, 3, 4, 5, 4, 2, 3, 2, 5, 5, 3, 5, 4, 4, 5, 3, 4, 4, 2, 2, 2, 3, 3, 5, 4, 5, 5, 4, 5, 4, 5, 4, 3, 5, 3, 5, 5, 5, 5, 2, 5, 3, 5, 5, 5, 4, 5, 2, 5, 3, 4, 3, 3, 5, 4, 5, 5, 2, 5, 4, 5, 5, 5, 4, 0, 5, 4, 5, 5, 4, 5, 3, 5, 5, 5, 4, 3, 4, 5, 4, 5, 4, 5, 5, 5, 4, 5, 5, 5, 3, 5, 5, 5, 5, 5, 5, 5, 5, 5, 5, 5, 5, 5, 5, 5, 5, 5, 5, 5, 5, 5, 5, 5, 5, 5, 5, 5, 5, 5, 5]\n"
     ]
    }
   ],
   "source": [
    "print(modCounts)"
   ]
  },
  {
   "cell_type": "code",
   "execution_count": 56,
   "metadata": {},
   "outputs": [
    {
     "name": "stdout",
     "output_type": "stream",
     "text": [
      "78 / 87 of mod are close to mod, 4 / 98 of nomod are close to nomod\n"
     ]
    }
   ],
   "source": [
    "modClosestToMod = sum([1 if i > 2 else 0 for i in modCounts[:87]])\n",
    "nomodClosestToNomod = sum([1 if i < 3 else 0 for i in modCounts[87:]])\n",
    "print(modClosestToMod, \"/ 87 of mod are close to mod,\", nomodClosestToNomod, \"/ 98 of nomod are close to nomod\")"
   ]
  },
  {
   "cell_type": "code",
   "execution_count": 103,
   "metadata": {},
   "outputs": [],
   "source": [
    "# 700: 84, 1\n",
    "# 500: 83, 1\n",
    "# 300: 84, 1\n",
    "# 100: 84, 5\n",
    "# 50: 78, 5\n"
   ]
  },
  {
   "cell_type": "markdown",
   "metadata": {},
   "source": [
    "## focus on risk factors"
   ]
  },
  {
   "cell_type": "code",
   "execution_count": 1,
   "metadata": {},
   "outputs": [
    {
     "ename": "NameError",
     "evalue": "name 'cuiToIndex' is not defined",
     "output_type": "error",
     "traceback": [
      "\u001b[1;31m---------------------------------------------------------------------------\u001b[0m",
      "\u001b[1;31mNameError\u001b[0m                                 Traceback (most recent call last)",
      "Input \u001b[1;32mIn [1]\u001b[0m, in \u001b[0;36m<cell line: 1>\u001b[1;34m()\u001b[0m\n\u001b[1;32m----> 1\u001b[0m \u001b[38;5;28mprint\u001b[39m(cuiToIndex[\u001b[38;5;124m'\u001b[39m\u001b[38;5;124mhypertension\u001b[39m\u001b[38;5;124m'\u001b[39m])\n\u001b[0;32m      2\u001b[0m \u001b[38;5;28mprint\u001b[39m(cuiToIndex[\u001b[38;5;124m'\u001b[39m\u001b[38;5;124mhyperlipidemia\u001b[39m\u001b[38;5;124m'\u001b[39m])\n\u001b[0;32m      3\u001b[0m \u001b[38;5;28mprint\u001b[39m(cuiToIndex[\u001b[38;5;124m'\u001b[39m\u001b[38;5;124mstroke\u001b[39m\u001b[38;5;124m'\u001b[39m])\n",
      "\u001b[1;31mNameError\u001b[0m: name 'cuiToIndex' is not defined"
     ]
    }
   ],
   "source": [
    "print(cuiToIndex['hypertension'])\n",
    "print(cuiToIndex['hyperlipidemia'])\n",
    "print(cuiToIndex['stroke'])\n",
    "#print(cuiToIndex['smoke'])\n",
    "print(cuiToIndex['atrial fibrillation'])\n",
    "print(cuiToIndex['aneurysm'])\n",
    "print(cuiToIndex['head trauma'])\n",
    "# diabetes, carotid stenosis, "
   ]
  },
  {
   "cell_type": "code",
   "execution_count": 103,
   "metadata": {},
   "outputs": [],
   "source": [
    "modRFVector = modVector[:, [33, 125, 135, 406, 1488, 3470, 1574]]\n",
    "nomodRFVector = nomodVector[:, [33, 125, 135, 406, 1488, 3470, 1574]]"
   ]
  },
  {
   "cell_type": "code",
   "execution_count": 104,
   "metadata": {},
   "outputs": [
    {
     "name": "stdout",
     "output_type": "stream",
     "text": [
      "[ 8.  4. 11.  1.  2.  1.  1.]\n",
      "[6. 6. 2. 2. 1. 0. 0.]\n"
     ]
    }
   ],
   "source": [
    "modRFcuifreq = modRFVector.sum(0)\n",
    "nomodRFcuifreq = nomodRFVector.sum(0)\n",
    "print(modRFcuifreq)\n",
    "print(nomodRFcuifreq)\n",
    "# too sparse to infer."
   ]
  },
  {
   "cell_type": "code",
   "execution_count": 107,
   "metadata": {},
   "outputs": [],
   "source": [
    "closestIndex = np.zeros(185)\n",
    "allRFVector = np.concatenate((modRFVector, nomodRFVector))\n",
    "\n",
    "def getClosestNoteIndex(standardNoteIndex):\n",
    "    standard = allRFVector[standardNoteIndex]\n",
    "    minHamming = float('inf')\n",
    "    closestVecIndex = 0\n",
    "    for i in range(len(allRFVector)):\n",
    "        if i != standardNoteIndex:\n",
    "            vector = allRFVector[i]\n",
    "            curHamming = hamming(standard, vector) * len(standard) # percentage of correspoinding elements that differ * len\n",
    "            if curHamming < minHamming:\n",
    "                closestVecIndex = i\n",
    "                minHamming = curHamming\n",
    "    return closestVecIndex, minHamming\n",
    "\n",
    "HD = np.zeros(185)\n",
    "for note in range(185):\n",
    "    closest, minH = getClosestNoteIndex(note)\n",
    "    closestIndex[note] = closest\n",
    "    HD[note] = minH"
   ]
  },
  {
   "cell_type": "code",
   "execution_count": 108,
   "metadata": {},
   "outputs": [
    {
     "name": "stdout",
     "output_type": "stream",
     "text": [
      "86 / 87 of mod are close to mod, 3 / 98 of nomod are close to nomod\n"
     ]
    }
   ],
   "source": [
    "modClosestToMod = sum([1 if i < 87 else 0 for i in closestIndex[:87]])\n",
    "nomodClosestToNomod = sum([1 if i >= 87 else 0 for i in closestIndex[87:]])\n",
    "print(modClosestToMod, \"/ 87 of mod are close to mod,\", nomodClosestToNomod, \"/ 98 of nomod are close to nomod\")"
   ]
  },
  {
   "cell_type": "code",
   "execution_count": 126,
   "metadata": {},
   "outputs": [
    {
     "name": "stdout",
     "output_type": "stream",
     "text": [
      "[0.09195402 0.04597701 0.12643678 0.01149425 0.02298851 0.01149425\n",
      " 0.01149425]\n",
      "[0.06122449 0.06122449 0.02040816 0.02040816 0.01020408 0.\n",
      " 0.        ]\n"
     ]
    }
   ],
   "source": [
    "modRFcuifreqA = modRFVector.sum(0) / 87\n",
    "nomodRFcuifreqA = nomodRFVector.sum(0) / 98\n",
    "print(modRFcuifreqA)\n",
    "print(nomodRFcuifreqA)"
   ]
  },
  {
   "cell_type": "code",
   "execution_count": 128,
   "metadata": {},
   "outputs": [],
   "source": [
    "e = []\n",
    "for i in range(len(allRFVector)):\n",
    "    standard = modRFcuifreqA\n",
    "    vector = allRFVector[i]\n",
    "    er = np.linalg.norm(standard - vector)\n",
    "    e += [er]"
   ]
  },
  {
   "cell_type": "code",
   "execution_count": 129,
   "metadata": {},
   "outputs": [],
   "source": [
    "s = []\n",
    "for i in range(len(allRFVector)):\n",
    "    standard = nomodRFcuifreqA\n",
    "    vector = allRFVector[i]\n",
    "    we = np.linalg.norm(standard - vector)\n",
    "    s += [we]"
   ]
  },
  {
   "cell_type": "code",
   "execution_count": 130,
   "metadata": {},
   "outputs": [
    {
     "data": {
      "text/plain": [
       "[<matplotlib.lines.Line2D at 0x25a26babe50>]"
      ]
     },
     "execution_count": 130,
     "metadata": {},
     "output_type": "execute_result"
    },
    {
     "data": {
      "image/png": "[encoded data removed]",
      "text/plain": [
       "<Figure size 640x480 with 1 Axes>"
      ]
     },
     "metadata": {},
     "output_type": "display_data"
    }
   ],
   "source": [
    "plt.plot(e)"
   ]
  },
  {
   "cell_type": "code",
   "execution_count": 131,
   "metadata": {},
   "outputs": [
    {
     "data": {
      "text/plain": [
       "[<matplotlib.lines.Line2D at 0x25a26870f40>]"
      ]
     },
     "execution_count": 131,
     "metadata": {},
     "output_type": "execute_result"
    },
    {
     "data": {
      "image/png": "[encoded data removed]",
      "text/plain": [
       "<Figure size 640x480 with 1 Axes>"
      ]
     },
     "metadata": {},
     "output_type": "display_data"
    }
   ],
   "source": [
    "plt.plot(s)"
   ]
  },
  {
   "cell_type": "code",
   "execution_count": null,
   "metadata": {},
   "outputs": [],
   "source": []
  }
 ],
 "metadata": {
  "kernelspec": {
   "display_name": "Python 3",
   "language": "python",
   "name": "python3"
  },
  "language_info": {
   "codemirror_mode": {
    "name": "ipython",
    "version": 3
   },
   "file_extension": ".py",
   "mimetype": "text/x-python",
   "name": "python",
   "nbconvert_exporter": "python",
   "pygments_lexer": "ipython3",
   "version": "3.9.1"
  }
 },
 "nbformat": 4,
 "nbformat_minor": 2
}
