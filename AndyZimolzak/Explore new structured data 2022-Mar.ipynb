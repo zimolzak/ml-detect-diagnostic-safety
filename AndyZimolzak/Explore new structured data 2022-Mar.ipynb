{
 "cells": [
  {
   "cell_type": "markdown",
   "metadata": {},
   "source": [
    "# Check out structured data for AHRQ-ML"
   ]
  },
  {
   "cell_type": "code",
   "execution_count": 1,
   "metadata": {},
   "outputs": [],
   "source": [
    "import pyodbc\n",
    "import pandas as pd  # sure takes a long time"
   ]
  },
  {
   "cell_type": "code",
   "execution_count": 2,
   "metadata": {},
   "outputs": [],
   "source": [
    "conn = pyodbc.connect(\"DRIVER={SQL Server};SERVER=VHACDWRB03;DATABASE=ORD_Singh_201911038D\")"
   ]
  },
  {
   "cell_type": "code",
   "execution_count": 3,
   "metadata": {},
   "outputs": [],
   "source": [
    "result_df = pd.read_sql(sql=\"select * from information_schema.tables where table_name like '%B00%'\", con=conn)"
   ]
  },
  {
   "cell_type": "code",
   "execution_count": 4,
   "metadata": {},
   "outputs": [
    {
     "data": {
      "text/html": [
       "<div>\n",
       "<style scoped>\n",
       "    .dataframe tbody tr th:only-of-type {\n",
       "        vertical-align: middle;\n",
       "    }\n",
       "\n",
       "    .dataframe tbody tr th {\n",
       "        vertical-align: top;\n",
       "    }\n",
       "\n",
       "    .dataframe thead th {\n",
       "        text-align: right;\n",
       "    }\n",
       "</style>\n",
       "<table border=\"1\" class=\"dataframe\">\n",
       "  <thead>\n",
       "    <tr style=\"text-align: right;\">\n",
       "      <th></th>\n",
       "      <th>TABLE_CATALOG</th>\n",
       "      <th>TABLE_SCHEMA</th>\n",
       "      <th>TABLE_NAME</th>\n",
       "      <th>TABLE_TYPE</th>\n",
       "    </tr>\n",
       "  </thead>\n",
       "  <tbody>\n",
       "    <tr>\n",
       "      <th>0</th>\n",
       "      <td>ORD_Singh_201911038D</td>\n",
       "      <td>Dflt</td>\n",
       "      <td>_B00_ML4TrgPos_Y201621_01_04_cohort</td>\n",
       "      <td>BASE TABLE</td>\n",
       "    </tr>\n",
       "    <tr>\n",
       "      <th>1</th>\n",
       "      <td>ORD_Singh_201911038D</td>\n",
       "      <td>Dflt</td>\n",
       "      <td>_B00_ML4TrgPos_Y201621_04_04_Lab</td>\n",
       "      <td>BASE TABLE</td>\n",
       "    </tr>\n",
       "    <tr>\n",
       "      <th>2</th>\n",
       "      <td>ORD_Singh_201911038D</td>\n",
       "      <td>Dflt</td>\n",
       "      <td>_B00_ML4TrgPos_Y201621_05_04_Rad</td>\n",
       "      <td>BASE TABLE</td>\n",
       "    </tr>\n",
       "    <tr>\n",
       "      <th>3</th>\n",
       "      <td>ORD_Singh_201911038D</td>\n",
       "      <td>Dflt</td>\n",
       "      <td>_B00_ML4TrgPos_Y201621_06_Med_04_RxOutpat</td>\n",
       "      <td>BASE TABLE</td>\n",
       "    </tr>\n",
       "    <tr>\n",
       "      <th>4</th>\n",
       "      <td>ORD_Singh_201911038D</td>\n",
       "      <td>Dflt</td>\n",
       "      <td>_B00_ML4TrgPos_Y201621_06_Med_05_BCMA_Dispense...</td>\n",
       "      <td>BASE TABLE</td>\n",
       "    </tr>\n",
       "    <tr>\n",
       "      <th>5</th>\n",
       "      <td>ORD_Singh_201911038D</td>\n",
       "      <td>Dflt</td>\n",
       "      <td>_B00_ML4TrgPos_Y201621_06_Med_07_NonVAMed</td>\n",
       "      <td>BASE TABLE</td>\n",
       "    </tr>\n",
       "    <tr>\n",
       "      <th>6</th>\n",
       "      <td>ORD_Singh_201911038D</td>\n",
       "      <td>Dflt</td>\n",
       "      <td>_B00_ML4TrgPos_Y201621_06_Med_08_AllMed</td>\n",
       "      <td>BASE TABLE</td>\n",
       "    </tr>\n",
       "    <tr>\n",
       "      <th>7</th>\n",
       "      <td>ORD_Singh_201911038D</td>\n",
       "      <td>Dflt</td>\n",
       "      <td>_B00_ML4TrgPos_Y201621_08_Consult</td>\n",
       "      <td>BASE TABLE</td>\n",
       "    </tr>\n",
       "    <tr>\n",
       "      <th>8</th>\n",
       "      <td>ORD_Singh_201911038D</td>\n",
       "      <td>Dflt</td>\n",
       "      <td>_B00_ML4TrgPos_Y201621_12_ICD</td>\n",
       "      <td>BASE TABLE</td>\n",
       "    </tr>\n",
       "    <tr>\n",
       "      <th>9</th>\n",
       "      <td>ORD_Singh_201911038D</td>\n",
       "      <td>Dflt</td>\n",
       "      <td>_B00_ML4TrgPos_Y201621_14_Vital</td>\n",
       "      <td>BASE TABLE</td>\n",
       "    </tr>\n",
       "    <tr>\n",
       "      <th>10</th>\n",
       "      <td>ORD_Singh_201911038D</td>\n",
       "      <td>Dflt</td>\n",
       "      <td>_B00_ML4TrgPos_Y201621_16_HF</td>\n",
       "      <td>BASE TABLE</td>\n",
       "    </tr>\n",
       "    <tr>\n",
       "      <th>11</th>\n",
       "      <td>ORD_Singh_201911038D</td>\n",
       "      <td>Dflt</td>\n",
       "      <td>_B00_ML4TrgPos_Y201621_30_Note</td>\n",
       "      <td>BASE TABLE</td>\n",
       "    </tr>\n",
       "  </tbody>\n",
       "</table>\n",
       "</div>"
      ],
      "text/plain": [
       "           TABLE_CATALOG TABLE_SCHEMA  \\\n",
       "0   ORD_Singh_201911038D         Dflt   \n",
       "1   ORD_Singh_201911038D         Dflt   \n",
       "2   ORD_Singh_201911038D         Dflt   \n",
       "3   ORD_Singh_201911038D         Dflt   \n",
       "4   ORD_Singh_201911038D         Dflt   \n",
       "5   ORD_Singh_201911038D         Dflt   \n",
       "6   ORD_Singh_201911038D         Dflt   \n",
       "7   ORD_Singh_201911038D         Dflt   \n",
       "8   ORD_Singh_201911038D         Dflt   \n",
       "9   ORD_Singh_201911038D         Dflt   \n",
       "10  ORD_Singh_201911038D         Dflt   \n",
       "11  ORD_Singh_201911038D         Dflt   \n",
       "\n",
       "                                           TABLE_NAME  TABLE_TYPE  \n",
       "0                 _B00_ML4TrgPos_Y201621_01_04_cohort  BASE TABLE  \n",
       "1                    _B00_ML4TrgPos_Y201621_04_04_Lab  BASE TABLE  \n",
       "2                    _B00_ML4TrgPos_Y201621_05_04_Rad  BASE TABLE  \n",
       "3           _B00_ML4TrgPos_Y201621_06_Med_04_RxOutpat  BASE TABLE  \n",
       "4   _B00_ML4TrgPos_Y201621_06_Med_05_BCMA_Dispense...  BASE TABLE  \n",
       "5           _B00_ML4TrgPos_Y201621_06_Med_07_NonVAMed  BASE TABLE  \n",
       "6             _B00_ML4TrgPos_Y201621_06_Med_08_AllMed  BASE TABLE  \n",
       "7                   _B00_ML4TrgPos_Y201621_08_Consult  BASE TABLE  \n",
       "8                       _B00_ML4TrgPos_Y201621_12_ICD  BASE TABLE  \n",
       "9                     _B00_ML4TrgPos_Y201621_14_Vital  BASE TABLE  \n",
       "10                       _B00_ML4TrgPos_Y201621_16_HF  BASE TABLE  \n",
       "11                     _B00_ML4TrgPos_Y201621_30_Note  BASE TABLE  "
      ]
     },
     "execution_count": 4,
     "metadata": {},
     "output_type": "execute_result"
    }
   ],
   "source": [
    "result_df"
   ]
  },
  {
   "cell_type": "markdown",
   "metadata": {},
   "source": [
    "# To do\n",
    "\n",
    "- come back to \"Rad\" which is time of result but also type of test\n",
    "- list of important meds\n",
    "\n",
    "\n",
    "# Important tables\n",
    "\n",
    "- RxOutpat: Very much recommend start with **selected** meds, not *all* meds.\n",
    "- consult: again **selected** and presence/absence\n",
    "- ICD\n",
    "\n",
    "## lower or medium tier (not saying which is which)\n",
    "\n",
    "- bcma\n",
    "- non va meds\n",
    "- lab\n",
    "- vitals\n",
    "- health factors\n",
    "- note\n"
   ]
  },
  {
   "cell_type": "code",
   "execution_count": 9,
   "metadata": {
    "scrolled": true
   },
   "outputs": [
    {
     "data": {
      "text/html": [
       "<div>\n",
       "<style scoped>\n",
       "    .dataframe tbody tr th:only-of-type {\n",
       "        vertical-align: middle;\n",
       "    }\n",
       "\n",
       "    .dataframe tbody tr th {\n",
       "        vertical-align: top;\n",
       "    }\n",
       "\n",
       "    .dataframe thead th {\n",
       "        text-align: right;\n",
       "    }\n",
       "</style>\n",
       "<table border=\"1\" class=\"dataframe\">\n",
       "  <thead>\n",
       "    <tr style=\"text-align: right;\">\n",
       "      <th></th>\n",
       "      <th></th>\n",
       "    </tr>\n",
       "  </thead>\n",
       "  <tbody>\n",
       "    <tr>\n",
       "      <th>0</th>\n",
       "      <td>1126</td>\n",
       "    </tr>\n",
       "  </tbody>\n",
       "</table>\n",
       "</div>"
      ],
      "text/plain": [
       "       \n",
       "0  1126"
      ]
     },
     "execution_count": 9,
     "metadata": {},
     "output_type": "execute_result"
    }
   ],
   "source": [
    "pd.read_sql(sql=\"select count(*) from dflt._B00_ML4TrgPos_Y201621_01_04_cohort\", con=conn)"
   ]
  },
  {
   "cell_type": "markdown",
   "metadata": {},
   "source": [
    "Cohort is one row per encounter. These are the patients for whom trigger is positive."
   ]
  },
  {
   "cell_type": "code",
   "execution_count": 11,
   "metadata": {},
   "outputs": [],
   "source": [
    "cohort_df = pd.read_sql(sql=\"select * from dflt._B00_ML4TrgPos_Y201621_01_04_cohort\", con=conn)"
   ]
  },
  {
   "cell_type": "code",
   "execution_count": 12,
   "metadata": {},
   "outputs": [
    {
     "data": {
      "text/plain": [
       "(1126, 12)"
      ]
     },
     "execution_count": 12,
     "metadata": {},
     "output_type": "execute_result"
    }
   ],
   "source": [
    "cohort_df.shape"
   ]
  },
  {
   "cell_type": "code",
   "execution_count": 13,
   "metadata": {},
   "outputs": [
    {
     "data": {
      "text/plain": [
       "Index(['TriggerType', 'patientSSN', 'EDStartDateTime', 'EDEndDateTime',\n",
       "       'EDVisitReason', 'AdmitDateTime', 'B', 'outpatVisitSID', 'inpatientsid',\n",
       "       'patientsid', 'sta3n', 'studyID'],\n",
       "      dtype='object')"
      ]
     },
     "execution_count": 13,
     "metadata": {},
     "output_type": "execute_result"
    }
   ],
   "source": [
    "cohort_df.columns"
   ]
  },
  {
   "cell_type": "code",
   "execution_count": 16,
   "metadata": {},
   "outputs": [
    {
     "data": {
      "text/plain": [
       "abd pain                                       92\n",
       "GI                                             54\n",
       "abdominal pain                                 32\n",
       "ABD PAIN                                       22\n",
       "dizziness                                      19\n",
       "                                               ..\n",
       "s                                               1\n",
       "r/o SBO; nausea/emesis                          1\n",
       "20/GI - TACHYCARDIA                             1\n",
       "abd distention                                  1\n",
       "Weak,confusion,falling episode d/t weakness     1\n",
       "Name: EDVisitReason, Length: 691, dtype: int64"
      ]
     },
     "execution_count": 16,
     "metadata": {},
     "output_type": "execute_result"
    }
   ],
   "source": [
    "cohort_df.EDVisitReason.value_counts()"
   ]
  },
  {
   "cell_type": "code",
   "execution_count": 17,
   "metadata": {
    "scrolled": true
   },
   "outputs": [
    {
     "data": {
      "text/plain": [
       "AbdominalPain    921\n",
       "Dizziness        205\n",
       "Name: TriggerType, dtype: int64"
      ]
     },
     "execution_count": 17,
     "metadata": {},
     "output_type": "execute_result"
    }
   ],
   "source": [
    "cohort_df.TriggerType.value_counts()"
   ]
  },
  {
   "cell_type": "code",
   "execution_count": 18,
   "metadata": {
    "scrolled": true
   },
   "outputs": [
    {
     "data": {
      "text/plain": [
       "(691,)"
      ]
     },
     "execution_count": 18,
     "metadata": {},
     "output_type": "execute_result"
    }
   ],
   "source": [
    "cohort_df.EDVisitReason.value_counts().shape"
   ]
  },
  {
   "cell_type": "code",
   "execution_count": 75,
   "metadata": {},
   "outputs": [],
   "source": [
    "def all_tables_from_str(sql_pattern, con=conn):\n",
    "    \"\"\"NOT FULLY TESTED.\n",
    "    Input a pattern like %_b00%. Create a dict of data frames, 1 k:v for each SQL table that matches.\n",
    "    \"\"\"\n",
    "    info_schema_df = pd.read_sql(sql=\"select * from information_schema.tables where table_name like '%s'\" % sql_pattern, con=conn)\n",
    "    \n",
    "    tables = {}\n",
    "    for tname in info_schema_df.TABLE_NAME:\n",
    "        query_str = \"select * from  \" + str(\"Dflt.\")+ str(tname)\n",
    "        table_df = pd.read_sql(sql=query_str,con=conn)\n",
    "        tables[tname.split('_')[-1]] = table_df\n",
    "    return tables"
   ]
  },
  {
   "cell_type": "code",
   "execution_count": 74,
   "metadata": {
    "scrolled": false
   },
   "outputs": [],
   "source": [
    "# a00_d = all_tables_from_str('%B00%')  # takes a long time. Because big tables and select * ."
   ]
  },
  {
   "cell_type": "markdown",
   "metadata": {},
   "source": [
    "## Copied out of Devika notebook"
   ]
  },
  {
   "cell_type": "markdown",
   "metadata": {},
   "source": [
    "Trying to map a text string (key) to a few categories (values)."
   ]
  },
  {
   "cell_type": "code",
   "execution_count": 20,
   "metadata": {},
   "outputs": [],
   "source": [
    "chief_c_dict = {'headache':'headache','dizziness':'dizziness','neuro':'neuro','ha':'headache','dizzy':'dizziness','migraine':'migraine',\n",
    "        'fall':'fall','headaches':'headache','near syncope':'near syncope','abnormal ekg':'abnormal ekg'}"
   ]
  },
  {
   "cell_type": "code",
   "execution_count": 22,
   "metadata": {},
   "outputs": [
    {
     "data": {
      "text/plain": [
       "{'abnormal ekg',\n",
       " 'dizziness',\n",
       " 'fall',\n",
       " 'headache',\n",
       " 'migraine',\n",
       " 'near syncope',\n",
       " 'neuro'}"
      ]
     },
     "execution_count": 22,
     "metadata": {},
     "output_type": "execute_result"
    }
   ],
   "source": [
    "set(chief_c_dict.values())"
   ]
  },
  {
   "cell_type": "markdown",
   "metadata": {},
   "source": [
    "# Explore just the 3 tables Andy thinks are hi value"
   ]
  },
  {
   "cell_type": "code",
   "execution_count": 27,
   "metadata": {},
   "outputs": [],
   "source": [
    "consult = pd.read_sql(sql=\"select * from dflt._B00_ML4TrgPos_Y201621_08_Consult\", con=conn)\n",
    "rxoutpat = pd.read_sql(sql=\"select * from dflt._B00_ML4TrgPos_Y201621_06_Med_04_RxOutpat\", con=conn)\n",
    "icd = pd.read_sql(sql=\"select * from dflt._B00_ML4TrgPos_Y201621_12_ICD\", con=conn)"
   ]
  },
  {
   "cell_type": "markdown",
   "metadata": {},
   "source": [
    "These are big tables, apparently. `cohort_df` alreadly loaded in."
   ]
  },
  {
   "cell_type": "code",
   "execution_count": 28,
   "metadata": {},
   "outputs": [
    {
     "data": {
      "text/plain": [
       "(146468, 11)"
      ]
     },
     "execution_count": 28,
     "metadata": {},
     "output_type": "execute_result"
    }
   ],
   "source": [
    "consult.shape"
   ]
  },
  {
   "cell_type": "code",
   "execution_count": 29,
   "metadata": {},
   "outputs": [
    {
     "data": {
      "text/plain": [
       "(404950, 13)"
      ]
     },
     "execution_count": 29,
     "metadata": {},
     "output_type": "execute_result"
    }
   ],
   "source": [
    "rxoutpat.shape"
   ]
  },
  {
   "cell_type": "code",
   "execution_count": 30,
   "metadata": {},
   "outputs": [
    {
     "data": {
      "text/plain": [
       "(865268, 5)"
      ]
     },
     "execution_count": 30,
     "metadata": {},
     "output_type": "execute_result"
    }
   ],
   "source": [
    "icd.shape"
   ]
  },
  {
   "cell_type": "code",
   "execution_count": 33,
   "metadata": {
    "scrolled": false
   },
   "outputs": [
    {
     "name": "stdout",
     "output_type": "stream",
     "text": [
      "Index(['PatientSSN', 'Sta3n', 'PatientSID', 'requestDateTime', 'requestType',\n",
      "       'ConStopCode', 'ConStopCodeName', 'ToRequestServiceName',\n",
      "       'CPRSOrderResultsDateTime', 'ConsultSID', 'ToRequestserviceSID'],\n",
      "      dtype='object')\n",
      "Index(['PatientSSN', 'DrugClassCode', 'LocalDrugNameWithDose', 'NDC',\n",
      "       'DispensedDate', 'Qty', 'QtyNumeric', 'DaysSupply', 'Sta3n',\n",
      "       'PatientSID', 'RxOutpatSID', 'LocalDrugSID', 'RxOutpatFillSID'],\n",
      "      dtype='object')\n",
      "Index(['PatientSSN', 'DiagDateTime', 'ICD', 'ICDDiagnosis', 'IsPrincipalDiag'], dtype='object')\n"
     ]
    }
   ],
   "source": [
    "print(consult.columns)\n",
    "print(rxoutpat.columns)\n",
    "print(icd.columns)"
   ]
  },
  {
   "cell_type": "code",
   "execution_count": 39,
   "metadata": {},
   "outputs": [
    {
     "data": {
      "text/plain": [
       "Index(['TriggerType', 'patientSSN', 'EDStartDateTime', 'EDEndDateTime',\n",
       "       'EDVisitReason', 'AdmitDateTime', 'B', 'outpatVisitSID', 'inpatientsid',\n",
       "       'patientsid', 'sta3n', 'studyID'],\n",
       "      dtype='object')"
      ]
     },
     "execution_count": 39,
     "metadata": {},
     "output_type": "execute_result"
    }
   ],
   "source": [
    "cohort_df.columns"
   ]
  },
  {
   "cell_type": "markdown",
   "metadata": {},
   "source": [
    "# We will start with the ICD table"
   ]
  },
  {
   "cell_type": "code",
   "execution_count": 65,
   "metadata": {},
   "outputs": [],
   "source": [
    "myssn = '000000000'  # insert real ssn here. Removed because PHI."
   ]
  },
  {
   "cell_type": "markdown",
   "metadata": {},
   "source": [
    "Just for demo purposes, print out *all* ICD, any date, but sorted by date. Observe that some are from \"future\" (after index date)."
   ]
  },
  {
   "cell_type": "code",
   "execution_count": 66,
   "metadata": {
    "scrolled": true
   },
   "outputs": [
    {
     "data": {
      "text/html": [
       "<div>\n",
       "<style scoped>\n",
       "    .dataframe tbody tr th:only-of-type {\n",
       "        vertical-align: middle;\n",
       "    }\n",
       "\n",
       "    .dataframe tbody tr th {\n",
       "        vertical-align: top;\n",
       "    }\n",
       "\n",
       "    .dataframe thead th {\n",
       "        text-align: right;\n",
       "    }\n",
       "</style>\n",
       "<table border=\"1\" class=\"dataframe\">\n",
       "  <thead>\n",
       "    <tr style=\"text-align: right;\">\n",
       "      <th></th>\n",
       "      <th>PatientSSN</th>\n",
       "      <th>DiagDateTime</th>\n",
       "      <th>ICD</th>\n",
       "      <th>ICDDiagnosis</th>\n",
       "      <th>IsPrincipalDiag</th>\n",
       "    </tr>\n",
       "  </thead>\n",
       "  <tbody>\n",
       "  </tbody>\n",
       "</table>\n",
       "</div>"
      ],
      "text/plain": [
       "Empty DataFrame\n",
       "Columns: [PatientSSN, DiagDateTime, ICD, ICDDiagnosis, IsPrincipalDiag]\n",
       "Index: []"
      ]
     },
     "execution_count": 66,
     "metadata": {},
     "output_type": "execute_result"
    }
   ],
   "source": [
    "icd.DiagDateTime = pd.to_datetime(icd.DiagDateTime)  # modify in place\n",
    "icd[icd.PatientSSN == myssn].sort_values(by = 'DiagDateTime')"
   ]
  },
  {
   "cell_type": "markdown",
   "metadata": {},
   "source": [
    "Now look at cohort table. We deliberately selected a patient who happened to have >1 encounter in cohort table."
   ]
  },
  {
   "cell_type": "code",
   "execution_count": 67,
   "metadata": {
    "scrolled": false
   },
   "outputs": [
    {
     "data": {
      "text/html": [
       "<div>\n",
       "<style scoped>\n",
       "    .dataframe tbody tr th:only-of-type {\n",
       "        vertical-align: middle;\n",
       "    }\n",
       "\n",
       "    .dataframe tbody tr th {\n",
       "        vertical-align: top;\n",
       "    }\n",
       "\n",
       "    .dataframe thead th {\n",
       "        text-align: right;\n",
       "    }\n",
       "</style>\n",
       "<table border=\"1\" class=\"dataframe\">\n",
       "  <thead>\n",
       "    <tr style=\"text-align: right;\">\n",
       "      <th></th>\n",
       "      <th>TriggerType</th>\n",
       "      <th>patientSSN</th>\n",
       "      <th>EDStartDateTime</th>\n",
       "      <th>EDEndDateTime</th>\n",
       "      <th>EDVisitReason</th>\n",
       "      <th>AdmitDateTime</th>\n",
       "      <th>B</th>\n",
       "      <th>outpatVisitSID</th>\n",
       "      <th>inpatientsid</th>\n",
       "      <th>patientsid</th>\n",
       "      <th>sta3n</th>\n",
       "      <th>studyID</th>\n",
       "    </tr>\n",
       "  </thead>\n",
       "  <tbody>\n",
       "  </tbody>\n",
       "</table>\n",
       "</div>"
      ],
      "text/plain": [
       "Empty DataFrame\n",
       "Columns: [TriggerType, patientSSN, EDStartDateTime, EDEndDateTime, EDVisitReason, AdmitDateTime, B, outpatVisitSID, inpatientsid, patientsid, sta3n, studyID]\n",
       "Index: []"
      ]
     },
     "execution_count": 67,
     "metadata": {},
     "output_type": "execute_result"
    }
   ],
   "source": [
    "cohort_df[cohort_df.patientSSN == myssn]  # lower case patientSSN not PatientSSN"
   ]
  },
  {
   "cell_type": "code",
   "execution_count": 70,
   "metadata": {},
   "outputs": [],
   "source": [
    "one_pt_icd = icd[icd.PatientSSN == myssn]"
   ]
  },
  {
   "cell_type": "code",
   "execution_count": 71,
   "metadata": {},
   "outputs": [],
   "source": [
    "idx_date_str = '2000-01-01'  # insert real date. Removed because PHI."
   ]
  },
  {
   "cell_type": "markdown",
   "metadata": {},
   "source": [
    "## ML mustn't cheat: Use only the ICDs BEFORE index date"
   ]
  },
  {
   "cell_type": "code",
   "execution_count": 72,
   "metadata": {
    "scrolled": true
   },
   "outputs": [],
   "source": [
    "past_icd = one_pt_icd[one_pt_icd.DiagDateTime < pd.to_datetime(idx_date_str)]"
   ]
  },
  {
   "cell_type": "markdown",
   "metadata": {},
   "source": [
    "very likely ok to ignore `IsPrincipalDiag` column."
   ]
  },
  {
   "cell_type": "markdown",
   "metadata": {},
   "source": [
    "## Final step: All you care about is the count of ICDs\n",
    "\n",
    "Those can maybe be some of your features? Depending on how well your method likes this dimensionality."
   ]
  },
  {
   "cell_type": "code",
   "execution_count": 73,
   "metadata": {
    "scrolled": true
   },
   "outputs": [
    {
     "data": {
      "text/plain": [
       "Series([], Name: ICDDiagnosis, dtype: int64)"
      ]
     },
     "execution_count": 73,
     "metadata": {},
     "output_type": "execute_result"
    }
   ],
   "source": [
    "past_icd.ICDDiagnosis.value_counts()  # warning. assumes 1:1 ICD:string"
   ]
  },
  {
   "cell_type": "markdown",
   "metadata": {},
   "source": [
    "# Reminder of Important tables\n",
    "\n",
    "- RxOutpat: Very much recommend start with **selected** meds, not *all* meds.\n",
    "- consult: again **selected** and presence/absence\n",
    "- ICD\n",
    "\n",
    "# RXOutpat table\n",
    "\n",
    "We won't go in detail yet. But use RxOutpat. Use the VA drug class column. Use date filled & days supply. First approximation: ignore dose. The person needs to be \"on\" the drug. Kind of that means \"recently filled with a reasonable *N* of days supply.\" So like if *K* days supply, maybe he filled it *1.5 K* days ago (before index date) and no further??\n",
    "\n",
    "That number 1.5 is entirely made up by me. There is no one number. Maybe *2 K* at most? I spent several years reading papers about this.\n",
    "\n",
    "What does \"selected\" meds mean? Meds \"obviously\" related to stroke, at least to a doctor:\n",
    "\n",
    "- aspirin\n",
    "- anything in VA drug class 'anticoagulant': warfarin, Coumadin, apixaban, anything ending in \"*xaban\"\n",
    "- clopidogrel / Plavix\n",
    "- anything ending \"*statin\"\n",
    "\n",
    "Meds with lots of them in the class (related to stroke risk but messier):\n",
    "\n",
    "- Lots of anti-hypertensives. Lots."
   ]
  },
  {
   "cell_type": "markdown",
   "metadata": {},
   "source": [
    "# Where are the labels?\n",
    "\n",
    "Good question! Here, for example:\n",
    "\n",
    "`P:\\ORD_Singh_201911038D\\Ashish\\HighRiskAbdominalPain\\AbdominalPain-Validation review`\n",
    "\n",
    "They live in MS Access files. Some will be under `Ashish\\HighRiskDizz......` etc.\n",
    "\n",
    "**Viral** will manage the export. ML folks: remember not to edit any MS Access contsnts."
   ]
  }
 ],
 "metadata": {
  "kernelspec": {
   "display_name": "Python 3",
   "language": "python",
   "name": "python3"
  },
  "language_info": {
   "codemirror_mode": {
    "name": "ipython",
    "version": 3
   },
   "file_extension": ".py",
   "mimetype": "text/x-python",
   "name": "python",
   "nbconvert_exporter": "python",
   "pygments_lexer": "ipython3",
   "version": "3.9.1"
  }
 },
 "nbformat": 4,
 "nbformat_minor": 2
}
