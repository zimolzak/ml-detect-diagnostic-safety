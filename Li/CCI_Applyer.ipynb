{
 "cells": [
  {
   "cell_type": "code",
   "execution_count": 21,
   "metadata": {},
   "outputs": [],
   "source": [
    "# imports\n",
    "import pandas as pd\n",
    "import numpy as np\n",
    "import random\n",
    "import re\n",
    "import datetime\n",
    "import copy"
   ]
  },
  {
   "cell_type": "code",
   "execution_count": 22,
   "metadata": {},
   "outputs": [],
   "source": [
    "# read csv of CCI conditions, regex strings, and values\n",
    "cci_conditions_table = pd.read_csv('cci_text_r_values_edits.csv', header=0, engine='python')"
   ]
  },
  {
   "cell_type": "code",
   "execution_count": 23,
   "metadata": {},
   "outputs": [],
   "source": [
    "# create a table of just ICD-10 CCI conditions and their weight\n",
    "cci_weights_10 = cci_conditions_table[cci_conditions_table['icd']==10][['condition', 'weight']].groupby('condition').mean()\n",
    "cci_weights_10.loc[-1] = 0\n",
    "\n",
    "# create a table of just ICD-9 CCI conditions and their weight\n",
    "cci_weights_9 = cci_conditions_table[cci_conditions_table['icd']==9][['condition', 'weight']].groupby('condition').mean()\n",
    "cci_weights_9.loc[-1] = 0"
   ]
  },
  {
   "cell_type": "code",
   "execution_count": null,
   "metadata": {},
   "outputs": [],
   "source": [
    "# read and process text file of all icd10cm conditions\n",
    "temp_codes = []\n",
    "temp_desc = []\n",
    "with open('icd10cm_codes_2020.txt') as file:\n",
    "    all_lines = file.read().split('\\n')[:-1]\n",
    "    \n",
    "    for line in all_lines:\n",
    "        temp_codes.append(line[:line.find(' ')].strip())\n",
    "        temp_desc.append(line[line.find(' '):].strip())\n",
    "\n",
    "# create a dataframe of all possible icd-10-cm codes and their descriptions\n",
    "icd10cm_masterlist = pd.DataFrame(data=zip(temp_codes, temp_desc), columns=['code', 'description'])"
   ]
  },
  {
   "cell_type": "code",
   "execution_count": null,
   "metadata": {},
   "outputs": [],
   "source": [
    "# create a table of random encounters\n",
    "last_patient_index = -1\n",
    "last_encounter_index = -1\n",
    "\n",
    "patient_col = []\n",
    "encounter_col = []\n",
    "condition_col = []\n",
    "\n",
    "for _p in range(1000):\n",
    "    patient_index = last_patient_index + 1\n",
    "    encounter_index = last_encounter_index\n",
    "    \n",
    "    numberOfEncounters = random.randrange(1,6)\n",
    "    \n",
    "    for _e in range(numberOfEncounters):\n",
    "        encounter_index = encounter_index + 1\n",
    "        \n",
    "        numberOfConditions = random.randrange(1,31)\n",
    "        \n",
    "        for _c in range (numberOfConditions):\n",
    "            patient_col.append(patient_index)\n",
    "            encounter_col.append(encounter_index)\n",
    "            condition_col.append(icd10cm_masterlist.iloc[random.randrange(0, len(icd10cm_masterlist.index))]['code'])\n",
    "            \n",
    "    last_patient_index = patient_index\n",
    "    last_encounter_index = encounter_index\n",
    "            \n",
    "encounters_df = pd.DataFrame(zip(patient_col, encounter_col, condition_col), columns=['PatientSID', 'EncounterSID', 'ICD10Code'])"
   ]
  },
  {
   "cell_type": "code",
   "execution_count": 24,
   "metadata": {},
   "outputs": [],
   "source": [
    "encounters_df = pd.read_csv('trigger2crude.csv', header=0, engine='python')\n",
    "encounters_df = encounters_df.rename(columns={'ï»¿PatientSID': 'PatientSID'})"
   ]
  },
  {
   "cell_type": "code",
   "execution_count": null,
   "metadata": {
    "scrolled": true
   },
   "outputs": [],
   "source": [
    "encounters_df"
   ]
  },
  {
   "cell_type": "code",
   "execution_count": 26,
   "metadata": {},
   "outputs": [],
   "source": [
    "list_of_cci_conditions = list(cci_conditions_table['condition'].unique())"
   ]
  },
  {
   "cell_type": "code",
   "execution_count": 27,
   "metadata": {},
   "outputs": [],
   "source": [
    "list_of_encounters = list(encounters_df['EncounterSID'].unique())"
   ]
  },
  {
   "cell_type": "code",
   "execution_count": 28,
   "metadata": {},
   "outputs": [],
   "source": [
    "lol_of_encounter_cci_conditions = []\n",
    "s = 0\n",
    "for encounter in list_of_encounters:  \n",
    "    this_encounter = encounters_df[encounters_df['EncounterSID'] == encounter].copy()\n",
    "    \n",
    "    list_of_encounter_cci_conditions = []\n",
    "\n",
    "    list_of_patient_conditions = list(this_encounter['ICD10Code'].unique())\n",
    "\n",
    "    for pcond in list_of_patient_conditions:\n",
    "        for ccond in list_of_cci_conditions:\n",
    "            this_cond = cci_conditions_table[(cci_conditions_table['condition'] == ccond) & (cci_conditions_table['icd'] == 10)].copy()\n",
    "            this_cond['regex_code_string'] = this_cond['code_string'].apply(lambda x: ''.join(x[1:]))\n",
    "            \n",
    "            for reg_string in list(this_cond['regex_code_string'].values):\n",
    "                if len(re.findall(reg_string, pcond)) > 0:\n",
    "                    list_of_encounter_cci_conditions.append(ccond)\n",
    "    \n",
    "    if not list_of_encounter_cci_conditions:\n",
    "        list_of_encounter_cci_conditions.append(-1)\n",
    "    lol_of_encounter_cci_conditions.append(sorted(list(set(list_of_encounter_cci_conditions))))"
   ]
  },
  {
   "cell_type": "code",
   "execution_count": 29,
   "metadata": {},
   "outputs": [],
   "source": [
    "lol_of_encounter_cci_conditions_back = copy.deepcopy(lol_of_encounter_cci_conditions)"
   ]
  },
  {
   "cell_type": "code",
   "execution_count": 30,
   "metadata": {},
   "outputs": [],
   "source": [
    "for encounter_conditions in lol_of_encounter_cci_conditions_back:\n",
    "    if 19 in encounter_conditions and 17 not in encounter_conditions:\n",
    "        print('{} has 19 WITHOUT 17'.format(str(encounter_conditions)))\n",
    "    if 4 in encounter_conditions and 13 in encounter_conditions:\n",
    "        print('{} has 4 and 13'.format(str(encounter_conditions)))\n",
    "    if 9 in encounter_conditions and 15 in encounter_conditions:\n",
    "        print('{} has 9 and 15'.format(str(encounter_conditions)))\n",
    "    if 10 in encounter_conditions and 12 in encounter_conditions:\n",
    "        print('{} has 10 and 12'.format(str(encounter_conditions)))\n",
    "    if 11 in encounter_conditions and 16 in encounter_conditions:\n",
    "        print('{} has 11 and 16'.format(str(encounter_conditions)))\n",
    "    if 14 in encounter_conditions and 18 in encounter_conditions:\n",
    "        print('{} has 14 and 18'.format(str(encounter_conditions)))\n",
    "    if 17 in encounter_conditions and 19 in encounter_conditions:\n",
    "        print('{} has 17 and 19'.format(str(encounter_conditions)))"
   ]
  },
  {
   "cell_type": "code",
   "execution_count": 31,
   "metadata": {},
   "outputs": [],
   "source": [
    "for encounter_conditions in lol_of_encounter_cci_conditions:\n",
    "    if 19 in encounter_conditions and 17 not in encounter_conditions:\n",
    "        while 19 in encounter_conditions:\n",
    "            encounter_conditions.remove(19)\n",
    "    if 4 in encounter_conditions and 13 in encounter_conditions:\n",
    "        while 4 in encounter_conditions:\n",
    "            encounter_conditions.remove(4)\n",
    "    if 9 in encounter_conditions and 15 in encounter_conditions:\n",
    "        while 9 in encounter_conditions:\n",
    "            encounter_conditions.remove(9)\n",
    "    if 10 in encounter_conditions and 12 in encounter_conditions:\n",
    "        while 10 in encounter_conditions:\n",
    "            encounter_conditions.remove(10)\n",
    "    if 11 in encounter_conditions and 16 in encounter_conditions:\n",
    "        while 11 in encounter_conditions:\n",
    "            encounter_conditions.remove(11)\n",
    "    if 14 in encounter_conditions and 18 in encounter_conditions:\n",
    "        while 14 in encounter_conditions:\n",
    "            encounter_conditions.remove(14)\n",
    "    if 17 in encounter_conditions and 19 in encounter_conditions:\n",
    "        while 17 in encounter_conditions:\n",
    "            encounter_conditions.remove(17)"
   ]
  },
  {
   "cell_type": "code",
   "execution_count": 32,
   "metadata": {},
   "outputs": [],
   "source": [
    "for encounter_conditions in lol_of_encounter_cci_conditions:\n",
    "    if 4 in encounter_conditions and 13 in encounter_conditions:\n",
    "        print('{} has 4 and 13'.format(str(encounter_conditions)))\n",
    "    if 9 in encounter_conditions and 15 in encounter_conditions:\n",
    "        print('{} has 9 and 15'.format(str(encounter_conditions)))\n",
    "    if 10 in encounter_conditions and 12 in encounter_conditions:\n",
    "        print('{} has 10 and 12'.format(str(encounter_conditions)))\n",
    "    if 11 in encounter_conditions and 16 in encounter_conditions:\n",
    "        print('{} has 11 and 16'.format(str(encounter_conditions)))\n",
    "    if 14 in encounter_conditions and 18 in encounter_conditions:\n",
    "        print('{} has 14 and 18'.format(str(encounter_conditions)))\n",
    "    if 17 in encounter_conditions and 19 in encounter_conditions:\n",
    "        print('{} has 17 and 19'.format(str(encounter_conditions)))"
   ]
  },
  {
   "cell_type": "code",
   "execution_count": 33,
   "metadata": {},
   "outputs": [],
   "source": [
    "cci_scores_dict = {}\n",
    "\n",
    "for idx in range(len(list_of_encounters)):\n",
    "    cci_score = 0\n",
    "    \n",
    "    for cond in lol_of_encounter_cci_conditions[idx]:\n",
    "        cci_score += int(cci_weights_10.loc[cond])\n",
    "        \n",
    "    cci_scores_dict.update({list_of_encounters[idx]: cci_score})"
   ]
  },
  {
   "cell_type": "code",
   "execution_count": 34,
   "metadata": {},
   "outputs": [],
   "source": [
    "final_df = encounters_df[['PatientSID', 'EncounterSID']].drop_duplicates()"
   ]
  },
  {
   "cell_type": "code",
   "execution_count": 35,
   "metadata": {},
   "outputs": [],
   "source": [
    "final_df['CCIScore'] = final_df['EncounterSID'].apply(lambda enc_sid: cci_scores_dict[enc_sid])"
   ]
  },
  {
   "cell_type": "code",
   "execution_count": 36,
   "metadata": {},
   "outputs": [],
   "source": [
    "final_df.to_csv('output_{}.csv'.format(datetime.datetime.now().strftime('%Y%m%d%H%M%S')), index=False)"
   ]
  },
  {
   "cell_type": "code",
   "execution_count": null,
   "metadata": {
    "scrolled": true
   },
   "outputs": [],
   "source": [
    "final_df"
   ]
  },
  {
   "cell_type": "code",
   "execution_count": null,
   "metadata": {},
   "outputs": [],
   "source": []
  },
  {
   "cell_type": "code",
   "execution_count": null,
   "metadata": {},
   "outputs": [],
   "source": []
  },
  {
   "cell_type": "code",
   "execution_count": null,
   "metadata": {},
   "outputs": [],
   "source": []
  },
  {
   "cell_type": "code",
   "execution_count": null,
   "metadata": {},
   "outputs": [],
   "source": [
    "lol_of_encounter_cci_conditions[1500]"
   ]
  },
  {
   "cell_type": "code",
   "execution_count": null,
   "metadata": {
    "scrolled": true
   },
   "outputs": [],
   "source": [
    "encounters_df[encounters_df['EncounterSID']==1500]"
   ]
  },
  {
   "cell_type": "code",
   "execution_count": null,
   "metadata": {},
   "outputs": [],
   "source": [
    "cci_conditions_table[(cci_conditions_table['icd']==10) & (cci_conditions_table['condition']==12)]"
   ]
  },
  {
   "cell_type": "code",
   "execution_count": null,
   "metadata": {},
   "outputs": [],
   "source": [
    "final_df[final_df['EncounterSID']==1500]"
   ]
  }
 ],
 "metadata": {
  "kernelspec": {
   "display_name": "Python 3",
   "language": "python",
   "name": "python3"
  },
  "language_info": {
   "codemirror_mode": {
    "name": "ipython",
    "version": 3
   },
   "file_extension": ".py",
   "mimetype": "text/x-python",
   "name": "python",
   "nbconvert_exporter": "python",
   "pygments_lexer": "ipython3",
   "version": "3.9.1"
  }
 },
 "nbformat": 4,
 "nbformat_minor": 4
}
