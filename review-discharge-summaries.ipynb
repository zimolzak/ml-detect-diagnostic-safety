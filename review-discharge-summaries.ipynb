{
 "cells": [
  {
   "cell_type": "markdown",
   "id": "ready-minister",
   "metadata": {},
   "source": [
    "# Review of UMAP'd discharge summaries\n",
    "\n",
    "Andrew Zimolzak, MD, MMSc\n",
    "\n",
    "**TLDR:** UMAP successfully clusters some irrelevant notes that don't belong, because they aren't even \"real\" discharge summaries."
   ]
  },
  {
   "cell_type": "code",
   "execution_count": 21,
   "id": "convinced-document",
   "metadata": {},
   "outputs": [],
   "source": [
    "import json\n",
    "from random import sample\n",
    "import textwrap"
   ]
  },
  {
   "cell_type": "markdown",
   "id": "dried-population",
   "metadata": {},
   "source": [
    "# Read note IDs from the JSONs that Max left"
   ]
  },
  {
   "cell_type": "code",
   "execution_count": 2,
   "id": "surface-basics",
   "metadata": {},
   "outputs": [],
   "source": [
    "json_filename = \"../Maxxxx/normalized_doc_vector_westoutliers_030222.json\"\n",
    "with open(json_filename, 'r') as infile:\n",
    "    west = json.load(infile)  # Loads it as a dict.\n",
    "json_filename = \"../Maxxxx/normalized_doc_vector_northoutliers_030222.json\"\n",
    "with open(json_filename, 'r') as infile:\n",
    "    north = json.load(infile)"
   ]
  },
  {
   "cell_type": "code",
   "execution_count": 3,
   "id": "accompanied-reggae",
   "metadata": {
    "scrolled": true
   },
   "outputs": [
    {
     "data": {
      "text/plain": [
       "868"
      ]
     },
     "execution_count": 3,
     "metadata": {},
     "output_type": "execute_result"
    }
   ],
   "source": [
    "len(west)"
   ]
  },
  {
   "cell_type": "code",
   "execution_count": 4,
   "id": "hearing-fireplace",
   "metadata": {},
   "outputs": [
    {
     "data": {
      "text/plain": [
       "581"
      ]
     },
     "execution_count": 4,
     "metadata": {},
     "output_type": "execute_result"
    }
   ],
   "source": [
    "len(north)"
   ]
  },
  {
   "cell_type": "code",
   "execution_count": 5,
   "id": "developed-ethics",
   "metadata": {
    "scrolled": false
   },
   "outputs": [
    {
     "name": "stderr",
     "output_type": "stream",
     "text": [
      "<ipython-input-5-c432e7d80c0b>:1: DeprecationWarning: Sampling from a set deprecated\n",
      "since Python 3.9 and will be removed in a subsequent version.\n",
      "  sample_w = sample(west.keys(), k=10)  # Sampling from a set deprecated?\n",
      "<ipython-input-5-c432e7d80c0b>:2: DeprecationWarning: Sampling from a set deprecated\n",
      "since Python 3.9 and will be removed in a subsequent version.\n",
      "  sample_n = sample(north.keys(), k=10)\n"
     ]
    }
   ],
   "source": [
    "sample_w = sample(west.keys(), k=10)  # Sampling from a set deprecated?\n",
    "sample_n = sample(north.keys(), k=10)"
   ]
  },
  {
   "cell_type": "markdown",
   "id": "upset-elite",
   "metadata": {},
   "source": [
    "# Read in text files\n",
    "Stroke notes are in one of the following:\n",
    "\n",
    "`P:\\ORD_Singh_201911038D\\Justin\\Stroke_Notes_13OCT21\\ClampInput`\n",
    "\n",
    "`P:\\ORD_Singh_201911038D\\Justin\\tonsofstrokenotesdump`\n",
    "\n",
    "Pretty sure it's the first one."
   ]
  },
  {
   "cell_type": "code",
   "execution_count": 40,
   "id": "polished-pound",
   "metadata": {
    "scrolled": false
   },
   "outputs": [],
   "source": [
    "def pretty_print_notes(id_list):\n",
    "\n",
    "    txt_path = \"../Justin/Stroke_Notes_13OCT21/ClampInput/\"\n",
    "    newline_patterns = [' --', ' ++++', ' ####', 'PRIMARY DIAGNOSIS', 'SECONDARY DIAGNOS', 'COURSE']\n",
    "\n",
    "    for i, note_id in enumerate(id_list):\n",
    "        pathname = txt_path + note_id + \".txt\"\n",
    "        print(\"####\", i + 1, \"\\n\")\n",
    "        with open(pathname) as fh:\n",
    "            whole_note = '\\n'.join((list(fh)))\n",
    "            whole_note = textwrap.fill(whole_note)\n",
    "            for p in newline_patterns:\n",
    "                whole_note = whole_note.replace(p, \"\\n\\n\" + p)\n",
    "            print(whole_note)\n",
    "        print(\"\\n\\n\\n\\n\")"
   ]
  },
  {
   "cell_type": "markdown",
   "id": "soviet-meditation",
   "metadata": {},
   "source": [
    "# West component overview"
   ]
  },
  {
   "cell_type": "code",
   "execution_count": 46,
   "id": "certified-tokyo",
   "metadata": {},
   "outputs": [],
   "source": [
    "# pretty_print_notes(sample_w)"
   ]
  },
  {
   "cell_type": "markdown",
   "id": "innocent-march",
   "metadata": {},
   "source": [
    "The preceding line would print PHI if we ran it. I ran it, reviewed notes, and then cleared cell output & commented it out for safety. This leaves only the following list of my very general notes (not PHI). In fact, I didn't set random seed, so no way to crosswalk this sample back to identifiable patients. Each element of this list is probably indistinguishable from many others with the same features.\n",
    "\n",
    "1. delir from TIA, no mri, clin dx\n",
    "2. tia, ct angio neg\n",
    "3. hemiparesis, tia, mri motion\n",
    "4. elective cea, no h/o sx\n",
    "5. admitted for stroke, img not mentioned\n",
    "6. mri = acute stroke\n",
    "7. neuropathic pain, past h/o tia but none now\n",
    "8. elective cea, stroke not even mentioned\n",
    "9. hemiparesis, definite tia, can't do mri, had angio, defer cea\n",
    "10. clin dx tia, mri no acute"
   ]
  },
  {
   "cell_type": "markdown",
   "id": "vocal-course",
   "metadata": {},
   "source": [
    "# North component overview"
   ]
  },
  {
   "cell_type": "code",
   "execution_count": 47,
   "id": "simplified-audit",
   "metadata": {},
   "outputs": [],
   "source": [
    "# pretty_print_notes(sample_n)"
   ]
  },
  {
   "cell_type": "markdown",
   "id": "bored-browser",
   "metadata": {},
   "source": [
    "1. not a discharge summary, but RN note, dx uti\n",
    "2. not discharge summ, dx laminectomy\n",
    "3. entered by msa, dx tia\n",
    "4. different template, still looks like RN, dx not mentioned\n",
    "5. msa, dx dizzy\n",
    "6. msa, dx stroke\n",
    "7. very slight diff template, dx not mentioned\n",
    "8. dx not mentioned but mentions stroke edu materials\n",
    "9. msa, dx dizzy, also big old med list\n",
    "10. slight diff template, dx might be sdh\n"
   ]
  },
  {
   "cell_type": "markdown",
   "id": "skilled-crisis",
   "metadata": {},
   "source": [
    "# Conclusions\n",
    "\n",
    "The \"west\" component doesn't look that special. Maybe enriched in TIAs? The north component, though, clearly comprises notes that don't belong with the others.\n",
    "\n",
    "This is a neat finding!"
   ]
  }
 ],
 "metadata": {
  "kernelspec": {
   "display_name": "Python 3",
   "language": "python",
   "name": "python3"
  },
  "language_info": {
   "codemirror_mode": {
    "name": "ipython",
    "version": 3
   },
   "file_extension": ".py",
   "mimetype": "text/x-python",
   "name": "python",
   "nbconvert_exporter": "python",
   "pygments_lexer": "ipython3",
   "version": "3.9.1"
  }
 },
 "nbformat": 4,
 "nbformat_minor": 5
}
