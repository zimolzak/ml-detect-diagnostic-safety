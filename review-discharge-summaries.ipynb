{
 "cells": [
  {
   "cell_type": "markdown",
   "id": "ready-minister",
   "metadata": {},
   "source": [
    "# Review of UMAP'd discharge summaries\n",
    "Andrew Zimolzak, MD, MMSc"
   ]
  },
  {
   "cell_type": "code",
   "execution_count": 21,
   "id": "convinced-document",
   "metadata": {},
   "outputs": [],
   "source": [
    "import json\n",
    "from random import sample\n",
    "import textwrap"
   ]
  },
  {
   "cell_type": "code",
   "execution_count": 2,
   "id": "surface-basics",
   "metadata": {},
   "outputs": [],
   "source": [
    "json_filename = \"../Maxxxx/normalized_doc_vector_westoutliers_030222.json\"\n",
    "with open(json_filename, 'r') as infile:\n",
    "    west = json.load(infile)  # Loads it as a dict.\n",
    "json_filename = \"../Maxxxx/normalized_doc_vector_northoutliers_030222.json\"\n",
    "with open(json_filename, 'r') as infile:\n",
    "    north = json.load(infile)"
   ]
  },
  {
   "cell_type": "code",
   "execution_count": 3,
   "id": "accompanied-reggae",
   "metadata": {
    "scrolled": true
   },
   "outputs": [
    {
     "data": {
      "text/plain": [
       "868"
      ]
     },
     "execution_count": 3,
     "metadata": {},
     "output_type": "execute_result"
    }
   ],
   "source": [
    "len(west)"
   ]
  },
  {
   "cell_type": "code",
   "execution_count": 4,
   "id": "hearing-fireplace",
   "metadata": {},
   "outputs": [
    {
     "data": {
      "text/plain": [
       "581"
      ]
     },
     "execution_count": 4,
     "metadata": {},
     "output_type": "execute_result"
    }
   ],
   "source": [
    "len(north)"
   ]
  },
  {
   "cell_type": "code",
   "execution_count": 5,
   "id": "developed-ethics",
   "metadata": {
    "scrolled": false
   },
   "outputs": [
    {
     "name": "stderr",
     "output_type": "stream",
     "text": [
      "<ipython-input-5-c432e7d80c0b>:1: DeprecationWarning: Sampling from a set deprecated\n",
      "since Python 3.9 and will be removed in a subsequent version.\n",
      "  sample_w = sample(west.keys(), k=10)  # Sampling from a set deprecated?\n",
      "<ipython-input-5-c432e7d80c0b>:2: DeprecationWarning: Sampling from a set deprecated\n",
      "since Python 3.9 and will be removed in a subsequent version.\n",
      "  sample_n = sample(north.keys(), k=10)\n"
     ]
    }
   ],
   "source": [
    "sample_w = sample(west.keys(), k=10)  # Sampling from a set deprecated?\n",
    "sample_n = sample(north.keys(), k=10)"
   ]
  },
  {
   "cell_type": "markdown",
   "id": "upset-elite",
   "metadata": {},
   "source": [
    "# Read in text files\n",
    "Stroke notes are in one of the following:\n",
    "\n",
    "`P:\\ORD_Singh_201911038D\\Justin\\Stroke_Notes_13OCT21\\ClampInput`\n",
    "\n",
    "`P:\\ORD_Singh_201911038D\\Justin\\tonsofstrokenotesdump`\n",
    "\n",
    "Pretty sure it's the first one."
   ]
  },
  {
   "cell_type": "code",
   "execution_count": null,
   "id": "revolutionary-poetry",
   "metadata": {
    "scrolled": false
   },
   "outputs": [],
   "source": [
    "txt_path = \"../Justin/Stroke_Notes_13OCT21/ClampInput/\"\n",
    "newline_patterns = [' --', ' ++++', ' ####', 'PRIMARY DIAGNOSIS', 'SECONDARY DIAGNOS', 'COURSE']\n",
    "\n",
    "for k in sample_w:\n",
    "    pathname = txt_path + k + \".txt\"\n",
    "    print(\"####\\n\")\n",
    "    with open(pathname) as fh:\n",
    "        whole_note = '\\n'.join((list(fh)))\n",
    "        whole_note = textwrap.fill(whole_note)\n",
    "        for p in newline_patterns:\n",
    "            whole_note = whole_note.replace(p, \"\\n\\n\" + p)\n",
    "        print(textwrap.fill(whole_note))\n",
    "    print(\"\\n\\n\\n\\n\")"
   ]
  },
  {
   "cell_type": "code",
   "execution_count": null,
   "id": "bearing-middle",
   "metadata": {},
   "outputs": [],
   "source": []
  }
 ],
 "metadata": {
  "kernelspec": {
   "display_name": "Python 3",
   "language": "python",
   "name": "python3"
  },
  "language_info": {
   "codemirror_mode": {
    "name": "ipython",
    "version": 3
   },
   "file_extension": ".py",
   "mimetype": "text/x-python",
   "name": "python",
   "nbconvert_exporter": "python",
   "pygments_lexer": "ipython3",
   "version": "3.9.1"
  }
 },
 "nbformat": 4,
 "nbformat_minor": 5
}
