{
 "cells": [
  {
   "cell_type": "code",
   "execution_count": 13,
   "id": "blond-illinois",
   "metadata": {},
   "outputs": [],
   "source": [
    "import numpy as np\n",
    "import pandas as pd\n",
    "from sklearn.preprocessing import MinMaxScaler\n",
    "'''\n",
    "df = pd.read_csv('./Refined_SPADE_Year20182019_Ver20210307.csv')\n",
    "df = df.set_index('StudyID')\n",
    "print(df.shape)\n",
    "print(df.columns)\n",
    "feature_columns_cont = [\n",
    "     'ed_inp_delta'\n",
    "    ,'ed_duration'\n",
    "    ,'elix_score'\n",
    "    ,'age_val'\n",
    "]\n",
    "feature_columns_cat = [\n",
    "     'img_flags'\n",
    "    ,'con_flags'\n",
    "]\n",
    "print(df.PatientSSN.unique().shape)\n",
    "feature_columns = [\n",
    "     'ed_duration'\n",
    "    ,'ed_inp_delta'\n",
    "    ,'age_val'\n",
    "    ,'img_flags'\n",
    "    ,'con_flags'\n",
    "    ,'elix_score'\n",
    "]\n",
    "df[feature_columns]\n",
    "'''\n",
    "df = pd.read_csv(\"input/input.csv\")\n",
    "df = df.set_index('study_ids')\n",
    "df = df.drop('smk_flags_man', axis=1)\n",
    "df = df.drop('smk_flags_db', axis=1)\n",
    "df = df[df.mod_label != 'INVALID']\n",
    "\n",
    "feature_columns_cont = [\n",
    "     'ed_inp_delta'\n",
    "    ,'ed_duration'\n",
    "    ,'elix_score'\n",
    "    ,'age_val'\n",
    "]\n",
    "feature_columns_cat = [\n",
    "     'img_flags'\n",
    "    ,'con_flags'\n",
    "]\n",
    "feature_columns = [\n",
    "     'ed_duration'\n",
    "    ,'ed_inp_delta'\n",
    "    ,'age_val'\n",
    "    ,'img_flags'\n",
    "    ,'con_flags'\n",
    "    ,'elix_score'\n",
    "]\n",
    "label_column = 'mod_label'\n",
    "\n",
    "df['ed_inp_delta'] = MinMaxScaler().fit_transform(df['ed_inp_delta'].values.reshape(-1,1))\n",
    "df['ed_duration'] = MinMaxScaler().fit_transform(df['ed_duration'].values.reshape(-1,1))\n",
    "df['elix_score'] = MinMaxScaler().fit_transform(df['elix_score'].values.reshape(-1,1))\n",
    "df['age_val'] = MinMaxScaler().fit_transform(df['age_val'].values.reshape(-1,1))"
   ]
  },
  {
   "cell_type": "code",
   "execution_count": null,
   "id": "spectacular-globe",
   "metadata": {},
   "outputs": [],
   "source": [
    "dxdf = pd.read_csv('./EDDiag.csv')\n",
    "dxdf = dxdf.set_index('StudyID')\n",
    "#Get the icd10codes for each studyID as a flat row\n",
    "#Just take first 10 here to get an idea for how it looks\n",
    "print(dxdf.head())\n",
    "print()\n",
    "for i in df.index.values[:10]:\n",
    "    if i in dxdf.index.values:\n",
    "        print(i,dxdf.loc[i].to_numpy().reshape(-1,2)[:,0])\n",
    "print()     \n",
    "print('The number of unique ICDs we have:', end=' ')\n",
    "print(dxdf.ICD10Code.unique().shape[0])\n",
    "print(\"The number of StudyIDs we have ICDs for:\", end=' ')\n",
    "print(dxdf.index.values.shape[0])\n",
    "print(\"The number of studyIDs in the SPADE set for which we don't have an ICD:\", end=\" \")\n",
    "print(len([i for i in df.index.values if i not in dxdf.index.values]))\n",
    "print(\"The number of studyIDs we have in the SPADE set:\", end=\" \")\n",
    "print(df.index.values.shape[0])"
   ]
  },
  {
   "cell_type": "code",
   "execution_count": 15,
   "id": "defensive-diamond",
   "metadata": {},
   "outputs": [],
   "source": [
    "studyicds = dict()\n",
    "for i in df.index.values:\n",
    "    if i in dxdf.index.values:\n",
    "        studyicds[i] = dxdf.loc[i].to_numpy().reshape(-1,2)[:,0]\n",
    "    else:\n",
    "        studyicds[i] = None"
   ]
  },
  {
   "cell_type": "code",
   "execution_count": 16,
   "id": "large-construction",
   "metadata": {},
   "outputs": [],
   "source": [
    "#Binarize ICDs\n",
    "from sklearn.preprocessing import MultiLabelBinarizer"
   ]
  },
  {
   "cell_type": "code",
   "execution_count": 17,
   "id": "hearing-exemption",
   "metadata": {},
   "outputs": [],
   "source": [
    "mlb = MultiLabelBinarizer()\n",
    "mlb.fit(np.asarray([x for x in studyicds.values() if type(x) == np.ndarray], dtype='object'))\n",
    "sizetopad = mlb.transform(np.asarray([x for x in studyicds.values() if type(x) == np.ndarray], dtype='object'))[0].shape[0]"
   ]
  },
  {
   "cell_type": "code",
   "execution_count": 18,
   "id": "choice-access",
   "metadata": {},
   "outputs": [],
   "source": [
    "binarizedicds = dict()\n",
    "for key,values in studyicds.items():\n",
    "    if type(values) == np.ndarray:\n",
    "        binarizedicds[key] = mlb.transform(values.reshape(1,-1)).reshape(-1, )\n",
    "    else:\n",
    "        binarizedicds[key] = np.zeros(sizetopad, dtype=int)\n"
   ]
  },
  {
   "cell_type": "code",
   "execution_count": 19,
   "id": "designing-collector",
   "metadata": {},
   "outputs": [],
   "source": [
    "dxdf = pd.DataFrame.from_dict(binarizedicds, orient='index')\n",
    "dfx = df.join(dxdf, how='inner')"
   ]
  },
  {
   "cell_type": "code",
   "execution_count": 20,
   "id": "smooth-peace",
   "metadata": {},
   "outputs": [],
   "source": [
    "from sklearn.model_selection import train_test_split\n",
    "TEST_SIZE = 0.15\n",
    "RANDOM_STATE_SEED = None"
   ]
  },
  {
   "cell_type": "code",
   "execution_count": 31,
   "id": "turned-kenya",
   "metadata": {},
   "outputs": [
    {
     "name": "stdout",
     "output_type": "stream",
     "text": [
      " Average Test AUC ± σ (100 iterations): 0.513 ± 0.082\n",
      "Average Train AUC ± σ (100 iterations): 0.808 ± 0.013\n"
     ]
    }
   ],
   "source": [
    "from sklearn.linear_model import LogisticRegression\n",
    "from sklearn.metrics import classification_report, roc_auc_score\n",
    "\n",
    "test_aucs = []\n",
    "train_aucs = []\n",
    "test_reports = []\n",
    "train_reports = []\n",
    "for i in range(100):\n",
    "    eX_train, eX_test, ey_train, ey_test = train_test_split(dfx.drop(label_column, axis=1), \\\n",
    "                                                            dfx[label_column], \\\n",
    "                                                            test_size=TEST_SIZE, random_state=RANDOM_STATE_SEED)\n",
    "    model = LogisticRegression(solver='liblinear', penalty='l2', C=0.7, max_iter=1000, fit_intercept = False)\n",
    "    etest = eX_test.iloc[:,6:]\n",
    "    etrain = eX_train.iloc[:,6:]\n",
    "    model.fit(etrain, ey_train)\n",
    "    test_probas  = model.predict_proba(etest)\n",
    "    test_preds = model.predict(etest)\n",
    "    train_preds = model.predict(etrain)\n",
    "    train_probas = model.predict_proba(etrain)\n",
    "    testauc = roc_auc_score(ey_test, test_probas[:,1])\n",
    "    trainauc = roc_auc_score(ey_train, train_probas[:,1])\n",
    "    test_aucs += [testauc]\n",
    "    train_aucs += [trainauc]\n",
    "    test_reports += [classification_report(ey_test, test_preds, output_dict=True)]\n",
    "    train_reports += [classification_report(ey_train, train_preds, output_dict=True)]\n",
    "\n",
    "print(f\" Average Test AUC \\u00B1 \\u03C3 (100 iterations): \" +\\\n",
    "      f\"{np.average(test_aucs):0.3f} \\u00B1 {np.std(test_aucs):0.3f}\")\n",
    "print(f\"Average Train AUC \\u00B1 \\u03C3 (100 iterations): \" +\\\n",
    "      f\"{np.average(train_aucs):0.3f} \\u00B1 {np.std(train_aucs):0.3f}\")"
   ]
  },
  {
   "cell_type": "code",
   "execution_count": 40,
   "id": "exposed-helen",
   "metadata": {},
   "outputs": [
    {
     "name": "stdout",
     "output_type": "stream",
     "text": [
      " Average Test AUC ± σ (100 iterations): 0.684 ± 0.091\n",
      "Average Train AUC ± σ (100 iterations): 0.716 ± 0.015\n"
     ]
    }
   ],
   "source": [
    "from sklearn.decomposition import PCA\n",
    "pca = PCA(n_components=2)\n",
    "\n",
    "pca.fit(dfx.drop(label_column,axis=1).iloc[:,6:])\n",
    "\n",
    "test_aucs = []\n",
    "train_aucs = []\n",
    "test_reports = []\n",
    "train_reports = []\n",
    "for i in range(100):\n",
    "    eX_train, eX_test, ey_train, ey_test = train_test_split(dfx.drop(label_column, axis=1), \\\n",
    "                                                            dfx[label_column], \\\n",
    "                                                            test_size=TEST_SIZE, random_state=RANDOM_STATE_SEED)\n",
    "    model = LogisticRegression(solver='liblinear', penalty='l2', C=0.7, max_iter=1000, fit_intercept = False)\n",
    "    etest = np.hstack([eX_test.iloc[:,:6], pca.transform(eX_test.iloc[:,6:])])\n",
    "    etrain = np.hstack([eX_train.iloc[:,:6], pca.transform(eX_train.iloc[:,6:])])\n",
    "    model.fit(etrain, ey_train)\n",
    "    test_probas  = model.predict_proba(etest)\n",
    "    test_preds = model.predict(etest)\n",
    "    train_preds = model.predict(etrain)\n",
    "    train_probas = model.predict_proba(etrain)\n",
    "    testauc = roc_auc_score(ey_test, test_probas[:,1])\n",
    "    trainauc = roc_auc_score(ey_train, train_probas[:,1])\n",
    "    test_aucs += [testauc]\n",
    "    train_aucs += [trainauc]\n",
    "    test_reports += [classification_report(ey_test, test_preds, output_dict=True)]\n",
    "    train_reports += [classification_report(ey_train, train_preds, output_dict=True)]\n",
    "\n",
    "print(f\" Average Test AUC \\u00B1 \\u03C3 (100 iterations): \" +\\\n",
    "      f\"{np.average(test_aucs):0.3f} \\u00B1 {np.std(test_aucs):0.3f}\")\n",
    "print(f\"Average Train AUC \\u00B1 \\u03C3 (100 iterations): \" +\\\n",
    "      f\"{np.average(train_aucs):0.3f} \\u00B1 {np.std(train_aucs):0.3f}\")"
   ]
  },
  {
   "cell_type": "code",
   "execution_count": null,
   "id": "adopted-carter",
   "metadata": {},
   "outputs": [],
   "source": []
  }
 ],
 "metadata": {
  "kernelspec": {
   "display_name": "Python 3",
   "language": "python",
   "name": "python3"
  },
  "language_info": {
   "codemirror_mode": {
    "name": "ipython",
    "version": 3
   },
   "file_extension": ".py",
   "mimetype": "text/x-python",
   "name": "python",
   "nbconvert_exporter": "python",
   "pygments_lexer": "ipython3",
   "version": "3.9.1"
  }
 },
 "nbformat": 4,
 "nbformat_minor": 5
}
