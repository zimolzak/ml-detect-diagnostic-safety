{
 "cells": [
  {
   "cell_type": "code",
   "execution_count": 78,
   "id": "consecutive-analysis",
   "metadata": {},
   "outputs": [],
   "source": [
    "import os\n",
    "import glob\n",
    "import numpy as np\n",
    "import pandas as pd\n",
    "from tqdm import tqdm"
   ]
  },
  {
   "cell_type": "code",
   "execution_count": 22,
   "id": "tender-factory",
   "metadata": {},
   "outputs": [],
   "source": [
    "input_head_dir = os.path.join(\"P:\", \"ORD_Singh_201911038D\", \"Justin\\Stroke\")\n",
    "patient_ids = {x.split('\\\\')[3] for x in glob.glob(f\"{input_head_dir}/*\")}"
   ]
  },
  {
   "cell_type": "code",
   "execution_count": 23,
   "id": "western-excuse",
   "metadata": {
    "tags": []
   },
   "outputs": [
    {
     "data": {
      "text/plain": [
       "49172"
      ]
     },
     "execution_count": 23,
     "metadata": {},
     "output_type": "execute_result"
    }
   ],
   "source": [
    "len(patient_ids)"
   ]
  },
  {
   "cell_type": "code",
   "execution_count": 7,
   "id": "apart-liver",
   "metadata": {},
   "outputs": [
    {
     "data": {
      "text/plain": [
       "1.4632717806881965"
      ]
     },
     "execution_count": 7,
     "metadata": {},
     "output_type": "execute_result"
    }
   ],
   "source": [
    "num_instances_per_patient = len(glob.glob(f\"{input_head_dir}/*/*\"))/len(patient_ids)\n",
    "num_instances_per_patient "
   ]
  },
  {
   "cell_type": "code",
   "execution_count": 30,
   "id": "exposed-fiction",
   "metadata": {},
   "outputs": [],
   "source": [
    "notes_per_patient = len(glob.glob(f\"{input_head_dir}/*/*/*/*\"))/len(patient_ids)"
   ]
  },
  {
   "cell_type": "code",
   "execution_count": 31,
   "id": "painful-payday",
   "metadata": {},
   "outputs": [
    {
     "data": {
      "text/plain": [
       "117.70314406572847"
      ]
     },
     "execution_count": 31,
     "metadata": {},
     "output_type": "execute_result"
    }
   ],
   "source": [
    "notes_per_patient"
   ]
  },
  {
   "cell_type": "code",
   "execution_count": 57,
   "id": "adaptive-mercy",
   "metadata": {},
   "outputs": [
    {
     "data": {
      "text/plain": [
       "[]"
      ]
     },
     "execution_count": 57,
     "metadata": {},
     "output_type": "execute_result"
    }
   ],
   "source": [
    "glob.glob(f\"{input_head_dir}/{list(patient_ids)[0]}/*/*/*\")"
   ]
  },
  {
   "cell_type": "code",
   "execution_count": 80,
   "id": "chemical-gather",
   "metadata": {
    "scrolled": true,
    "tags": []
   },
   "outputs": [
    {
     "name": "stderr",
     "output_type": "stream",
     "text": [
      "100%|████████████████████████████████████████████████████████████████████████████| 49172/49172 [30:37<00:00, 26.77it/s]\n"
     ]
    }
   ],
   "source": [
    "discharge_titles = set()\n",
    "for patient in tqdm(patient_ids):\n",
    "    pt_notes = {'_'.join(x.lower().split(\"\\\\\")[3].split()[:-2]) for x in glob.glob(f\"{patient}/*/*/*\")}\n",
    "    for note in pt_notes:\n",
    "        if \"discharge\" in note.split('_') or \"dc\" in note.split('_'):\n",
    "            discharge_titles.add(note)"
   ]
  },
  {
   "cell_type": "code",
   "execution_count": 99,
   "id": "medical-medicine",
   "metadata": {},
   "outputs": [],
   "source": [
    "discharge_note_titles = set()\n",
    "for x in discharge_titles:\n",
    "    _ = []\n",
    "    for y in x.split(\"__\"):\n",
    "        _ += [''.join(y.split('_'))]\n",
    "    discharge_note_titles.add('_'.join(_))"
   ]
  },
  {
   "cell_type": "code",
   "execution_count": 100,
   "id": "little-graph",
   "metadata": {},
   "outputs": [
    {
     "data": {
      "text/plain": [
       "{'adhc_discharge_note',\n",
       " 'anesthesiology_critical_care_unit_discharge_note',\n",
       " 'anesthesiology_recovery_room_discharge_note',\n",
       " 'blind_rehabilitation_discharge_note',\n",
       " 'cardiology_critical_care_unit_discharge_note',\n",
       " 'cardiology_discharge_note',\n",
       " 'care_coordination_home_telehealth_discharge_note',\n",
       " 'case_manager_discharge_note',\n",
       " 'critical_care_unit_discharge_note',\n",
       " 'cwt_discharge_note',\n",
       " 'discharge_note',\n",
       " 'discharge_plan',\n",
       " 'discharge_summary',\n",
       " 'domiciliary_discharge_note',\n",
       " 'e_&amp;_m_discharge_note',\n",
       " 'e_m_discharge_note',\n",
       " 'education_discharge_note',\n",
       " 'emergency_department_discharge_note',\n",
       " 'emergency_department_discharge_plan',\n",
       " 'emergency_dept_discharge_note',\n",
       " 'emergency_dept_discharge_plan',\n",
       " 'geriatric_medicine_discharge_note',\n",
       " 'hbpc_discharge_note',\n",
       " 'home_health_discharge_note',\n",
       " 'home_health_education_discharge_note',\n",
       " 'internal_medicine_discharge_note',\n",
       " 'kinesiotherapy_discharge_note',\n",
       " 'long_term_care_discharge_note',\n",
       " 'medication_mgt_discharge_note',\n",
       " 'mental_health_discharge_note',\n",
       " 'neurology_discharge_note',\n",
       " 'nonva_discharge_note',\n",
       " 'nurse_practitioner_discharge_note',\n",
       " 'nursing_discharge_note',\n",
       " 'nursing_discharge_plan',\n",
       " 'nursing_emergency_department_discharge_note',\n",
       " 'nursing_emergency_dept_discharge_note',\n",
       " 'nursing_inpatient_discharge_note',\n",
       " 'nursing_long_term_care_discharge_note',\n",
       " 'nursing_observation_ward_discharge_note',\n",
       " 'nursing_recovery_room_discharge_note',\n",
       " 'nursing_transfer_summarization_discharge_note',\n",
       " 'nutrition_dietetics_discharge_note',\n",
       " 'nutrition_discharge_note',\n",
       " 'observation_ward_discharge_note',\n",
       " 'observation_ward_discharge_summary',\n",
       " 'occupational_therapy_discharge_note',\n",
       " 'occupational_therapy_discharge_summary',\n",
       " 'operative_discharge_note',\n",
       " 'orthopedic_surgery_discharge_note',\n",
       " 'otolaryngology_discharge_note',\n",
       " 'pain_discharge_note',\n",
       " 'pharmacy_counseling_discharge_note',\n",
       " 'pharmacy_discharge_note',\n",
       " 'pharmacy_medication_mgt_discharge_note',\n",
       " 'physical_medicine_rehab_discharge_note',\n",
       " 'physical_medicine_rehab_discharge_plan',\n",
       " 'physical_therapy_discharge_note',\n",
       " 'physical_therapy_discharge_summary',\n",
       " 'physical_therapy_inpatient_discharge_note',\n",
       " 'physical_therapy_outpatient_discharge_note',\n",
       " 'physician_assistant_discharge_note',\n",
       " 'physician_discharge_note',\n",
       " 'physician_education_discharge_note',\n",
       " 'primary_care_discharge_note',\n",
       " 'procedure_discharge_note',\n",
       " 'psychiatry_discharge_note',\n",
       " 'psychiatry_discharge_summary',\n",
       " 'psychology_discharge_note',\n",
       " 'recreational_therapy_discharge_note',\n",
       " 'research_discharge_note',\n",
       " 'residential_facility_discharge_note',\n",
       " 'rn_discharge_note',\n",
       " 'rn_emergency_department_discharge_note',\n",
       " 'satp_discharge_note',\n",
       " 'social_work_discharge_note',\n",
       " 'social_work_home_health_discharge_note',\n",
       " 'social_work_long_term_care_discharge_note',\n",
       " 'speech_pathology_discharge_note',\n",
       " 'speech_pathology_discharge_summary',\n",
       " 'spinal_cord_injury_discharge_note',\n",
       " 'surgery_discharge_note',\n",
       " 'surgery_outpatient_discharge_note',\n",
       " 'team_discharge_note',\n",
       " 'transfer_summarization_discharge_note',\n",
       " 'treatment_plan_discharge_note',\n",
       " 'treatment_plan_discharge_plan',\n",
       " 'urgent_care_education_discharge_note',\n",
       " 'urology_discharge_note',\n",
       " 'vocational_rehabilitation_discharge_note'}"
      ]
     },
     "execution_count": 100,
     "metadata": {},
     "output_type": "execute_result"
    }
   ],
   "source": [
    "discharge_note_titles"
   ]
  },
  {
   "cell_type": "code",
   "execution_count": 101,
   "id": "tutorial-happening",
   "metadata": {},
   "outputs": [],
   "source": [
    "with open(\"discharge_note_titles.txt\",'w') as outfile:\n",
    "    for x in discharge_note_titles:\n",
    "        outfile.write(f\"{x}\\n\")"
   ]
  },
  {
   "cell_type": "code",
   "execution_count": 35,
   "id": "sticky-morris",
   "metadata": {},
   "outputs": [],
   "source": [
    "os.chdir(input_head_dir)"
   ]
  },
  {
   "cell_type": "code",
   "execution_count": null,
   "id": "valid-crawford",
   "metadata": {},
   "outputs": [],
   "source": [
    "discharge_summary_counts = 0\n",
    "for patient in tqdm(patient_ids):\n",
    "    pt_notes = {'_'.join(x.lower().split(\"\\\\\")[3].split()[:-2]) for x in glob.glob(f\"{patient}/*/*/*\")}\n",
    "    for note in pt_notes:\n",
    "        if \"discharge\" in note.split('_') or \"dc\" in note.split('_'):\n",
    "            discharge_titles.add(note)"
   ]
  },
  {
   "cell_type": "code",
   "execution_count": null,
   "id": "gothic-reminder",
   "metadata": {},
   "outputs": [],
   "source": []
  }
 ],
 "metadata": {
  "kernelspec": {
   "display_name": "Python 3",
   "language": "python",
   "name": "python3"
  },
  "language_info": {
   "codemirror_mode": {
    "name": "ipython",
    "version": 3
   },
   "file_extension": ".py",
   "mimetype": "text/x-python",
   "name": "python",
   "nbconvert_exporter": "python",
   "pygments_lexer": "ipython3",
   "version": "3.9.1"
  }
 },
 "nbformat": 4,
 "nbformat_minor": 5
}
