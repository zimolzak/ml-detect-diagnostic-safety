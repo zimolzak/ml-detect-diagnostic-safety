{
 "cells": [
  {
   "cell_type": "code",
   "execution_count": 26,
   "id": "subject-shield",
   "metadata": {},
   "outputs": [],
   "source": [
    "import string\n",
    "import numpy as np\n",
    "import pandas as pd"
   ]
  },
  {
   "cell_type": "code",
   "execution_count": 2,
   "id": "pregnant-delicious",
   "metadata": {},
   "outputs": [
    {
     "name": "stdout",
     "output_type": "stream",
     "text": [
      "WARNING *** OLE2 inconsistency: SSCS size is 0 but SSAT size is non-zero\n",
      "DataFrame columns:  StudyID,ReportText,TIUStandardTitle,TIUDocumentDefinition,TIUDocumentSID\n",
      "2730\n",
      "2730\n"
     ]
    }
   ],
   "source": [
    "notesdf = pd.read_excel('P:/ORD_Singh_201911038D/Justin/InpatNote.xls')\n",
    "print(\"DataFrame columns: \", ','.join([x for x in notesdf.columns]))\n",
    "print(len(['_'.join(x) for x in zip(notesdf.StudyID.astype(str), notesdf.TIUDocumentSID.astype(str))]))\n",
    "print(len(np.unique(['_'.join(x) for x in zip(notesdf.StudyID.astype(str), notesdf.TIUDocumentSID.astype(str))])))"
   ]
  },
  {
   "cell_type": "code",
   "execution_count": 3,
   "id": "incident-saver",
   "metadata": {},
   "outputs": [],
   "source": [
    "notesdf.ReportText = notesdf.ReportText.str.replace(\"\\s+\", \" \", regex=True).str.replace(\"'\", \"\").str.replace('\"', '')"
   ]
  },
  {
   "cell_type": "code",
   "execution_count": 5,
   "id": "aging-extent",
   "metadata": {},
   "outputs": [
    {
     "name": "stdout",
     "output_type": "stream",
     "text": [
      "Columns in df:\n",
      "study_ids, ed_duration, ed_inp_delta, age_val, img_flags, con_flags, elix_score, mod_label\n"
     ]
    }
   ],
   "source": [
    "from sklearn.preprocessing import MinMaxScaler\n",
    "\n",
    "#Load the old data set for which we have labels\n",
    "structdf = pd.read_csv(\"paarthwork/input/input.csv\")\n",
    "structdf = structdf.drop('smk_flags_man', axis=1)\n",
    "structdf = structdf.drop('smk_flags_db', axis=1)\n",
    "structdf = structdf[structdf.mod_label != 'INVALID']\n",
    "print(f'Columns in df:\\n{\", \".join([x for x in structdf.columns])}')\n",
    "label_column = 'mod_label'\n",
    "feature_columns = list(structdf.columns)\n",
    "feature_columns.remove(label_column)\n",
    "feature_columns_cont = [\n",
    "    'ed_inp_delta'\n",
    "    ,'ed_duration'\n",
    "    ,'elix_score'\n",
    "    ,'age_val'\n",
    "]\n",
    "feature_columns_cat = [\n",
    "    'img_flags'\n",
    "    ,'con_flags'\n",
    "]\n",
    "\n",
    "structdf['ed_inp_delta'] = MinMaxScaler().fit_transform(structdf['ed_inp_delta'].values.reshape(-1,1))\n",
    "structdf['ed_duration'] = MinMaxScaler().fit_transform(structdf['ed_duration'].values.reshape(-1,1))\n",
    "structdf['elix_score'] = MinMaxScaler().fit_transform(structdf['elix_score'].values.reshape(-1,1))\n",
    "structdf['age_val'] = MinMaxScaler().fit_transform(structdf['age_val'].values.reshape(-1,1))"
   ]
  },
  {
   "cell_type": "code",
   "execution_count": 13,
   "id": "departmental-publicity",
   "metadata": {},
   "outputs": [],
   "source": [
    "study_notes_flat = {x:' '.join(notesdf[notesdf.StudyID == x].ReportText.str.lower().values) for x in structdf.study_ids}"
   ]
  },
  {
   "cell_type": "code",
   "execution_count": null,
   "id": "unlike-newspaper",
   "metadata": {
    "scrolled": true
   },
   "outputs": [],
   "source": [
    "for key,values in study_notes_flat.copy().items():\n",
    "    if values == '':\n",
    "        print(key)\n",
    "        del study_notes_flat[key]"
   ]
  },
  {
   "cell_type": "code",
   "execution_count": 46,
   "id": "virgin-terrace",
   "metadata": {},
   "outputs": [
    {
     "data": {
      "text/plain": [
       "(192, 2)"
      ]
     },
     "execution_count": 46,
     "metadata": {},
     "output_type": "execute_result"
    }
   ],
   "source": [
    "retained_notes = pd.DataFrame.from_dict(study_notes_flat, orient='index')\n",
    "retained_notes = retained_notes.reset_index()\n",
    "retained_notes.columns = ['StudyID', 'TEXT']\n",
    "retained_notes.shape"
   ]
  },
  {
   "cell_type": "code",
   "execution_count": 45,
   "id": "smooth-summary",
   "metadata": {},
   "outputs": [
    {
     "data": {
      "text/plain": [
       "(192, 8)"
      ]
     },
     "execution_count": 45,
     "metadata": {},
     "output_type": "execute_result"
    }
   ],
   "source": [
    "retaineddf = structdf[structdf.study_ids.isin(retained_notes.StudyID)]\n",
    "retaineddf.shape"
   ]
  },
  {
   "cell_type": "code",
   "execution_count": 23,
   "id": "structured-andrew",
   "metadata": {},
   "outputs": [],
   "source": [
    "from sklearn.feature_extraction.text import CountVectorizer\n",
    "from sklearn.model_selection import StratifiedKFold, train_test_split\n",
    "from sklearn.linear_model import LogisticRegression\n",
    "from sklearn.metrics import classification_report, roc_auc_score"
   ]
  },
  {
   "cell_type": "code",
   "execution_count": 27,
   "id": "personal-thanks",
   "metadata": {},
   "outputs": [
    {
     "name": "stdout",
     "output_type": "stream",
     "text": [
      "to | no | for | and | the | of | active | mg | a | by | patient | or | take | mouth | in | pain | with | one | tab | day | is | tablet | as | at | medications | every | he | pt | you | on | blood | cm | not | x | time | was | have | has | this | icd | days | yes | your | non | s | normal | l | needed | if | last | c | va | date | use | daily | status | discharge | twice | other | care | assessment | pressure | ct | any | history | times | that | his | cap | are | n | dizziness | sig | outpatient | ml | medication | denies | emergency | up | pulse | home | o | from | provider | f | d | do | headache | dl | left | skin | refills | chest | symptoms | heart | hcl | be | right | given | i\n",
      "(192, 3000)\n"
     ]
    }
   ],
   "source": [
    "def custom_tokenizer(text):\n",
    "    punctuation_numbers = string.punctuation + '0123456789'\n",
    "    translation = str.maketrans(dict.fromkeys(punctuation_numbers, \" \"))\n",
    "    text = text.translate(translation)\n",
    "    tokens = text.split()\n",
    "    return tokens\n",
    "    \n",
    "vectorizer = CountVectorizer(max_features=3000, tokenizer = custom_tokenizer)\n",
    "X = vectorizer.fit_transform(retained_notes.TEXT.values)\n",
    "print(' | '.join(np.asarray(vectorizer.get_feature_names())[np.argsort(np.sum(X.toarray(), axis=0))[-100:]][::-1]))\n",
    "print(X.toarray().shape)"
   ]
  },
  {
   "cell_type": "code",
   "execution_count": 29,
   "id": "removed-quest",
   "metadata": {
    "scrolled": true
   },
   "outputs": [
    {
     "name": "stdout",
     "output_type": "stream",
     "text": [
      "active | mg | patient | mouth | pain | tab | day | tablet | medications | pt | blood | cm | x | time | icd | days | yes | non | s | normal | l | needed | c | va | date | use | daily | status | discharge | twice | care | assessment | pressure | ct | history | times | cap | dizziness | n | sig | outpatient | ml | medication | denies | emergency | pulse | home | o | provider | f | d | dl | headache | left | skin | refills | chest | symptoms | heart | hcl | right | given | er | p | allergies | instructions | does | ed | hours | plan | sct | signs | h | complaint | past | eval | r | head | states | level | iv | directed | bedtime | half | capsule | triage | acute | bp | follow | medical | chief | reviewed | disposition | note | snomed | patients | list | g | tablets | department\n",
      "(192, 1737)\n"
     ]
    }
   ],
   "source": [
    "vectorizer = CountVectorizer(max_features=3000, tokenizer = custom_tokenizer, stop_words='english', min_df = 10)\n",
    "X = vectorizer.fit_transform(retained_notes.TEXT.values)\n",
    "print(' | '.join(np.asarray(vectorizer.get_feature_names())[np.argsort(np.sum(X.toarray(), axis=0))[-100:]][::-1]))\n",
    "print(X.toarray().shape)"
   ]
  },
  {
   "cell_type": "code",
   "execution_count": 35,
   "id": "quiet-milwaukee",
   "metadata": {},
   "outputs": [
    {
     "data": {
      "image/png": "[encoded data removed]",
      "text/plain": [
       "<Figure size 432x288 with 1 Axes>"
      ]
     },
     "metadata": {
      "needs_background": "light"
     },
     "output_type": "display_data"
    }
   ],
   "source": [
    "import matplotlib.pyplot as plt\n",
    "\n",
    "fig = plt.figure()\n",
    "ax = fig.add_axes([0,0,1,1])\n",
    "words = np.asarray(vectorizer.get_feature_names())[np.argsort(np.sum(X.toarray(), axis=0))[-50:]][::-1]\n",
    "counts = np.sum(X.toarray(), axis=0)[np.argsort(np.sum(X.toarray(), axis=0))[-50:][::-1]]\n",
    "ax.bar(words, counts)\n",
    "plt.xticks(rotation=90)\n",
    "plt.show()"
   ]
  },
  {
   "cell_type": "code",
   "execution_count": 47,
   "id": "foster-grill",
   "metadata": {},
   "outputs": [
    {
     "name": "stdout",
     "output_type": "stream",
     "text": [
      " Average Test AUC ± σ (100 iterations): 0.624 ± 0.000\n",
      "Average Train AUC ± σ (100 iterations): 0.795 ± 0.000\n"
     ]
    }
   ],
   "source": [
    "test_aucs = []\n",
    "train_aucs = []\n",
    "test_reports = []\n",
    "train_reports = []\n",
    "for i in range(100):\n",
    "    eX_train, eX_test, ey_train, ey_test = train_test_split(retaineddf.drop(\"mod_label\", axis=1), \\\n",
    "                                                            retaineddf[\"mod_label\"], \\\n",
    "                                                            test_size=0.8, random_state=42)\n",
    "    model = LogisticRegression(solver='liblinear', penalty='l2', C=0.55, max_iter=1000, fit_intercept = True)\n",
    "    etest = eX_test.iloc[:,:]\n",
    "    etrain = eX_train.iloc[:,:]\n",
    "    model.fit(etrain, ey_train)\n",
    "    test_probas  = model.predict_proba(etest)\n",
    "    test_preds = model.predict(etest)\n",
    "    train_preds = model.predict(etrain)\n",
    "    train_probas = model.predict_proba(etrain)\n",
    "    testauc = roc_auc_score(ey_test, test_probas[:,1])\n",
    "    trainauc = roc_auc_score(ey_train, train_probas[:,1])\n",
    "    test_aucs += [testauc]\n",
    "    train_aucs += [trainauc]\n",
    "    test_reports += [classification_report(ey_test, test_preds, output_dict=True)]\n",
    "    train_reports += [classification_report(ey_train, train_preds, output_dict=True)]\n",
    "\n",
    "print(f\" Average Test AUC \\u00B1 \\u03C3 (100 iterations): \" +\\\n",
    "      f\"{np.average(test_aucs):0.3f} \\u00B1 {np.std(test_aucs):0.3f}\")\n",
    "print(f\"Average Train AUC \\u00B1 \\u03C3 (100 iterations): \" +\\\n",
    "      f\"{np.average(train_aucs):0.3f} \\u00B1 {np.std(train_aucs):0.3f}\")"
   ]
  },
  {
   "cell_type": "code",
   "execution_count": 49,
   "id": "informative-mississippi",
   "metadata": {},
   "outputs": [
    {
     "name": "stdout",
     "output_type": "stream",
     "text": [
      " Average Test AUC ± σ (100 iterations): 0.440 ± 0.001\n",
      "Average Train AUC ± σ (100 iterations): 1.000 ± 0.000\n"
     ]
    }
   ],
   "source": [
    "test_aucs = []\n",
    "train_aucs = []\n",
    "test_reports = []\n",
    "train_reports = []\n",
    "for i in range(100):\n",
    "    eX_train, eX_test, ey_train, ey_test = train_test_split(pd.concat([retaineddf.reset_index().drop(\"mod_label\", axis=1), pd.DataFrame(X.toarray())], axis=1), \\\n",
    "                                                            retaineddf[\"mod_label\"], \\\n",
    "                                                            test_size=0.8, random_state=42)\n",
    "    model = LogisticRegression(solver='liblinear', penalty='l1', C=10, max_iter=1000, fit_intercept = False)\n",
    "    etest = eX_test.iloc[:,:]\n",
    "    etrain = eX_train.iloc[:,:]\n",
    "    model.fit(etrain, ey_train)\n",
    "    test_probas  = model.predict_proba(etest)\n",
    "    test_preds = model.predict(etest)\n",
    "    train_preds = model.predict(etrain)\n",
    "    train_probas = model.predict_proba(etrain)\n",
    "    testauc = roc_auc_score(ey_test, test_probas[:,1])\n",
    "    trainauc = roc_auc_score(ey_train, train_probas[:,1])\n",
    "    test_aucs += [testauc]\n",
    "    train_aucs += [trainauc]\n",
    "    test_reports += [classification_report(ey_test, test_preds, output_dict=True)]\n",
    "    train_reports += [classification_report(ey_train, train_preds, output_dict=True)]\n",
    "\n",
    "print(f\" Average Test AUC \\u00B1 \\u03C3 (100 iterations): \" +\\\n",
    "      f\"{np.average(test_aucs):0.3f} \\u00B1 {np.std(test_aucs):0.3f}\")\n",
    "print(f\"Average Train AUC \\u00B1 \\u03C3 (100 iterations): \" +\\\n",
    "      f\"{np.average(train_aucs):0.3f} \\u00B1 {np.std(train_aucs):0.3f}\")"
   ]
  },
  {
   "cell_type": "code",
   "execution_count": 50,
   "id": "senior-isaac",
   "metadata": {},
   "outputs": [],
   "source": [
    "vectorizer = CountVectorizer(max_features=3000, tokenizer = custom_tokenizer, stop_words='english', min_df = 10, binary=True)\n",
    "X = vectorizer.fit_transform(retained_notes.TEXT.values)"
   ]
  },
  {
   "cell_type": "code",
   "execution_count": 53,
   "id": "lined-school",
   "metadata": {},
   "outputs": [
    {
     "name": "stdout",
     "output_type": "stream",
     "text": [
      " Average Test AUC ± σ (100 iterations): 0.472 ± 0.000\n",
      "Average Train AUC ± σ (100 iterations): 1.000 ± 0.000\n"
     ]
    }
   ],
   "source": [
    "test_aucs = []\n",
    "train_aucs = []\n",
    "test_reports = []\n",
    "train_reports = []\n",
    "for i in range(100):\n",
    "    eX_train, eX_test, ey_train, ey_test = train_test_split(pd.concat([retaineddf.reset_index().drop(\"mod_label\", axis=1), pd.DataFrame(X.toarray())], axis=1), \\\n",
    "                                                            retaineddf[\"mod_label\"], \\\n",
    "                                                            test_size=0.8, random_state=42)\n",
    "    model = LogisticRegression(solver='liblinear', penalty='l1', C=1, max_iter=1000, fit_intercept = False)\n",
    "    etest = eX_test.iloc[:,:]\n",
    "    etrain = eX_train.iloc[:,:]\n",
    "    model.fit(etrain, ey_train)\n",
    "    test_probas  = model.predict_proba(etest)\n",
    "    test_preds = model.predict(etest)\n",
    "    train_preds = model.predict(etrain)\n",
    "    train_probas = model.predict_proba(etrain)\n",
    "    testauc = roc_auc_score(ey_test, test_probas[:,1])\n",
    "    trainauc = roc_auc_score(ey_train, train_probas[:,1])\n",
    "    test_aucs += [testauc]\n",
    "    train_aucs += [trainauc]\n",
    "    test_reports += [classification_report(ey_test, test_preds, output_dict=True)]\n",
    "    train_reports += [classification_report(ey_train, train_preds, output_dict=True)]\n",
    "\n",
    "print(f\" Average Test AUC \\u00B1 \\u03C3 (100 iterations): \" +\\\n",
    "      f\"{np.average(test_aucs):0.3f} \\u00B1 {np.std(test_aucs):0.3f}\")\n",
    "print(f\"Average Train AUC \\u00B1 \\u03C3 (100 iterations): \" +\\\n",
    "      f\"{np.average(train_aucs):0.3f} \\u00B1 {np.std(train_aucs):0.3f}\")"
   ]
  },
  {
   "cell_type": "code",
   "execution_count": null,
   "id": "valid-nutrition",
   "metadata": {},
   "outputs": [],
   "source": []
  }
 ],
 "metadata": {
  "kernelspec": {
   "display_name": "Python 3",
   "language": "python",
   "name": "python3"
  },
  "language_info": {
   "codemirror_mode": {
    "name": "ipython",
    "version": 3
   },
   "file_extension": ".py",
   "mimetype": "text/x-python",
   "name": "python",
   "nbconvert_exporter": "python",
   "pygments_lexer": "ipython3",
   "version": "3.9.1"
  }
 },
 "nbformat": 4,
 "nbformat_minor": 5
}
