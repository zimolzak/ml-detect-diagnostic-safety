{
 "cells": [
  {
   "cell_type": "code",
   "execution_count": 6,
   "id": "extensive-grade",
   "metadata": {},
   "outputs": [],
   "source": [
    "import numpy as np\n",
    "import pandas as pd\n",
    "from tqdm import tqdm"
   ]
  },
  {
   "cell_type": "code",
   "execution_count": 7,
   "id": "damaged-finger",
   "metadata": {},
   "outputs": [],
   "source": [
    "notesdf = pd.read_csv(\"Stroke_Discharge_Notes_Adjudicated.csv\")"
   ]
  },
  {
   "cell_type": "code",
   "execution_count": 8,
   "id": "incomplete-joyce",
   "metadata": {},
   "outputs": [],
   "source": [
    "notesdf = notesdf.dropna().drop_duplicates('TIUDocumentSID', keep='first')"
   ]
  },
  {
   "cell_type": "code",
   "execution_count": 10,
   "id": "bright-chester",
   "metadata": {},
   "outputs": [
    {
     "data": {
      "text/plain": [
       "(24221,)"
      ]
     },
     "execution_count": 10,
     "metadata": {},
     "output_type": "execute_result"
    }
   ],
   "source": [
    "notesdf.PatientSSN.unique().shape"
   ]
  },
  {
   "cell_type": "code",
   "execution_count": 5,
   "id": "incorporated-population",
   "metadata": {},
   "outputs": [
    {
     "name": "stderr",
     "output_type": "stream",
     "text": [
      "100%|████████████████████████████████████████████████████████████████████████████| 30087/30087 [06:01<00:00, 83.32it/s]\n"
     ]
    }
   ],
   "source": [
    "for index, note in tqdm(notesdf.iterrows(), total=notesdf.shape[0]):\n",
    "    with open(\"ClampInput/\"+str(note.TIUDocumentSID)+\".txt\", 'w') as outfile:\n",
    "        outfile.write(note.ReportText)"
   ]
  },
  {
   "cell_type": "code",
   "execution_count": null,
   "id": "powered-filter",
   "metadata": {},
   "outputs": [],
   "source": []
  }
 ],
 "metadata": {
  "kernelspec": {
   "display_name": "Python 3",
   "language": "python",
   "name": "python3"
  },
  "language_info": {
   "codemirror_mode": {
    "name": "ipython",
    "version": 3
   },
   "file_extension": ".py",
   "mimetype": "text/x-python",
   "name": "python",
   "nbconvert_exporter": "python",
   "pygments_lexer": "ipython3",
   "version": "3.9.1"
  }
 },
 "nbformat": 4,
 "nbformat_minor": 5
}
