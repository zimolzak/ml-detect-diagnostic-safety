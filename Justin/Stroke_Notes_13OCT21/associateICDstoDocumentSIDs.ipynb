{
 "cells": [
  {
   "cell_type": "markdown",
   "id": "general-chinese",
   "metadata": {},
   "source": [
    "# Convert study_id+diagnostic_date to document SID so we can associate SID to ICD codes"
   ]
  },
  {
   "cell_type": "code",
   "execution_count": 1,
   "id": "behavioral-daniel",
   "metadata": {},
   "outputs": [],
   "source": [
    "import numpy as np\n",
    "import pandas as pd"
   ]
  },
  {
   "cell_type": "code",
   "execution_count": null,
   "id": "usual-shannon",
   "metadata": {
    "scrolled": true
   },
   "outputs": [],
   "source": [
    "studyICDdf = pd.read_csv(\"studyid_icd.csv\")\n",
    "studyICDdf.head()"
   ]
  },
  {
   "cell_type": "code",
   "execution_count": 3,
   "id": "beginning-malaysia",
   "metadata": {},
   "outputs": [
    {
     "data": {
      "text/plain": [
       "Index(['StudyID', 'PatientSSN', 'EntryDateTime', 'TIUDocumentSID',\n",
       "       'TIUStandardTitle', 'ReportText', 'Src'],\n",
       "      dtype='object')"
      ]
     },
     "execution_count": 3,
     "metadata": {},
     "output_type": "execute_result"
    }
   ],
   "source": [
    "notesdf = pd.read_csv(\"Stroke_Discharge_Notes_Adjudicated.csv\")\n",
    "notesdf.columns"
   ]
  },
  {
   "cell_type": "code",
   "execution_count": 9,
   "id": "curious-darwin",
   "metadata": {},
   "outputs": [
    {
     "data": {
      "text/plain": [
       "(72008,)"
      ]
     },
     "execution_count": 9,
     "metadata": {},
     "output_type": "execute_result"
    }
   ],
   "source": [
    "studyICDdf.StudyID.unique().shape"
   ]
  },
  {
   "cell_type": "code",
   "execution_count": 10,
   "id": "consolidated-farmer",
   "metadata": {},
   "outputs": [],
   "source": [
    "#quick check to make sure that all studyids in notes df have a study id in the icd df\n",
    "for studyid in notesdf.StudyID:\n",
    "    if studyid not in studyICDdf.StudyID:\n",
    "        print(studyid)"
   ]
  },
  {
   "cell_type": "code",
   "execution_count": 11,
   "id": "handmade-bacon",
   "metadata": {},
   "outputs": [],
   "source": [
    "notesdf = notesdf.dropna().drop_duplicates('TIUDocumentSID', keep='first') #same processing we did to select the appropriate non duplicates"
   ]
  },
  {
   "cell_type": "code",
   "execution_count": 23,
   "id": "controversial-electric",
   "metadata": {},
   "outputs": [],
   "source": [
    "# Convert date time columns to date time\n",
    "# this is needed as DiagDateTime != EntryDateTime;\n",
    "# we need to construct a range for comparison / inclusion later\n",
    "notesdf['EntryDateTime'] = pd.to_datetime(notesdf['EntryDateTime'])\n",
    "studyICDdf.DiagDateTime = pd.to_datetime(studyICDdf.DiagDateTime)"
   ]
  },
  {
   "cell_type": "code",
   "execution_count": 62,
   "id": "freelance-think",
   "metadata": {},
   "outputs": [
    {
     "name": "stdout",
     "output_type": "stream",
     "text": [
      "30087\n"
     ]
    }
   ],
   "source": [
    "docidtoicds = dict()\n",
    "for index,row in notesdf.iterrows():\n",
    "    docid = row.TIUDocumentSID\n",
    "    etime = row.EntryDateTime\n",
    "    studyid = row.StudyID\n",
    "    start_date = etime - pd.Timedelta(14, unit='D') #subtract 14 days\n",
    "    end_date = etime + pd.Timedelta(14, unit='D') # add 14 days\n",
    "    icdsubset = studyICDdf[studyICDdf.StudyID == studyid]\n",
    "    daterangemask = icdsubset.DiagDateTime.between(start_date, end_date)\n",
    "    maxdate = icdsubset[daterangemask].DiagDateTime.max()\n",
    "    lasticds = icdsubset[icdsubset.DiagDateTime == maxdate].ICD.values.tolist()\n",
    "    docidtoicds[docid] = lasticds\n",
    "print(len(docidtoicds))"
   ]
  },
  {
   "cell_type": "code",
   "execution_count": 63,
   "id": "approved-express",
   "metadata": {},
   "outputs": [],
   "source": [
    "import json\n",
    "with open(\"docidtooldesticds.json\", 'w') as outfile:\n",
    "    json.dump(docidtoicds, outfile)"
   ]
  },
  {
   "cell_type": "code",
   "execution_count": 69,
   "id": "compliant-talent",
   "metadata": {},
   "outputs": [
    {
     "data": {
      "text/plain": [
       "array(['B95.4', 'D64.9', 'G47.33', 'G89.29', 'I13.0', 'I33.0', 'I50.31',\n",
       "       'I63.422', 'I63.431', 'K25.3', 'M25.512', 'N17.9', 'N18.3',\n",
       "       'N40.0', 'R10.9', 'Z85.528', 'Z90.5'], dtype='<U7')"
      ]
     },
     "execution_count": 69,
     "metadata": {},
     "output_type": "execute_result"
    }
   ],
   "source": [
    "np.unique(list(docidtoicds.items())[2][1])"
   ]
  },
  {
   "cell_type": "code",
   "execution_count": 70,
   "id": "fifth-cologne",
   "metadata": {},
   "outputs": [],
   "source": [
    "strokeicd10s = set(['G43.609', 'G43.619', 'G43.601', 'G43.611', 'I60.00', 'I60.01', 'I60.02', 'I60.10', 'I60.11', 'I60.12', 'I60.2', 'I60.30', 'I60.31', 'I60.32', 'I60.4', 'I60.50', 'I60.51', 'I60.52', 'I60.6', 'I60.7', 'I60.8', 'I60.9', 'I61.0', 'I61.1', 'I61.2', 'I61.3', 'I61.4', 'I61.5', 'I61.6', 'I61.8', 'I61.9', 'I62.1', 'I62.00', 'I62.01', 'I62.02', 'I62.03', 'I62.9', 'I63.02', 'I63.12', 'I63.22', 'I63.031', 'I63.032', 'I63.033', 'I63.039', 'I63.131', 'I63.132', 'I63.133', 'I63.139', 'I63.231', 'I63.232', 'I63.233', 'I63.239', 'I63.011', 'I63.012', 'I63.013', 'I63.019', 'I63.111', 'I63.112', 'I63.113', 'I63.119', 'I63.211', 'I63.212', 'I63.213', 'I63.219', 'I63.59', 'I63.09', 'I63.19', 'I63.59', 'I63.00', 'I63.10', 'I63.20', 'I63.29', 'I66.01', 'I66.02', 'I66.03', 'I66.09', 'I66.11', 'I66.12', 'I66.13', 'I66.19', 'I66.21', 'I66.22', 'I66.23', 'I66.29', 'I66.3', 'I66.8', 'I66.9', 'I63.30', 'I63.311', 'I63.312', 'I63.313', 'I63.319', 'I63.321', 'I63.322', 'I63.323', 'I63.329', 'I63.331', 'I63.332', 'I63.333', 'I63.339', 'I63.341', 'I63.342', 'I63.343', 'I63.349', 'I63.39', 'I63.6', 'I63.40', 'I63.411', 'I63.412', 'I63.413', 'I63.419', 'I63.421', 'I63.422', 'I63.423', 'I63.429', 'I63.431', 'I63.432', 'I63.433', 'I63.439', 'I63.441', 'I63.442', 'I63.443', 'I63.449', 'I63.49', 'I63.50', 'I63.511', 'I63.512', 'I63.513', 'I63.519', 'I63.521', 'I63.522', 'I63.523', 'I63.529', 'I63.531', 'I63.532', 'I63.533', 'I63.539', 'I63.541', 'I63.542', 'I63.543', 'I63.549', 'I63.59', 'I63.8', 'I63.81', 'I63.89', 'I63.9', 'I67.89', 'I65.1', 'I65.21', 'I65.22', 'I65.23', 'I65.29', 'I65.01', 'I65.02', 'I65.03', 'I65.09', 'I65.8', 'I65.9', 'I67.2', 'I67.81', 'I67.82', 'I67.89', 'I67.1', 'I67.7', 'I68.2', 'I67.5', 'I67.6', 'G45.4', 'G46.3', 'G46.4', 'G46.5', 'G46.6', 'G46.7', 'G46.8', 'I67.89', 'I68.0', 'I68.8', 'I67.9', 'G45.0', 'G45.8', 'G45.1', 'G45.2', 'G45.8', 'G46.0', 'G46.1', 'G46.2', 'G45.9', 'I67.841', 'I67.848'])"
   ]
  },
  {
   "cell_type": "code",
   "execution_count": 90,
   "id": "frozen-reading",
   "metadata": {},
   "outputs": [],
   "source": [
    "uniq_icd_combos = set()\n",
    "for key,values in docidtoicds.items():\n",
    "    strokecodes = set()\n",
    "    for value in values:\n",
    "        if value in strokeicd10s:\n",
    "            strokecodes.update((value.split('.')[0],))\n",
    "    uniq_icd_combos.update(('_'.join(sorted(list(strokecodes))),))"
   ]
  },
  {
   "cell_type": "code",
   "execution_count": 93,
   "id": "liquid-montana",
   "metadata": {},
   "outputs": [
    {
     "data": {
      "text/plain": [
       "{'',\n",
       " 'G43_I60_I63',\n",
       " 'G43_I61_I63',\n",
       " 'G43_I63',\n",
       " 'G45',\n",
       " 'G45_G46',\n",
       " 'G45_G46_I63',\n",
       " 'G45_G46_I65',\n",
       " 'G45_I60',\n",
       " 'G45_I61',\n",
       " 'G45_I62',\n",
       " 'G45_I62_I65',\n",
       " 'G45_I63',\n",
       " 'G45_I63_I65',\n",
       " 'G45_I63_I66',\n",
       " 'G45_I65',\n",
       " 'G45_I65_I66',\n",
       " 'G45_I65_I66_I67',\n",
       " 'G45_I65_I67',\n",
       " 'G45_I66',\n",
       " 'G45_I67',\n",
       " 'G46',\n",
       " 'G46_I60',\n",
       " 'G46_I61',\n",
       " 'G46_I61_I63',\n",
       " 'G46_I63',\n",
       " 'G46_I63_I65',\n",
       " 'G46_I63_I65_I67',\n",
       " 'G46_I63_I67',\n",
       " 'G46_I65',\n",
       " 'G46_I65_I67',\n",
       " 'G46_I66',\n",
       " 'G46_I67',\n",
       " 'G46_I67_I68',\n",
       " 'I60',\n",
       " 'I60_I61',\n",
       " 'I60_I61_I62',\n",
       " 'I60_I61_I62_I68',\n",
       " 'I60_I61_I63',\n",
       " 'I60_I61_I63_I67',\n",
       " 'I60_I61_I67',\n",
       " 'I60_I61_I68',\n",
       " 'I60_I62',\n",
       " 'I60_I62_I63',\n",
       " 'I60_I62_I68',\n",
       " 'I60_I63',\n",
       " 'I60_I63_I65',\n",
       " 'I60_I63_I67',\n",
       " 'I60_I65',\n",
       " 'I60_I65_I67',\n",
       " 'I60_I66',\n",
       " 'I60_I67',\n",
       " 'I60_I68',\n",
       " 'I61',\n",
       " 'I61_I62',\n",
       " 'I61_I62_I63',\n",
       " 'I61_I62_I63_I67',\n",
       " 'I61_I63',\n",
       " 'I61_I63_I65',\n",
       " 'I61_I63_I68',\n",
       " 'I61_I65',\n",
       " 'I61_I65_I67',\n",
       " 'I61_I65_I67_I68',\n",
       " 'I61_I66',\n",
       " 'I61_I67',\n",
       " 'I61_I67_I68',\n",
       " 'I61_I68',\n",
       " 'I62',\n",
       " 'I62_I63',\n",
       " 'I62_I63_I65',\n",
       " 'I62_I63_I65_I67',\n",
       " 'I62_I65',\n",
       " 'I62_I66',\n",
       " 'I62_I67',\n",
       " 'I62_I68',\n",
       " 'I63',\n",
       " 'I63_I65',\n",
       " 'I63_I65_I66',\n",
       " 'I63_I65_I66_I67',\n",
       " 'I63_I65_I67',\n",
       " 'I63_I65_I68',\n",
       " 'I63_I66',\n",
       " 'I63_I66_I67',\n",
       " 'I63_I67',\n",
       " 'I63_I68',\n",
       " 'I65',\n",
       " 'I65_I66',\n",
       " 'I65_I66_I67',\n",
       " 'I65_I67',\n",
       " 'I65_I67_I68',\n",
       " 'I65_I68',\n",
       " 'I66',\n",
       " 'I66_I67',\n",
       " 'I67',\n",
       " 'I67_I68',\n",
       " 'I68'}"
      ]
     },
     "execution_count": 93,
     "metadata": {},
     "output_type": "execute_result"
    }
   ],
   "source": [
    "uniq_icd_combos"
   ]
  },
  {
   "cell_type": "code",
   "execution_count": null,
   "id": "dirty-advance",
   "metadata": {},
   "outputs": [],
   "source": []
  }
 ],
 "metadata": {
  "kernelspec": {
   "display_name": "Python 3",
   "language": "python",
   "name": "python3"
  },
  "language_info": {
   "codemirror_mode": {
    "name": "ipython",
    "version": 3
   },
   "file_extension": ".py",
   "mimetype": "text/x-python",
   "name": "python",
   "nbconvert_exporter": "python",
   "pygments_lexer": "ipython3",
   "version": "3.9.1"
  }
 },
 "nbformat": 4,
 "nbformat_minor": 5
}
